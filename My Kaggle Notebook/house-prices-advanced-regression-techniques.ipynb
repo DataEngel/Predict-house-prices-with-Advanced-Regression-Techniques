{
 "cells": [
  {
   "cell_type": "markdown",
   "metadata": {
    "_cell_guid": "b1076dfc-b9ad-4769-8c92-a6c4dae69d19",
    "_uuid": "8f2839f25d086af736a60e9eeb907d3b93b6e0e5",
    "papermill": {
     "duration": 0.056298,
     "end_time": "2021-07-16T04:15:26.526421",
     "exception": false,
     "start_time": "2021-07-16T04:15:26.470123",
     "status": "completed"
    },
    "tags": []
   },
   "source": [
    "## House Prices: Context\n",
    "\n",
    "Ask a home buyer to describe their dream house, and they probably won't begin with the height of the basement ceiling or the proximity to an east-west railroad. But this playground competition's dataset proves that much more influences price negotiations than the number of bedrooms or a white-picket fence.\n",
    "\n",
    "With 79 explanatory variables describing (almost) every aspect of residential homes in Ames, Iowa, this competition challenges you to predict the final price of each home."
   ]
  },
  {
   "cell_type": "markdown",
   "metadata": {
    "execution": {
     "iopub.execute_input": "2021-06-19T04:55:30.243656Z",
     "iopub.status.busy": "2021-06-19T04:55:30.242915Z",
     "iopub.status.idle": "2021-06-19T04:55:31.090954Z",
     "shell.execute_reply": "2021-06-19T04:55:31.089837Z",
     "shell.execute_reply.started": "2021-06-19T04:55:30.24352Z"
    },
    "papermill": {
     "duration": 0.054247,
     "end_time": "2021-07-16T04:15:26.635153",
     "exception": false,
     "start_time": "2021-07-16T04:15:26.580906",
     "status": "completed"
    },
    "tags": []
   },
   "source": [
    "## 1. Importing Packages "
   ]
  },
  {
   "cell_type": "code",
   "execution_count": 1,
   "metadata": {
    "execution": {
     "iopub.execute_input": "2021-07-16T04:15:26.751588Z",
     "iopub.status.busy": "2021-07-16T04:15:26.750912Z",
     "iopub.status.idle": "2021-07-16T04:15:27.649787Z",
     "shell.execute_reply": "2021-07-16T04:15:27.649084Z",
     "shell.execute_reply.started": "2021-07-16T03:53:37.915555Z"
    },
    "papermill": {
     "duration": 0.960297,
     "end_time": "2021-07-16T04:15:27.650008",
     "exception": false,
     "start_time": "2021-07-16T04:15:26.689711",
     "status": "completed"
    },
    "tags": []
   },
   "outputs": [],
   "source": [
    "import numpy as np \n",
    "import pandas as pd \n",
    "\n",
    "import seaborn as sns\n",
    "from matplotlib import pyplot as plt\n",
    "%matplotlib inline\n",
    "sns.set(style=\"whitegrid\")\n",
    "\n",
    "import warnings\n",
    "warnings.filterwarnings(\"ignore\")\n",
    "warnings.filterwarnings(\"ignore\", category=DeprecationWarning)  "
   ]
  },
  {
   "cell_type": "markdown",
   "metadata": {
    "papermill": {
     "duration": 0.053977,
     "end_time": "2021-07-16T04:15:27.758216",
     "exception": false,
     "start_time": "2021-07-16T04:15:27.704239",
     "status": "completed"
    },
    "tags": []
   },
   "source": [
    "## 2. Loading and Inspecting Data"
   ]
  },
  {
   "cell_type": "code",
   "execution_count": 2,
   "metadata": {
    "execution": {
     "iopub.execute_input": "2021-07-16T04:15:27.874760Z",
     "iopub.status.busy": "2021-07-16T04:15:27.874091Z",
     "iopub.status.idle": "2021-07-16T04:15:27.956682Z",
     "shell.execute_reply": "2021-07-16T04:15:27.955945Z",
     "shell.execute_reply.started": "2021-07-16T03:53:38.772313Z"
    },
    "papermill": {
     "duration": 0.142103,
     "end_time": "2021-07-16T04:15:27.956836",
     "exception": false,
     "start_time": "2021-07-16T04:15:27.814733",
     "status": "completed"
    },
    "tags": []
   },
   "outputs": [],
   "source": [
    "training = pd.read_csv(\"../input/house-prices-advanced-regression-techniques/train.csv\")\n",
    "testing = pd.read_csv(\"../input/house-prices-advanced-regression-techniques/test.csv\")"
   ]
  },
  {
   "cell_type": "code",
   "execution_count": 3,
   "metadata": {
    "execution": {
     "iopub.execute_input": "2021-07-16T04:15:28.089844Z",
     "iopub.status.busy": "2021-07-16T04:15:28.089149Z",
     "iopub.status.idle": "2021-07-16T04:15:28.118697Z",
     "shell.execute_reply": "2021-07-16T04:15:28.118122Z",
     "shell.execute_reply.started": "2021-07-16T03:53:38.861255Z"
    },
    "papermill": {
     "duration": 0.107082,
     "end_time": "2021-07-16T04:15:28.118838",
     "exception": false,
     "start_time": "2021-07-16T04:15:28.011756",
     "status": "completed"
    },
    "tags": []
   },
   "outputs": [
    {
     "data": {
      "text/html": [
       "<div>\n",
       "<style scoped>\n",
       "    .dataframe tbody tr th:only-of-type {\n",
       "        vertical-align: middle;\n",
       "    }\n",
       "\n",
       "    .dataframe tbody tr th {\n",
       "        vertical-align: top;\n",
       "    }\n",
       "\n",
       "    .dataframe thead th {\n",
       "        text-align: right;\n",
       "    }\n",
       "</style>\n",
       "<table border=\"1\" class=\"dataframe\">\n",
       "  <thead>\n",
       "    <tr style=\"text-align: right;\">\n",
       "      <th></th>\n",
       "      <th>Id</th>\n",
       "      <th>MSSubClass</th>\n",
       "      <th>MSZoning</th>\n",
       "      <th>LotFrontage</th>\n",
       "      <th>LotArea</th>\n",
       "      <th>Street</th>\n",
       "      <th>Alley</th>\n",
       "      <th>LotShape</th>\n",
       "      <th>LandContour</th>\n",
       "      <th>Utilities</th>\n",
       "      <th>...</th>\n",
       "      <th>PoolArea</th>\n",
       "      <th>PoolQC</th>\n",
       "      <th>Fence</th>\n",
       "      <th>MiscFeature</th>\n",
       "      <th>MiscVal</th>\n",
       "      <th>MoSold</th>\n",
       "      <th>YrSold</th>\n",
       "      <th>SaleType</th>\n",
       "      <th>SaleCondition</th>\n",
       "      <th>SalePrice</th>\n",
       "    </tr>\n",
       "  </thead>\n",
       "  <tbody>\n",
       "    <tr>\n",
       "      <th>0</th>\n",
       "      <td>1</td>\n",
       "      <td>60</td>\n",
       "      <td>RL</td>\n",
       "      <td>65.0</td>\n",
       "      <td>8450</td>\n",
       "      <td>Pave</td>\n",
       "      <td>NaN</td>\n",
       "      <td>Reg</td>\n",
       "      <td>Lvl</td>\n",
       "      <td>AllPub</td>\n",
       "      <td>...</td>\n",
       "      <td>0</td>\n",
       "      <td>NaN</td>\n",
       "      <td>NaN</td>\n",
       "      <td>NaN</td>\n",
       "      <td>0</td>\n",
       "      <td>2</td>\n",
       "      <td>2008</td>\n",
       "      <td>WD</td>\n",
       "      <td>Normal</td>\n",
       "      <td>208500</td>\n",
       "    </tr>\n",
       "    <tr>\n",
       "      <th>1</th>\n",
       "      <td>2</td>\n",
       "      <td>20</td>\n",
       "      <td>RL</td>\n",
       "      <td>80.0</td>\n",
       "      <td>9600</td>\n",
       "      <td>Pave</td>\n",
       "      <td>NaN</td>\n",
       "      <td>Reg</td>\n",
       "      <td>Lvl</td>\n",
       "      <td>AllPub</td>\n",
       "      <td>...</td>\n",
       "      <td>0</td>\n",
       "      <td>NaN</td>\n",
       "      <td>NaN</td>\n",
       "      <td>NaN</td>\n",
       "      <td>0</td>\n",
       "      <td>5</td>\n",
       "      <td>2007</td>\n",
       "      <td>WD</td>\n",
       "      <td>Normal</td>\n",
       "      <td>181500</td>\n",
       "    </tr>\n",
       "    <tr>\n",
       "      <th>2</th>\n",
       "      <td>3</td>\n",
       "      <td>60</td>\n",
       "      <td>RL</td>\n",
       "      <td>68.0</td>\n",
       "      <td>11250</td>\n",
       "      <td>Pave</td>\n",
       "      <td>NaN</td>\n",
       "      <td>IR1</td>\n",
       "      <td>Lvl</td>\n",
       "      <td>AllPub</td>\n",
       "      <td>...</td>\n",
       "      <td>0</td>\n",
       "      <td>NaN</td>\n",
       "      <td>NaN</td>\n",
       "      <td>NaN</td>\n",
       "      <td>0</td>\n",
       "      <td>9</td>\n",
       "      <td>2008</td>\n",
       "      <td>WD</td>\n",
       "      <td>Normal</td>\n",
       "      <td>223500</td>\n",
       "    </tr>\n",
       "    <tr>\n",
       "      <th>3</th>\n",
       "      <td>4</td>\n",
       "      <td>70</td>\n",
       "      <td>RL</td>\n",
       "      <td>60.0</td>\n",
       "      <td>9550</td>\n",
       "      <td>Pave</td>\n",
       "      <td>NaN</td>\n",
       "      <td>IR1</td>\n",
       "      <td>Lvl</td>\n",
       "      <td>AllPub</td>\n",
       "      <td>...</td>\n",
       "      <td>0</td>\n",
       "      <td>NaN</td>\n",
       "      <td>NaN</td>\n",
       "      <td>NaN</td>\n",
       "      <td>0</td>\n",
       "      <td>2</td>\n",
       "      <td>2006</td>\n",
       "      <td>WD</td>\n",
       "      <td>Abnorml</td>\n",
       "      <td>140000</td>\n",
       "    </tr>\n",
       "    <tr>\n",
       "      <th>4</th>\n",
       "      <td>5</td>\n",
       "      <td>60</td>\n",
       "      <td>RL</td>\n",
       "      <td>84.0</td>\n",
       "      <td>14260</td>\n",
       "      <td>Pave</td>\n",
       "      <td>NaN</td>\n",
       "      <td>IR1</td>\n",
       "      <td>Lvl</td>\n",
       "      <td>AllPub</td>\n",
       "      <td>...</td>\n",
       "      <td>0</td>\n",
       "      <td>NaN</td>\n",
       "      <td>NaN</td>\n",
       "      <td>NaN</td>\n",
       "      <td>0</td>\n",
       "      <td>12</td>\n",
       "      <td>2008</td>\n",
       "      <td>WD</td>\n",
       "      <td>Normal</td>\n",
       "      <td>250000</td>\n",
       "    </tr>\n",
       "  </tbody>\n",
       "</table>\n",
       "<p>5 rows × 81 columns</p>\n",
       "</div>"
      ],
      "text/plain": [
       "   Id  MSSubClass MSZoning  LotFrontage  LotArea Street Alley LotShape  \\\n",
       "0   1          60       RL         65.0     8450   Pave   NaN      Reg   \n",
       "1   2          20       RL         80.0     9600   Pave   NaN      Reg   \n",
       "2   3          60       RL         68.0    11250   Pave   NaN      IR1   \n",
       "3   4          70       RL         60.0     9550   Pave   NaN      IR1   \n",
       "4   5          60       RL         84.0    14260   Pave   NaN      IR1   \n",
       "\n",
       "  LandContour Utilities  ... PoolArea PoolQC Fence MiscFeature MiscVal MoSold  \\\n",
       "0         Lvl    AllPub  ...        0    NaN   NaN         NaN       0      2   \n",
       "1         Lvl    AllPub  ...        0    NaN   NaN         NaN       0      5   \n",
       "2         Lvl    AllPub  ...        0    NaN   NaN         NaN       0      9   \n",
       "3         Lvl    AllPub  ...        0    NaN   NaN         NaN       0      2   \n",
       "4         Lvl    AllPub  ...        0    NaN   NaN         NaN       0     12   \n",
       "\n",
       "  YrSold  SaleType  SaleCondition  SalePrice  \n",
       "0   2008        WD         Normal     208500  \n",
       "1   2007        WD         Normal     181500  \n",
       "2   2008        WD         Normal     223500  \n",
       "3   2006        WD        Abnorml     140000  \n",
       "4   2008        WD         Normal     250000  \n",
       "\n",
       "[5 rows x 81 columns]"
      ]
     },
     "execution_count": 3,
     "metadata": {},
     "output_type": "execute_result"
    }
   ],
   "source": [
    "training.head()"
   ]
  },
  {
   "cell_type": "code",
   "execution_count": 4,
   "metadata": {
    "execution": {
     "iopub.execute_input": "2021-07-16T04:15:28.232965Z",
     "iopub.status.busy": "2021-07-16T04:15:28.232317Z",
     "iopub.status.idle": "2021-07-16T04:15:28.337703Z",
     "shell.execute_reply": "2021-07-16T04:15:28.337028Z",
     "shell.execute_reply.started": "2021-07-16T03:53:38.912726Z"
    },
    "papermill": {
     "duration": 0.163105,
     "end_time": "2021-07-16T04:15:28.337852",
     "exception": false,
     "start_time": "2021-07-16T04:15:28.174747",
     "status": "completed"
    },
    "tags": []
   },
   "outputs": [
    {
     "data": {
      "text/html": [
       "<div>\n",
       "<style scoped>\n",
       "    .dataframe tbody tr th:only-of-type {\n",
       "        vertical-align: middle;\n",
       "    }\n",
       "\n",
       "    .dataframe tbody tr th {\n",
       "        vertical-align: top;\n",
       "    }\n",
       "\n",
       "    .dataframe thead th {\n",
       "        text-align: right;\n",
       "    }\n",
       "</style>\n",
       "<table border=\"1\" class=\"dataframe\">\n",
       "  <thead>\n",
       "    <tr style=\"text-align: right;\">\n",
       "      <th></th>\n",
       "      <th>Id</th>\n",
       "      <th>MSSubClass</th>\n",
       "      <th>LotFrontage</th>\n",
       "      <th>LotArea</th>\n",
       "      <th>OverallQual</th>\n",
       "      <th>OverallCond</th>\n",
       "      <th>YearBuilt</th>\n",
       "      <th>YearRemodAdd</th>\n",
       "      <th>MasVnrArea</th>\n",
       "      <th>BsmtFinSF1</th>\n",
       "      <th>...</th>\n",
       "      <th>WoodDeckSF</th>\n",
       "      <th>OpenPorchSF</th>\n",
       "      <th>EnclosedPorch</th>\n",
       "      <th>3SsnPorch</th>\n",
       "      <th>ScreenPorch</th>\n",
       "      <th>PoolArea</th>\n",
       "      <th>MiscVal</th>\n",
       "      <th>MoSold</th>\n",
       "      <th>YrSold</th>\n",
       "      <th>SalePrice</th>\n",
       "    </tr>\n",
       "  </thead>\n",
       "  <tbody>\n",
       "    <tr>\n",
       "      <th>count</th>\n",
       "      <td>1460.000000</td>\n",
       "      <td>1460.000000</td>\n",
       "      <td>1201.000000</td>\n",
       "      <td>1460.000000</td>\n",
       "      <td>1460.000000</td>\n",
       "      <td>1460.000000</td>\n",
       "      <td>1460.000000</td>\n",
       "      <td>1460.000000</td>\n",
       "      <td>1452.000000</td>\n",
       "      <td>1460.000000</td>\n",
       "      <td>...</td>\n",
       "      <td>1460.000000</td>\n",
       "      <td>1460.000000</td>\n",
       "      <td>1460.000000</td>\n",
       "      <td>1460.000000</td>\n",
       "      <td>1460.000000</td>\n",
       "      <td>1460.000000</td>\n",
       "      <td>1460.000000</td>\n",
       "      <td>1460.000000</td>\n",
       "      <td>1460.000000</td>\n",
       "      <td>1460.000000</td>\n",
       "    </tr>\n",
       "    <tr>\n",
       "      <th>mean</th>\n",
       "      <td>730.500000</td>\n",
       "      <td>56.897260</td>\n",
       "      <td>70.049958</td>\n",
       "      <td>10516.828082</td>\n",
       "      <td>6.099315</td>\n",
       "      <td>5.575342</td>\n",
       "      <td>1971.267808</td>\n",
       "      <td>1984.865753</td>\n",
       "      <td>103.685262</td>\n",
       "      <td>443.639726</td>\n",
       "      <td>...</td>\n",
       "      <td>94.244521</td>\n",
       "      <td>46.660274</td>\n",
       "      <td>21.954110</td>\n",
       "      <td>3.409589</td>\n",
       "      <td>15.060959</td>\n",
       "      <td>2.758904</td>\n",
       "      <td>43.489041</td>\n",
       "      <td>6.321918</td>\n",
       "      <td>2007.815753</td>\n",
       "      <td>180921.195890</td>\n",
       "    </tr>\n",
       "    <tr>\n",
       "      <th>std</th>\n",
       "      <td>421.610009</td>\n",
       "      <td>42.300571</td>\n",
       "      <td>24.284752</td>\n",
       "      <td>9981.264932</td>\n",
       "      <td>1.382997</td>\n",
       "      <td>1.112799</td>\n",
       "      <td>30.202904</td>\n",
       "      <td>20.645407</td>\n",
       "      <td>181.066207</td>\n",
       "      <td>456.098091</td>\n",
       "      <td>...</td>\n",
       "      <td>125.338794</td>\n",
       "      <td>66.256028</td>\n",
       "      <td>61.119149</td>\n",
       "      <td>29.317331</td>\n",
       "      <td>55.757415</td>\n",
       "      <td>40.177307</td>\n",
       "      <td>496.123024</td>\n",
       "      <td>2.703626</td>\n",
       "      <td>1.328095</td>\n",
       "      <td>79442.502883</td>\n",
       "    </tr>\n",
       "    <tr>\n",
       "      <th>min</th>\n",
       "      <td>1.000000</td>\n",
       "      <td>20.000000</td>\n",
       "      <td>21.000000</td>\n",
       "      <td>1300.000000</td>\n",
       "      <td>1.000000</td>\n",
       "      <td>1.000000</td>\n",
       "      <td>1872.000000</td>\n",
       "      <td>1950.000000</td>\n",
       "      <td>0.000000</td>\n",
       "      <td>0.000000</td>\n",
       "      <td>...</td>\n",
       "      <td>0.000000</td>\n",
       "      <td>0.000000</td>\n",
       "      <td>0.000000</td>\n",
       "      <td>0.000000</td>\n",
       "      <td>0.000000</td>\n",
       "      <td>0.000000</td>\n",
       "      <td>0.000000</td>\n",
       "      <td>1.000000</td>\n",
       "      <td>2006.000000</td>\n",
       "      <td>34900.000000</td>\n",
       "    </tr>\n",
       "    <tr>\n",
       "      <th>25%</th>\n",
       "      <td>365.750000</td>\n",
       "      <td>20.000000</td>\n",
       "      <td>59.000000</td>\n",
       "      <td>7553.500000</td>\n",
       "      <td>5.000000</td>\n",
       "      <td>5.000000</td>\n",
       "      <td>1954.000000</td>\n",
       "      <td>1967.000000</td>\n",
       "      <td>0.000000</td>\n",
       "      <td>0.000000</td>\n",
       "      <td>...</td>\n",
       "      <td>0.000000</td>\n",
       "      <td>0.000000</td>\n",
       "      <td>0.000000</td>\n",
       "      <td>0.000000</td>\n",
       "      <td>0.000000</td>\n",
       "      <td>0.000000</td>\n",
       "      <td>0.000000</td>\n",
       "      <td>5.000000</td>\n",
       "      <td>2007.000000</td>\n",
       "      <td>129975.000000</td>\n",
       "    </tr>\n",
       "    <tr>\n",
       "      <th>50%</th>\n",
       "      <td>730.500000</td>\n",
       "      <td>50.000000</td>\n",
       "      <td>69.000000</td>\n",
       "      <td>9478.500000</td>\n",
       "      <td>6.000000</td>\n",
       "      <td>5.000000</td>\n",
       "      <td>1973.000000</td>\n",
       "      <td>1994.000000</td>\n",
       "      <td>0.000000</td>\n",
       "      <td>383.500000</td>\n",
       "      <td>...</td>\n",
       "      <td>0.000000</td>\n",
       "      <td>25.000000</td>\n",
       "      <td>0.000000</td>\n",
       "      <td>0.000000</td>\n",
       "      <td>0.000000</td>\n",
       "      <td>0.000000</td>\n",
       "      <td>0.000000</td>\n",
       "      <td>6.000000</td>\n",
       "      <td>2008.000000</td>\n",
       "      <td>163000.000000</td>\n",
       "    </tr>\n",
       "    <tr>\n",
       "      <th>75%</th>\n",
       "      <td>1095.250000</td>\n",
       "      <td>70.000000</td>\n",
       "      <td>80.000000</td>\n",
       "      <td>11601.500000</td>\n",
       "      <td>7.000000</td>\n",
       "      <td>6.000000</td>\n",
       "      <td>2000.000000</td>\n",
       "      <td>2004.000000</td>\n",
       "      <td>166.000000</td>\n",
       "      <td>712.250000</td>\n",
       "      <td>...</td>\n",
       "      <td>168.000000</td>\n",
       "      <td>68.000000</td>\n",
       "      <td>0.000000</td>\n",
       "      <td>0.000000</td>\n",
       "      <td>0.000000</td>\n",
       "      <td>0.000000</td>\n",
       "      <td>0.000000</td>\n",
       "      <td>8.000000</td>\n",
       "      <td>2009.000000</td>\n",
       "      <td>214000.000000</td>\n",
       "    </tr>\n",
       "    <tr>\n",
       "      <th>max</th>\n",
       "      <td>1460.000000</td>\n",
       "      <td>190.000000</td>\n",
       "      <td>313.000000</td>\n",
       "      <td>215245.000000</td>\n",
       "      <td>10.000000</td>\n",
       "      <td>9.000000</td>\n",
       "      <td>2010.000000</td>\n",
       "      <td>2010.000000</td>\n",
       "      <td>1600.000000</td>\n",
       "      <td>5644.000000</td>\n",
       "      <td>...</td>\n",
       "      <td>857.000000</td>\n",
       "      <td>547.000000</td>\n",
       "      <td>552.000000</td>\n",
       "      <td>508.000000</td>\n",
       "      <td>480.000000</td>\n",
       "      <td>738.000000</td>\n",
       "      <td>15500.000000</td>\n",
       "      <td>12.000000</td>\n",
       "      <td>2010.000000</td>\n",
       "      <td>755000.000000</td>\n",
       "    </tr>\n",
       "  </tbody>\n",
       "</table>\n",
       "<p>8 rows × 38 columns</p>\n",
       "</div>"
      ],
      "text/plain": [
       "                Id   MSSubClass  LotFrontage        LotArea  OverallQual  \\\n",
       "count  1460.000000  1460.000000  1201.000000    1460.000000  1460.000000   \n",
       "mean    730.500000    56.897260    70.049958   10516.828082     6.099315   \n",
       "std     421.610009    42.300571    24.284752    9981.264932     1.382997   \n",
       "min       1.000000    20.000000    21.000000    1300.000000     1.000000   \n",
       "25%     365.750000    20.000000    59.000000    7553.500000     5.000000   \n",
       "50%     730.500000    50.000000    69.000000    9478.500000     6.000000   \n",
       "75%    1095.250000    70.000000    80.000000   11601.500000     7.000000   \n",
       "max    1460.000000   190.000000   313.000000  215245.000000    10.000000   \n",
       "\n",
       "       OverallCond    YearBuilt  YearRemodAdd   MasVnrArea   BsmtFinSF1  ...  \\\n",
       "count  1460.000000  1460.000000   1460.000000  1452.000000  1460.000000  ...   \n",
       "mean      5.575342  1971.267808   1984.865753   103.685262   443.639726  ...   \n",
       "std       1.112799    30.202904     20.645407   181.066207   456.098091  ...   \n",
       "min       1.000000  1872.000000   1950.000000     0.000000     0.000000  ...   \n",
       "25%       5.000000  1954.000000   1967.000000     0.000000     0.000000  ...   \n",
       "50%       5.000000  1973.000000   1994.000000     0.000000   383.500000  ...   \n",
       "75%       6.000000  2000.000000   2004.000000   166.000000   712.250000  ...   \n",
       "max       9.000000  2010.000000   2010.000000  1600.000000  5644.000000  ...   \n",
       "\n",
       "        WoodDeckSF  OpenPorchSF  EnclosedPorch    3SsnPorch  ScreenPorch  \\\n",
       "count  1460.000000  1460.000000    1460.000000  1460.000000  1460.000000   \n",
       "mean     94.244521    46.660274      21.954110     3.409589    15.060959   \n",
       "std     125.338794    66.256028      61.119149    29.317331    55.757415   \n",
       "min       0.000000     0.000000       0.000000     0.000000     0.000000   \n",
       "25%       0.000000     0.000000       0.000000     0.000000     0.000000   \n",
       "50%       0.000000    25.000000       0.000000     0.000000     0.000000   \n",
       "75%     168.000000    68.000000       0.000000     0.000000     0.000000   \n",
       "max     857.000000   547.000000     552.000000   508.000000   480.000000   \n",
       "\n",
       "          PoolArea       MiscVal       MoSold       YrSold      SalePrice  \n",
       "count  1460.000000   1460.000000  1460.000000  1460.000000    1460.000000  \n",
       "mean      2.758904     43.489041     6.321918  2007.815753  180921.195890  \n",
       "std      40.177307    496.123024     2.703626     1.328095   79442.502883  \n",
       "min       0.000000      0.000000     1.000000  2006.000000   34900.000000  \n",
       "25%       0.000000      0.000000     5.000000  2007.000000  129975.000000  \n",
       "50%       0.000000      0.000000     6.000000  2008.000000  163000.000000  \n",
       "75%       0.000000      0.000000     8.000000  2009.000000  214000.000000  \n",
       "max     738.000000  15500.000000    12.000000  2010.000000  755000.000000  \n",
       "\n",
       "[8 rows x 38 columns]"
      ]
     },
     "execution_count": 4,
     "metadata": {},
     "output_type": "execute_result"
    }
   ],
   "source": [
    "training.describe()"
   ]
  },
  {
   "cell_type": "code",
   "execution_count": 5,
   "metadata": {
    "execution": {
     "iopub.execute_input": "2021-07-16T04:15:28.456491Z",
     "iopub.status.busy": "2021-07-16T04:15:28.455714Z",
     "iopub.status.idle": "2021-07-16T04:15:28.459925Z",
     "shell.execute_reply": "2021-07-16T04:15:28.459412Z",
     "shell.execute_reply.started": "2021-07-16T03:53:39.031616Z"
    },
    "papermill": {
     "duration": 0.064578,
     "end_time": "2021-07-16T04:15:28.460088",
     "exception": false,
     "start_time": "2021-07-16T04:15:28.395510",
     "status": "completed"
    },
    "tags": []
   },
   "outputs": [
    {
     "data": {
      "text/plain": [
       "(1460, 81)"
      ]
     },
     "execution_count": 5,
     "metadata": {},
     "output_type": "execute_result"
    }
   ],
   "source": [
    "training.shape"
   ]
  },
  {
   "cell_type": "code",
   "execution_count": 6,
   "metadata": {
    "execution": {
     "iopub.execute_input": "2021-07-16T04:15:28.580619Z",
     "iopub.status.busy": "2021-07-16T04:15:28.579586Z",
     "iopub.status.idle": "2021-07-16T04:15:28.584798Z",
     "shell.execute_reply": "2021-07-16T04:15:28.584271Z",
     "shell.execute_reply.started": "2021-07-16T03:53:39.040556Z"
    },
    "papermill": {
     "duration": 0.067789,
     "end_time": "2021-07-16T04:15:28.584960",
     "exception": false,
     "start_time": "2021-07-16T04:15:28.517171",
     "status": "completed"
    },
    "tags": []
   },
   "outputs": [
    {
     "data": {
      "text/plain": [
       "Index(['Id', 'MSSubClass', 'MSZoning', 'LotFrontage', 'LotArea', 'Street',\n",
       "       'Alley', 'LotShape', 'LandContour', 'Utilities', 'LotConfig',\n",
       "       'LandSlope', 'Neighborhood', 'Condition1', 'Condition2', 'BldgType',\n",
       "       'HouseStyle', 'OverallQual', 'OverallCond', 'YearBuilt', 'YearRemodAdd',\n",
       "       'RoofStyle', 'RoofMatl', 'Exterior1st', 'Exterior2nd', 'MasVnrType',\n",
       "       'MasVnrArea', 'ExterQual', 'ExterCond', 'Foundation', 'BsmtQual',\n",
       "       'BsmtCond', 'BsmtExposure', 'BsmtFinType1', 'BsmtFinSF1',\n",
       "       'BsmtFinType2', 'BsmtFinSF2', 'BsmtUnfSF', 'TotalBsmtSF', 'Heating',\n",
       "       'HeatingQC', 'CentralAir', 'Electrical', '1stFlrSF', '2ndFlrSF',\n",
       "       'LowQualFinSF', 'GrLivArea', 'BsmtFullBath', 'BsmtHalfBath', 'FullBath',\n",
       "       'HalfBath', 'BedroomAbvGr', 'KitchenAbvGr', 'KitchenQual',\n",
       "       'TotRmsAbvGrd', 'Functional', 'Fireplaces', 'FireplaceQu', 'GarageType',\n",
       "       'GarageYrBlt', 'GarageFinish', 'GarageCars', 'GarageArea', 'GarageQual',\n",
       "       'GarageCond', 'PavedDrive', 'WoodDeckSF', 'OpenPorchSF',\n",
       "       'EnclosedPorch', '3SsnPorch', 'ScreenPorch', 'PoolArea', 'PoolQC',\n",
       "       'Fence', 'MiscFeature', 'MiscVal', 'MoSold', 'YrSold', 'SaleType',\n",
       "       'SaleCondition', 'SalePrice'],\n",
       "      dtype='object')"
      ]
     },
     "execution_count": 6,
     "metadata": {},
     "output_type": "execute_result"
    }
   ],
   "source": [
    "training.keys()"
   ]
  },
  {
   "cell_type": "markdown",
   "metadata": {
    "papermill": {
     "duration": 0.056308,
     "end_time": "2021-07-16T04:15:28.698370",
     "exception": false,
     "start_time": "2021-07-16T04:15:28.642062",
     "status": "completed"
    },
    "tags": []
   },
   "source": [
    "Let's inspect the correlations to get a better idea of which columns correlate the most with the Sale Price of the house. If there are features that don´t do a good job predicting the Sale Price, we can just eliminate them and not use them in our model. "
   ]
  },
  {
   "cell_type": "code",
   "execution_count": 7,
   "metadata": {
    "execution": {
     "iopub.execute_input": "2021-07-16T04:15:28.830955Z",
     "iopub.status.busy": "2021-07-16T04:15:28.829671Z",
     "iopub.status.idle": "2021-07-16T04:15:28.854180Z",
     "shell.execute_reply": "2021-07-16T04:15:28.853573Z",
     "shell.execute_reply.started": "2021-07-16T03:53:39.054025Z"
    },
    "papermill": {
     "duration": 0.099563,
     "end_time": "2021-07-16T04:15:28.854378",
     "exception": false,
     "start_time": "2021-07-16T04:15:28.754815",
     "status": "completed"
    },
    "tags": []
   },
   "outputs": [
    {
     "data": {
      "text/plain": [
       "SalePrice        1.000000\n",
       "OverallQual      0.790982\n",
       "GrLivArea        0.708624\n",
       "GarageCars       0.640409\n",
       "GarageArea       0.623431\n",
       "TotalBsmtSF      0.613581\n",
       "1stFlrSF         0.605852\n",
       "FullBath         0.560664\n",
       "TotRmsAbvGrd     0.533723\n",
       "YearBuilt        0.522897\n",
       "YearRemodAdd     0.507101\n",
       "GarageYrBlt      0.486362\n",
       "MasVnrArea       0.477493\n",
       "Fireplaces       0.466929\n",
       "BsmtFinSF1       0.386420\n",
       "LotFrontage      0.351799\n",
       "WoodDeckSF       0.324413\n",
       "2ndFlrSF         0.319334\n",
       "OpenPorchSF      0.315856\n",
       "HalfBath         0.284108\n",
       "LotArea          0.263843\n",
       "BsmtFullBath     0.227122\n",
       "BsmtUnfSF        0.214479\n",
       "BedroomAbvGr     0.168213\n",
       "ScreenPorch      0.111447\n",
       "PoolArea         0.092404\n",
       "MoSold           0.046432\n",
       "3SsnPorch        0.044584\n",
       "BsmtFinSF2      -0.011378\n",
       "BsmtHalfBath    -0.016844\n",
       "MiscVal         -0.021190\n",
       "Id              -0.021917\n",
       "LowQualFinSF    -0.025606\n",
       "YrSold          -0.028923\n",
       "OverallCond     -0.077856\n",
       "MSSubClass      -0.084284\n",
       "EnclosedPorch   -0.128578\n",
       "KitchenAbvGr    -0.135907\n",
       "Name: SalePrice, dtype: float64"
      ]
     },
     "execution_count": 7,
     "metadata": {},
     "output_type": "execute_result"
    }
   ],
   "source": [
    "correlations = training.corr()\n",
    "correlations = correlations[\"SalePrice\"].sort_values(ascending=False)\n",
    "features = correlations.index[1:6]\n",
    "correlations"
   ]
  },
  {
   "cell_type": "markdown",
   "metadata": {
    "papermill": {
     "duration": 0.056863,
     "end_time": "2021-07-16T04:15:28.976643",
     "exception": false,
     "start_time": "2021-07-16T04:15:28.919780",
     "status": "completed"
    },
    "tags": []
   },
   "source": [
    "# 3. Imputing Null Values "
   ]
  },
  {
   "cell_type": "markdown",
   "metadata": {
    "papermill": {
     "duration": 0.056728,
     "end_time": "2021-07-16T04:15:29.090586",
     "exception": false,
     "start_time": "2021-07-16T04:15:29.033858",
     "status": "completed"
    },
    "tags": []
   },
   "source": [
    "For numerical imputing, we would typically fill the missing values with a measure like median, mean, or mode. For categorical imputing, I chose to fill the missing values with the most common term that appeared from the entire column.\n",
    "\n",
    "\n",
    "### Places Where NaN Means Something\n",
    "\n",
    "This means that if a value is NaN, the house might not have that certain attribute, which will affect the price of the house. Therefore, it is better to not drop, but fill in the null cell with a value called \"None\" which serves as its own category."
   ]
  },
  {
   "cell_type": "code",
   "execution_count": 8,
   "metadata": {
    "execution": {
     "iopub.execute_input": "2021-07-16T04:15:29.208902Z",
     "iopub.status.busy": "2021-07-16T04:15:29.207939Z",
     "iopub.status.idle": "2021-07-16T04:15:29.229894Z",
     "shell.execute_reply": "2021-07-16T04:15:29.230385Z",
     "shell.execute_reply.started": "2021-07-16T03:53:39.080721Z"
    },
    "papermill": {
     "duration": 0.082659,
     "end_time": "2021-07-16T04:15:29.230596",
     "exception": false,
     "start_time": "2021-07-16T04:15:29.147937",
     "status": "completed"
    },
    "tags": []
   },
   "outputs": [],
   "source": [
    "training_null = pd.isnull(training).sum()\n",
    "testing_null = pd.isnull(testing).sum()\n",
    "\n",
    "null = pd.concat([training_null, testing_null], axis=1, keys=[\"Training\", \"Testing\"])"
   ]
  },
  {
   "cell_type": "code",
   "execution_count": 9,
   "metadata": {
    "execution": {
     "iopub.execute_input": "2021-07-16T04:15:29.351280Z",
     "iopub.status.busy": "2021-07-16T04:15:29.350293Z",
     "iopub.status.idle": "2021-07-16T04:15:29.372076Z",
     "shell.execute_reply": "2021-07-16T04:15:29.371427Z",
     "shell.execute_reply.started": "2021-07-16T03:53:39.106456Z"
    },
    "papermill": {
     "duration": 0.084044,
     "end_time": "2021-07-16T04:15:29.372260",
     "exception": false,
     "start_time": "2021-07-16T04:15:29.288216",
     "status": "completed"
    },
    "tags": []
   },
   "outputs": [],
   "source": [
    "null_many = null[null.sum(axis=1) > 200]  #a lot of missing values\n",
    "null_few = null[(null.sum(axis=1) > 0) & (null.sum(axis=1) < 200)]  #not as much missing values"
   ]
  },
  {
   "cell_type": "code",
   "execution_count": 10,
   "metadata": {
    "execution": {
     "iopub.execute_input": "2021-07-16T04:15:29.495019Z",
     "iopub.status.busy": "2021-07-16T04:15:29.494342Z",
     "iopub.status.idle": "2021-07-16T04:15:29.497433Z",
     "shell.execute_reply": "2021-07-16T04:15:29.497863Z",
     "shell.execute_reply.started": "2021-07-16T03:53:39.129656Z"
    },
    "papermill": {
     "duration": 0.069232,
     "end_time": "2021-07-16T04:15:29.498050",
     "exception": false,
     "start_time": "2021-07-16T04:15:29.428818",
     "status": "completed"
    },
    "tags": []
   },
   "outputs": [
    {
     "data": {
      "text/html": [
       "<div>\n",
       "<style scoped>\n",
       "    .dataframe tbody tr th:only-of-type {\n",
       "        vertical-align: middle;\n",
       "    }\n",
       "\n",
       "    .dataframe tbody tr th {\n",
       "        vertical-align: top;\n",
       "    }\n",
       "\n",
       "    .dataframe thead th {\n",
       "        text-align: right;\n",
       "    }\n",
       "</style>\n",
       "<table border=\"1\" class=\"dataframe\">\n",
       "  <thead>\n",
       "    <tr style=\"text-align: right;\">\n",
       "      <th></th>\n",
       "      <th>Training</th>\n",
       "      <th>Testing</th>\n",
       "    </tr>\n",
       "  </thead>\n",
       "  <tbody>\n",
       "    <tr>\n",
       "      <th>LotFrontage</th>\n",
       "      <td>259</td>\n",
       "      <td>227.0</td>\n",
       "    </tr>\n",
       "    <tr>\n",
       "      <th>Alley</th>\n",
       "      <td>1369</td>\n",
       "      <td>1352.0</td>\n",
       "    </tr>\n",
       "    <tr>\n",
       "      <th>FireplaceQu</th>\n",
       "      <td>690</td>\n",
       "      <td>730.0</td>\n",
       "    </tr>\n",
       "    <tr>\n",
       "      <th>PoolQC</th>\n",
       "      <td>1453</td>\n",
       "      <td>1456.0</td>\n",
       "    </tr>\n",
       "    <tr>\n",
       "      <th>Fence</th>\n",
       "      <td>1179</td>\n",
       "      <td>1169.0</td>\n",
       "    </tr>\n",
       "    <tr>\n",
       "      <th>MiscFeature</th>\n",
       "      <td>1406</td>\n",
       "      <td>1408.0</td>\n",
       "    </tr>\n",
       "  </tbody>\n",
       "</table>\n",
       "</div>"
      ],
      "text/plain": [
       "             Training  Testing\n",
       "LotFrontage       259    227.0\n",
       "Alley            1369   1352.0\n",
       "FireplaceQu       690    730.0\n",
       "PoolQC           1453   1456.0\n",
       "Fence            1179   1169.0\n",
       "MiscFeature      1406   1408.0"
      ]
     },
     "execution_count": 10,
     "metadata": {},
     "output_type": "execute_result"
    }
   ],
   "source": [
    "null_many"
   ]
  },
  {
   "cell_type": "code",
   "execution_count": 11,
   "metadata": {
    "execution": {
     "iopub.execute_input": "2021-07-16T04:15:29.615029Z",
     "iopub.status.busy": "2021-07-16T04:15:29.614349Z",
     "iopub.status.idle": "2021-07-16T04:15:29.618548Z",
     "shell.execute_reply": "2021-07-16T04:15:29.619013Z",
     "shell.execute_reply.started": "2021-07-16T03:53:39.144256Z"
    },
    "papermill": {
     "duration": 0.064382,
     "end_time": "2021-07-16T04:15:29.619213",
     "exception": false,
     "start_time": "2021-07-16T04:15:29.554831",
     "status": "completed"
    },
    "tags": []
   },
   "outputs": [],
   "source": [
    "#you can find these features on the description data file provided\n",
    "\n",
    "null_has_meaning = [\"Alley\", \"BsmtQual\", \"BsmtCond\", \"BsmtExposure\", \"BsmtFinType1\", \"BsmtFinType2\", \"FireplaceQu\", \"GarageType\", \"GarageFinish\", \"GarageQual\", \"GarageCond\", \"PoolQC\", \"Fence\", \"MiscFeature\"]"
   ]
  },
  {
   "cell_type": "code",
   "execution_count": 12,
   "metadata": {
    "execution": {
     "iopub.execute_input": "2021-07-16T04:15:29.737409Z",
     "iopub.status.busy": "2021-07-16T04:15:29.736693Z",
     "iopub.status.idle": "2021-07-16T04:15:29.753969Z",
     "shell.execute_reply": "2021-07-16T04:15:29.754490Z",
     "shell.execute_reply.started": "2021-07-16T03:53:39.152160Z"
    },
    "papermill": {
     "duration": 0.078279,
     "end_time": "2021-07-16T04:15:29.754691",
     "exception": false,
     "start_time": "2021-07-16T04:15:29.676412",
     "status": "completed"
    },
    "tags": []
   },
   "outputs": [],
   "source": [
    "for i in null_has_meaning:\n",
    "    training[i].fillna(\"None\", inplace=True)\n",
    "    testing[i].fillna(\"None\", inplace=True)"
   ]
  },
  {
   "cell_type": "markdown",
   "metadata": {
    "papermill": {
     "duration": 0.05701,
     "end_time": "2021-07-16T04:15:29.868951",
     "exception": false,
     "start_time": "2021-07-16T04:15:29.811941",
     "status": "completed"
    },
    "tags": []
   },
   "source": [
    "## Imputing \"Real\" NaN Values"
   ]
  },
  {
   "cell_type": "code",
   "execution_count": 13,
   "metadata": {
    "execution": {
     "iopub.execute_input": "2021-07-16T04:15:29.988239Z",
     "iopub.status.busy": "2021-07-16T04:15:29.987527Z",
     "iopub.status.idle": "2021-07-16T04:15:30.457816Z",
     "shell.execute_reply": "2021-07-16T04:15:30.457097Z",
     "shell.execute_reply.started": "2021-07-16T03:53:39.177458Z"
    },
    "papermill": {
     "duration": 0.532011,
     "end_time": "2021-07-16T04:15:30.457968",
     "exception": false,
     "start_time": "2021-07-16T04:15:29.925957",
     "status": "completed"
    },
    "tags": []
   },
   "outputs": [],
   "source": [
    "#from sklearn.preprocessing import Imputer\n",
    "from sklearn.impute import SimpleImputer\n",
    "\n",
    "#imputer = Imputer(strategy=\"median\")\n",
    "imputer = SimpleImputer(missing_values=np.nan, strategy='median')"
   ]
  },
  {
   "cell_type": "code",
   "execution_count": 14,
   "metadata": {
    "execution": {
     "iopub.execute_input": "2021-07-16T04:15:30.584375Z",
     "iopub.status.busy": "2021-07-16T04:15:30.583656Z",
     "iopub.status.idle": "2021-07-16T04:15:30.599108Z",
     "shell.execute_reply": "2021-07-16T04:15:30.598445Z",
     "shell.execute_reply.started": "2021-07-16T04:03:36.598586Z"
    },
    "papermill": {
     "duration": 0.084224,
     "end_time": "2021-07-16T04:15:30.599277",
     "exception": false,
     "start_time": "2021-07-16T04:15:30.515053",
     "status": "completed"
    },
    "tags": []
   },
   "outputs": [],
   "source": [
    "training_null = pd.isnull(training).sum()\n",
    "testing_null = pd.isnull(testing).sum()\n",
    "\n",
    "null = pd.concat([training_null, testing_null], axis=1, keys=[\"Training\", \"Testing\"])"
   ]
  },
  {
   "cell_type": "code",
   "execution_count": 15,
   "metadata": {
    "execution": {
     "iopub.execute_input": "2021-07-16T04:15:30.725306Z",
     "iopub.status.busy": "2021-07-16T04:15:30.724559Z",
     "iopub.status.idle": "2021-07-16T04:15:30.727824Z",
     "shell.execute_reply": "2021-07-16T04:15:30.727289Z",
     "shell.execute_reply.started": "2021-07-16T04:03:37.036610Z"
    },
    "papermill": {
     "duration": 0.069226,
     "end_time": "2021-07-16T04:15:30.727968",
     "exception": false,
     "start_time": "2021-07-16T04:15:30.658742",
     "status": "completed"
    },
    "tags": []
   },
   "outputs": [],
   "source": [
    "null_many = null[null.sum(axis=1) > 200]  #a lot of missing values\n",
    "null_few = null[(null.sum(axis=1) > 0) & (null.sum(axis=1) < 200)]  #few missing values"
   ]
  },
  {
   "cell_type": "code",
   "execution_count": 16,
   "metadata": {
    "execution": {
     "iopub.execute_input": "2021-07-16T04:15:30.845049Z",
     "iopub.status.busy": "2021-07-16T04:15:30.844428Z",
     "iopub.status.idle": "2021-07-16T04:15:30.854040Z",
     "shell.execute_reply": "2021-07-16T04:15:30.853515Z",
     "shell.execute_reply.started": "2021-07-16T03:53:39.681678Z"
    },
    "papermill": {
     "duration": 0.069054,
     "end_time": "2021-07-16T04:15:30.854228",
     "exception": false,
     "start_time": "2021-07-16T04:15:30.785174",
     "status": "completed"
    },
    "tags": []
   },
   "outputs": [
    {
     "data": {
      "text/html": [
       "<div>\n",
       "<style scoped>\n",
       "    .dataframe tbody tr th:only-of-type {\n",
       "        vertical-align: middle;\n",
       "    }\n",
       "\n",
       "    .dataframe tbody tr th {\n",
       "        vertical-align: top;\n",
       "    }\n",
       "\n",
       "    .dataframe thead th {\n",
       "        text-align: right;\n",
       "    }\n",
       "</style>\n",
       "<table border=\"1\" class=\"dataframe\">\n",
       "  <thead>\n",
       "    <tr style=\"text-align: right;\">\n",
       "      <th></th>\n",
       "      <th>Training</th>\n",
       "      <th>Testing</th>\n",
       "    </tr>\n",
       "  </thead>\n",
       "  <tbody>\n",
       "    <tr>\n",
       "      <th>LotFrontage</th>\n",
       "      <td>259</td>\n",
       "      <td>227.0</td>\n",
       "    </tr>\n",
       "  </tbody>\n",
       "</table>\n",
       "</div>"
      ],
      "text/plain": [
       "             Training  Testing\n",
       "LotFrontage       259    227.0"
      ]
     },
     "execution_count": 16,
     "metadata": {},
     "output_type": "execute_result"
    }
   ],
   "source": [
    "null_many"
   ]
  },
  {
   "cell_type": "markdown",
   "metadata": {
    "papermill": {
     "duration": 0.058354,
     "end_time": "2021-07-16T04:15:30.969967",
     "exception": false,
     "start_time": "2021-07-16T04:15:30.911613",
     "status": "completed"
    },
    "tags": []
   },
   "source": [
    "LotFrontage has too many Null values and it is a numerical value so it may be better to just drop it."
   ]
  },
  {
   "cell_type": "code",
   "execution_count": 17,
   "metadata": {
    "execution": {
     "iopub.execute_input": "2021-07-16T04:15:31.092817Z",
     "iopub.status.busy": "2021-07-16T04:15:31.092096Z",
     "iopub.status.idle": "2021-07-16T04:15:31.099762Z",
     "shell.execute_reply": "2021-07-16T04:15:31.099162Z",
     "shell.execute_reply.started": "2021-07-16T03:53:39.696394Z"
    },
    "papermill": {
     "duration": 0.071369,
     "end_time": "2021-07-16T04:15:31.099920",
     "exception": false,
     "start_time": "2021-07-16T04:15:31.028551",
     "status": "completed"
    },
    "tags": []
   },
   "outputs": [],
   "source": [
    "training.drop(\"LotFrontage\", axis=1, inplace=True)\n",
    "testing.drop(\"LotFrontage\", axis=1, inplace=True)"
   ]
  },
  {
   "cell_type": "code",
   "execution_count": 18,
   "metadata": {
    "execution": {
     "iopub.execute_input": "2021-07-16T04:15:31.218779Z",
     "iopub.status.busy": "2021-07-16T04:15:31.218138Z",
     "iopub.status.idle": "2021-07-16T04:15:31.231350Z",
     "shell.execute_reply": "2021-07-16T04:15:31.230664Z",
     "shell.execute_reply.started": "2021-07-16T03:53:39.712288Z"
    },
    "papermill": {
     "duration": 0.073939,
     "end_time": "2021-07-16T04:15:31.231504",
     "exception": false,
     "start_time": "2021-07-16T04:15:31.157565",
     "status": "completed"
    },
    "tags": []
   },
   "outputs": [
    {
     "data": {
      "text/html": [
       "<div>\n",
       "<style scoped>\n",
       "    .dataframe tbody tr th:only-of-type {\n",
       "        vertical-align: middle;\n",
       "    }\n",
       "\n",
       "    .dataframe tbody tr th {\n",
       "        vertical-align: top;\n",
       "    }\n",
       "\n",
       "    .dataframe thead th {\n",
       "        text-align: right;\n",
       "    }\n",
       "</style>\n",
       "<table border=\"1\" class=\"dataframe\">\n",
       "  <thead>\n",
       "    <tr style=\"text-align: right;\">\n",
       "      <th></th>\n",
       "      <th>Training</th>\n",
       "      <th>Testing</th>\n",
       "    </tr>\n",
       "  </thead>\n",
       "  <tbody>\n",
       "    <tr>\n",
       "      <th>MSZoning</th>\n",
       "      <td>0</td>\n",
       "      <td>4.0</td>\n",
       "    </tr>\n",
       "    <tr>\n",
       "      <th>Utilities</th>\n",
       "      <td>0</td>\n",
       "      <td>2.0</td>\n",
       "    </tr>\n",
       "    <tr>\n",
       "      <th>Exterior1st</th>\n",
       "      <td>0</td>\n",
       "      <td>1.0</td>\n",
       "    </tr>\n",
       "    <tr>\n",
       "      <th>Exterior2nd</th>\n",
       "      <td>0</td>\n",
       "      <td>1.0</td>\n",
       "    </tr>\n",
       "    <tr>\n",
       "      <th>MasVnrType</th>\n",
       "      <td>8</td>\n",
       "      <td>16.0</td>\n",
       "    </tr>\n",
       "    <tr>\n",
       "      <th>MasVnrArea</th>\n",
       "      <td>8</td>\n",
       "      <td>15.0</td>\n",
       "    </tr>\n",
       "    <tr>\n",
       "      <th>BsmtFinSF1</th>\n",
       "      <td>0</td>\n",
       "      <td>1.0</td>\n",
       "    </tr>\n",
       "    <tr>\n",
       "      <th>BsmtFinSF2</th>\n",
       "      <td>0</td>\n",
       "      <td>1.0</td>\n",
       "    </tr>\n",
       "    <tr>\n",
       "      <th>BsmtUnfSF</th>\n",
       "      <td>0</td>\n",
       "      <td>1.0</td>\n",
       "    </tr>\n",
       "    <tr>\n",
       "      <th>TotalBsmtSF</th>\n",
       "      <td>0</td>\n",
       "      <td>1.0</td>\n",
       "    </tr>\n",
       "    <tr>\n",
       "      <th>Electrical</th>\n",
       "      <td>1</td>\n",
       "      <td>0.0</td>\n",
       "    </tr>\n",
       "    <tr>\n",
       "      <th>BsmtFullBath</th>\n",
       "      <td>0</td>\n",
       "      <td>2.0</td>\n",
       "    </tr>\n",
       "    <tr>\n",
       "      <th>BsmtHalfBath</th>\n",
       "      <td>0</td>\n",
       "      <td>2.0</td>\n",
       "    </tr>\n",
       "    <tr>\n",
       "      <th>KitchenQual</th>\n",
       "      <td>0</td>\n",
       "      <td>1.0</td>\n",
       "    </tr>\n",
       "    <tr>\n",
       "      <th>Functional</th>\n",
       "      <td>0</td>\n",
       "      <td>2.0</td>\n",
       "    </tr>\n",
       "    <tr>\n",
       "      <th>GarageYrBlt</th>\n",
       "      <td>81</td>\n",
       "      <td>78.0</td>\n",
       "    </tr>\n",
       "    <tr>\n",
       "      <th>GarageCars</th>\n",
       "      <td>0</td>\n",
       "      <td>1.0</td>\n",
       "    </tr>\n",
       "    <tr>\n",
       "      <th>GarageArea</th>\n",
       "      <td>0</td>\n",
       "      <td>1.0</td>\n",
       "    </tr>\n",
       "    <tr>\n",
       "      <th>SaleType</th>\n",
       "      <td>0</td>\n",
       "      <td>1.0</td>\n",
       "    </tr>\n",
       "  </tbody>\n",
       "</table>\n",
       "</div>"
      ],
      "text/plain": [
       "              Training  Testing\n",
       "MSZoning             0      4.0\n",
       "Utilities            0      2.0\n",
       "Exterior1st          0      1.0\n",
       "Exterior2nd          0      1.0\n",
       "MasVnrType           8     16.0\n",
       "MasVnrArea           8     15.0\n",
       "BsmtFinSF1           0      1.0\n",
       "BsmtFinSF2           0      1.0\n",
       "BsmtUnfSF            0      1.0\n",
       "TotalBsmtSF          0      1.0\n",
       "Electrical           1      0.0\n",
       "BsmtFullBath         0      2.0\n",
       "BsmtHalfBath         0      2.0\n",
       "KitchenQual          0      1.0\n",
       "Functional           0      2.0\n",
       "GarageYrBlt         81     78.0\n",
       "GarageCars           0      1.0\n",
       "GarageArea           0      1.0\n",
       "SaleType             0      1.0"
      ]
     },
     "execution_count": 18,
     "metadata": {},
     "output_type": "execute_result"
    }
   ],
   "source": [
    "null_few"
   ]
  },
  {
   "cell_type": "markdown",
   "metadata": {
    "papermill": {
     "duration": 0.058581,
     "end_time": "2021-07-16T04:15:31.349915",
     "exception": false,
     "start_time": "2021-07-16T04:15:31.291334",
     "status": "completed"
    },
    "tags": []
   },
   "source": [
    "GarageYrBlt, MasVnrArea, and MasVnrType all have a fairly decent amount of missing values. MasVnrType is categorical so we can replace the missing values with \"None\", as we did before. We can fill the others with median."
   ]
  },
  {
   "cell_type": "code",
   "execution_count": 19,
   "metadata": {
    "execution": {
     "iopub.execute_input": "2021-07-16T04:15:31.474651Z",
     "iopub.status.busy": "2021-07-16T04:15:31.473963Z",
     "iopub.status.idle": "2021-07-16T04:15:31.484229Z",
     "shell.execute_reply": "2021-07-16T04:15:31.484989Z",
     "shell.execute_reply.started": "2021-07-16T03:53:39.738201Z"
    },
    "papermill": {
     "duration": 0.076882,
     "end_time": "2021-07-16T04:15:31.485219",
     "exception": false,
     "start_time": "2021-07-16T04:15:31.408337",
     "status": "completed"
    },
    "tags": []
   },
   "outputs": [],
   "source": [
    "training[\"GarageYrBlt\"].fillna(training[\"GarageYrBlt\"].median(), inplace=True)\n",
    "testing[\"GarageYrBlt\"].fillna(testing[\"GarageYrBlt\"].median(), inplace=True)\n",
    "training[\"MasVnrArea\"].fillna(training[\"MasVnrArea\"].median(), inplace=True)\n",
    "testing[\"MasVnrArea\"].fillna(testing[\"MasVnrArea\"].median(), inplace=True)\n",
    "training[\"MasVnrType\"].fillna(\"None\", inplace=True)\n",
    "testing[\"MasVnrType\"].fillna(\"None\", inplace=True)"
   ]
  },
  {
   "cell_type": "markdown",
   "metadata": {
    "papermill": {
     "duration": 0.058519,
     "end_time": "2021-07-16T04:15:31.602971",
     "exception": false,
     "start_time": "2021-07-16T04:15:31.544452",
     "status": "completed"
    },
    "tags": []
   },
   "source": [
    "Now, the features with a lot of missing values have been taken care of! Let's move on to the features with fewer missing values."
   ]
  },
  {
   "cell_type": "code",
   "execution_count": 20,
   "metadata": {
    "execution": {
     "iopub.execute_input": "2021-07-16T04:15:31.722900Z",
     "iopub.status.busy": "2021-07-16T04:15:31.722213Z",
     "iopub.status.idle": "2021-07-16T04:15:31.730798Z",
     "shell.execute_reply": "2021-07-16T04:15:31.731404Z",
     "shell.execute_reply.started": "2021-07-16T03:53:39.752915Z"
    },
    "papermill": {
     "duration": 0.070489,
     "end_time": "2021-07-16T04:15:31.731596",
     "exception": false,
     "start_time": "2021-07-16T04:15:31.661107",
     "status": "completed"
    },
    "tags": []
   },
   "outputs": [],
   "source": [
    "types_train = training.dtypes #type of each feature in data: int, float, object\n",
    "num_train = types_train[(types_train == int) | (types_train == float)] #numerical values are either type int or float\n",
    "cat_train = types_train[types_train == object] #categorical values are type object\n",
    "\n",
    "#we do the same for the test set\n",
    "types_test = testing.dtypes\n",
    "num_test = types_test[(types_test == int) | (types_test == float)]\n",
    "cat_test = types_test[types_test == object]"
   ]
  },
  {
   "cell_type": "markdown",
   "metadata": {
    "papermill": {
     "duration": 0.05914,
     "end_time": "2021-07-16T04:15:31.849509",
     "exception": false,
     "start_time": "2021-07-16T04:15:31.790369",
     "status": "completed"
    },
    "tags": []
   },
   "source": [
    "### Numerical Imputing\n",
    "\n",
    "We'll impute with median since the distributions are probably very skewed.\n"
   ]
  },
  {
   "cell_type": "code",
   "execution_count": 21,
   "metadata": {
    "execution": {
     "iopub.execute_input": "2021-07-16T04:15:31.969400Z",
     "iopub.status.busy": "2021-07-16T04:15:31.968718Z",
     "iopub.status.idle": "2021-07-16T04:15:31.973489Z",
     "shell.execute_reply": "2021-07-16T04:15:31.972940Z",
     "shell.execute_reply.started": "2021-07-16T03:53:39.766658Z"
    },
    "papermill": {
     "duration": 0.065522,
     "end_time": "2021-07-16T04:15:31.973634",
     "exception": false,
     "start_time": "2021-07-16T04:15:31.908112",
     "status": "completed"
    },
    "tags": []
   },
   "outputs": [],
   "source": [
    "#we should convert num_train and num_test to a list to make it easier to work with\n",
    "numerical_values_train = list(num_train.index)\n",
    "numerical_values_test = list(num_test.index)"
   ]
  },
  {
   "cell_type": "code",
   "execution_count": 22,
   "metadata": {
    "execution": {
     "iopub.execute_input": "2021-07-16T04:15:32.098037Z",
     "iopub.status.busy": "2021-07-16T04:15:32.097355Z",
     "iopub.status.idle": "2021-07-16T04:15:32.103133Z",
     "shell.execute_reply": "2021-07-16T04:15:32.103616Z",
     "shell.execute_reply.started": "2021-07-16T04:10:02.893332Z"
    },
    "papermill": {
     "duration": 0.06957,
     "end_time": "2021-07-16T04:15:32.103808",
     "exception": false,
     "start_time": "2021-07-16T04:15:32.034238",
     "status": "completed"
    },
    "tags": []
   },
   "outputs": [
    {
     "name": "stdout",
     "output_type": "stream",
     "text": [
      "['Id', 'MSSubClass', 'LotArea', 'OverallQual', 'OverallCond', 'YearBuilt', 'YearRemodAdd', 'MasVnrArea', 'BsmtFinSF1', 'BsmtFinSF2', 'BsmtUnfSF', 'TotalBsmtSF', '1stFlrSF', '2ndFlrSF', 'LowQualFinSF', 'GrLivArea', 'BsmtFullBath', 'BsmtHalfBath', 'FullBath', 'HalfBath', 'BedroomAbvGr', 'KitchenAbvGr', 'TotRmsAbvGrd', 'Fireplaces', 'GarageYrBlt', 'GarageCars', 'GarageArea', 'WoodDeckSF', 'OpenPorchSF', 'EnclosedPorch', '3SsnPorch', 'ScreenPorch', 'PoolArea', 'MiscVal', 'MoSold', 'YrSold', 'SalePrice']\n"
     ]
    }
   ],
   "source": [
    "print(numerical_values_train)"
   ]
  },
  {
   "cell_type": "markdown",
   "metadata": {
    "papermill": {
     "duration": 0.059029,
     "end_time": "2021-07-16T04:15:32.223562",
     "exception": false,
     "start_time": "2021-07-16T04:15:32.164533",
     "status": "completed"
    },
    "tags": []
   },
   "source": [
    "These are all the numerical features in our data. "
   ]
  },
  {
   "cell_type": "code",
   "execution_count": 23,
   "metadata": {
    "execution": {
     "iopub.execute_input": "2021-07-16T04:15:32.346054Z",
     "iopub.status.busy": "2021-07-16T04:15:32.345075Z",
     "iopub.status.idle": "2021-07-16T04:15:32.351060Z",
     "shell.execute_reply": "2021-07-16T04:15:32.350534Z",
     "shell.execute_reply.started": "2021-07-16T04:10:12.095231Z"
    },
    "papermill": {
     "duration": 0.067895,
     "end_time": "2021-07-16T04:15:32.351246",
     "exception": false,
     "start_time": "2021-07-16T04:15:32.283351",
     "status": "completed"
    },
    "tags": []
   },
   "outputs": [],
   "source": [
    "fill_num = []\n",
    "\n",
    "for i in numerical_values_train:\n",
    "    if i in list(null_few.index):\n",
    "        fill_num.append(i)"
   ]
  },
  {
   "cell_type": "code",
   "execution_count": 24,
   "metadata": {
    "execution": {
     "iopub.execute_input": "2021-07-16T04:15:32.472950Z",
     "iopub.status.busy": "2021-07-16T04:15:32.472015Z",
     "iopub.status.idle": "2021-07-16T04:15:32.475280Z",
     "shell.execute_reply": "2021-07-16T04:15:32.475767Z",
     "shell.execute_reply.started": "2021-07-16T03:53:39.803599Z"
    },
    "papermill": {
     "duration": 0.066481,
     "end_time": "2021-07-16T04:15:32.475943",
     "exception": false,
     "start_time": "2021-07-16T04:15:32.409462",
     "status": "completed"
    },
    "tags": []
   },
   "outputs": [
    {
     "name": "stdout",
     "output_type": "stream",
     "text": [
      "['MasVnrArea', 'BsmtFinSF1', 'BsmtFinSF2', 'BsmtUnfSF', 'TotalBsmtSF', 'BsmtFullBath', 'BsmtHalfBath', 'GarageYrBlt', 'GarageCars', 'GarageArea']\n"
     ]
    }
   ],
   "source": [
    "print(fill_num)"
   ]
  },
  {
   "cell_type": "markdown",
   "metadata": {
    "papermill": {
     "duration": 0.05829,
     "end_time": "2021-07-16T04:15:32.592733",
     "exception": false,
     "start_time": "2021-07-16T04:15:32.534443",
     "status": "completed"
    },
    "tags": []
   },
   "source": [
    "These are the numerical features in the data that have missing values in them. We will impute these features with a for-loop below."
   ]
  },
  {
   "cell_type": "code",
   "execution_count": 25,
   "metadata": {
    "execution": {
     "iopub.execute_input": "2021-07-16T04:15:32.718322Z",
     "iopub.status.busy": "2021-07-16T04:15:32.717207Z",
     "iopub.status.idle": "2021-07-16T04:15:32.725314Z",
     "shell.execute_reply": "2021-07-16T04:15:32.725842Z",
     "shell.execute_reply.started": "2021-07-16T03:53:39.816895Z"
    },
    "papermill": {
     "duration": 0.074583,
     "end_time": "2021-07-16T04:15:32.726024",
     "exception": false,
     "start_time": "2021-07-16T04:15:32.651441",
     "status": "completed"
    },
    "tags": []
   },
   "outputs": [],
   "source": [
    "for i in fill_num:\n",
    "    training[i].fillna(training[i].median(), inplace=True)\n",
    "    testing[i].fillna(testing[i].median(), inplace=True)"
   ]
  },
  {
   "cell_type": "markdown",
   "metadata": {
    "papermill": {
     "duration": 0.059185,
     "end_time": "2021-07-16T04:15:32.844061",
     "exception": false,
     "start_time": "2021-07-16T04:15:32.784876",
     "status": "completed"
    },
    "tags": []
   },
   "source": [
    "### Categorical Imputing\n",
    "\n",
    "Since these are categorical values, we can't impute with median or mean. We can, however, use mode. We'll impute with the most common term that appears in the entire list.\n"
   ]
  },
  {
   "cell_type": "code",
   "execution_count": 26,
   "metadata": {
    "execution": {
     "iopub.execute_input": "2021-07-16T04:15:32.966131Z",
     "iopub.status.busy": "2021-07-16T04:15:32.965461Z",
     "iopub.status.idle": "2021-07-16T04:15:32.969159Z",
     "shell.execute_reply": "2021-07-16T04:15:32.969649Z",
     "shell.execute_reply.started": "2021-07-16T03:53:39.834332Z"
    },
    "papermill": {
     "duration": 0.066707,
     "end_time": "2021-07-16T04:15:32.969849",
     "exception": false,
     "start_time": "2021-07-16T04:15:32.903142",
     "status": "completed"
    },
    "tags": []
   },
   "outputs": [],
   "source": [
    "categorical_values_train = list(cat_train.index)\n",
    "categorical_values_test = list(cat_test.index)"
   ]
  },
  {
   "cell_type": "code",
   "execution_count": 27,
   "metadata": {
    "execution": {
     "iopub.execute_input": "2021-07-16T04:15:33.092124Z",
     "iopub.status.busy": "2021-07-16T04:15:33.091474Z",
     "iopub.status.idle": "2021-07-16T04:15:33.096388Z",
     "shell.execute_reply": "2021-07-16T04:15:33.097090Z",
     "shell.execute_reply.started": "2021-07-16T03:53:39.844164Z"
    },
    "papermill": {
     "duration": 0.06857,
     "end_time": "2021-07-16T04:15:33.097358",
     "exception": false,
     "start_time": "2021-07-16T04:15:33.028788",
     "status": "completed"
    },
    "tags": []
   },
   "outputs": [
    {
     "name": "stdout",
     "output_type": "stream",
     "text": [
      "['MSZoning', 'Street', 'Alley', 'LotShape', 'LandContour', 'Utilities', 'LotConfig', 'LandSlope', 'Neighborhood', 'Condition1', 'Condition2', 'BldgType', 'HouseStyle', 'RoofStyle', 'RoofMatl', 'Exterior1st', 'Exterior2nd', 'MasVnrType', 'ExterQual', 'ExterCond', 'Foundation', 'BsmtQual', 'BsmtCond', 'BsmtExposure', 'BsmtFinType1', 'BsmtFinType2', 'Heating', 'HeatingQC', 'CentralAir', 'Electrical', 'KitchenQual', 'Functional', 'FireplaceQu', 'GarageType', 'GarageFinish', 'GarageQual', 'GarageCond', 'PavedDrive', 'PoolQC', 'Fence', 'MiscFeature', 'SaleType', 'SaleCondition']\n"
     ]
    }
   ],
   "source": [
    "print(categorical_values_train) "
   ]
  },
  {
   "cell_type": "markdown",
   "metadata": {
    "papermill": {
     "duration": 0.058765,
     "end_time": "2021-07-16T04:15:33.216383",
     "exception": false,
     "start_time": "2021-07-16T04:15:33.157618",
     "status": "completed"
    },
    "tags": []
   },
   "source": [
    "These are all the categorical features in our data "
   ]
  },
  {
   "cell_type": "code",
   "execution_count": 28,
   "metadata": {
    "execution": {
     "iopub.execute_input": "2021-07-16T04:15:33.341044Z",
     "iopub.status.busy": "2021-07-16T04:15:33.340416Z",
     "iopub.status.idle": "2021-07-16T04:15:33.343467Z",
     "shell.execute_reply": "2021-07-16T04:15:33.342963Z",
     "shell.execute_reply.started": "2021-07-16T03:53:39.858534Z"
    },
    "papermill": {
     "duration": 0.067659,
     "end_time": "2021-07-16T04:15:33.343624",
     "exception": false,
     "start_time": "2021-07-16T04:15:33.275965",
     "status": "completed"
    },
    "tags": []
   },
   "outputs": [],
   "source": [
    "fill_cat = []\n",
    "\n",
    "for i in categorical_values_train:\n",
    "    if i in list(null_few.index):\n",
    "        fill_cat.append(i)"
   ]
  },
  {
   "cell_type": "code",
   "execution_count": 29,
   "metadata": {
    "execution": {
     "iopub.execute_input": "2021-07-16T04:15:33.469446Z",
     "iopub.status.busy": "2021-07-16T04:15:33.468500Z",
     "iopub.status.idle": "2021-07-16T04:15:33.471723Z",
     "shell.execute_reply": "2021-07-16T04:15:33.472239Z",
     "shell.execute_reply.started": "2021-07-16T03:53:39.867919Z"
    },
    "papermill": {
     "duration": 0.067629,
     "end_time": "2021-07-16T04:15:33.472425",
     "exception": false,
     "start_time": "2021-07-16T04:15:33.404796",
     "status": "completed"
    },
    "tags": []
   },
   "outputs": [
    {
     "name": "stdout",
     "output_type": "stream",
     "text": [
      "['MSZoning', 'Utilities', 'Exterior1st', 'Exterior2nd', 'MasVnrType', 'Electrical', 'KitchenQual', 'Functional', 'SaleType']\n"
     ]
    }
   ],
   "source": [
    "print(fill_cat) "
   ]
  },
  {
   "cell_type": "markdown",
   "metadata": {
    "papermill": {
     "duration": 0.059396,
     "end_time": "2021-07-16T04:15:33.592451",
     "exception": false,
     "start_time": "2021-07-16T04:15:33.533055",
     "status": "completed"
    },
    "tags": []
   },
   "source": [
    "These are the categorical features in the data that have missing values in them. We'll impute with the most common term below. "
   ]
  },
  {
   "cell_type": "code",
   "execution_count": 30,
   "metadata": {
    "execution": {
     "iopub.execute_input": "2021-07-16T04:15:33.724209Z",
     "iopub.status.busy": "2021-07-16T04:15:33.723324Z",
     "iopub.status.idle": "2021-07-16T04:15:33.726111Z",
     "shell.execute_reply": "2021-07-16T04:15:33.725626Z",
     "shell.execute_reply.started": "2021-07-16T03:53:39.881342Z"
    },
    "papermill": {
     "duration": 0.074147,
     "end_time": "2021-07-16T04:15:33.726281",
     "exception": false,
     "start_time": "2021-07-16T04:15:33.652134",
     "status": "completed"
    },
    "tags": []
   },
   "outputs": [],
   "source": [
    "def most_common_term(lst):\n",
    "    lst = list(lst)\n",
    "    return max(set(lst), key=lst.count)\n",
    "#most_common_term finds the most common term in a series\n",
    "\n",
    "most_common = [\"Electrical\", \"Exterior1st\", \"Exterior2nd\", \"Functional\", \"KitchenQual\", \"MSZoning\", \"SaleType\", \"Utilities\", \"MasVnrType\"]\n",
    "\n",
    "counter = 0\n",
    "for i in fill_cat:\n",
    "    most_common[counter] = most_common_term(training[i])\n",
    "    counter += 1"
   ]
  },
  {
   "cell_type": "code",
   "execution_count": 31,
   "metadata": {
    "execution": {
     "iopub.execute_input": "2021-07-16T04:15:33.854985Z",
     "iopub.status.busy": "2021-07-16T04:15:33.854307Z",
     "iopub.status.idle": "2021-07-16T04:15:33.858805Z",
     "shell.execute_reply": "2021-07-16T04:15:33.858160Z",
     "shell.execute_reply.started": "2021-07-16T03:53:39.897479Z"
    },
    "papermill": {
     "duration": 0.07267,
     "end_time": "2021-07-16T04:15:33.858963",
     "exception": false,
     "start_time": "2021-07-16T04:15:33.786293",
     "status": "completed"
    },
    "tags": []
   },
   "outputs": [
    {
     "data": {
      "text/plain": [
       "{'MSZoning': ['RL'],\n",
       " 'Utilities': ['AllPub'],\n",
       " 'Exterior1st': ['VinylSd'],\n",
       " 'Exterior2nd': ['VinylSd'],\n",
       " 'MasVnrType': ['None'],\n",
       " 'Electrical': ['SBrkr'],\n",
       " 'KitchenQual': ['TA'],\n",
       " 'Functional': ['Typ'],\n",
       " 'SaleType': ['WD']}"
      ]
     },
     "execution_count": 31,
     "metadata": {},
     "output_type": "execute_result"
    }
   ],
   "source": [
    "most_common_dictionary = {fill_cat[0]: [most_common[0]], fill_cat[1]: [most_common[1]], fill_cat[2]: [most_common[2]], fill_cat[3]: [most_common[3]],\n",
    "                          fill_cat[4]: [most_common[4]], fill_cat[5]: [most_common[5]], fill_cat[6]: [most_common[6]], fill_cat[7]: [most_common[7]],\n",
    "                          fill_cat[8]: [most_common[8]]}\n",
    "most_common_dictionary"
   ]
  },
  {
   "cell_type": "markdown",
   "metadata": {
    "papermill": {
     "duration": 0.059431,
     "end_time": "2021-07-16T04:15:33.978862",
     "exception": false,
     "start_time": "2021-07-16T04:15:33.919431",
     "status": "completed"
    },
    "tags": []
   },
   "source": [
    "This shows the most common term for each of the categorical features that we're working with. We'll replace the null values with these."
   ]
  },
  {
   "cell_type": "code",
   "execution_count": 32,
   "metadata": {
    "execution": {
     "iopub.execute_input": "2021-07-16T04:15:34.114296Z",
     "iopub.status.busy": "2021-07-16T04:15:34.110428Z",
     "iopub.status.idle": "2021-07-16T04:15:34.117451Z",
     "shell.execute_reply": "2021-07-16T04:15:34.116796Z",
     "shell.execute_reply.started": "2021-07-16T03:53:39.921865Z"
    },
    "papermill": {
     "duration": 0.078661,
     "end_time": "2021-07-16T04:15:34.117597",
     "exception": false,
     "start_time": "2021-07-16T04:15:34.038936",
     "status": "completed"
    },
    "tags": []
   },
   "outputs": [],
   "source": [
    "counter = 0\n",
    "for i in fill_cat:  \n",
    "    training[i].fillna(most_common[counter], inplace=True)\n",
    "    testing[i].fillna(most_common[counter], inplace=True)\n",
    "    counter += 1"
   ]
  },
  {
   "cell_type": "markdown",
   "metadata": {
    "papermill": {
     "duration": 0.060111,
     "end_time": "2021-07-16T04:15:34.238602",
     "exception": false,
     "start_time": "2021-07-16T04:15:34.178491",
     "status": "completed"
    },
    "tags": []
   },
   "source": [
    "Good! That should take care of the last couple of missing values. Let's check our work by looking at how many null values remain. If we are successful, the code below should print an empty table."
   ]
  },
  {
   "cell_type": "code",
   "execution_count": 33,
   "metadata": {
    "execution": {
     "iopub.execute_input": "2021-07-16T04:15:34.373309Z",
     "iopub.status.busy": "2021-07-16T04:15:34.372234Z",
     "iopub.status.idle": "2021-07-16T04:15:34.392395Z",
     "shell.execute_reply": "2021-07-16T04:15:34.391747Z",
     "shell.execute_reply.started": "2021-07-16T03:53:39.938665Z"
    },
    "papermill": {
     "duration": 0.092946,
     "end_time": "2021-07-16T04:15:34.392549",
     "exception": false,
     "start_time": "2021-07-16T04:15:34.299603",
     "status": "completed"
    },
    "tags": []
   },
   "outputs": [
    {
     "data": {
      "text/html": [
       "<div>\n",
       "<style scoped>\n",
       "    .dataframe tbody tr th:only-of-type {\n",
       "        vertical-align: middle;\n",
       "    }\n",
       "\n",
       "    .dataframe tbody tr th {\n",
       "        vertical-align: top;\n",
       "    }\n",
       "\n",
       "    .dataframe thead th {\n",
       "        text-align: right;\n",
       "    }\n",
       "</style>\n",
       "<table border=\"1\" class=\"dataframe\">\n",
       "  <thead>\n",
       "    <tr style=\"text-align: right;\">\n",
       "      <th></th>\n",
       "      <th>Training</th>\n",
       "      <th>Testing</th>\n",
       "    </tr>\n",
       "  </thead>\n",
       "  <tbody>\n",
       "  </tbody>\n",
       "</table>\n",
       "</div>"
      ],
      "text/plain": [
       "Empty DataFrame\n",
       "Columns: [Training, Testing]\n",
       "Index: []"
      ]
     },
     "execution_count": 33,
     "metadata": {},
     "output_type": "execute_result"
    }
   ],
   "source": [
    "training_null = pd.isnull(training).sum()\n",
    "testing_null = pd.isnull(testing).sum()\n",
    "\n",
    "null = pd.concat([training_null, testing_null], axis=1, keys=[\"Training\", \"Testing\"])\n",
    "null[null.sum(axis=1) > 0]"
   ]
  },
  {
   "cell_type": "markdown",
   "metadata": {
    "papermill": {
     "duration": 0.060028,
     "end_time": "2021-07-16T04:15:34.512955",
     "exception": false,
     "start_time": "2021-07-16T04:15:34.452927",
     "status": "completed"
    },
    "tags": []
   },
   "source": [
    "## 4. Feature Engineering"
   ]
  },
  {
   "cell_type": "code",
   "execution_count": 34,
   "metadata": {
    "execution": {
     "iopub.execute_input": "2021-07-16T04:15:34.653316Z",
     "iopub.status.busy": "2021-07-16T04:15:34.645116Z",
     "iopub.status.idle": "2021-07-16T04:15:34.987449Z",
     "shell.execute_reply": "2021-07-16T04:15:34.987906Z",
     "shell.execute_reply.started": "2021-07-16T03:53:39.975081Z"
    },
    "papermill": {
     "duration": 0.41462,
     "end_time": "2021-07-16T04:15:34.988084",
     "exception": false,
     "start_time": "2021-07-16T04:15:34.573464",
     "status": "completed"
    },
    "tags": []
   },
   "outputs": [
    {
     "data": {
      "text/plain": [
       "<AxesSubplot:xlabel='SalePrice', ylabel='Density'>"
      ]
     },
     "execution_count": 34,
     "metadata": {},
     "output_type": "execute_result"
    },
    {
     "data": {
      "image/png": "[encoded data removed]",
      "text/plain": [
       "<Figure size 432x288 with 1 Axes>"
      ]
     },
     "metadata": {},
     "output_type": "display_data"
    }
   ],
   "source": [
    "sns.distplot(training[\"SalePrice\"])"
   ]
  },
  {
   "cell_type": "code",
   "execution_count": 35,
   "metadata": {
    "execution": {
     "iopub.execute_input": "2021-07-16T04:15:35.132474Z",
     "iopub.status.busy": "2021-07-16T04:15:35.117570Z",
     "iopub.status.idle": "2021-07-16T04:15:35.418712Z",
     "shell.execute_reply": "2021-07-16T04:15:35.418063Z",
     "shell.execute_reply.started": "2021-07-16T03:53:40.356109Z"
    },
    "papermill": {
     "duration": 0.368648,
     "end_time": "2021-07-16T04:15:35.418868",
     "exception": false,
     "start_time": "2021-07-16T04:15:35.050220",
     "status": "completed"
    },
    "tags": []
   },
   "outputs": [
    {
     "data": {
      "text/plain": [
       "<AxesSubplot:xlabel='SalePrice', ylabel='Density'>"
      ]
     },
     "execution_count": 35,
     "metadata": {},
     "output_type": "execute_result"
    },
    {
     "data": {
      "image/png": "[encoded data removed]",
      "text/plain": [
       "<Figure size 432x288 with 1 Axes>"
      ]
     },
     "metadata": {},
     "output_type": "display_data"
    }
   ],
   "source": [
    "sns.distplot(np.log(training[\"SalePrice\"]))"
   ]
  },
  {
   "cell_type": "code",
   "execution_count": 36,
   "metadata": {
    "execution": {
     "iopub.execute_input": "2021-07-16T04:15:35.551078Z",
     "iopub.status.busy": "2021-07-16T04:15:35.550109Z",
     "iopub.status.idle": "2021-07-16T04:15:35.553315Z",
     "shell.execute_reply": "2021-07-16T04:15:35.552763Z",
     "shell.execute_reply.started": "2021-07-16T03:53:40.684040Z"
    },
    "papermill": {
     "duration": 0.07193,
     "end_time": "2021-07-16T04:15:35.553460",
     "exception": false,
     "start_time": "2021-07-16T04:15:35.481530",
     "status": "completed"
    },
    "tags": []
   },
   "outputs": [],
   "source": [
    "training[\"TransformedPrice\"] = np.log(training[\"SalePrice\"])"
   ]
  },
  {
   "cell_type": "code",
   "execution_count": 37,
   "metadata": {
    "execution": {
     "iopub.execute_input": "2021-07-16T04:15:35.683281Z",
     "iopub.status.busy": "2021-07-16T04:15:35.682626Z",
     "iopub.status.idle": "2021-07-16T04:15:35.685673Z",
     "shell.execute_reply": "2021-07-16T04:15:35.685047Z",
     "shell.execute_reply.started": "2021-07-16T03:53:40.692055Z"
    },
    "papermill": {
     "duration": 0.069991,
     "end_time": "2021-07-16T04:15:35.685813",
     "exception": false,
     "start_time": "2021-07-16T04:15:35.615822",
     "status": "completed"
    },
    "tags": []
   },
   "outputs": [],
   "source": [
    "categorical_values_train = list(cat_train.index)\n",
    "categorical_values_test = list(cat_test.index)"
   ]
  },
  {
   "cell_type": "code",
   "execution_count": 38,
   "metadata": {
    "execution": {
     "iopub.execute_input": "2021-07-16T04:15:35.815465Z",
     "iopub.status.busy": "2021-07-16T04:15:35.814706Z",
     "iopub.status.idle": "2021-07-16T04:15:35.819524Z",
     "shell.execute_reply": "2021-07-16T04:15:35.820027Z",
     "shell.execute_reply.started": "2021-07-16T03:53:40.704436Z"
    },
    "papermill": {
     "duration": 0.071727,
     "end_time": "2021-07-16T04:15:35.820235",
     "exception": false,
     "start_time": "2021-07-16T04:15:35.748508",
     "status": "completed"
    },
    "tags": []
   },
   "outputs": [
    {
     "name": "stdout",
     "output_type": "stream",
     "text": [
      "['MSZoning', 'Street', 'Alley', 'LotShape', 'LandContour', 'Utilities', 'LotConfig', 'LandSlope', 'Neighborhood', 'Condition1', 'Condition2', 'BldgType', 'HouseStyle', 'RoofStyle', 'RoofMatl', 'Exterior1st', 'Exterior2nd', 'MasVnrType', 'ExterQual', 'ExterCond', 'Foundation', 'BsmtQual', 'BsmtCond', 'BsmtExposure', 'BsmtFinType1', 'BsmtFinType2', 'Heating', 'HeatingQC', 'CentralAir', 'Electrical', 'KitchenQual', 'Functional', 'FireplaceQu', 'GarageType', 'GarageFinish', 'GarageQual', 'GarageCond', 'PavedDrive', 'PoolQC', 'Fence', 'MiscFeature', 'SaleType', 'SaleCondition']\n"
     ]
    }
   ],
   "source": [
    "print(categorical_values_train)"
   ]
  },
  {
   "cell_type": "code",
   "execution_count": 39,
   "metadata": {
    "execution": {
     "iopub.execute_input": "2021-07-16T04:15:35.993792Z",
     "iopub.status.busy": "2021-07-16T04:15:35.978468Z",
     "iopub.status.idle": "2021-07-16T04:15:36.352873Z",
     "shell.execute_reply": "2021-07-16T04:15:36.352174Z",
     "shell.execute_reply.started": "2021-07-16T03:53:40.715930Z"
    },
    "papermill": {
     "duration": 0.469446,
     "end_time": "2021-07-16T04:15:36.353021",
     "exception": false,
     "start_time": "2021-07-16T04:15:35.883575",
     "status": "completed"
    },
    "tags": []
   },
   "outputs": [],
   "source": [
    "for i in categorical_values_train:\n",
    "    feature_set = set(training[i])\n",
    "    for j in feature_set:\n",
    "        feature_list = list(feature_set)\n",
    "        training.loc[training[i] == j, i] = feature_list.index(j)\n",
    "\n",
    "for i in categorical_values_test:\n",
    "    feature_set2 = set(testing[i])\n",
    "    for j in feature_set2:\n",
    "        feature_list2 = list(feature_set2)\n",
    "        testing.loc[testing[i] == j, i] = feature_list2.index(j)"
   ]
  },
  {
   "cell_type": "code",
   "execution_count": 40,
   "metadata": {
    "execution": {
     "iopub.execute_input": "2021-07-16T04:15:36.509431Z",
     "iopub.status.busy": "2021-07-16T04:15:36.500488Z",
     "iopub.status.idle": "2021-07-16T04:15:36.515106Z",
     "shell.execute_reply": "2021-07-16T04:15:36.514520Z",
     "shell.execute_reply.started": "2021-07-16T03:53:41.148173Z"
    },
    "papermill": {
     "duration": 0.09824,
     "end_time": "2021-07-16T04:15:36.515283",
     "exception": false,
     "start_time": "2021-07-16T04:15:36.417043",
     "status": "completed"
    },
    "tags": []
   },
   "outputs": [
    {
     "data": {
      "text/html": [
       "<div>\n",
       "<style scoped>\n",
       "    .dataframe tbody tr th:only-of-type {\n",
       "        vertical-align: middle;\n",
       "    }\n",
       "\n",
       "    .dataframe tbody tr th {\n",
       "        vertical-align: top;\n",
       "    }\n",
       "\n",
       "    .dataframe thead th {\n",
       "        text-align: right;\n",
       "    }\n",
       "</style>\n",
       "<table border=\"1\" class=\"dataframe\">\n",
       "  <thead>\n",
       "    <tr style=\"text-align: right;\">\n",
       "      <th></th>\n",
       "      <th>Id</th>\n",
       "      <th>MSSubClass</th>\n",
       "      <th>MSZoning</th>\n",
       "      <th>LotArea</th>\n",
       "      <th>Street</th>\n",
       "      <th>Alley</th>\n",
       "      <th>LotShape</th>\n",
       "      <th>LandContour</th>\n",
       "      <th>Utilities</th>\n",
       "      <th>LotConfig</th>\n",
       "      <th>...</th>\n",
       "      <th>PoolQC</th>\n",
       "      <th>Fence</th>\n",
       "      <th>MiscFeature</th>\n",
       "      <th>MiscVal</th>\n",
       "      <th>MoSold</th>\n",
       "      <th>YrSold</th>\n",
       "      <th>SaleType</th>\n",
       "      <th>SaleCondition</th>\n",
       "      <th>SalePrice</th>\n",
       "      <th>TransformedPrice</th>\n",
       "    </tr>\n",
       "  </thead>\n",
       "  <tbody>\n",
       "    <tr>\n",
       "      <th>0</th>\n",
       "      <td>1</td>\n",
       "      <td>60</td>\n",
       "      <td>1</td>\n",
       "      <td>8450</td>\n",
       "      <td>1</td>\n",
       "      <td>2</td>\n",
       "      <td>1</td>\n",
       "      <td>3</td>\n",
       "      <td>0</td>\n",
       "      <td>0</td>\n",
       "      <td>...</td>\n",
       "      <td>1</td>\n",
       "      <td>2</td>\n",
       "      <td>2</td>\n",
       "      <td>0</td>\n",
       "      <td>2</td>\n",
       "      <td>2008</td>\n",
       "      <td>4</td>\n",
       "      <td>0</td>\n",
       "      <td>208500</td>\n",
       "      <td>12.247694</td>\n",
       "    </tr>\n",
       "    <tr>\n",
       "      <th>1</th>\n",
       "      <td>2</td>\n",
       "      <td>20</td>\n",
       "      <td>1</td>\n",
       "      <td>9600</td>\n",
       "      <td>1</td>\n",
       "      <td>2</td>\n",
       "      <td>1</td>\n",
       "      <td>3</td>\n",
       "      <td>0</td>\n",
       "      <td>3</td>\n",
       "      <td>...</td>\n",
       "      <td>1</td>\n",
       "      <td>2</td>\n",
       "      <td>2</td>\n",
       "      <td>0</td>\n",
       "      <td>5</td>\n",
       "      <td>2007</td>\n",
       "      <td>4</td>\n",
       "      <td>0</td>\n",
       "      <td>181500</td>\n",
       "      <td>12.109011</td>\n",
       "    </tr>\n",
       "    <tr>\n",
       "      <th>2</th>\n",
       "      <td>3</td>\n",
       "      <td>60</td>\n",
       "      <td>1</td>\n",
       "      <td>11250</td>\n",
       "      <td>1</td>\n",
       "      <td>2</td>\n",
       "      <td>0</td>\n",
       "      <td>3</td>\n",
       "      <td>0</td>\n",
       "      <td>0</td>\n",
       "      <td>...</td>\n",
       "      <td>1</td>\n",
       "      <td>2</td>\n",
       "      <td>2</td>\n",
       "      <td>0</td>\n",
       "      <td>9</td>\n",
       "      <td>2008</td>\n",
       "      <td>4</td>\n",
       "      <td>0</td>\n",
       "      <td>223500</td>\n",
       "      <td>12.317167</td>\n",
       "    </tr>\n",
       "    <tr>\n",
       "      <th>3</th>\n",
       "      <td>4</td>\n",
       "      <td>70</td>\n",
       "      <td>1</td>\n",
       "      <td>9550</td>\n",
       "      <td>1</td>\n",
       "      <td>2</td>\n",
       "      <td>0</td>\n",
       "      <td>3</td>\n",
       "      <td>0</td>\n",
       "      <td>4</td>\n",
       "      <td>...</td>\n",
       "      <td>1</td>\n",
       "      <td>2</td>\n",
       "      <td>2</td>\n",
       "      <td>0</td>\n",
       "      <td>2</td>\n",
       "      <td>2006</td>\n",
       "      <td>4</td>\n",
       "      <td>5</td>\n",
       "      <td>140000</td>\n",
       "      <td>11.849398</td>\n",
       "    </tr>\n",
       "    <tr>\n",
       "      <th>4</th>\n",
       "      <td>5</td>\n",
       "      <td>60</td>\n",
       "      <td>1</td>\n",
       "      <td>14260</td>\n",
       "      <td>1</td>\n",
       "      <td>2</td>\n",
       "      <td>0</td>\n",
       "      <td>3</td>\n",
       "      <td>0</td>\n",
       "      <td>3</td>\n",
       "      <td>...</td>\n",
       "      <td>1</td>\n",
       "      <td>2</td>\n",
       "      <td>2</td>\n",
       "      <td>0</td>\n",
       "      <td>12</td>\n",
       "      <td>2008</td>\n",
       "      <td>4</td>\n",
       "      <td>0</td>\n",
       "      <td>250000</td>\n",
       "      <td>12.429216</td>\n",
       "    </tr>\n",
       "  </tbody>\n",
       "</table>\n",
       "<p>5 rows × 81 columns</p>\n",
       "</div>"
      ],
      "text/plain": [
       "   Id  MSSubClass MSZoning  LotArea Street Alley LotShape LandContour  \\\n",
       "0   1          60        1     8450      1     2        1           3   \n",
       "1   2          20        1     9600      1     2        1           3   \n",
       "2   3          60        1    11250      1     2        0           3   \n",
       "3   4          70        1     9550      1     2        0           3   \n",
       "4   5          60        1    14260      1     2        0           3   \n",
       "\n",
       "  Utilities LotConfig  ... PoolQC Fence MiscFeature MiscVal MoSold YrSold  \\\n",
       "0         0         0  ...      1     2           2       0      2   2008   \n",
       "1         0         3  ...      1     2           2       0      5   2007   \n",
       "2         0         0  ...      1     2           2       0      9   2008   \n",
       "3         0         4  ...      1     2           2       0      2   2006   \n",
       "4         0         3  ...      1     2           2       0     12   2008   \n",
       "\n",
       "   SaleType  SaleCondition  SalePrice  TransformedPrice  \n",
       "0         4              0     208500         12.247694  \n",
       "1         4              0     181500         12.109011  \n",
       "2         4              0     223500         12.317167  \n",
       "3         4              5     140000         11.849398  \n",
       "4         4              0     250000         12.429216  \n",
       "\n",
       "[5 rows x 81 columns]"
      ]
     },
     "execution_count": 40,
     "metadata": {},
     "output_type": "execute_result"
    }
   ],
   "source": [
    "training.head()"
   ]
  },
  {
   "cell_type": "code",
   "execution_count": 41,
   "metadata": {
    "execution": {
     "iopub.execute_input": "2021-07-16T04:15:36.672810Z",
     "iopub.status.busy": "2021-07-16T04:15:36.672106Z",
     "iopub.status.idle": "2021-07-16T04:15:36.677122Z",
     "shell.execute_reply": "2021-07-16T04:15:36.676480Z",
     "shell.execute_reply.started": "2021-07-16T03:53:41.179520Z"
    },
    "papermill": {
     "duration": 0.097929,
     "end_time": "2021-07-16T04:15:36.677294",
     "exception": false,
     "start_time": "2021-07-16T04:15:36.579365",
     "status": "completed"
    },
    "tags": []
   },
   "outputs": [
    {
     "data": {
      "text/html": [
       "<div>\n",
       "<style scoped>\n",
       "    .dataframe tbody tr th:only-of-type {\n",
       "        vertical-align: middle;\n",
       "    }\n",
       "\n",
       "    .dataframe tbody tr th {\n",
       "        vertical-align: top;\n",
       "    }\n",
       "\n",
       "    .dataframe thead th {\n",
       "        text-align: right;\n",
       "    }\n",
       "</style>\n",
       "<table border=\"1\" class=\"dataframe\">\n",
       "  <thead>\n",
       "    <tr style=\"text-align: right;\">\n",
       "      <th></th>\n",
       "      <th>Id</th>\n",
       "      <th>MSSubClass</th>\n",
       "      <th>MSZoning</th>\n",
       "      <th>LotArea</th>\n",
       "      <th>Street</th>\n",
       "      <th>Alley</th>\n",
       "      <th>LotShape</th>\n",
       "      <th>LandContour</th>\n",
       "      <th>Utilities</th>\n",
       "      <th>LotConfig</th>\n",
       "      <th>...</th>\n",
       "      <th>ScreenPorch</th>\n",
       "      <th>PoolArea</th>\n",
       "      <th>PoolQC</th>\n",
       "      <th>Fence</th>\n",
       "      <th>MiscFeature</th>\n",
       "      <th>MiscVal</th>\n",
       "      <th>MoSold</th>\n",
       "      <th>YrSold</th>\n",
       "      <th>SaleType</th>\n",
       "      <th>SaleCondition</th>\n",
       "    </tr>\n",
       "  </thead>\n",
       "  <tbody>\n",
       "    <tr>\n",
       "      <th>0</th>\n",
       "      <td>1461</td>\n",
       "      <td>20</td>\n",
       "      <td>4</td>\n",
       "      <td>11622</td>\n",
       "      <td>1</td>\n",
       "      <td>2</td>\n",
       "      <td>1</td>\n",
       "      <td>3</td>\n",
       "      <td>0</td>\n",
       "      <td>0</td>\n",
       "      <td>...</td>\n",
       "      <td>120</td>\n",
       "      <td>0</td>\n",
       "      <td>0</td>\n",
       "      <td>0</td>\n",
       "      <td>1</td>\n",
       "      <td>0</td>\n",
       "      <td>6</td>\n",
       "      <td>2010</td>\n",
       "      <td>4</td>\n",
       "      <td>0</td>\n",
       "    </tr>\n",
       "    <tr>\n",
       "      <th>1</th>\n",
       "      <td>1462</td>\n",
       "      <td>20</td>\n",
       "      <td>1</td>\n",
       "      <td>14267</td>\n",
       "      <td>1</td>\n",
       "      <td>2</td>\n",
       "      <td>0</td>\n",
       "      <td>3</td>\n",
       "      <td>0</td>\n",
       "      <td>4</td>\n",
       "      <td>...</td>\n",
       "      <td>0</td>\n",
       "      <td>0</td>\n",
       "      <td>0</td>\n",
       "      <td>2</td>\n",
       "      <td>0</td>\n",
       "      <td>12500</td>\n",
       "      <td>6</td>\n",
       "      <td>2010</td>\n",
       "      <td>4</td>\n",
       "      <td>0</td>\n",
       "    </tr>\n",
       "    <tr>\n",
       "      <th>2</th>\n",
       "      <td>1463</td>\n",
       "      <td>60</td>\n",
       "      <td>1</td>\n",
       "      <td>13830</td>\n",
       "      <td>1</td>\n",
       "      <td>2</td>\n",
       "      <td>0</td>\n",
       "      <td>3</td>\n",
       "      <td>0</td>\n",
       "      <td>0</td>\n",
       "      <td>...</td>\n",
       "      <td>0</td>\n",
       "      <td>0</td>\n",
       "      <td>0</td>\n",
       "      <td>0</td>\n",
       "      <td>1</td>\n",
       "      <td>0</td>\n",
       "      <td>3</td>\n",
       "      <td>2010</td>\n",
       "      <td>4</td>\n",
       "      <td>0</td>\n",
       "    </tr>\n",
       "    <tr>\n",
       "      <th>3</th>\n",
       "      <td>1464</td>\n",
       "      <td>60</td>\n",
       "      <td>1</td>\n",
       "      <td>9978</td>\n",
       "      <td>1</td>\n",
       "      <td>2</td>\n",
       "      <td>0</td>\n",
       "      <td>3</td>\n",
       "      <td>0</td>\n",
       "      <td>0</td>\n",
       "      <td>...</td>\n",
       "      <td>0</td>\n",
       "      <td>0</td>\n",
       "      <td>0</td>\n",
       "      <td>2</td>\n",
       "      <td>1</td>\n",
       "      <td>0</td>\n",
       "      <td>6</td>\n",
       "      <td>2010</td>\n",
       "      <td>4</td>\n",
       "      <td>0</td>\n",
       "    </tr>\n",
       "    <tr>\n",
       "      <th>4</th>\n",
       "      <td>1465</td>\n",
       "      <td>120</td>\n",
       "      <td>1</td>\n",
       "      <td>5005</td>\n",
       "      <td>1</td>\n",
       "      <td>2</td>\n",
       "      <td>0</td>\n",
       "      <td>1</td>\n",
       "      <td>0</td>\n",
       "      <td>0</td>\n",
       "      <td>...</td>\n",
       "      <td>144</td>\n",
       "      <td>0</td>\n",
       "      <td>0</td>\n",
       "      <td>2</td>\n",
       "      <td>1</td>\n",
       "      <td>0</td>\n",
       "      <td>1</td>\n",
       "      <td>2010</td>\n",
       "      <td>4</td>\n",
       "      <td>0</td>\n",
       "    </tr>\n",
       "  </tbody>\n",
       "</table>\n",
       "<p>5 rows × 79 columns</p>\n",
       "</div>"
      ],
      "text/plain": [
       "     Id  MSSubClass MSZoning  LotArea Street Alley LotShape LandContour  \\\n",
       "0  1461          20        4    11622      1     2        1           3   \n",
       "1  1462          20        1    14267      1     2        0           3   \n",
       "2  1463          60        1    13830      1     2        0           3   \n",
       "3  1464          60        1     9978      1     2        0           3   \n",
       "4  1465         120        1     5005      1     2        0           1   \n",
       "\n",
       "  Utilities LotConfig  ... ScreenPorch PoolArea PoolQC Fence MiscFeature  \\\n",
       "0         0         0  ...         120        0      0     0           1   \n",
       "1         0         4  ...           0        0      0     2           0   \n",
       "2         0         0  ...           0        0      0     0           1   \n",
       "3         0         0  ...           0        0      0     2           1   \n",
       "4         0         0  ...         144        0      0     2           1   \n",
       "\n",
       "  MiscVal  MoSold  YrSold  SaleType  SaleCondition  \n",
       "0       0       6    2010         4              0  \n",
       "1   12500       6    2010         4              0  \n",
       "2       0       3    2010         4              0  \n",
       "3       0       6    2010         4              0  \n",
       "4       0       1    2010         4              0  \n",
       "\n",
       "[5 rows x 79 columns]"
      ]
     },
     "execution_count": 41,
     "metadata": {},
     "output_type": "execute_result"
    }
   ],
   "source": [
    "testing.head()"
   ]
  },
  {
   "cell_type": "markdown",
   "metadata": {
    "execution": {
     "iopub.execute_input": "2021-06-20T04:49:25.676903Z",
     "iopub.status.busy": "2021-06-20T04:49:25.676508Z",
     "iopub.status.idle": "2021-06-20T04:49:25.681394Z",
     "shell.execute_reply": "2021-06-20T04:49:25.680024Z",
     "shell.execute_reply.started": "2021-06-20T04:49:25.67687Z"
    },
    "papermill": {
     "duration": 0.069449,
     "end_time": "2021-07-16T04:15:36.811836",
     "exception": false,
     "start_time": "2021-07-16T04:15:36.742387",
     "status": "completed"
    },
    "tags": []
   },
   "source": [
    "## 5. Creating, Training, Evaluating, Validating, and Testing ML Models "
   ]
  },
  {
   "cell_type": "code",
   "execution_count": 42,
   "metadata": {
    "execution": {
     "iopub.execute_input": "2021-07-16T04:15:36.949003Z",
     "iopub.status.busy": "2021-07-16T04:15:36.948274Z",
     "iopub.status.idle": "2021-07-16T04:15:37.007027Z",
     "shell.execute_reply": "2021-07-16T04:15:37.007530Z",
     "shell.execute_reply.started": "2021-07-16T03:53:41.217272Z"
    },
    "papermill": {
     "duration": 0.131153,
     "end_time": "2021-07-16T04:15:37.007728",
     "exception": false,
     "start_time": "2021-07-16T04:15:36.876575",
     "status": "completed"
    },
    "tags": []
   },
   "outputs": [],
   "source": [
    "from sklearn.linear_model import LinearRegression\n",
    "from sklearn.linear_model import Lasso\n",
    "from sklearn.linear_model import Ridge\n",
    "from sklearn.tree import DecisionTreeRegressor\n",
    "from sklearn.ensemble import RandomForestRegressor\n",
    "from sklearn.metrics import r2_score, mean_squared_error\n",
    "from sklearn.model_selection import GridSearchCV\n",
    "#from sklearn.cross_validation import cross_val_score, KFold\n",
    "from sklearn.model_selection import KFold, cross_val_score "
   ]
  },
  {
   "cell_type": "code",
   "execution_count": 43,
   "metadata": {
    "execution": {
     "iopub.execute_input": "2021-07-16T04:15:37.141619Z",
     "iopub.status.busy": "2021-07-16T04:15:37.140647Z",
     "iopub.status.idle": "2021-07-16T04:15:37.157100Z",
     "shell.execute_reply": "2021-07-16T04:15:37.157633Z",
     "shell.execute_reply.started": "2021-07-16T03:53:41.284441Z"
    },
    "papermill": {
     "duration": 0.085478,
     "end_time": "2021-07-16T04:15:37.157813",
     "exception": false,
     "start_time": "2021-07-16T04:15:37.072335",
     "status": "completed"
    },
    "tags": []
   },
   "outputs": [],
   "source": [
    "X_train = training.drop([\"Id\", \"SalePrice\", \"TransformedPrice\"], axis=1).values\n",
    "y_train = training[\"TransformedPrice\"].values\n",
    "X_test = testing.drop(\"Id\", axis=1).values"
   ]
  },
  {
   "cell_type": "code",
   "execution_count": 44,
   "metadata": {
    "execution": {
     "iopub.execute_input": "2021-07-16T04:15:37.290640Z",
     "iopub.status.busy": "2021-07-16T04:15:37.289591Z",
     "iopub.status.idle": "2021-07-16T04:15:37.296734Z",
     "shell.execute_reply": "2021-07-16T04:15:37.297254Z",
     "shell.execute_reply.started": "2021-07-16T03:53:41.304987Z"
    },
    "papermill": {
     "duration": 0.0757,
     "end_time": "2021-07-16T04:15:37.297432",
     "exception": false,
     "start_time": "2021-07-16T04:15:37.221732",
     "status": "completed"
    },
    "tags": []
   },
   "outputs": [],
   "source": [
    "from sklearn.model_selection import train_test_split #to create validation data set\n",
    "\n",
    "X_training, X_valid, y_training, y_valid = train_test_split(X_train, y_train, test_size=0.2, random_state=0) #X_valid and y_valid are the validation sets"
   ]
  },
  {
   "cell_type": "code",
   "execution_count": 45,
   "metadata": {
    "execution": {
     "iopub.execute_input": "2021-07-16T04:15:37.429555Z",
     "iopub.status.busy": "2021-07-16T04:15:37.428551Z",
     "iopub.status.idle": "2021-07-16T04:15:38.581442Z",
     "shell.execute_reply": "2021-07-16T04:15:38.582430Z",
     "shell.execute_reply.started": "2021-07-16T03:53:41.314402Z"
    },
    "papermill": {
     "duration": 1.22141,
     "end_time": "2021-07-16T04:15:38.582716",
     "exception": false,
     "start_time": "2021-07-16T04:15:37.361306",
     "status": "completed"
    },
    "tags": []
   },
   "outputs": [
    {
     "name": "stdout",
     "output_type": "stream",
     "text": [
      "Fitting 5 folds for each of 8 candidates, totalling 40 fits\n"
     ]
    },
    {
     "name": "stderr",
     "output_type": "stream",
     "text": [
      "[Parallel(n_jobs=1)]: Using backend SequentialBackend with 1 concurrent workers.\n"
     ]
    },
    {
     "name": "stdout",
     "output_type": "stream",
     "text": [
      "Best LinReg Model: LinearRegression()\n",
      "Best Score: 0.8724616599592121\n"
     ]
    },
    {
     "name": "stderr",
     "output_type": "stream",
     "text": [
      "[Parallel(n_jobs=1)]: Done  40 out of  40 | elapsed:    1.1s finished\n"
     ]
    }
   ],
   "source": [
    "linreg = LinearRegression()\n",
    "parameters_lin = {\"fit_intercept\" : [True, False], \"normalize\" : [True, False], \"copy_X\" : [True, False]}\n",
    "grid_linreg = GridSearchCV(linreg, parameters_lin, verbose=1 , scoring = \"r2\")\n",
    "grid_linreg.fit(X_training, y_training)\n",
    "\n",
    "print(\"Best LinReg Model: \" + str(grid_linreg.best_estimator_))\n",
    "print(\"Best Score: \" + str(grid_linreg.best_score_))"
   ]
  },
  {
   "cell_type": "code",
   "execution_count": 46,
   "metadata": {
    "execution": {
     "iopub.execute_input": "2021-07-16T04:15:38.774609Z",
     "iopub.status.busy": "2021-07-16T04:15:38.773490Z",
     "iopub.status.idle": "2021-07-16T04:15:38.796449Z",
     "shell.execute_reply": "2021-07-16T04:15:38.797305Z",
     "shell.execute_reply.started": "2021-07-16T03:53:42.766055Z"
    },
    "papermill": {
     "duration": 0.105082,
     "end_time": "2021-07-16T04:15:38.797585",
     "exception": false,
     "start_time": "2021-07-16T04:15:38.692503",
     "status": "completed"
    },
    "tags": []
   },
   "outputs": [
    {
     "name": "stdout",
     "output_type": "stream",
     "text": [
      "R^2 Score: 0.7091128862053244\n",
      "RMSE Score: 0.20985772093289912\n"
     ]
    }
   ],
   "source": [
    "linreg = grid_linreg.best_estimator_\n",
    "linreg.fit(X_training, y_training)\n",
    "lin_pred = linreg.predict(X_valid)\n",
    "r2_lin = r2_score(y_valid, lin_pred)\n",
    "rmse_lin = np.sqrt(mean_squared_error(y_valid, lin_pred))\n",
    "print(\"R^2 Score: \" + str(r2_lin))\n",
    "print(\"RMSE Score: \" + str(rmse_lin))"
   ]
  },
  {
   "cell_type": "code",
   "execution_count": 47,
   "metadata": {
    "execution": {
     "iopub.execute_input": "2021-07-16T04:15:39.016719Z",
     "iopub.status.busy": "2021-07-16T04:15:39.008393Z",
     "iopub.status.idle": "2021-07-16T04:15:39.229044Z",
     "shell.execute_reply": "2021-07-16T04:15:39.230023Z",
     "shell.execute_reply.started": "2021-07-16T03:53:42.816108Z"
    },
    "papermill": {
     "duration": 0.294162,
     "end_time": "2021-07-16T04:15:39.230315",
     "exception": false,
     "start_time": "2021-07-16T04:15:38.936153",
     "status": "completed"
    },
    "tags": []
   },
   "outputs": [
    {
     "name": "stdout",
     "output_type": "stream",
     "text": [
      "Cross Validation Score: 0.8747958301653054\n"
     ]
    }
   ],
   "source": [
    "scores_lin = cross_val_score(linreg, X_training, y_training, cv=10, scoring=\"r2\")\n",
    "print(\"Cross Validation Score: \" + str(np.mean(scores_lin)))"
   ]
  },
  {
   "cell_type": "code",
   "execution_count": 48,
   "metadata": {
    "execution": {
     "iopub.execute_input": "2021-07-16T04:15:39.416217Z",
     "iopub.status.busy": "2021-07-16T04:15:39.415545Z",
     "iopub.status.idle": "2021-07-16T04:15:42.259395Z",
     "shell.execute_reply": "2021-07-16T04:15:42.260617Z",
     "shell.execute_reply.started": "2021-07-16T03:53:43.134929Z"
    },
    "papermill": {
     "duration": 2.918911,
     "end_time": "2021-07-16T04:15:42.260906",
     "exception": false,
     "start_time": "2021-07-16T04:15:39.341995",
     "status": "completed"
    },
    "tags": []
   },
   "outputs": [
    {
     "name": "stdout",
     "output_type": "stream",
     "text": [
      "Fitting 5 folds for each of 16 candidates, totalling 80 fits\n"
     ]
    },
    {
     "name": "stderr",
     "output_type": "stream",
     "text": [
      "[Parallel(n_jobs=1)]: Using backend SequentialBackend with 1 concurrent workers.\n"
     ]
    },
    {
     "name": "stdout",
     "output_type": "stream",
     "text": [
      "Best Lasso Model: Lasso(precompute=True)\n",
      "Best Score: 0.8030638481359469\n"
     ]
    },
    {
     "name": "stderr",
     "output_type": "stream",
     "text": [
      "[Parallel(n_jobs=1)]: Done  80 out of  80 | elapsed:    2.8s finished\n"
     ]
    }
   ],
   "source": [
    "lasso = Lasso()\n",
    "parameters_lasso = {\"fit_intercept\" : [True, False], \"normalize\" : [True, False], \"precompute\" : [True, False], \"copy_X\" : [True, False]}\n",
    "grid_lasso = GridSearchCV(lasso, parameters_lasso, verbose=1, scoring=\"r2\")\n",
    "grid_lasso.fit(X_training, y_training)\n",
    "\n",
    "print(\"Best Lasso Model: \" + str(grid_lasso.best_estimator_))\n",
    "print(\"Best Score: \" + str(grid_lasso.best_score_))"
   ]
  },
  {
   "cell_type": "code",
   "execution_count": 49,
   "metadata": {
    "execution": {
     "iopub.execute_input": "2021-07-16T04:15:42.476659Z",
     "iopub.status.busy": "2021-07-16T04:15:42.475920Z",
     "iopub.status.idle": "2021-07-16T04:15:42.494067Z",
     "shell.execute_reply": "2021-07-16T04:15:42.495925Z",
     "shell.execute_reply.started": "2021-07-16T03:53:46.061509Z"
    },
    "papermill": {
     "duration": 0.10442,
     "end_time": "2021-07-16T04:15:42.496518",
     "exception": false,
     "start_time": "2021-07-16T04:15:42.392098",
     "status": "completed"
    },
    "tags": []
   },
   "outputs": [
    {
     "name": "stdout",
     "output_type": "stream",
     "text": [
      "R^2 Score: 0.5346055500620817\n",
      "RMSE Score: 0.26544424298741465\n"
     ]
    }
   ],
   "source": [
    "lasso = grid_lasso.best_estimator_\n",
    "lasso.fit(X_training, y_training)\n",
    "lasso_pred = lasso.predict(X_valid)\n",
    "r2_lasso = r2_score(y_valid, lasso_pred)\n",
    "rmse_lasso = np.sqrt(mean_squared_error(y_valid, lasso_pred))\n",
    "print(\"R^2 Score: \" + str(r2_lasso))\n",
    "print(\"RMSE Score: \" + str(rmse_lasso))"
   ]
  },
  {
   "cell_type": "code",
   "execution_count": 50,
   "metadata": {
    "execution": {
     "iopub.execute_input": "2021-07-16T04:15:42.700071Z",
     "iopub.status.busy": "2021-07-16T04:15:42.691662Z",
     "iopub.status.idle": "2021-07-16T04:15:42.881371Z",
     "shell.execute_reply": "2021-07-16T04:15:42.882736Z",
     "shell.execute_reply.started": "2021-07-16T03:53:46.133739Z"
    },
    "papermill": {
     "duration": 0.268196,
     "end_time": "2021-07-16T04:15:42.883049",
     "exception": false,
     "start_time": "2021-07-16T04:15:42.614853",
     "status": "completed"
    },
    "tags": []
   },
   "outputs": [
    {
     "name": "stdout",
     "output_type": "stream",
     "text": [
      "Cross Validation Score: 0.8024153680708739\n"
     ]
    }
   ],
   "source": [
    "scores_lasso = cross_val_score(lasso, X_training, y_training, cv=10, scoring=\"r2\")\n",
    "print(\"Cross Validation Score: \" + str(np.mean(scores_lasso)))"
   ]
  },
  {
   "cell_type": "code",
   "execution_count": 51,
   "metadata": {
    "execution": {
     "iopub.execute_input": "2021-07-16T04:15:43.074337Z",
     "iopub.status.busy": "2021-07-16T04:15:43.073642Z",
     "iopub.status.idle": "2021-07-16T04:15:44.120446Z",
     "shell.execute_reply": "2021-07-16T04:15:44.121504Z",
     "shell.execute_reply.started": "2021-07-16T03:53:46.356178Z"
    },
    "papermill": {
     "duration": 1.12407,
     "end_time": "2021-07-16T04:15:44.121807",
     "exception": false,
     "start_time": "2021-07-16T04:15:42.997737",
     "status": "completed"
    },
    "tags": []
   },
   "outputs": [
    {
     "name": "stdout",
     "output_type": "stream",
     "text": [
      "Fitting 5 folds for each of 8 candidates, totalling 40 fits\n"
     ]
    },
    {
     "name": "stderr",
     "output_type": "stream",
     "text": [
      "[Parallel(n_jobs=1)]: Using backend SequentialBackend with 1 concurrent workers.\n"
     ]
    },
    {
     "name": "stdout",
     "output_type": "stream",
     "text": [
      "Best Ridge Model: Ridge()\n",
      "Best Score: 0.8753080657714077\n"
     ]
    },
    {
     "name": "stderr",
     "output_type": "stream",
     "text": [
      "[Parallel(n_jobs=1)]: Done  40 out of  40 | elapsed:    1.0s finished\n"
     ]
    }
   ],
   "source": [
    "ridge = Ridge()\n",
    "parameters_ridge = {\"fit_intercept\" : [True, False], \"normalize\" : [True, False], \"copy_X\" : [True, False], \"solver\" : [\"auto\"]}\n",
    "grid_ridge = GridSearchCV(ridge, parameters_ridge, verbose=1, scoring=\"r2\")\n",
    "grid_ridge.fit(X_training, y_training)\n",
    "\n",
    "print(\"Best Ridge Model: \" + str(grid_ridge.best_estimator_))\n",
    "print(\"Best Score: \" + str(grid_ridge.best_score_))"
   ]
  },
  {
   "cell_type": "code",
   "execution_count": 52,
   "metadata": {
    "execution": {
     "iopub.execute_input": "2021-07-16T04:15:44.362591Z",
     "iopub.status.busy": "2021-07-16T04:15:44.361916Z",
     "iopub.status.idle": "2021-07-16T04:15:44.384178Z",
     "shell.execute_reply": "2021-07-16T04:15:44.385359Z",
     "shell.execute_reply.started": "2021-07-16T03:53:47.380834Z"
    },
    "papermill": {
     "duration": 0.113915,
     "end_time": "2021-07-16T04:15:44.385714",
     "exception": false,
     "start_time": "2021-07-16T04:15:44.271799",
     "status": "completed"
    },
    "tags": []
   },
   "outputs": [
    {
     "name": "stdout",
     "output_type": "stream",
     "text": [
      "R^2 Score: 0.7106103323797439\n",
      "RMSE Score: 0.20931686487502824\n"
     ]
    }
   ],
   "source": [
    "ridge = grid_ridge.best_estimator_\n",
    "ridge.fit(X_training, y_training)\n",
    "ridge_pred = ridge.predict(X_valid)\n",
    "r2_ridge = r2_score(y_valid, ridge_pred)\n",
    "rmse_ridge = np.sqrt(mean_squared_error(y_valid, ridge_pred))\n",
    "print(\"R^2 Score: \" + str(r2_ridge))\n",
    "print(\"RMSE Score: \" + str(rmse_ridge))"
   ]
  },
  {
   "cell_type": "code",
   "execution_count": 53,
   "metadata": {
    "execution": {
     "iopub.execute_input": "2021-07-16T04:15:44.612009Z",
     "iopub.status.busy": "2021-07-16T04:15:44.611342Z",
     "iopub.status.idle": "2021-07-16T04:15:44.926173Z",
     "shell.execute_reply": "2021-07-16T04:15:44.925214Z",
     "shell.execute_reply.started": "2021-07-16T03:53:47.424335Z"
    },
    "papermill": {
     "duration": 0.398045,
     "end_time": "2021-07-16T04:15:44.926442",
     "exception": false,
     "start_time": "2021-07-16T04:15:44.528397",
     "status": "completed"
    },
    "tags": []
   },
   "outputs": [
    {
     "name": "stdout",
     "output_type": "stream",
     "text": [
      "Cross Validation Score: 0.8786030604426387\n"
     ]
    }
   ],
   "source": [
    "scores_ridge = cross_val_score(ridge, X_training, y_training, cv=10, scoring=\"r2\")\n",
    "print(\"Cross Validation Score: \" + str(np.mean(scores_ridge)))"
   ]
  },
  {
   "cell_type": "code",
   "execution_count": 54,
   "metadata": {
    "execution": {
     "iopub.execute_input": "2021-07-16T04:15:45.156725Z",
     "iopub.status.busy": "2021-07-16T04:15:45.148300Z",
     "iopub.status.idle": "2021-07-16T04:15:57.768320Z",
     "shell.execute_reply": "2021-07-16T04:15:57.767729Z",
     "shell.execute_reply.started": "2021-07-16T03:53:47.635099Z"
    },
    "papermill": {
     "duration": 12.699777,
     "end_time": "2021-07-16T04:15:57.768482",
     "exception": false,
     "start_time": "2021-07-16T04:15:45.068705",
     "status": "completed"
    },
    "tags": []
   },
   "outputs": [
    {
     "name": "stdout",
     "output_type": "stream",
     "text": [
      "Fitting 5 folds for each of 48 candidates, totalling 240 fits\n"
     ]
    },
    {
     "name": "stderr",
     "output_type": "stream",
     "text": [
      "[Parallel(n_jobs=1)]: Using backend SequentialBackend with 1 concurrent workers.\n",
      "[Parallel(n_jobs=1)]: Done 240 out of 240 | elapsed:   12.3s finished\n"
     ]
    },
    {
     "name": "stdout",
     "output_type": "stream",
     "text": [
      "Best DecisionTreeRegressor Model: DecisionTreeRegressor(criterion='mae', max_features='auto',\n",
      "                      min_samples_split=10)\n",
      "Best Score: 0.7306081144990706\n"
     ]
    }
   ],
   "source": [
    "dtr = DecisionTreeRegressor()\n",
    "parameters_dtr = {\"criterion\" : [\"mse\", \"friedman_mse\", \"mae\"], \"splitter\" : [\"best\", \"random\"], \"min_samples_split\" : [2, 3, 5, 10], \n",
    "                  \"max_features\" : [\"auto\", \"log2\"]}\n",
    "grid_dtr = GridSearchCV(dtr, parameters_dtr, verbose=1, scoring=\"r2\")\n",
    "grid_dtr.fit(X_training, y_training)\n",
    "\n",
    "print(\"Best DecisionTreeRegressor Model: \" + str(grid_dtr.best_estimator_))\n",
    "print(\"Best Score: \" + str(grid_dtr.best_score_))"
   ]
  },
  {
   "cell_type": "code",
   "execution_count": 55,
   "metadata": {
    "execution": {
     "iopub.execute_input": "2021-07-16T04:15:57.924663Z",
     "iopub.status.busy": "2021-07-16T04:15:57.923985Z",
     "iopub.status.idle": "2021-07-16T04:15:58.275686Z",
     "shell.execute_reply": "2021-07-16T04:15:58.275018Z",
     "shell.execute_reply.started": "2021-07-16T03:53:59.834238Z"
    },
    "papermill": {
     "duration": 0.436006,
     "end_time": "2021-07-16T04:15:58.275846",
     "exception": false,
     "start_time": "2021-07-16T04:15:57.839840",
     "status": "completed"
    },
    "tags": []
   },
   "outputs": [
    {
     "name": "stdout",
     "output_type": "stream",
     "text": [
      "R^2 Score: 0.7394335104481121\n",
      "RMSE Score: 0.19861954918615554\n"
     ]
    }
   ],
   "source": [
    "dtr = grid_dtr.best_estimator_\n",
    "dtr.fit(X_training, y_training)\n",
    "dtr_pred = dtr.predict(X_valid)\n",
    "r2_dtr = r2_score(y_valid, dtr_pred)\n",
    "rmse_dtr = np.sqrt(mean_squared_error(y_valid, dtr_pred))\n",
    "print(\"R^2 Score: \" + str(r2_dtr))\n",
    "print(\"RMSE Score: \" + str(rmse_dtr))"
   ]
  },
  {
   "cell_type": "code",
   "execution_count": 56,
   "metadata": {
    "execution": {
     "iopub.execute_input": "2021-07-16T04:15:58.441866Z",
     "iopub.status.busy": "2021-07-16T04:15:58.433487Z",
     "iopub.status.idle": "2021-07-16T04:16:01.423921Z",
     "shell.execute_reply": "2021-07-16T04:16:01.423133Z",
     "shell.execute_reply.started": "2021-07-16T03:53:59.875569Z"
    },
    "papermill": {
     "duration": 3.071212,
     "end_time": "2021-07-16T04:16:01.424119",
     "exception": false,
     "start_time": "2021-07-16T04:15:58.352907",
     "status": "completed"
    },
    "tags": []
   },
   "outputs": [
    {
     "name": "stdout",
     "output_type": "stream",
     "text": [
      "Cross Validation Score: 0.7325230615751149\n"
     ]
    }
   ],
   "source": [
    "scores_dtr = cross_val_score(dtr, X_training, y_training, cv=10, scoring=\"r2\")\n",
    "print(\"Cross Validation Score: \" + str(np.mean(scores_dtr)))"
   ]
  },
  {
   "cell_type": "code",
   "execution_count": 57,
   "metadata": {
    "execution": {
     "iopub.execute_input": "2021-07-16T04:16:01.577158Z",
     "iopub.status.busy": "2021-07-16T04:16:01.576300Z",
     "iopub.status.idle": "2021-07-16T04:18:53.090695Z",
     "shell.execute_reply": "2021-07-16T04:18:53.090071Z",
     "shell.execute_reply.started": "2021-07-16T03:54:00.158267Z"
    },
    "papermill": {
     "duration": 171.593874,
     "end_time": "2021-07-16T04:18:53.090860",
     "exception": false,
     "start_time": "2021-07-16T04:16:01.496986",
     "status": "completed"
    },
    "tags": []
   },
   "outputs": [
    {
     "name": "stdout",
     "output_type": "stream",
     "text": [
      "Fitting 5 folds for each of 64 candidates, totalling 320 fits\n"
     ]
    },
    {
     "name": "stderr",
     "output_type": "stream",
     "text": [
      "[Parallel(n_jobs=1)]: Using backend SequentialBackend with 1 concurrent workers.\n"
     ]
    },
    {
     "name": "stdout",
     "output_type": "stream",
     "text": [
      "Best RandomForestRegressor Model: RandomForestRegressor(max_features='log2', min_samples_split=3, n_estimators=20)\n",
      "Best Score: 0.8633706136081963\n"
     ]
    },
    {
     "name": "stderr",
     "output_type": "stream",
     "text": [
      "[Parallel(n_jobs=1)]: Done 320 out of 320 | elapsed:  2.9min finished\n"
     ]
    }
   ],
   "source": [
    "rf = RandomForestRegressor()\n",
    "paremeters_rf = {\"n_estimators\" : [5, 10, 15, 20], \"criterion\" : [\"mse\" , \"mae\"], \"min_samples_split\" : [2, 3, 5, 10], \n",
    "                 \"max_features\" : [\"auto\", \"log2\"]}\n",
    "grid_rf = GridSearchCV(rf, paremeters_rf, verbose=1, scoring=\"r2\")\n",
    "grid_rf.fit(X_training, y_training)\n",
    "\n",
    "print(\"Best RandomForestRegressor Model: \" + str(grid_rf.best_estimator_))\n",
    "print(\"Best Score: \" + str(grid_rf.best_score_))"
   ]
  },
  {
   "cell_type": "code",
   "execution_count": 58,
   "metadata": {
    "execution": {
     "iopub.execute_input": "2021-07-16T04:18:53.279955Z",
     "iopub.status.busy": "2021-07-16T04:18:53.276916Z",
     "iopub.status.idle": "2021-07-16T04:18:53.354718Z",
     "shell.execute_reply": "2021-07-16T04:18:53.355240Z",
     "shell.execute_reply.started": "2021-07-16T03:56:47.912050Z"
    },
    "papermill": {
     "duration": 0.184193,
     "end_time": "2021-07-16T04:18:53.355428",
     "exception": false,
     "start_time": "2021-07-16T04:18:53.171235",
     "status": "completed"
    },
    "tags": []
   },
   "outputs": [
    {
     "name": "stdout",
     "output_type": "stream",
     "text": [
      "R^2 Score: 0.8536874005170932\n",
      "RMSE Score: 0.14883448668780533\n"
     ]
    }
   ],
   "source": [
    "rf = grid_rf.best_estimator_\n",
    "rf.fit(X_training, y_training)\n",
    "rf_pred = rf.predict(X_valid)\n",
    "r2_rf = r2_score(y_valid, rf_pred)\n",
    "rmse_rf = np.sqrt(mean_squared_error(y_valid, rf_pred))\n",
    "print(\"R^2 Score: \" + str(r2_rf))\n",
    "print(\"RMSE Score: \" + str(rmse_rf))"
   ]
  },
  {
   "cell_type": "code",
   "execution_count": 59,
   "metadata": {
    "execution": {
     "iopub.execute_input": "2021-07-16T04:18:53.514379Z",
     "iopub.status.busy": "2021-07-16T04:18:53.513636Z",
     "iopub.status.idle": "2021-07-16T04:18:54.298649Z",
     "shell.execute_reply": "2021-07-16T04:18:54.297972Z",
     "shell.execute_reply.started": "2021-07-16T03:56:48.001670Z"
    },
    "papermill": {
     "duration": 0.86359,
     "end_time": "2021-07-16T04:18:54.298795",
     "exception": false,
     "start_time": "2021-07-16T04:18:53.435205",
     "status": "completed"
    },
    "tags": []
   },
   "outputs": [
    {
     "name": "stdout",
     "output_type": "stream",
     "text": [
      "Cross Validation Score: 0.8691514490461634\n"
     ]
    }
   ],
   "source": [
    "scores_rf = cross_val_score(rf, X_training, y_training, cv=10, scoring=\"r2\")\n",
    "print(\"Cross Validation Score: \" + str(np.mean(scores_rf)))"
   ]
  },
  {
   "cell_type": "markdown",
   "metadata": {
    "papermill": {
     "duration": 0.073557,
     "end_time": "2021-07-16T04:18:54.445841",
     "exception": false,
     "start_time": "2021-07-16T04:18:54.372284",
     "status": "completed"
    },
    "tags": []
   },
   "source": [
    "## Evaluation Our Models "
   ]
  },
  {
   "cell_type": "code",
   "execution_count": 60,
   "metadata": {
    "execution": {
     "iopub.execute_input": "2021-07-16T04:18:54.612565Z",
     "iopub.status.busy": "2021-07-16T04:18:54.611878Z",
     "iopub.status.idle": "2021-07-16T04:18:54.616612Z",
     "shell.execute_reply": "2021-07-16T04:18:54.617077Z",
     "shell.execute_reply.started": "2021-07-16T03:56:48.739001Z"
    },
    "papermill": {
     "duration": 0.098054,
     "end_time": "2021-07-16T04:18:54.617279",
     "exception": false,
     "start_time": "2021-07-16T04:18:54.519225",
     "status": "completed"
    },
    "tags": []
   },
   "outputs": [
    {
     "name": "stdout",
     "output_type": "stream",
     "text": [
      "Sorted by Best Score:\n"
     ]
    },
    {
     "data": {
      "text/html": [
       "<div>\n",
       "<style scoped>\n",
       "    .dataframe tbody tr th:only-of-type {\n",
       "        vertical-align: middle;\n",
       "    }\n",
       "\n",
       "    .dataframe tbody tr th {\n",
       "        vertical-align: top;\n",
       "    }\n",
       "\n",
       "    .dataframe thead th {\n",
       "        text-align: right;\n",
       "    }\n",
       "</style>\n",
       "<table border=\"1\" class=\"dataframe\">\n",
       "  <thead>\n",
       "    <tr style=\"text-align: right;\">\n",
       "      <th></th>\n",
       "      <th>Model</th>\n",
       "      <th>Best Score</th>\n",
       "      <th>R Squared</th>\n",
       "      <th>RMSE</th>\n",
       "    </tr>\n",
       "  </thead>\n",
       "  <tbody>\n",
       "    <tr>\n",
       "      <th>1</th>\n",
       "      <td>Ridge</td>\n",
       "      <td>0.875308</td>\n",
       "      <td>0.710</td>\n",
       "      <td>0.209316</td>\n",
       "    </tr>\n",
       "    <tr>\n",
       "      <th>0</th>\n",
       "      <td>Linear Regression</td>\n",
       "      <td>0.872462</td>\n",
       "      <td>0.709</td>\n",
       "      <td>0.209857</td>\n",
       "    </tr>\n",
       "    <tr>\n",
       "      <th>4</th>\n",
       "      <td>Random Forest Regressor</td>\n",
       "      <td>0.863371</td>\n",
       "      <td>0.853</td>\n",
       "      <td>0.148834</td>\n",
       "    </tr>\n",
       "    <tr>\n",
       "      <th>2</th>\n",
       "      <td>Lasso</td>\n",
       "      <td>0.803064</td>\n",
       "      <td>0.534</td>\n",
       "      <td>0.265444</td>\n",
       "    </tr>\n",
       "    <tr>\n",
       "      <th>3</th>\n",
       "      <td>Decision Tree Regressor</td>\n",
       "      <td>0.730608</td>\n",
       "      <td>0.739</td>\n",
       "      <td>0.198619</td>\n",
       "    </tr>\n",
       "  </tbody>\n",
       "</table>\n",
       "</div>"
      ],
      "text/plain": [
       "                     Model  Best Score R Squared      RMSE\n",
       "1                    Ridge    0.875308     0.710  0.209316\n",
       "0        Linear Regression    0.872462     0.709  0.209857\n",
       "4  Random Forest Regressor    0.863371     0.853  0.148834\n",
       "2                    Lasso    0.803064     0.534  0.265444\n",
       "3  Decision Tree Regressor    0.730608     0.739  0.198619"
      ]
     },
     "execution_count": 60,
     "metadata": {},
     "output_type": "execute_result"
    }
   ],
   "source": [
    "model_performances = pd.DataFrame({\n",
    "    \"Model\" : [\"Linear Regression\", \"Ridge\", \"Lasso\", \"Decision Tree Regressor\", \"Random Forest Regressor\"],\n",
    "    \"Best Score\" : [grid_linreg.best_score_,  grid_ridge.best_score_, grid_lasso.best_score_, grid_dtr.best_score_, grid_rf.best_score_],\n",
    "    \"R Squared\" : [str(r2_lin)[0:5], str(r2_ridge)[0:5], str(r2_lasso)[0:5], str(r2_dtr)[0:5], str(r2_rf)[0:5]],\n",
    "    \"RMSE\" : [str(rmse_lin)[0:8], str(rmse_ridge)[0:8], str(rmse_lasso)[0:8], str(rmse_dtr)[0:8], str(rmse_rf)[0:8]]\n",
    "})\n",
    "model_performances.round(4)\n",
    "\n",
    "print(\"Sorted by Best Score:\")\n",
    "model_performances.sort_values(by=\"Best Score\", ascending=False)"
   ]
  },
  {
   "cell_type": "code",
   "execution_count": 61,
   "metadata": {
    "execution": {
     "iopub.execute_input": "2021-07-16T04:18:54.779892Z",
     "iopub.status.busy": "2021-07-16T04:18:54.778983Z",
     "iopub.status.idle": "2021-07-16T04:18:54.783292Z",
     "shell.execute_reply": "2021-07-16T04:18:54.783806Z",
     "shell.execute_reply.started": "2021-07-16T03:56:48.763563Z"
    },
    "papermill": {
     "duration": 0.091703,
     "end_time": "2021-07-16T04:18:54.783980",
     "exception": false,
     "start_time": "2021-07-16T04:18:54.692277",
     "status": "completed"
    },
    "tags": []
   },
   "outputs": [
    {
     "name": "stdout",
     "output_type": "stream",
     "text": [
      "Sorted by R Squared:\n"
     ]
    },
    {
     "data": {
      "text/html": [
       "<div>\n",
       "<style scoped>\n",
       "    .dataframe tbody tr th:only-of-type {\n",
       "        vertical-align: middle;\n",
       "    }\n",
       "\n",
       "    .dataframe tbody tr th {\n",
       "        vertical-align: top;\n",
       "    }\n",
       "\n",
       "    .dataframe thead th {\n",
       "        text-align: right;\n",
       "    }\n",
       "</style>\n",
       "<table border=\"1\" class=\"dataframe\">\n",
       "  <thead>\n",
       "    <tr style=\"text-align: right;\">\n",
       "      <th></th>\n",
       "      <th>Model</th>\n",
       "      <th>Best Score</th>\n",
       "      <th>R Squared</th>\n",
       "      <th>RMSE</th>\n",
       "    </tr>\n",
       "  </thead>\n",
       "  <tbody>\n",
       "    <tr>\n",
       "      <th>4</th>\n",
       "      <td>Random Forest Regressor</td>\n",
       "      <td>0.863371</td>\n",
       "      <td>0.853</td>\n",
       "      <td>0.148834</td>\n",
       "    </tr>\n",
       "    <tr>\n",
       "      <th>3</th>\n",
       "      <td>Decision Tree Regressor</td>\n",
       "      <td>0.730608</td>\n",
       "      <td>0.739</td>\n",
       "      <td>0.198619</td>\n",
       "    </tr>\n",
       "    <tr>\n",
       "      <th>1</th>\n",
       "      <td>Ridge</td>\n",
       "      <td>0.875308</td>\n",
       "      <td>0.710</td>\n",
       "      <td>0.209316</td>\n",
       "    </tr>\n",
       "    <tr>\n",
       "      <th>0</th>\n",
       "      <td>Linear Regression</td>\n",
       "      <td>0.872462</td>\n",
       "      <td>0.709</td>\n",
       "      <td>0.209857</td>\n",
       "    </tr>\n",
       "    <tr>\n",
       "      <th>2</th>\n",
       "      <td>Lasso</td>\n",
       "      <td>0.803064</td>\n",
       "      <td>0.534</td>\n",
       "      <td>0.265444</td>\n",
       "    </tr>\n",
       "  </tbody>\n",
       "</table>\n",
       "</div>"
      ],
      "text/plain": [
       "                     Model  Best Score R Squared      RMSE\n",
       "4  Random Forest Regressor    0.863371     0.853  0.148834\n",
       "3  Decision Tree Regressor    0.730608     0.739  0.198619\n",
       "1                    Ridge    0.875308     0.710  0.209316\n",
       "0        Linear Regression    0.872462     0.709  0.209857\n",
       "2                    Lasso    0.803064     0.534  0.265444"
      ]
     },
     "execution_count": 61,
     "metadata": {},
     "output_type": "execute_result"
    }
   ],
   "source": [
    "print(\"Sorted by R Squared:\")\n",
    "model_performances.sort_values(by=\"R Squared\", ascending=False)"
   ]
  },
  {
   "cell_type": "code",
   "execution_count": 62,
   "metadata": {
    "execution": {
     "iopub.execute_input": "2021-07-16T04:18:54.948298Z",
     "iopub.status.busy": "2021-07-16T04:18:54.947284Z",
     "iopub.status.idle": "2021-07-16T04:18:54.952776Z",
     "shell.execute_reply": "2021-07-16T04:18:54.953250Z",
     "shell.execute_reply.started": "2021-07-16T03:56:48.791107Z"
    },
    "papermill": {
     "duration": 0.093033,
     "end_time": "2021-07-16T04:18:54.953432",
     "exception": false,
     "start_time": "2021-07-16T04:18:54.860399",
     "status": "completed"
    },
    "tags": []
   },
   "outputs": [
    {
     "name": "stdout",
     "output_type": "stream",
     "text": [
      "Sorted by RMSE:\n"
     ]
    },
    {
     "data": {
      "text/html": [
       "<div>\n",
       "<style scoped>\n",
       "    .dataframe tbody tr th:only-of-type {\n",
       "        vertical-align: middle;\n",
       "    }\n",
       "\n",
       "    .dataframe tbody tr th {\n",
       "        vertical-align: top;\n",
       "    }\n",
       "\n",
       "    .dataframe thead th {\n",
       "        text-align: right;\n",
       "    }\n",
       "</style>\n",
       "<table border=\"1\" class=\"dataframe\">\n",
       "  <thead>\n",
       "    <tr style=\"text-align: right;\">\n",
       "      <th></th>\n",
       "      <th>Model</th>\n",
       "      <th>Best Score</th>\n",
       "      <th>R Squared</th>\n",
       "      <th>RMSE</th>\n",
       "    </tr>\n",
       "  </thead>\n",
       "  <tbody>\n",
       "    <tr>\n",
       "      <th>4</th>\n",
       "      <td>Random Forest Regressor</td>\n",
       "      <td>0.863371</td>\n",
       "      <td>0.853</td>\n",
       "      <td>0.148834</td>\n",
       "    </tr>\n",
       "    <tr>\n",
       "      <th>3</th>\n",
       "      <td>Decision Tree Regressor</td>\n",
       "      <td>0.730608</td>\n",
       "      <td>0.739</td>\n",
       "      <td>0.198619</td>\n",
       "    </tr>\n",
       "    <tr>\n",
       "      <th>1</th>\n",
       "      <td>Ridge</td>\n",
       "      <td>0.875308</td>\n",
       "      <td>0.710</td>\n",
       "      <td>0.209316</td>\n",
       "    </tr>\n",
       "    <tr>\n",
       "      <th>0</th>\n",
       "      <td>Linear Regression</td>\n",
       "      <td>0.872462</td>\n",
       "      <td>0.709</td>\n",
       "      <td>0.209857</td>\n",
       "    </tr>\n",
       "    <tr>\n",
       "      <th>2</th>\n",
       "      <td>Lasso</td>\n",
       "      <td>0.803064</td>\n",
       "      <td>0.534</td>\n",
       "      <td>0.265444</td>\n",
       "    </tr>\n",
       "  </tbody>\n",
       "</table>\n",
       "</div>"
      ],
      "text/plain": [
       "                     Model  Best Score R Squared      RMSE\n",
       "4  Random Forest Regressor    0.863371     0.853  0.148834\n",
       "3  Decision Tree Regressor    0.730608     0.739  0.198619\n",
       "1                    Ridge    0.875308     0.710  0.209316\n",
       "0        Linear Regression    0.872462     0.709  0.209857\n",
       "2                    Lasso    0.803064     0.534  0.265444"
      ]
     },
     "execution_count": 62,
     "metadata": {},
     "output_type": "execute_result"
    }
   ],
   "source": [
    "print(\"Sorted by RMSE:\")\n",
    "model_performances.sort_values(by=\"RMSE\", ascending=True)"
   ]
  },
  {
   "cell_type": "code",
   "execution_count": 63,
   "metadata": {
    "execution": {
     "iopub.execute_input": "2021-07-16T04:18:55.119115Z",
     "iopub.status.busy": "2021-07-16T04:18:55.118008Z",
     "iopub.status.idle": "2021-07-16T04:18:55.207591Z",
     "shell.execute_reply": "2021-07-16T04:18:55.206997Z",
     "shell.execute_reply.started": "2021-07-16T03:56:48.808229Z"
    },
    "papermill": {
     "duration": 0.17838,
     "end_time": "2021-07-16T04:18:55.207737",
     "exception": false,
     "start_time": "2021-07-16T04:18:55.029357",
     "status": "completed"
    },
    "tags": []
   },
   "outputs": [
    {
     "data": {
      "text/plain": [
       "RandomForestRegressor(max_features='log2', min_samples_split=3, n_estimators=20)"
      ]
     },
     "execution_count": 63,
     "metadata": {},
     "output_type": "execute_result"
    }
   ],
   "source": [
    "rf.fit(X_train, y_train)"
   ]
  },
  {
   "cell_type": "markdown",
   "metadata": {
    "papermill": {
     "duration": 0.075734,
     "end_time": "2021-07-16T04:18:55.359904",
     "exception": false,
     "start_time": "2021-07-16T04:18:55.284170",
     "status": "completed"
    },
    "tags": []
   },
   "source": [
    "## 6. Submission "
   ]
  },
  {
   "cell_type": "code",
   "execution_count": 64,
   "metadata": {
    "execution": {
     "iopub.execute_input": "2021-07-16T04:18:55.526844Z",
     "iopub.status.busy": "2021-07-16T04:18:55.525843Z",
     "iopub.status.idle": "2021-07-16T04:18:55.536779Z",
     "shell.execute_reply": "2021-07-16T04:18:55.536167Z",
     "shell.execute_reply.started": "2021-07-16T03:56:48.900526Z"
    },
    "papermill": {
     "duration": 0.099908,
     "end_time": "2021-07-16T04:18:55.536923",
     "exception": false,
     "start_time": "2021-07-16T04:18:55.437015",
     "status": "completed"
    },
    "tags": []
   },
   "outputs": [],
   "source": [
    "submission_predictions = np.exp(rf.predict(X_test))"
   ]
  },
  {
   "cell_type": "code",
   "execution_count": 65,
   "metadata": {
    "execution": {
     "iopub.execute_input": "2021-07-16T04:18:55.694920Z",
     "iopub.status.busy": "2021-07-16T04:18:55.694291Z",
     "iopub.status.idle": "2021-07-16T04:18:55.706514Z",
     "shell.execute_reply": "2021-07-16T04:18:55.706973Z",
     "shell.execute_reply.started": "2021-07-16T03:56:48.921155Z"
    },
    "papermill": {
     "duration": 0.09436,
     "end_time": "2021-07-16T04:18:55.707153",
     "exception": false,
     "start_time": "2021-07-16T04:18:55.612793",
     "status": "completed"
    },
    "tags": []
   },
   "outputs": [
    {
     "name": "stdout",
     "output_type": "stream",
     "text": [
      "(1459, 2)\n"
     ]
    }
   ],
   "source": [
    "submission = pd.DataFrame({\n",
    "        \"Id\": testing[\"Id\"],\n",
    "        \"SalePrice\": submission_predictions\n",
    "    })\n",
    "\n",
    "submission.to_csv(\"prices.csv\", index=False)\n",
    "print(submission.shape)"
   ]
  }
 ],
 "metadata": {
  "kernelspec": {
   "display_name": "Python 3",
   "language": "python",
   "name": "python3"
  },
  "language_info": {
   "codemirror_mode": {
    "name": "ipython",
    "version": 3
   },
   "file_extension": ".py",
   "mimetype": "text/x-python",
   "name": "python",
   "nbconvert_exporter": "python",
   "pygments_lexer": "ipython3",
   "version": "3.7.9"
  },
  "papermill": {
   "default_parameters": {},
   "duration": 216.279597,
   "end_time": "2021-07-16T04:18:56.494600",
   "environment_variables": {},
   "exception": null,
   "input_path": "__notebook__.ipynb",
   "output_path": "__notebook__.ipynb",
   "parameters": {},
   "start_time": "2021-07-16T04:15:20.215003",
   "version": "2.2.2"
  }
 },
 "nbformat": 4,
 "nbformat_minor": 4
}
