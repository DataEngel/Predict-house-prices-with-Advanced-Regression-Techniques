{
 "cells": [
  {
   "cell_type": "markdown",
   "metadata": {
    "_cell_guid": "b1076dfc-b9ad-4769-8c92-a6c4dae69d19",
    "_uuid": "8f2839f25d086af736a60e9eeb907d3b93b6e0e5",
    "papermill": {
     "duration": 0.051739,
     "end_time": "2021-06-20T05:01:40.321085",
     "exception": false,
     "start_time": "2021-06-20T05:01:40.269346",
     "status": "completed"
    },
    "tags": []
   },
   "source": [
    "\n",
    "1. Importing Packages# House Prices: Context\n",
    "\n",
    "Ask a home buyer to describe their dream house, and they probably won't begin with the height of the basement ceiling or the proximity to an east-west railroad. But this playground competition's dataset proves that much more influences price negotiations than the number of bedrooms or a white-picket fence.\n",
    "\n",
    "With 79 explanatory variables describing (almost) every aspect of residential homes in Ames, Iowa, this competition challenges you to predict the final price of each home."
   ]
  },
  {
   "cell_type": "markdown",
   "metadata": {
    "execution": {
     "iopub.execute_input": "2021-06-19T04:55:30.243656Z",
     "iopub.status.busy": "2021-06-19T04:55:30.242915Z",
     "iopub.status.idle": "2021-06-19T04:55:31.090954Z",
     "shell.execute_reply": "2021-06-19T04:55:31.089837Z",
     "shell.execute_reply.started": "2021-06-19T04:55:30.24352Z"
    },
    "papermill": {
     "duration": 0.048977,
     "end_time": "2021-06-20T05:01:40.419557",
     "exception": false,
     "start_time": "2021-06-20T05:01:40.370580",
     "status": "completed"
    },
    "tags": []
   },
   "source": [
    "## 1. Importing Packages "
   ]
  },
  {
   "cell_type": "code",
   "execution_count": 1,
   "metadata": {
    "execution": {
     "iopub.execute_input": "2021-06-20T05:01:40.527481Z",
     "iopub.status.busy": "2021-06-20T05:01:40.526664Z",
     "iopub.status.idle": "2021-06-20T05:01:41.290901Z",
     "shell.execute_reply": "2021-06-20T05:01:41.290212Z",
     "shell.execute_reply.started": "2021-06-20T04:52:19.838291Z"
    },
    "papermill": {
     "duration": 0.822118,
     "end_time": "2021-06-20T05:01:41.291094",
     "exception": false,
     "start_time": "2021-06-20T05:01:40.468976",
     "status": "completed"
    },
    "tags": []
   },
   "outputs": [],
   "source": [
    "import numpy as np \n",
    "import pandas as pd \n",
    "\n",
    "import seaborn as sns\n",
    "from matplotlib import pyplot as plt\n",
    "%matplotlib inline\n",
    "sns.set(style=\"whitegrid\")\n",
    "\n",
    "import warnings\n",
    "warnings.filterwarnings(\"ignore\")\n",
    "warnings.filterwarnings(\"ignore\", category=DeprecationWarning)  "
   ]
  },
  {
   "cell_type": "markdown",
   "metadata": {
    "papermill": {
     "duration": 0.049376,
     "end_time": "2021-06-20T05:01:41.389107",
     "exception": false,
     "start_time": "2021-06-20T05:01:41.339731",
     "status": "completed"
    },
    "tags": []
   },
   "source": [
    "## 2. Loading and Inspecting Data"
   ]
  },
  {
   "cell_type": "code",
   "execution_count": 2,
   "metadata": {
    "execution": {
     "iopub.execute_input": "2021-06-20T05:01:41.491774Z",
     "iopub.status.busy": "2021-06-20T05:01:41.491057Z",
     "iopub.status.idle": "2021-06-20T05:01:41.562679Z",
     "shell.execute_reply": "2021-06-20T05:01:41.562137Z",
     "shell.execute_reply.started": "2021-06-20T04:52:19.943231Z"
    },
    "papermill": {
     "duration": 0.124717,
     "end_time": "2021-06-20T05:01:41.562824",
     "exception": false,
     "start_time": "2021-06-20T05:01:41.438107",
     "status": "completed"
    },
    "tags": []
   },
   "outputs": [],
   "source": [
    "training = pd.read_csv(\"../input/house-prices-advanced-regression-techniques/train.csv\")\n",
    "testing = pd.read_csv(\"../input/house-prices-advanced-regression-techniques/test.csv\")"
   ]
  },
  {
   "cell_type": "code",
   "execution_count": 3,
   "metadata": {
    "execution": {
     "iopub.execute_input": "2021-06-20T05:01:41.675188Z",
     "iopub.status.busy": "2021-06-20T05:01:41.674530Z",
     "iopub.status.idle": "2021-06-20T05:01:41.725523Z",
     "shell.execute_reply": "2021-06-20T05:01:41.726034Z",
     "shell.execute_reply.started": "2021-06-20T04:52:20.008942Z"
    },
    "papermill": {
     "duration": 0.114701,
     "end_time": "2021-06-20T05:01:41.726201",
     "exception": false,
     "start_time": "2021-06-20T05:01:41.611500",
     "status": "completed"
    },
    "tags": []
   },
   "outputs": [
    {
     "data": {
      "text/html": [
       "<div>\n",
       "<style scoped>\n",
       "    .dataframe tbody tr th:only-of-type {\n",
       "        vertical-align: middle;\n",
       "    }\n",
       "\n",
       "    .dataframe tbody tr th {\n",
       "        vertical-align: top;\n",
       "    }\n",
       "\n",
       "    .dataframe thead th {\n",
       "        text-align: right;\n",
       "    }\n",
       "</style>\n",
       "<table border=\"1\" class=\"dataframe\">\n",
       "  <thead>\n",
       "    <tr style=\"text-align: right;\">\n",
       "      <th></th>\n",
       "      <th>Id</th>\n",
       "      <th>MSSubClass</th>\n",
       "      <th>MSZoning</th>\n",
       "      <th>LotFrontage</th>\n",
       "      <th>LotArea</th>\n",
       "      <th>Street</th>\n",
       "      <th>Alley</th>\n",
       "      <th>LotShape</th>\n",
       "      <th>LandContour</th>\n",
       "      <th>Utilities</th>\n",
       "      <th>...</th>\n",
       "      <th>PoolArea</th>\n",
       "      <th>PoolQC</th>\n",
       "      <th>Fence</th>\n",
       "      <th>MiscFeature</th>\n",
       "      <th>MiscVal</th>\n",
       "      <th>MoSold</th>\n",
       "      <th>YrSold</th>\n",
       "      <th>SaleType</th>\n",
       "      <th>SaleCondition</th>\n",
       "      <th>SalePrice</th>\n",
       "    </tr>\n",
       "  </thead>\n",
       "  <tbody>\n",
       "    <tr>\n",
       "      <th>0</th>\n",
       "      <td>1</td>\n",
       "      <td>60</td>\n",
       "      <td>RL</td>\n",
       "      <td>65.0</td>\n",
       "      <td>8450</td>\n",
       "      <td>Pave</td>\n",
       "      <td>NaN</td>\n",
       "      <td>Reg</td>\n",
       "      <td>Lvl</td>\n",
       "      <td>AllPub</td>\n",
       "      <td>...</td>\n",
       "      <td>0</td>\n",
       "      <td>NaN</td>\n",
       "      <td>NaN</td>\n",
       "      <td>NaN</td>\n",
       "      <td>0</td>\n",
       "      <td>2</td>\n",
       "      <td>2008</td>\n",
       "      <td>WD</td>\n",
       "      <td>Normal</td>\n",
       "      <td>208500</td>\n",
       "    </tr>\n",
       "    <tr>\n",
       "      <th>1</th>\n",
       "      <td>2</td>\n",
       "      <td>20</td>\n",
       "      <td>RL</td>\n",
       "      <td>80.0</td>\n",
       "      <td>9600</td>\n",
       "      <td>Pave</td>\n",
       "      <td>NaN</td>\n",
       "      <td>Reg</td>\n",
       "      <td>Lvl</td>\n",
       "      <td>AllPub</td>\n",
       "      <td>...</td>\n",
       "      <td>0</td>\n",
       "      <td>NaN</td>\n",
       "      <td>NaN</td>\n",
       "      <td>NaN</td>\n",
       "      <td>0</td>\n",
       "      <td>5</td>\n",
       "      <td>2007</td>\n",
       "      <td>WD</td>\n",
       "      <td>Normal</td>\n",
       "      <td>181500</td>\n",
       "    </tr>\n",
       "    <tr>\n",
       "      <th>2</th>\n",
       "      <td>3</td>\n",
       "      <td>60</td>\n",
       "      <td>RL</td>\n",
       "      <td>68.0</td>\n",
       "      <td>11250</td>\n",
       "      <td>Pave</td>\n",
       "      <td>NaN</td>\n",
       "      <td>IR1</td>\n",
       "      <td>Lvl</td>\n",
       "      <td>AllPub</td>\n",
       "      <td>...</td>\n",
       "      <td>0</td>\n",
       "      <td>NaN</td>\n",
       "      <td>NaN</td>\n",
       "      <td>NaN</td>\n",
       "      <td>0</td>\n",
       "      <td>9</td>\n",
       "      <td>2008</td>\n",
       "      <td>WD</td>\n",
       "      <td>Normal</td>\n",
       "      <td>223500</td>\n",
       "    </tr>\n",
       "    <tr>\n",
       "      <th>3</th>\n",
       "      <td>4</td>\n",
       "      <td>70</td>\n",
       "      <td>RL</td>\n",
       "      <td>60.0</td>\n",
       "      <td>9550</td>\n",
       "      <td>Pave</td>\n",
       "      <td>NaN</td>\n",
       "      <td>IR1</td>\n",
       "      <td>Lvl</td>\n",
       "      <td>AllPub</td>\n",
       "      <td>...</td>\n",
       "      <td>0</td>\n",
       "      <td>NaN</td>\n",
       "      <td>NaN</td>\n",
       "      <td>NaN</td>\n",
       "      <td>0</td>\n",
       "      <td>2</td>\n",
       "      <td>2006</td>\n",
       "      <td>WD</td>\n",
       "      <td>Abnorml</td>\n",
       "      <td>140000</td>\n",
       "    </tr>\n",
       "    <tr>\n",
       "      <th>4</th>\n",
       "      <td>5</td>\n",
       "      <td>60</td>\n",
       "      <td>RL</td>\n",
       "      <td>84.0</td>\n",
       "      <td>14260</td>\n",
       "      <td>Pave</td>\n",
       "      <td>NaN</td>\n",
       "      <td>IR1</td>\n",
       "      <td>Lvl</td>\n",
       "      <td>AllPub</td>\n",
       "      <td>...</td>\n",
       "      <td>0</td>\n",
       "      <td>NaN</td>\n",
       "      <td>NaN</td>\n",
       "      <td>NaN</td>\n",
       "      <td>0</td>\n",
       "      <td>12</td>\n",
       "      <td>2008</td>\n",
       "      <td>WD</td>\n",
       "      <td>Normal</td>\n",
       "      <td>250000</td>\n",
       "    </tr>\n",
       "  </tbody>\n",
       "</table>\n",
       "<p>5 rows × 81 columns</p>\n",
       "</div>"
      ],
      "text/plain": [
       "   Id  MSSubClass MSZoning  LotFrontage  LotArea Street Alley LotShape  \\\n",
       "0   1          60       RL         65.0     8450   Pave   NaN      Reg   \n",
       "1   2          20       RL         80.0     9600   Pave   NaN      Reg   \n",
       "2   3          60       RL         68.0    11250   Pave   NaN      IR1   \n",
       "3   4          70       RL         60.0     9550   Pave   NaN      IR1   \n",
       "4   5          60       RL         84.0    14260   Pave   NaN      IR1   \n",
       "\n",
       "  LandContour Utilities  ... PoolArea PoolQC Fence MiscFeature MiscVal MoSold  \\\n",
       "0         Lvl    AllPub  ...        0    NaN   NaN         NaN       0      2   \n",
       "1         Lvl    AllPub  ...        0    NaN   NaN         NaN       0      5   \n",
       "2         Lvl    AllPub  ...        0    NaN   NaN         NaN       0      9   \n",
       "3         Lvl    AllPub  ...        0    NaN   NaN         NaN       0      2   \n",
       "4         Lvl    AllPub  ...        0    NaN   NaN         NaN       0     12   \n",
       "\n",
       "  YrSold  SaleType  SaleCondition  SalePrice  \n",
       "0   2008        WD         Normal     208500  \n",
       "1   2007        WD         Normal     181500  \n",
       "2   2008        WD         Normal     223500  \n",
       "3   2006        WD        Abnorml     140000  \n",
       "4   2008        WD         Normal     250000  \n",
       "\n",
       "[5 rows x 81 columns]"
      ]
     },
     "execution_count": 3,
     "metadata": {},
     "output_type": "execute_result"
    }
   ],
   "source": [
    "training.head()"
   ]
  },
  {
   "cell_type": "code",
   "execution_count": 4,
   "metadata": {
    "execution": {
     "iopub.execute_input": "2021-06-20T05:01:41.836361Z",
     "iopub.status.busy": "2021-06-20T05:01:41.835696Z",
     "iopub.status.idle": "2021-06-20T05:01:41.956416Z",
     "shell.execute_reply": "2021-06-20T05:01:41.955778Z",
     "shell.execute_reply.started": "2021-06-20T04:52:20.047111Z"
    },
    "papermill": {
     "duration": 0.180609,
     "end_time": "2021-06-20T05:01:41.956554",
     "exception": false,
     "start_time": "2021-06-20T05:01:41.775945",
     "status": "completed"
    },
    "tags": []
   },
   "outputs": [
    {
     "data": {
      "text/html": [
       "<div>\n",
       "<style scoped>\n",
       "    .dataframe tbody tr th:only-of-type {\n",
       "        vertical-align: middle;\n",
       "    }\n",
       "\n",
       "    .dataframe tbody tr th {\n",
       "        vertical-align: top;\n",
       "    }\n",
       "\n",
       "    .dataframe thead th {\n",
       "        text-align: right;\n",
       "    }\n",
       "</style>\n",
       "<table border=\"1\" class=\"dataframe\">\n",
       "  <thead>\n",
       "    <tr style=\"text-align: right;\">\n",
       "      <th></th>\n",
       "      <th>Id</th>\n",
       "      <th>MSSubClass</th>\n",
       "      <th>LotFrontage</th>\n",
       "      <th>LotArea</th>\n",
       "      <th>OverallQual</th>\n",
       "      <th>OverallCond</th>\n",
       "      <th>YearBuilt</th>\n",
       "      <th>YearRemodAdd</th>\n",
       "      <th>MasVnrArea</th>\n",
       "      <th>BsmtFinSF1</th>\n",
       "      <th>...</th>\n",
       "      <th>WoodDeckSF</th>\n",
       "      <th>OpenPorchSF</th>\n",
       "      <th>EnclosedPorch</th>\n",
       "      <th>3SsnPorch</th>\n",
       "      <th>ScreenPorch</th>\n",
       "      <th>PoolArea</th>\n",
       "      <th>MiscVal</th>\n",
       "      <th>MoSold</th>\n",
       "      <th>YrSold</th>\n",
       "      <th>SalePrice</th>\n",
       "    </tr>\n",
       "  </thead>\n",
       "  <tbody>\n",
       "    <tr>\n",
       "      <th>count</th>\n",
       "      <td>1460.000000</td>\n",
       "      <td>1460.000000</td>\n",
       "      <td>1201.000000</td>\n",
       "      <td>1460.000000</td>\n",
       "      <td>1460.000000</td>\n",
       "      <td>1460.000000</td>\n",
       "      <td>1460.000000</td>\n",
       "      <td>1460.000000</td>\n",
       "      <td>1452.000000</td>\n",
       "      <td>1460.000000</td>\n",
       "      <td>...</td>\n",
       "      <td>1460.000000</td>\n",
       "      <td>1460.000000</td>\n",
       "      <td>1460.000000</td>\n",
       "      <td>1460.000000</td>\n",
       "      <td>1460.000000</td>\n",
       "      <td>1460.000000</td>\n",
       "      <td>1460.000000</td>\n",
       "      <td>1460.000000</td>\n",
       "      <td>1460.000000</td>\n",
       "      <td>1460.000000</td>\n",
       "    </tr>\n",
       "    <tr>\n",
       "      <th>mean</th>\n",
       "      <td>730.500000</td>\n",
       "      <td>56.897260</td>\n",
       "      <td>70.049958</td>\n",
       "      <td>10516.828082</td>\n",
       "      <td>6.099315</td>\n",
       "      <td>5.575342</td>\n",
       "      <td>1971.267808</td>\n",
       "      <td>1984.865753</td>\n",
       "      <td>103.685262</td>\n",
       "      <td>443.639726</td>\n",
       "      <td>...</td>\n",
       "      <td>94.244521</td>\n",
       "      <td>46.660274</td>\n",
       "      <td>21.954110</td>\n",
       "      <td>3.409589</td>\n",
       "      <td>15.060959</td>\n",
       "      <td>2.758904</td>\n",
       "      <td>43.489041</td>\n",
       "      <td>6.321918</td>\n",
       "      <td>2007.815753</td>\n",
       "      <td>180921.195890</td>\n",
       "    </tr>\n",
       "    <tr>\n",
       "      <th>std</th>\n",
       "      <td>421.610009</td>\n",
       "      <td>42.300571</td>\n",
       "      <td>24.284752</td>\n",
       "      <td>9981.264932</td>\n",
       "      <td>1.382997</td>\n",
       "      <td>1.112799</td>\n",
       "      <td>30.202904</td>\n",
       "      <td>20.645407</td>\n",
       "      <td>181.066207</td>\n",
       "      <td>456.098091</td>\n",
       "      <td>...</td>\n",
       "      <td>125.338794</td>\n",
       "      <td>66.256028</td>\n",
       "      <td>61.119149</td>\n",
       "      <td>29.317331</td>\n",
       "      <td>55.757415</td>\n",
       "      <td>40.177307</td>\n",
       "      <td>496.123024</td>\n",
       "      <td>2.703626</td>\n",
       "      <td>1.328095</td>\n",
       "      <td>79442.502883</td>\n",
       "    </tr>\n",
       "    <tr>\n",
       "      <th>min</th>\n",
       "      <td>1.000000</td>\n",
       "      <td>20.000000</td>\n",
       "      <td>21.000000</td>\n",
       "      <td>1300.000000</td>\n",
       "      <td>1.000000</td>\n",
       "      <td>1.000000</td>\n",
       "      <td>1872.000000</td>\n",
       "      <td>1950.000000</td>\n",
       "      <td>0.000000</td>\n",
       "      <td>0.000000</td>\n",
       "      <td>...</td>\n",
       "      <td>0.000000</td>\n",
       "      <td>0.000000</td>\n",
       "      <td>0.000000</td>\n",
       "      <td>0.000000</td>\n",
       "      <td>0.000000</td>\n",
       "      <td>0.000000</td>\n",
       "      <td>0.000000</td>\n",
       "      <td>1.000000</td>\n",
       "      <td>2006.000000</td>\n",
       "      <td>34900.000000</td>\n",
       "    </tr>\n",
       "    <tr>\n",
       "      <th>25%</th>\n",
       "      <td>365.750000</td>\n",
       "      <td>20.000000</td>\n",
       "      <td>59.000000</td>\n",
       "      <td>7553.500000</td>\n",
       "      <td>5.000000</td>\n",
       "      <td>5.000000</td>\n",
       "      <td>1954.000000</td>\n",
       "      <td>1967.000000</td>\n",
       "      <td>0.000000</td>\n",
       "      <td>0.000000</td>\n",
       "      <td>...</td>\n",
       "      <td>0.000000</td>\n",
       "      <td>0.000000</td>\n",
       "      <td>0.000000</td>\n",
       "      <td>0.000000</td>\n",
       "      <td>0.000000</td>\n",
       "      <td>0.000000</td>\n",
       "      <td>0.000000</td>\n",
       "      <td>5.000000</td>\n",
       "      <td>2007.000000</td>\n",
       "      <td>129975.000000</td>\n",
       "    </tr>\n",
       "    <tr>\n",
       "      <th>50%</th>\n",
       "      <td>730.500000</td>\n",
       "      <td>50.000000</td>\n",
       "      <td>69.000000</td>\n",
       "      <td>9478.500000</td>\n",
       "      <td>6.000000</td>\n",
       "      <td>5.000000</td>\n",
       "      <td>1973.000000</td>\n",
       "      <td>1994.000000</td>\n",
       "      <td>0.000000</td>\n",
       "      <td>383.500000</td>\n",
       "      <td>...</td>\n",
       "      <td>0.000000</td>\n",
       "      <td>25.000000</td>\n",
       "      <td>0.000000</td>\n",
       "      <td>0.000000</td>\n",
       "      <td>0.000000</td>\n",
       "      <td>0.000000</td>\n",
       "      <td>0.000000</td>\n",
       "      <td>6.000000</td>\n",
       "      <td>2008.000000</td>\n",
       "      <td>163000.000000</td>\n",
       "    </tr>\n",
       "    <tr>\n",
       "      <th>75%</th>\n",
       "      <td>1095.250000</td>\n",
       "      <td>70.000000</td>\n",
       "      <td>80.000000</td>\n",
       "      <td>11601.500000</td>\n",
       "      <td>7.000000</td>\n",
       "      <td>6.000000</td>\n",
       "      <td>2000.000000</td>\n",
       "      <td>2004.000000</td>\n",
       "      <td>166.000000</td>\n",
       "      <td>712.250000</td>\n",
       "      <td>...</td>\n",
       "      <td>168.000000</td>\n",
       "      <td>68.000000</td>\n",
       "      <td>0.000000</td>\n",
       "      <td>0.000000</td>\n",
       "      <td>0.000000</td>\n",
       "      <td>0.000000</td>\n",
       "      <td>0.000000</td>\n",
       "      <td>8.000000</td>\n",
       "      <td>2009.000000</td>\n",
       "      <td>214000.000000</td>\n",
       "    </tr>\n",
       "    <tr>\n",
       "      <th>max</th>\n",
       "      <td>1460.000000</td>\n",
       "      <td>190.000000</td>\n",
       "      <td>313.000000</td>\n",
       "      <td>215245.000000</td>\n",
       "      <td>10.000000</td>\n",
       "      <td>9.000000</td>\n",
       "      <td>2010.000000</td>\n",
       "      <td>2010.000000</td>\n",
       "      <td>1600.000000</td>\n",
       "      <td>5644.000000</td>\n",
       "      <td>...</td>\n",
       "      <td>857.000000</td>\n",
       "      <td>547.000000</td>\n",
       "      <td>552.000000</td>\n",
       "      <td>508.000000</td>\n",
       "      <td>480.000000</td>\n",
       "      <td>738.000000</td>\n",
       "      <td>15500.000000</td>\n",
       "      <td>12.000000</td>\n",
       "      <td>2010.000000</td>\n",
       "      <td>755000.000000</td>\n",
       "    </tr>\n",
       "  </tbody>\n",
       "</table>\n",
       "<p>8 rows × 38 columns</p>\n",
       "</div>"
      ],
      "text/plain": [
       "                Id   MSSubClass  LotFrontage        LotArea  OverallQual  \\\n",
       "count  1460.000000  1460.000000  1201.000000    1460.000000  1460.000000   \n",
       "mean    730.500000    56.897260    70.049958   10516.828082     6.099315   \n",
       "std     421.610009    42.300571    24.284752    9981.264932     1.382997   \n",
       "min       1.000000    20.000000    21.000000    1300.000000     1.000000   \n",
       "25%     365.750000    20.000000    59.000000    7553.500000     5.000000   \n",
       "50%     730.500000    50.000000    69.000000    9478.500000     6.000000   \n",
       "75%    1095.250000    70.000000    80.000000   11601.500000     7.000000   \n",
       "max    1460.000000   190.000000   313.000000  215245.000000    10.000000   \n",
       "\n",
       "       OverallCond    YearBuilt  YearRemodAdd   MasVnrArea   BsmtFinSF1  ...  \\\n",
       "count  1460.000000  1460.000000   1460.000000  1452.000000  1460.000000  ...   \n",
       "mean      5.575342  1971.267808   1984.865753   103.685262   443.639726  ...   \n",
       "std       1.112799    30.202904     20.645407   181.066207   456.098091  ...   \n",
       "min       1.000000  1872.000000   1950.000000     0.000000     0.000000  ...   \n",
       "25%       5.000000  1954.000000   1967.000000     0.000000     0.000000  ...   \n",
       "50%       5.000000  1973.000000   1994.000000     0.000000   383.500000  ...   \n",
       "75%       6.000000  2000.000000   2004.000000   166.000000   712.250000  ...   \n",
       "max       9.000000  2010.000000   2010.000000  1600.000000  5644.000000  ...   \n",
       "\n",
       "        WoodDeckSF  OpenPorchSF  EnclosedPorch    3SsnPorch  ScreenPorch  \\\n",
       "count  1460.000000  1460.000000    1460.000000  1460.000000  1460.000000   \n",
       "mean     94.244521    46.660274      21.954110     3.409589    15.060959   \n",
       "std     125.338794    66.256028      61.119149    29.317331    55.757415   \n",
       "min       0.000000     0.000000       0.000000     0.000000     0.000000   \n",
       "25%       0.000000     0.000000       0.000000     0.000000     0.000000   \n",
       "50%       0.000000    25.000000       0.000000     0.000000     0.000000   \n",
       "75%     168.000000    68.000000       0.000000     0.000000     0.000000   \n",
       "max     857.000000   547.000000     552.000000   508.000000   480.000000   \n",
       "\n",
       "          PoolArea       MiscVal       MoSold       YrSold      SalePrice  \n",
       "count  1460.000000   1460.000000  1460.000000  1460.000000    1460.000000  \n",
       "mean      2.758904     43.489041     6.321918  2007.815753  180921.195890  \n",
       "std      40.177307    496.123024     2.703626     1.328095   79442.502883  \n",
       "min       0.000000      0.000000     1.000000  2006.000000   34900.000000  \n",
       "25%       0.000000      0.000000     5.000000  2007.000000  129975.000000  \n",
       "50%       0.000000      0.000000     6.000000  2008.000000  163000.000000  \n",
       "75%       0.000000      0.000000     8.000000  2009.000000  214000.000000  \n",
       "max     738.000000  15500.000000    12.000000  2010.000000  755000.000000  \n",
       "\n",
       "[8 rows x 38 columns]"
      ]
     },
     "execution_count": 4,
     "metadata": {},
     "output_type": "execute_result"
    }
   ],
   "source": [
    "training.describe()"
   ]
  },
  {
   "cell_type": "code",
   "execution_count": 5,
   "metadata": {
    "execution": {
     "iopub.execute_input": "2021-06-20T05:01:42.078613Z",
     "iopub.status.busy": "2021-06-20T05:01:42.077873Z",
     "iopub.status.idle": "2021-06-20T05:01:42.081435Z",
     "shell.execute_reply": "2021-06-20T05:01:42.081855Z",
     "shell.execute_reply.started": "2021-06-20T04:52:20.162947Z"
    },
    "papermill": {
     "duration": 0.071944,
     "end_time": "2021-06-20T05:01:42.082043",
     "exception": false,
     "start_time": "2021-06-20T05:01:42.010099",
     "status": "completed"
    },
    "tags": []
   },
   "outputs": [
    {
     "data": {
      "text/plain": [
       "(1460, 81)"
      ]
     },
     "execution_count": 5,
     "metadata": {},
     "output_type": "execute_result"
    }
   ],
   "source": [
    "training.shape"
   ]
  },
  {
   "cell_type": "code",
   "execution_count": 6,
   "metadata": {
    "execution": {
     "iopub.execute_input": "2021-06-20T05:01:42.192121Z",
     "iopub.status.busy": "2021-06-20T05:01:42.191504Z",
     "iopub.status.idle": "2021-06-20T05:01:42.198524Z",
     "shell.execute_reply": "2021-06-20T05:01:42.199066Z",
     "shell.execute_reply.started": "2021-06-20T04:52:20.173161Z"
    },
    "papermill": {
     "duration": 0.06217,
     "end_time": "2021-06-20T05:01:42.199247",
     "exception": false,
     "start_time": "2021-06-20T05:01:42.137077",
     "status": "completed"
    },
    "tags": []
   },
   "outputs": [
    {
     "data": {
      "text/plain": [
       "Index(['Id', 'MSSubClass', 'MSZoning', 'LotFrontage', 'LotArea', 'Street',\n",
       "       'Alley', 'LotShape', 'LandContour', 'Utilities', 'LotConfig',\n",
       "       'LandSlope', 'Neighborhood', 'Condition1', 'Condition2', 'BldgType',\n",
       "       'HouseStyle', 'OverallQual', 'OverallCond', 'YearBuilt', 'YearRemodAdd',\n",
       "       'RoofStyle', 'RoofMatl', 'Exterior1st', 'Exterior2nd', 'MasVnrType',\n",
       "       'MasVnrArea', 'ExterQual', 'ExterCond', 'Foundation', 'BsmtQual',\n",
       "       'BsmtCond', 'BsmtExposure', 'BsmtFinType1', 'BsmtFinSF1',\n",
       "       'BsmtFinType2', 'BsmtFinSF2', 'BsmtUnfSF', 'TotalBsmtSF', 'Heating',\n",
       "       'HeatingQC', 'CentralAir', 'Electrical', '1stFlrSF', '2ndFlrSF',\n",
       "       'LowQualFinSF', 'GrLivArea', 'BsmtFullBath', 'BsmtHalfBath', 'FullBath',\n",
       "       'HalfBath', 'BedroomAbvGr', 'KitchenAbvGr', 'KitchenQual',\n",
       "       'TotRmsAbvGrd', 'Functional', 'Fireplaces', 'FireplaceQu', 'GarageType',\n",
       "       'GarageYrBlt', 'GarageFinish', 'GarageCars', 'GarageArea', 'GarageQual',\n",
       "       'GarageCond', 'PavedDrive', 'WoodDeckSF', 'OpenPorchSF',\n",
       "       'EnclosedPorch', '3SsnPorch', 'ScreenPorch', 'PoolArea', 'PoolQC',\n",
       "       'Fence', 'MiscFeature', 'MiscVal', 'MoSold', 'YrSold', 'SaleType',\n",
       "       'SaleCondition', 'SalePrice'],\n",
       "      dtype='object')"
      ]
     },
     "execution_count": 6,
     "metadata": {},
     "output_type": "execute_result"
    }
   ],
   "source": [
    "training.keys()"
   ]
  },
  {
   "cell_type": "code",
   "execution_count": 7,
   "metadata": {
    "execution": {
     "iopub.execute_input": "2021-06-20T05:01:42.305484Z",
     "iopub.status.busy": "2021-06-20T05:01:42.304796Z",
     "iopub.status.idle": "2021-06-20T05:01:42.322302Z",
     "shell.execute_reply": "2021-06-20T05:01:42.321727Z",
     "shell.execute_reply.started": "2021-06-20T04:52:20.191505Z"
    },
    "papermill": {
     "duration": 0.071584,
     "end_time": "2021-06-20T05:01:42.322449",
     "exception": false,
     "start_time": "2021-06-20T05:01:42.250865",
     "status": "completed"
    },
    "tags": []
   },
   "outputs": [
    {
     "data": {
      "text/plain": [
       "SalePrice        1.000000\n",
       "OverallQual      0.790982\n",
       "GrLivArea        0.708624\n",
       "GarageCars       0.640409\n",
       "GarageArea       0.623431\n",
       "TotalBsmtSF      0.613581\n",
       "1stFlrSF         0.605852\n",
       "FullBath         0.560664\n",
       "TotRmsAbvGrd     0.533723\n",
       "YearBuilt        0.522897\n",
       "YearRemodAdd     0.507101\n",
       "GarageYrBlt      0.486362\n",
       "MasVnrArea       0.477493\n",
       "Fireplaces       0.466929\n",
       "BsmtFinSF1       0.386420\n",
       "LotFrontage      0.351799\n",
       "WoodDeckSF       0.324413\n",
       "2ndFlrSF         0.319334\n",
       "OpenPorchSF      0.315856\n",
       "HalfBath         0.284108\n",
       "LotArea          0.263843\n",
       "BsmtFullBath     0.227122\n",
       "BsmtUnfSF        0.214479\n",
       "BedroomAbvGr     0.168213\n",
       "ScreenPorch      0.111447\n",
       "PoolArea         0.092404\n",
       "MoSold           0.046432\n",
       "3SsnPorch        0.044584\n",
       "BsmtFinSF2      -0.011378\n",
       "BsmtHalfBath    -0.016844\n",
       "MiscVal         -0.021190\n",
       "Id              -0.021917\n",
       "LowQualFinSF    -0.025606\n",
       "YrSold          -0.028923\n",
       "OverallCond     -0.077856\n",
       "MSSubClass      -0.084284\n",
       "EnclosedPorch   -0.128578\n",
       "KitchenAbvGr    -0.135907\n",
       "Name: SalePrice, dtype: float64"
      ]
     },
     "execution_count": 7,
     "metadata": {},
     "output_type": "execute_result"
    }
   ],
   "source": [
    "correlations = training.corr()\n",
    "correlations = correlations[\"SalePrice\"].sort_values(ascending=False)\n",
    "features = correlations.index[1:6]\n",
    "correlations"
   ]
  },
  {
   "cell_type": "markdown",
   "metadata": {
    "papermill": {
     "duration": 0.050699,
     "end_time": "2021-06-20T05:01:42.424750",
     "exception": false,
     "start_time": "2021-06-20T05:01:42.374051",
     "status": "completed"
    },
    "tags": []
   },
   "source": [
    "## 3. Imputing Null Values "
   ]
  },
  {
   "cell_type": "code",
   "execution_count": 8,
   "metadata": {
    "execution": {
     "iopub.execute_input": "2021-06-20T05:01:42.539763Z",
     "iopub.status.busy": "2021-06-20T05:01:42.539036Z",
     "iopub.status.idle": "2021-06-20T05:01:42.553017Z",
     "shell.execute_reply": "2021-06-20T05:01:42.552419Z",
     "shell.execute_reply.started": "2021-06-20T04:52:20.213977Z"
    },
    "papermill": {
     "duration": 0.0771,
     "end_time": "2021-06-20T05:01:42.553158",
     "exception": false,
     "start_time": "2021-06-20T05:01:42.476058",
     "status": "completed"
    },
    "tags": []
   },
   "outputs": [],
   "source": [
    "training_null = pd.isnull(training).sum()\n",
    "testing_null = pd.isnull(testing).sum()\n",
    "\n",
    "null = pd.concat([training_null, testing_null], axis=1, keys=[\"Training\", \"Testing\"])"
   ]
  },
  {
   "cell_type": "code",
   "execution_count": 9,
   "metadata": {
    "execution": {
     "iopub.execute_input": "2021-06-20T05:01:42.662831Z",
     "iopub.status.busy": "2021-06-20T05:01:42.662220Z",
     "iopub.status.idle": "2021-06-20T05:01:42.680657Z",
     "shell.execute_reply": "2021-06-20T05:01:42.680118Z",
     "shell.execute_reply.started": "2021-06-20T04:52:20.237334Z"
    },
    "papermill": {
     "duration": 0.076439,
     "end_time": "2021-06-20T05:01:42.680788",
     "exception": false,
     "start_time": "2021-06-20T05:01:42.604349",
     "status": "completed"
    },
    "tags": []
   },
   "outputs": [],
   "source": [
    "null_many = null[null.sum(axis=1) > 200]  #a lot of missing values\n",
    "null_few = null[(null.sum(axis=1) > 0) & (null.sum(axis=1) < 200)]  #not as much missing values"
   ]
  },
  {
   "cell_type": "code",
   "execution_count": 10,
   "metadata": {
    "execution": {
     "iopub.execute_input": "2021-06-20T05:01:42.794024Z",
     "iopub.status.busy": "2021-06-20T05:01:42.793003Z",
     "iopub.status.idle": "2021-06-20T05:01:42.797052Z",
     "shell.execute_reply": "2021-06-20T05:01:42.796520Z",
     "shell.execute_reply.started": "2021-06-20T04:52:20.250192Z"
    },
    "papermill": {
     "duration": 0.064616,
     "end_time": "2021-06-20T05:01:42.797199",
     "exception": false,
     "start_time": "2021-06-20T05:01:42.732583",
     "status": "completed"
    },
    "tags": []
   },
   "outputs": [
    {
     "data": {
      "text/html": [
       "<div>\n",
       "<style scoped>\n",
       "    .dataframe tbody tr th:only-of-type {\n",
       "        vertical-align: middle;\n",
       "    }\n",
       "\n",
       "    .dataframe tbody tr th {\n",
       "        vertical-align: top;\n",
       "    }\n",
       "\n",
       "    .dataframe thead th {\n",
       "        text-align: right;\n",
       "    }\n",
       "</style>\n",
       "<table border=\"1\" class=\"dataframe\">\n",
       "  <thead>\n",
       "    <tr style=\"text-align: right;\">\n",
       "      <th></th>\n",
       "      <th>Training</th>\n",
       "      <th>Testing</th>\n",
       "    </tr>\n",
       "  </thead>\n",
       "  <tbody>\n",
       "    <tr>\n",
       "      <th>LotFrontage</th>\n",
       "      <td>259</td>\n",
       "      <td>227.0</td>\n",
       "    </tr>\n",
       "    <tr>\n",
       "      <th>Alley</th>\n",
       "      <td>1369</td>\n",
       "      <td>1352.0</td>\n",
       "    </tr>\n",
       "    <tr>\n",
       "      <th>FireplaceQu</th>\n",
       "      <td>690</td>\n",
       "      <td>730.0</td>\n",
       "    </tr>\n",
       "    <tr>\n",
       "      <th>PoolQC</th>\n",
       "      <td>1453</td>\n",
       "      <td>1456.0</td>\n",
       "    </tr>\n",
       "    <tr>\n",
       "      <th>Fence</th>\n",
       "      <td>1179</td>\n",
       "      <td>1169.0</td>\n",
       "    </tr>\n",
       "    <tr>\n",
       "      <th>MiscFeature</th>\n",
       "      <td>1406</td>\n",
       "      <td>1408.0</td>\n",
       "    </tr>\n",
       "  </tbody>\n",
       "</table>\n",
       "</div>"
      ],
      "text/plain": [
       "             Training  Testing\n",
       "LotFrontage       259    227.0\n",
       "Alley            1369   1352.0\n",
       "FireplaceQu       690    730.0\n",
       "PoolQC           1453   1456.0\n",
       "Fence            1179   1169.0\n",
       "MiscFeature      1406   1408.0"
      ]
     },
     "execution_count": 10,
     "metadata": {},
     "output_type": "execute_result"
    }
   ],
   "source": [
    "null_many"
   ]
  },
  {
   "cell_type": "code",
   "execution_count": 11,
   "metadata": {
    "execution": {
     "iopub.execute_input": "2021-06-20T05:01:42.907554Z",
     "iopub.status.busy": "2021-06-20T05:01:42.906761Z",
     "iopub.status.idle": "2021-06-20T05:01:42.909853Z",
     "shell.execute_reply": "2021-06-20T05:01:42.909362Z",
     "shell.execute_reply.started": "2021-06-20T04:52:20.271301Z"
    },
    "papermill": {
     "duration": 0.060952,
     "end_time": "2021-06-20T05:01:42.910018",
     "exception": false,
     "start_time": "2021-06-20T05:01:42.849066",
     "status": "completed"
    },
    "tags": []
   },
   "outputs": [],
   "source": [
    "#you can find these features on the description data file provided\n",
    "\n",
    "null_has_meaning = [\"Alley\", \"BsmtQual\", \"BsmtCond\", \"BsmtExposure\", \"BsmtFinType1\", \"BsmtFinType2\", \"FireplaceQu\", \"GarageType\", \"GarageFinish\", \"GarageQual\", \"GarageCond\", \"PoolQC\", \"Fence\", \"MiscFeature\"]"
   ]
  },
  {
   "cell_type": "code",
   "execution_count": 12,
   "metadata": {
    "execution": {
     "iopub.execute_input": "2021-06-20T05:01:43.019251Z",
     "iopub.status.busy": "2021-06-20T05:01:43.018278Z",
     "iopub.status.idle": "2021-06-20T05:01:43.035488Z",
     "shell.execute_reply": "2021-06-20T05:01:43.035988Z",
     "shell.execute_reply.started": "2021-06-20T04:52:20.282052Z"
    },
    "papermill": {
     "duration": 0.073288,
     "end_time": "2021-06-20T05:01:43.036156",
     "exception": false,
     "start_time": "2021-06-20T05:01:42.962868",
     "status": "completed"
    },
    "tags": []
   },
   "outputs": [],
   "source": [
    "for i in null_has_meaning:\n",
    "    training[i].fillna(\"None\", inplace=True)\n",
    "    testing[i].fillna(\"None\", inplace=True)"
   ]
  },
  {
   "cell_type": "markdown",
   "metadata": {
    "papermill": {
     "duration": 0.051484,
     "end_time": "2021-06-20T05:01:43.139318",
     "exception": false,
     "start_time": "2021-06-20T05:01:43.087834",
     "status": "completed"
    },
    "tags": []
   },
   "source": [
    "## Imputing \"Real\" NaN Values"
   ]
  },
  {
   "cell_type": "code",
   "execution_count": 13,
   "metadata": {
    "execution": {
     "iopub.execute_input": "2021-06-20T05:01:43.246446Z",
     "iopub.status.busy": "2021-06-20T05:01:43.245434Z",
     "iopub.status.idle": "2021-06-20T05:01:43.658377Z",
     "shell.execute_reply": "2021-06-20T05:01:43.657491Z",
     "shell.execute_reply.started": "2021-06-20T04:55:45.616742Z"
    },
    "papermill": {
     "duration": 0.467534,
     "end_time": "2021-06-20T05:01:43.658572",
     "exception": false,
     "start_time": "2021-06-20T05:01:43.191038",
     "status": "completed"
    },
    "tags": []
   },
   "outputs": [],
   "source": [
    "#from sklearn.preprocessing import Imputer\n",
    "from sklearn.impute import SimpleImputer\n",
    "\n",
    "#imputer = Imputer(strategy=\"median\")\n",
    "imputer = SimpleImputer(missing_values=np.nan, strategy='median')"
   ]
  },
  {
   "cell_type": "code",
   "execution_count": 14,
   "metadata": {
    "execution": {
     "iopub.execute_input": "2021-06-20T05:01:43.794052Z",
     "iopub.status.busy": "2021-06-20T05:01:43.793407Z",
     "iopub.status.idle": "2021-06-20T05:01:43.808304Z",
     "shell.execute_reply": "2021-06-20T05:01:43.807729Z",
     "shell.execute_reply.started": "2021-06-20T04:55:46.822979Z"
    },
    "papermill": {
     "duration": 0.080033,
     "end_time": "2021-06-20T05:01:43.808446",
     "exception": false,
     "start_time": "2021-06-20T05:01:43.728413",
     "status": "completed"
    },
    "tags": []
   },
   "outputs": [],
   "source": [
    "training_null = pd.isnull(training).sum()\n",
    "testing_null = pd.isnull(testing).sum()\n",
    "\n",
    "null = pd.concat([training_null, testing_null], axis=1, keys=[\"Training\", \"Testing\"])"
   ]
  },
  {
   "cell_type": "code",
   "execution_count": 15,
   "metadata": {
    "execution": {
     "iopub.execute_input": "2021-06-20T05:01:43.916162Z",
     "iopub.status.busy": "2021-06-20T05:01:43.915436Z",
     "iopub.status.idle": "2021-06-20T05:01:43.922607Z",
     "shell.execute_reply": "2021-06-20T05:01:43.923073Z",
     "shell.execute_reply.started": "2021-06-20T04:55:47.491898Z"
    },
    "papermill": {
     "duration": 0.062537,
     "end_time": "2021-06-20T05:01:43.923241",
     "exception": false,
     "start_time": "2021-06-20T05:01:43.860704",
     "status": "completed"
    },
    "tags": []
   },
   "outputs": [],
   "source": [
    "null_many = null[null.sum(axis=1) > 200]  #a lot of missing values\n",
    "null_few = null[(null.sum(axis=1) > 0) & (null.sum(axis=1) < 200)]  #few missing values"
   ]
  },
  {
   "cell_type": "code",
   "execution_count": 16,
   "metadata": {
    "execution": {
     "iopub.execute_input": "2021-06-20T05:01:44.031559Z",
     "iopub.status.busy": "2021-06-20T05:01:44.030920Z",
     "iopub.status.idle": "2021-06-20T05:01:44.038666Z",
     "shell.execute_reply": "2021-06-20T05:01:44.039146Z",
     "shell.execute_reply.started": "2021-06-20T04:55:47.717720Z"
    },
    "papermill": {
     "duration": 0.063607,
     "end_time": "2021-06-20T05:01:44.039324",
     "exception": false,
     "start_time": "2021-06-20T05:01:43.975717",
     "status": "completed"
    },
    "tags": []
   },
   "outputs": [
    {
     "data": {
      "text/html": [
       "<div>\n",
       "<style scoped>\n",
       "    .dataframe tbody tr th:only-of-type {\n",
       "        vertical-align: middle;\n",
       "    }\n",
       "\n",
       "    .dataframe tbody tr th {\n",
       "        vertical-align: top;\n",
       "    }\n",
       "\n",
       "    .dataframe thead th {\n",
       "        text-align: right;\n",
       "    }\n",
       "</style>\n",
       "<table border=\"1\" class=\"dataframe\">\n",
       "  <thead>\n",
       "    <tr style=\"text-align: right;\">\n",
       "      <th></th>\n",
       "      <th>Training</th>\n",
       "      <th>Testing</th>\n",
       "    </tr>\n",
       "  </thead>\n",
       "  <tbody>\n",
       "    <tr>\n",
       "      <th>LotFrontage</th>\n",
       "      <td>259</td>\n",
       "      <td>227.0</td>\n",
       "    </tr>\n",
       "  </tbody>\n",
       "</table>\n",
       "</div>"
      ],
      "text/plain": [
       "             Training  Testing\n",
       "LotFrontage       259    227.0"
      ]
     },
     "execution_count": 16,
     "metadata": {},
     "output_type": "execute_result"
    }
   ],
   "source": [
    "null_many"
   ]
  },
  {
   "cell_type": "code",
   "execution_count": 17,
   "metadata": {
    "execution": {
     "iopub.execute_input": "2021-06-20T05:01:44.148867Z",
     "iopub.status.busy": "2021-06-20T05:01:44.148184Z",
     "iopub.status.idle": "2021-06-20T05:01:44.156019Z",
     "shell.execute_reply": "2021-06-20T05:01:44.156463Z",
     "shell.execute_reply.started": "2021-06-20T04:55:47.966139Z"
    },
    "papermill": {
     "duration": 0.064605,
     "end_time": "2021-06-20T05:01:44.156632",
     "exception": false,
     "start_time": "2021-06-20T05:01:44.092027",
     "status": "completed"
    },
    "tags": []
   },
   "outputs": [],
   "source": [
    "training.drop(\"LotFrontage\", axis=1, inplace=True)\n",
    "testing.drop(\"LotFrontage\", axis=1, inplace=True)"
   ]
  },
  {
   "cell_type": "code",
   "execution_count": 18,
   "metadata": {
    "execution": {
     "iopub.execute_input": "2021-06-20T05:01:44.263863Z",
     "iopub.status.busy": "2021-06-20T05:01:44.263281Z",
     "iopub.status.idle": "2021-06-20T05:01:44.274240Z",
     "shell.execute_reply": "2021-06-20T05:01:44.274670Z",
     "shell.execute_reply.started": "2021-06-20T04:55:48.190210Z"
    },
    "papermill": {
     "duration": 0.065664,
     "end_time": "2021-06-20T05:01:44.274833",
     "exception": false,
     "start_time": "2021-06-20T05:01:44.209169",
     "status": "completed"
    },
    "tags": []
   },
   "outputs": [
    {
     "data": {
      "text/html": [
       "<div>\n",
       "<style scoped>\n",
       "    .dataframe tbody tr th:only-of-type {\n",
       "        vertical-align: middle;\n",
       "    }\n",
       "\n",
       "    .dataframe tbody tr th {\n",
       "        vertical-align: top;\n",
       "    }\n",
       "\n",
       "    .dataframe thead th {\n",
       "        text-align: right;\n",
       "    }\n",
       "</style>\n",
       "<table border=\"1\" class=\"dataframe\">\n",
       "  <thead>\n",
       "    <tr style=\"text-align: right;\">\n",
       "      <th></th>\n",
       "      <th>Training</th>\n",
       "      <th>Testing</th>\n",
       "    </tr>\n",
       "  </thead>\n",
       "  <tbody>\n",
       "    <tr>\n",
       "      <th>MSZoning</th>\n",
       "      <td>0</td>\n",
       "      <td>4.0</td>\n",
       "    </tr>\n",
       "    <tr>\n",
       "      <th>Utilities</th>\n",
       "      <td>0</td>\n",
       "      <td>2.0</td>\n",
       "    </tr>\n",
       "    <tr>\n",
       "      <th>Exterior1st</th>\n",
       "      <td>0</td>\n",
       "      <td>1.0</td>\n",
       "    </tr>\n",
       "    <tr>\n",
       "      <th>Exterior2nd</th>\n",
       "      <td>0</td>\n",
       "      <td>1.0</td>\n",
       "    </tr>\n",
       "    <tr>\n",
       "      <th>MasVnrType</th>\n",
       "      <td>8</td>\n",
       "      <td>16.0</td>\n",
       "    </tr>\n",
       "    <tr>\n",
       "      <th>MasVnrArea</th>\n",
       "      <td>8</td>\n",
       "      <td>15.0</td>\n",
       "    </tr>\n",
       "    <tr>\n",
       "      <th>BsmtFinSF1</th>\n",
       "      <td>0</td>\n",
       "      <td>1.0</td>\n",
       "    </tr>\n",
       "    <tr>\n",
       "      <th>BsmtFinSF2</th>\n",
       "      <td>0</td>\n",
       "      <td>1.0</td>\n",
       "    </tr>\n",
       "    <tr>\n",
       "      <th>BsmtUnfSF</th>\n",
       "      <td>0</td>\n",
       "      <td>1.0</td>\n",
       "    </tr>\n",
       "    <tr>\n",
       "      <th>TotalBsmtSF</th>\n",
       "      <td>0</td>\n",
       "      <td>1.0</td>\n",
       "    </tr>\n",
       "    <tr>\n",
       "      <th>Electrical</th>\n",
       "      <td>1</td>\n",
       "      <td>0.0</td>\n",
       "    </tr>\n",
       "    <tr>\n",
       "      <th>BsmtFullBath</th>\n",
       "      <td>0</td>\n",
       "      <td>2.0</td>\n",
       "    </tr>\n",
       "    <tr>\n",
       "      <th>BsmtHalfBath</th>\n",
       "      <td>0</td>\n",
       "      <td>2.0</td>\n",
       "    </tr>\n",
       "    <tr>\n",
       "      <th>KitchenQual</th>\n",
       "      <td>0</td>\n",
       "      <td>1.0</td>\n",
       "    </tr>\n",
       "    <tr>\n",
       "      <th>Functional</th>\n",
       "      <td>0</td>\n",
       "      <td>2.0</td>\n",
       "    </tr>\n",
       "    <tr>\n",
       "      <th>GarageYrBlt</th>\n",
       "      <td>81</td>\n",
       "      <td>78.0</td>\n",
       "    </tr>\n",
       "    <tr>\n",
       "      <th>GarageCars</th>\n",
       "      <td>0</td>\n",
       "      <td>1.0</td>\n",
       "    </tr>\n",
       "    <tr>\n",
       "      <th>GarageArea</th>\n",
       "      <td>0</td>\n",
       "      <td>1.0</td>\n",
       "    </tr>\n",
       "    <tr>\n",
       "      <th>SaleType</th>\n",
       "      <td>0</td>\n",
       "      <td>1.0</td>\n",
       "    </tr>\n",
       "  </tbody>\n",
       "</table>\n",
       "</div>"
      ],
      "text/plain": [
       "              Training  Testing\n",
       "MSZoning             0      4.0\n",
       "Utilities            0      2.0\n",
       "Exterior1st          0      1.0\n",
       "Exterior2nd          0      1.0\n",
       "MasVnrType           8     16.0\n",
       "MasVnrArea           8     15.0\n",
       "BsmtFinSF1           0      1.0\n",
       "BsmtFinSF2           0      1.0\n",
       "BsmtUnfSF            0      1.0\n",
       "TotalBsmtSF          0      1.0\n",
       "Electrical           1      0.0\n",
       "BsmtFullBath         0      2.0\n",
       "BsmtHalfBath         0      2.0\n",
       "KitchenQual          0      1.0\n",
       "Functional           0      2.0\n",
       "GarageYrBlt         81     78.0\n",
       "GarageCars           0      1.0\n",
       "GarageArea           0      1.0\n",
       "SaleType             0      1.0"
      ]
     },
     "execution_count": 18,
     "metadata": {},
     "output_type": "execute_result"
    }
   ],
   "source": [
    "null_few"
   ]
  },
  {
   "cell_type": "code",
   "execution_count": 19,
   "metadata": {
    "execution": {
     "iopub.execute_input": "2021-06-20T05:01:44.383301Z",
     "iopub.status.busy": "2021-06-20T05:01:44.382631Z",
     "iopub.status.idle": "2021-06-20T05:01:44.391677Z",
     "shell.execute_reply": "2021-06-20T05:01:44.392191Z",
     "shell.execute_reply.started": "2021-06-20T04:55:48.437625Z"
    },
    "papermill": {
     "duration": 0.065041,
     "end_time": "2021-06-20T05:01:44.392366",
     "exception": false,
     "start_time": "2021-06-20T05:01:44.327325",
     "status": "completed"
    },
    "tags": []
   },
   "outputs": [],
   "source": [
    "training[\"GarageYrBlt\"].fillna(training[\"GarageYrBlt\"].median(), inplace=True)\n",
    "testing[\"GarageYrBlt\"].fillna(testing[\"GarageYrBlt\"].median(), inplace=True)\n",
    "training[\"MasVnrArea\"].fillna(training[\"MasVnrArea\"].median(), inplace=True)\n",
    "testing[\"MasVnrArea\"].fillna(testing[\"MasVnrArea\"].median(), inplace=True)\n",
    "training[\"MasVnrType\"].fillna(\"None\", inplace=True)\n",
    "testing[\"MasVnrType\"].fillna(\"None\", inplace=True)"
   ]
  },
  {
   "cell_type": "code",
   "execution_count": 20,
   "metadata": {
    "execution": {
     "iopub.execute_input": "2021-06-20T05:01:44.501503Z",
     "iopub.status.busy": "2021-06-20T05:01:44.500870Z",
     "iopub.status.idle": "2021-06-20T05:01:44.507775Z",
     "shell.execute_reply": "2021-06-20T05:01:44.508243Z",
     "shell.execute_reply.started": "2021-06-20T04:55:48.622852Z"
    },
    "papermill": {
     "duration": 0.063288,
     "end_time": "2021-06-20T05:01:44.508410",
     "exception": false,
     "start_time": "2021-06-20T05:01:44.445122",
     "status": "completed"
    },
    "tags": []
   },
   "outputs": [],
   "source": [
    "types_train = training.dtypes #type of each feature in data: int, float, object\n",
    "num_train = types_train[(types_train == int) | (types_train == float)] #numerical values are either type int or float\n",
    "cat_train = types_train[types_train == object] #categorical values are type object\n",
    "\n",
    "#we do the same for the test set\n",
    "types_test = testing.dtypes\n",
    "num_test = types_test[(types_test == int) | (types_test == float)]\n",
    "cat_test = types_test[types_test == object]"
   ]
  },
  {
   "cell_type": "markdown",
   "metadata": {
    "papermill": {
     "duration": 0.052044,
     "end_time": "2021-06-20T05:01:44.613812",
     "exception": false,
     "start_time": "2021-06-20T05:01:44.561768",
     "status": "completed"
    },
    "tags": []
   },
   "source": [
    "Numerical Imputing "
   ]
  },
  {
   "cell_type": "code",
   "execution_count": 21,
   "metadata": {
    "execution": {
     "iopub.execute_input": "2021-06-20T05:01:44.723749Z",
     "iopub.status.busy": "2021-06-20T05:01:44.722801Z",
     "iopub.status.idle": "2021-06-20T05:01:44.727033Z",
     "shell.execute_reply": "2021-06-20T05:01:44.727443Z",
     "shell.execute_reply.started": "2021-06-20T04:55:49.008821Z"
    },
    "papermill": {
     "duration": 0.060876,
     "end_time": "2021-06-20T05:01:44.727613",
     "exception": false,
     "start_time": "2021-06-20T05:01:44.666737",
     "status": "completed"
    },
    "tags": []
   },
   "outputs": [],
   "source": [
    "#we should convert num_train and num_test to a list to make it easier to work with\n",
    "numerical_values_train = list(num_train.index)\n",
    "numerical_values_test = list(num_test.index)"
   ]
  },
  {
   "cell_type": "code",
   "execution_count": 22,
   "metadata": {
    "execution": {
     "iopub.execute_input": "2021-06-20T05:01:44.836750Z",
     "iopub.status.busy": "2021-06-20T05:01:44.835756Z",
     "iopub.status.idle": "2021-06-20T05:01:44.841837Z",
     "shell.execute_reply": "2021-06-20T05:01:44.842561Z",
     "shell.execute_reply.started": "2021-06-20T04:55:49.202470Z"
    },
    "papermill": {
     "duration": 0.062588,
     "end_time": "2021-06-20T05:01:44.842777",
     "exception": false,
     "start_time": "2021-06-20T05:01:44.780189",
     "status": "completed"
    },
    "tags": []
   },
   "outputs": [
    {
     "name": "stdout",
     "output_type": "stream",
     "text": [
      "['Id', 'MSSubClass', 'LotArea', 'OverallQual', 'OverallCond', 'YearBuilt', 'YearRemodAdd', 'MasVnrArea', 'BsmtFinSF1', 'BsmtFinSF2', 'BsmtUnfSF', 'TotalBsmtSF', '1stFlrSF', '2ndFlrSF', 'LowQualFinSF', 'GrLivArea', 'BsmtFullBath', 'BsmtHalfBath', 'FullBath', 'HalfBath', 'BedroomAbvGr', 'KitchenAbvGr', 'TotRmsAbvGrd', 'Fireplaces', 'GarageYrBlt', 'GarageCars', 'GarageArea', 'WoodDeckSF', 'OpenPorchSF', 'EnclosedPorch', '3SsnPorch', 'ScreenPorch', 'PoolArea', 'MiscVal', 'MoSold', 'YrSold', 'SalePrice']\n"
     ]
    }
   ],
   "source": [
    "print(numerical_values_train)"
   ]
  },
  {
   "cell_type": "code",
   "execution_count": 23,
   "metadata": {
    "execution": {
     "iopub.execute_input": "2021-06-20T05:01:44.955795Z",
     "iopub.status.busy": "2021-06-20T05:01:44.955169Z",
     "iopub.status.idle": "2021-06-20T05:01:44.958182Z",
     "shell.execute_reply": "2021-06-20T05:01:44.957543Z",
     "shell.execute_reply.started": "2021-06-20T04:55:49.402375Z"
    },
    "papermill": {
     "duration": 0.062113,
     "end_time": "2021-06-20T05:01:44.958315",
     "exception": false,
     "start_time": "2021-06-20T05:01:44.896202",
     "status": "completed"
    },
    "tags": []
   },
   "outputs": [],
   "source": [
    "fill_num = []\n",
    "\n",
    "for i in numerical_values_train:\n",
    "    if i in list(null_few.index):\n",
    "        fill_num.append(i)"
   ]
  },
  {
   "cell_type": "code",
   "execution_count": 24,
   "metadata": {
    "execution": {
     "iopub.execute_input": "2021-06-20T05:01:45.071249Z",
     "iopub.status.busy": "2021-06-20T05:01:45.070433Z",
     "iopub.status.idle": "2021-06-20T05:01:45.073632Z",
     "shell.execute_reply": "2021-06-20T05:01:45.074297Z",
     "shell.execute_reply.started": "2021-06-20T04:55:49.613848Z"
    },
    "papermill": {
     "duration": 0.063353,
     "end_time": "2021-06-20T05:01:45.074511",
     "exception": false,
     "start_time": "2021-06-20T05:01:45.011158",
     "status": "completed"
    },
    "tags": []
   },
   "outputs": [
    {
     "name": "stdout",
     "output_type": "stream",
     "text": [
      "['MasVnrArea', 'BsmtFinSF1', 'BsmtFinSF2', 'BsmtUnfSF', 'TotalBsmtSF', 'BsmtFullBath', 'BsmtHalfBath', 'GarageYrBlt', 'GarageCars', 'GarageArea']\n"
     ]
    }
   ],
   "source": [
    "print(fill_num)"
   ]
  },
  {
   "cell_type": "code",
   "execution_count": 25,
   "metadata": {
    "execution": {
     "iopub.execute_input": "2021-06-20T05:01:45.190205Z",
     "iopub.status.busy": "2021-06-20T05:01:45.189215Z",
     "iopub.status.idle": "2021-06-20T05:01:45.197359Z",
     "shell.execute_reply": "2021-06-20T05:01:45.196635Z",
     "shell.execute_reply.started": "2021-06-20T04:55:49.802799Z"
    },
    "papermill": {
     "duration": 0.067171,
     "end_time": "2021-06-20T05:01:45.197500",
     "exception": false,
     "start_time": "2021-06-20T05:01:45.130329",
     "status": "completed"
    },
    "tags": []
   },
   "outputs": [],
   "source": [
    "for i in fill_num:\n",
    "    training[i].fillna(training[i].median(), inplace=True)\n",
    "    testing[i].fillna(testing[i].median(), inplace=True)"
   ]
  },
  {
   "cell_type": "markdown",
   "metadata": {
    "papermill": {
     "duration": 0.053114,
     "end_time": "2021-06-20T05:01:45.304414",
     "exception": false,
     "start_time": "2021-06-20T05:01:45.251300",
     "status": "completed"
    },
    "tags": []
   },
   "source": [
    "Categorical Imputing "
   ]
  },
  {
   "cell_type": "code",
   "execution_count": 26,
   "metadata": {
    "execution": {
     "iopub.execute_input": "2021-06-20T05:01:45.418874Z",
     "iopub.status.busy": "2021-06-20T05:01:45.418245Z",
     "iopub.status.idle": "2021-06-20T05:01:45.421814Z",
     "shell.execute_reply": "2021-06-20T05:01:45.421344Z",
     "shell.execute_reply.started": "2021-06-20T04:55:50.209201Z"
    },
    "papermill": {
     "duration": 0.061681,
     "end_time": "2021-06-20T05:01:45.421990",
     "exception": false,
     "start_time": "2021-06-20T05:01:45.360309",
     "status": "completed"
    },
    "tags": []
   },
   "outputs": [],
   "source": [
    "categorical_values_train = list(cat_train.index)\n",
    "categorical_values_test = list(cat_test.index)"
   ]
  },
  {
   "cell_type": "code",
   "execution_count": 27,
   "metadata": {
    "execution": {
     "iopub.execute_input": "2021-06-20T05:01:45.533207Z",
     "iopub.status.busy": "2021-06-20T05:01:45.532165Z",
     "iopub.status.idle": "2021-06-20T05:01:45.536800Z",
     "shell.execute_reply": "2021-06-20T05:01:45.537300Z",
     "shell.execute_reply.started": "2021-06-20T04:55:50.449687Z"
    },
    "papermill": {
     "duration": 0.06227,
     "end_time": "2021-06-20T05:01:45.537461",
     "exception": false,
     "start_time": "2021-06-20T05:01:45.475191",
     "status": "completed"
    },
    "tags": []
   },
   "outputs": [
    {
     "name": "stdout",
     "output_type": "stream",
     "text": [
      "['MSZoning', 'Street', 'Alley', 'LotShape', 'LandContour', 'Utilities', 'LotConfig', 'LandSlope', 'Neighborhood', 'Condition1', 'Condition2', 'BldgType', 'HouseStyle', 'RoofStyle', 'RoofMatl', 'Exterior1st', 'Exterior2nd', 'MasVnrType', 'ExterQual', 'ExterCond', 'Foundation', 'BsmtQual', 'BsmtCond', 'BsmtExposure', 'BsmtFinType1', 'BsmtFinType2', 'Heating', 'HeatingQC', 'CentralAir', 'Electrical', 'KitchenQual', 'Functional', 'FireplaceQu', 'GarageType', 'GarageFinish', 'GarageQual', 'GarageCond', 'PavedDrive', 'PoolQC', 'Fence', 'MiscFeature', 'SaleType', 'SaleCondition']\n"
     ]
    }
   ],
   "source": [
    "print(categorical_values_train) "
   ]
  },
  {
   "cell_type": "code",
   "execution_count": 28,
   "metadata": {
    "execution": {
     "iopub.execute_input": "2021-06-20T05:01:45.648623Z",
     "iopub.status.busy": "2021-06-20T05:01:45.647663Z",
     "iopub.status.idle": "2021-06-20T05:01:45.652527Z",
     "shell.execute_reply": "2021-06-20T05:01:45.653080Z",
     "shell.execute_reply.started": "2021-06-20T04:55:50.582795Z"
    },
    "papermill": {
     "duration": 0.061868,
     "end_time": "2021-06-20T05:01:45.653249",
     "exception": false,
     "start_time": "2021-06-20T05:01:45.591381",
     "status": "completed"
    },
    "tags": []
   },
   "outputs": [],
   "source": [
    "fill_cat = []\n",
    "\n",
    "for i in categorical_values_train:\n",
    "    if i in list(null_few.index):\n",
    "        fill_cat.append(i)"
   ]
  },
  {
   "cell_type": "code",
   "execution_count": 29,
   "metadata": {
    "execution": {
     "iopub.execute_input": "2021-06-20T05:01:45.764833Z",
     "iopub.status.busy": "2021-06-20T05:01:45.763913Z",
     "iopub.status.idle": "2021-06-20T05:01:45.769729Z",
     "shell.execute_reply": "2021-06-20T05:01:45.769146Z",
     "shell.execute_reply.started": "2021-06-20T04:55:50.776182Z"
    },
    "papermill": {
     "duration": 0.062314,
     "end_time": "2021-06-20T05:01:45.769864",
     "exception": false,
     "start_time": "2021-06-20T05:01:45.707550",
     "status": "completed"
    },
    "tags": []
   },
   "outputs": [
    {
     "name": "stdout",
     "output_type": "stream",
     "text": [
      "['MSZoning', 'Utilities', 'Exterior1st', 'Exterior2nd', 'MasVnrType', 'Electrical', 'KitchenQual', 'Functional', 'SaleType']\n"
     ]
    }
   ],
   "source": [
    "print(fill_cat) "
   ]
  },
  {
   "cell_type": "code",
   "execution_count": 30,
   "metadata": {
    "execution": {
     "iopub.execute_input": "2021-06-20T05:01:45.888734Z",
     "iopub.status.busy": "2021-06-20T05:01:45.887765Z",
     "iopub.status.idle": "2021-06-20T05:01:45.890768Z",
     "shell.execute_reply": "2021-06-20T05:01:45.890293Z",
     "shell.execute_reply.started": "2021-06-20T04:55:50.975230Z"
    },
    "papermill": {
     "duration": 0.067239,
     "end_time": "2021-06-20T05:01:45.890933",
     "exception": false,
     "start_time": "2021-06-20T05:01:45.823694",
     "status": "completed"
    },
    "tags": []
   },
   "outputs": [],
   "source": [
    "def most_common_term(lst):\n",
    "    lst = list(lst)\n",
    "    return max(set(lst), key=lst.count)\n",
    "#most_common_term finds the most common term in a series\n",
    "\n",
    "most_common = [\"Electrical\", \"Exterior1st\", \"Exterior2nd\", \"Functional\", \"KitchenQual\", \"MSZoning\", \"SaleType\", \"Utilities\", \"MasVnrType\"]\n",
    "\n",
    "counter = 0\n",
    "for i in fill_cat:\n",
    "    most_common[counter] = most_common_term(training[i])\n",
    "    counter += 1"
   ]
  },
  {
   "cell_type": "code",
   "execution_count": 31,
   "metadata": {
    "execution": {
     "iopub.execute_input": "2021-06-20T05:01:46.006766Z",
     "iopub.status.busy": "2021-06-20T05:01:46.006125Z",
     "iopub.status.idle": "2021-06-20T05:01:46.008703Z",
     "shell.execute_reply": "2021-06-20T05:01:46.009263Z",
     "shell.execute_reply.started": "2021-06-20T04:55:51.179926Z"
    },
    "papermill": {
     "duration": 0.064973,
     "end_time": "2021-06-20T05:01:46.009428",
     "exception": false,
     "start_time": "2021-06-20T05:01:45.944455",
     "status": "completed"
    },
    "tags": []
   },
   "outputs": [
    {
     "data": {
      "text/plain": [
       "{'MSZoning': ['RL'],\n",
       " 'Utilities': ['AllPub'],\n",
       " 'Exterior1st': ['VinylSd'],\n",
       " 'Exterior2nd': ['VinylSd'],\n",
       " 'MasVnrType': ['None'],\n",
       " 'Electrical': ['SBrkr'],\n",
       " 'KitchenQual': ['TA'],\n",
       " 'Functional': ['Typ'],\n",
       " 'SaleType': ['WD']}"
      ]
     },
     "execution_count": 31,
     "metadata": {},
     "output_type": "execute_result"
    }
   ],
   "source": [
    "most_common_dictionary = {fill_cat[0]: [most_common[0]], fill_cat[1]: [most_common[1]], fill_cat[2]: [most_common[2]], fill_cat[3]: [most_common[3]],\n",
    "                          fill_cat[4]: [most_common[4]], fill_cat[5]: [most_common[5]], fill_cat[6]: [most_common[6]], fill_cat[7]: [most_common[7]],\n",
    "                          fill_cat[8]: [most_common[8]]}\n",
    "most_common_dictionary"
   ]
  },
  {
   "cell_type": "code",
   "execution_count": 32,
   "metadata": {
    "execution": {
     "iopub.execute_input": "2021-06-20T05:01:46.120947Z",
     "iopub.status.busy": "2021-06-20T05:01:46.120316Z",
     "iopub.status.idle": "2021-06-20T05:01:46.133064Z",
     "shell.execute_reply": "2021-06-20T05:01:46.133686Z",
     "shell.execute_reply.started": "2021-06-20T04:55:51.392937Z"
    },
    "papermill": {
     "duration": 0.070174,
     "end_time": "2021-06-20T05:01:46.133919",
     "exception": false,
     "start_time": "2021-06-20T05:01:46.063745",
     "status": "completed"
    },
    "tags": []
   },
   "outputs": [],
   "source": [
    "counter = 0\n",
    "for i in fill_cat:  \n",
    "    training[i].fillna(most_common[counter], inplace=True)\n",
    "    testing[i].fillna(most_common[counter], inplace=True)\n",
    "    counter += 1"
   ]
  },
  {
   "cell_type": "code",
   "execution_count": 33,
   "metadata": {
    "execution": {
     "iopub.execute_input": "2021-06-20T05:01:46.261183Z",
     "iopub.status.busy": "2021-06-20T05:01:46.260436Z",
     "iopub.status.idle": "2021-06-20T05:01:46.277032Z",
     "shell.execute_reply": "2021-06-20T05:01:46.277489Z",
     "shell.execute_reply.started": "2021-06-20T04:55:51.570208Z"
    },
    "papermill": {
     "duration": 0.085806,
     "end_time": "2021-06-20T05:01:46.277667",
     "exception": false,
     "start_time": "2021-06-20T05:01:46.191861",
     "status": "completed"
    },
    "tags": []
   },
   "outputs": [
    {
     "data": {
      "text/html": [
       "<div>\n",
       "<style scoped>\n",
       "    .dataframe tbody tr th:only-of-type {\n",
       "        vertical-align: middle;\n",
       "    }\n",
       "\n",
       "    .dataframe tbody tr th {\n",
       "        vertical-align: top;\n",
       "    }\n",
       "\n",
       "    .dataframe thead th {\n",
       "        text-align: right;\n",
       "    }\n",
       "</style>\n",
       "<table border=\"1\" class=\"dataframe\">\n",
       "  <thead>\n",
       "    <tr style=\"text-align: right;\">\n",
       "      <th></th>\n",
       "      <th>Training</th>\n",
       "      <th>Testing</th>\n",
       "    </tr>\n",
       "  </thead>\n",
       "  <tbody>\n",
       "  </tbody>\n",
       "</table>\n",
       "</div>"
      ],
      "text/plain": [
       "Empty DataFrame\n",
       "Columns: [Training, Testing]\n",
       "Index: []"
      ]
     },
     "execution_count": 33,
     "metadata": {},
     "output_type": "execute_result"
    }
   ],
   "source": [
    "training_null = pd.isnull(training).sum()\n",
    "testing_null = pd.isnull(testing).sum()\n",
    "\n",
    "null = pd.concat([training_null, testing_null], axis=1, keys=[\"Training\", \"Testing\"])\n",
    "null[null.sum(axis=1) > 0]"
   ]
  },
  {
   "cell_type": "markdown",
   "metadata": {
    "papermill": {
     "duration": 0.053876,
     "end_time": "2021-06-20T05:01:46.387562",
     "exception": false,
     "start_time": "2021-06-20T05:01:46.333686",
     "status": "completed"
    },
    "tags": []
   },
   "source": [
    "## 4. Feature Engineering"
   ]
  },
  {
   "cell_type": "code",
   "execution_count": 34,
   "metadata": {
    "execution": {
     "iopub.execute_input": "2021-06-20T05:01:46.500591Z",
     "iopub.status.busy": "2021-06-20T05:01:46.499987Z",
     "iopub.status.idle": "2021-06-20T05:01:46.832682Z",
     "shell.execute_reply": "2021-06-20T05:01:46.832147Z",
     "shell.execute_reply.started": "2021-06-20T04:55:51.964534Z"
    },
    "papermill": {
     "duration": 0.390769,
     "end_time": "2021-06-20T05:01:46.832819",
     "exception": false,
     "start_time": "2021-06-20T05:01:46.442050",
     "status": "completed"
    },
    "tags": []
   },
   "outputs": [
    {
     "data": {
      "text/plain": [
       "<AxesSubplot:xlabel='SalePrice', ylabel='Density'>"
      ]
     },
     "execution_count": 34,
     "metadata": {},
     "output_type": "execute_result"
    },
    {
     "data": {
      "image/png": "[encoded data removed]",
      "text/plain": [
       "<Figure size 432x288 with 1 Axes>"
      ]
     },
     "metadata": {},
     "output_type": "display_data"
    }
   ],
   "source": [
    "sns.distplot(training[\"SalePrice\"])"
   ]
  },
  {
   "cell_type": "code",
   "execution_count": 35,
   "metadata": {
    "execution": {
     "iopub.execute_input": "2021-06-20T05:01:46.947782Z",
     "iopub.status.busy": "2021-06-20T05:01:46.947164Z",
     "iopub.status.idle": "2021-06-20T05:01:47.243181Z",
     "shell.execute_reply": "2021-06-20T05:01:47.242596Z",
     "shell.execute_reply.started": "2021-06-20T04:55:52.280258Z"
    },
    "papermill": {
     "duration": 0.354228,
     "end_time": "2021-06-20T05:01:47.243323",
     "exception": false,
     "start_time": "2021-06-20T05:01:46.889095",
     "status": "completed"
    },
    "tags": []
   },
   "outputs": [
    {
     "data": {
      "text/plain": [
       "<AxesSubplot:xlabel='SalePrice', ylabel='Density'>"
      ]
     },
     "execution_count": 35,
     "metadata": {},
     "output_type": "execute_result"
    },
    {
     "data": {
      "image/png": "[encoded data removed]",
      "text/plain": [
       "<Figure size 432x288 with 1 Axes>"
      ]
     },
     "metadata": {},
     "output_type": "display_data"
    }
   ],
   "source": [
    "sns.distplot(np.log(training[\"SalePrice\"]))"
   ]
  },
  {
   "cell_type": "code",
   "execution_count": 36,
   "metadata": {
    "execution": {
     "iopub.execute_input": "2021-06-20T05:01:47.363615Z",
     "iopub.status.busy": "2021-06-20T05:01:47.362912Z",
     "iopub.status.idle": "2021-06-20T05:01:47.366740Z",
     "shell.execute_reply": "2021-06-20T05:01:47.366108Z",
     "shell.execute_reply.started": "2021-06-20T04:55:52.587737Z"
    },
    "papermill": {
     "duration": 0.066601,
     "end_time": "2021-06-20T05:01:47.366902",
     "exception": false,
     "start_time": "2021-06-20T05:01:47.300301",
     "status": "completed"
    },
    "tags": []
   },
   "outputs": [],
   "source": [
    "training[\"TransformedPrice\"] = np.log(training[\"SalePrice\"])"
   ]
  },
  {
   "cell_type": "code",
   "execution_count": 37,
   "metadata": {
    "execution": {
     "iopub.execute_input": "2021-06-20T05:01:47.486507Z",
     "iopub.status.busy": "2021-06-20T05:01:47.485873Z",
     "iopub.status.idle": "2021-06-20T05:01:47.489037Z",
     "shell.execute_reply": "2021-06-20T05:01:47.488472Z",
     "shell.execute_reply.started": "2021-06-20T04:55:52.596501Z"
    },
    "papermill": {
     "duration": 0.065092,
     "end_time": "2021-06-20T05:01:47.489185",
     "exception": false,
     "start_time": "2021-06-20T05:01:47.424093",
     "status": "completed"
    },
    "tags": []
   },
   "outputs": [],
   "source": [
    "categorical_values_train = list(cat_train.index)\n",
    "categorical_values_test = list(cat_test.index)"
   ]
  },
  {
   "cell_type": "code",
   "execution_count": 38,
   "metadata": {
    "execution": {
     "iopub.execute_input": "2021-06-20T05:01:47.608790Z",
     "iopub.status.busy": "2021-06-20T05:01:47.608176Z",
     "iopub.status.idle": "2021-06-20T05:01:47.610765Z",
     "shell.execute_reply": "2021-06-20T05:01:47.611377Z",
     "shell.execute_reply.started": "2021-06-20T04:55:52.783184Z"
    },
    "papermill": {
     "duration": 0.064489,
     "end_time": "2021-06-20T05:01:47.611536",
     "exception": false,
     "start_time": "2021-06-20T05:01:47.547047",
     "status": "completed"
    },
    "tags": []
   },
   "outputs": [
    {
     "name": "stdout",
     "output_type": "stream",
     "text": [
      "['MSZoning', 'Street', 'Alley', 'LotShape', 'LandContour', 'Utilities', 'LotConfig', 'LandSlope', 'Neighborhood', 'Condition1', 'Condition2', 'BldgType', 'HouseStyle', 'RoofStyle', 'RoofMatl', 'Exterior1st', 'Exterior2nd', 'MasVnrType', 'ExterQual', 'ExterCond', 'Foundation', 'BsmtQual', 'BsmtCond', 'BsmtExposure', 'BsmtFinType1', 'BsmtFinType2', 'Heating', 'HeatingQC', 'CentralAir', 'Electrical', 'KitchenQual', 'Functional', 'FireplaceQu', 'GarageType', 'GarageFinish', 'GarageQual', 'GarageCond', 'PavedDrive', 'PoolQC', 'Fence', 'MiscFeature', 'SaleType', 'SaleCondition']\n"
     ]
    }
   ],
   "source": [
    "print(categorical_values_train)"
   ]
  },
  {
   "cell_type": "code",
   "execution_count": 39,
   "metadata": {
    "execution": {
     "iopub.execute_input": "2021-06-20T05:01:47.729524Z",
     "iopub.status.busy": "2021-06-20T05:01:47.728891Z",
     "iopub.status.idle": "2021-06-20T05:01:48.114145Z",
     "shell.execute_reply": "2021-06-20T05:01:48.114625Z",
     "shell.execute_reply.started": "2021-06-20T04:55:53.010387Z"
    },
    "papermill": {
     "duration": 0.446058,
     "end_time": "2021-06-20T05:01:48.114807",
     "exception": false,
     "start_time": "2021-06-20T05:01:47.668749",
     "status": "completed"
    },
    "tags": []
   },
   "outputs": [],
   "source": [
    "for i in categorical_values_train:\n",
    "    feature_set = set(training[i])\n",
    "    for j in feature_set:\n",
    "        feature_list = list(feature_set)\n",
    "        training.loc[training[i] == j, i] = feature_list.index(j)\n",
    "\n",
    "for i in categorical_values_test:\n",
    "    feature_set2 = set(testing[i])\n",
    "    for j in feature_set2:\n",
    "        feature_list2 = list(feature_set2)\n",
    "        testing.loc[testing[i] == j, i] = feature_list2.index(j)"
   ]
  },
  {
   "cell_type": "code",
   "execution_count": 40,
   "metadata": {
    "execution": {
     "iopub.execute_input": "2021-06-20T05:01:48.234705Z",
     "iopub.status.busy": "2021-06-20T05:01:48.234131Z",
     "iopub.status.idle": "2021-06-20T05:01:48.260202Z",
     "shell.execute_reply": "2021-06-20T05:01:48.260681Z",
     "shell.execute_reply.started": "2021-06-20T04:55:53.447483Z"
    },
    "papermill": {
     "duration": 0.087572,
     "end_time": "2021-06-20T05:01:48.260848",
     "exception": false,
     "start_time": "2021-06-20T05:01:48.173276",
     "status": "completed"
    },
    "tags": []
   },
   "outputs": [
    {
     "data": {
      "text/html": [
       "<div>\n",
       "<style scoped>\n",
       "    .dataframe tbody tr th:only-of-type {\n",
       "        vertical-align: middle;\n",
       "    }\n",
       "\n",
       "    .dataframe tbody tr th {\n",
       "        vertical-align: top;\n",
       "    }\n",
       "\n",
       "    .dataframe thead th {\n",
       "        text-align: right;\n",
       "    }\n",
       "</style>\n",
       "<table border=\"1\" class=\"dataframe\">\n",
       "  <thead>\n",
       "    <tr style=\"text-align: right;\">\n",
       "      <th></th>\n",
       "      <th>Id</th>\n",
       "      <th>MSSubClass</th>\n",
       "      <th>MSZoning</th>\n",
       "      <th>LotArea</th>\n",
       "      <th>Street</th>\n",
       "      <th>Alley</th>\n",
       "      <th>LotShape</th>\n",
       "      <th>LandContour</th>\n",
       "      <th>Utilities</th>\n",
       "      <th>LotConfig</th>\n",
       "      <th>...</th>\n",
       "      <th>PoolQC</th>\n",
       "      <th>Fence</th>\n",
       "      <th>MiscFeature</th>\n",
       "      <th>MiscVal</th>\n",
       "      <th>MoSold</th>\n",
       "      <th>YrSold</th>\n",
       "      <th>SaleType</th>\n",
       "      <th>SaleCondition</th>\n",
       "      <th>SalePrice</th>\n",
       "      <th>TransformedPrice</th>\n",
       "    </tr>\n",
       "  </thead>\n",
       "  <tbody>\n",
       "    <tr>\n",
       "      <th>0</th>\n",
       "      <td>1</td>\n",
       "      <td>60</td>\n",
       "      <td>0</td>\n",
       "      <td>8450</td>\n",
       "      <td>1</td>\n",
       "      <td>2</td>\n",
       "      <td>0</td>\n",
       "      <td>2</td>\n",
       "      <td>1</td>\n",
       "      <td>1</td>\n",
       "      <td>...</td>\n",
       "      <td>1</td>\n",
       "      <td>3</td>\n",
       "      <td>4</td>\n",
       "      <td>0</td>\n",
       "      <td>2</td>\n",
       "      <td>2008</td>\n",
       "      <td>8</td>\n",
       "      <td>3</td>\n",
       "      <td>208500</td>\n",
       "      <td>12.247694</td>\n",
       "    </tr>\n",
       "    <tr>\n",
       "      <th>1</th>\n",
       "      <td>2</td>\n",
       "      <td>20</td>\n",
       "      <td>0</td>\n",
       "      <td>9600</td>\n",
       "      <td>1</td>\n",
       "      <td>2</td>\n",
       "      <td>0</td>\n",
       "      <td>2</td>\n",
       "      <td>1</td>\n",
       "      <td>4</td>\n",
       "      <td>...</td>\n",
       "      <td>1</td>\n",
       "      <td>3</td>\n",
       "      <td>4</td>\n",
       "      <td>0</td>\n",
       "      <td>5</td>\n",
       "      <td>2007</td>\n",
       "      <td>8</td>\n",
       "      <td>3</td>\n",
       "      <td>181500</td>\n",
       "      <td>12.109011</td>\n",
       "    </tr>\n",
       "    <tr>\n",
       "      <th>2</th>\n",
       "      <td>3</td>\n",
       "      <td>60</td>\n",
       "      <td>0</td>\n",
       "      <td>11250</td>\n",
       "      <td>1</td>\n",
       "      <td>2</td>\n",
       "      <td>2</td>\n",
       "      <td>2</td>\n",
       "      <td>1</td>\n",
       "      <td>1</td>\n",
       "      <td>...</td>\n",
       "      <td>1</td>\n",
       "      <td>3</td>\n",
       "      <td>4</td>\n",
       "      <td>0</td>\n",
       "      <td>9</td>\n",
       "      <td>2008</td>\n",
       "      <td>8</td>\n",
       "      <td>3</td>\n",
       "      <td>223500</td>\n",
       "      <td>12.317167</td>\n",
       "    </tr>\n",
       "    <tr>\n",
       "      <th>3</th>\n",
       "      <td>4</td>\n",
       "      <td>70</td>\n",
       "      <td>0</td>\n",
       "      <td>9550</td>\n",
       "      <td>1</td>\n",
       "      <td>2</td>\n",
       "      <td>2</td>\n",
       "      <td>2</td>\n",
       "      <td>1</td>\n",
       "      <td>3</td>\n",
       "      <td>...</td>\n",
       "      <td>1</td>\n",
       "      <td>3</td>\n",
       "      <td>4</td>\n",
       "      <td>0</td>\n",
       "      <td>2</td>\n",
       "      <td>2006</td>\n",
       "      <td>8</td>\n",
       "      <td>4</td>\n",
       "      <td>140000</td>\n",
       "      <td>11.849398</td>\n",
       "    </tr>\n",
       "    <tr>\n",
       "      <th>4</th>\n",
       "      <td>5</td>\n",
       "      <td>60</td>\n",
       "      <td>0</td>\n",
       "      <td>14260</td>\n",
       "      <td>1</td>\n",
       "      <td>2</td>\n",
       "      <td>2</td>\n",
       "      <td>2</td>\n",
       "      <td>1</td>\n",
       "      <td>4</td>\n",
       "      <td>...</td>\n",
       "      <td>1</td>\n",
       "      <td>3</td>\n",
       "      <td>4</td>\n",
       "      <td>0</td>\n",
       "      <td>12</td>\n",
       "      <td>2008</td>\n",
       "      <td>8</td>\n",
       "      <td>3</td>\n",
       "      <td>250000</td>\n",
       "      <td>12.429216</td>\n",
       "    </tr>\n",
       "  </tbody>\n",
       "</table>\n",
       "<p>5 rows × 81 columns</p>\n",
       "</div>"
      ],
      "text/plain": [
       "   Id  MSSubClass MSZoning  LotArea Street Alley LotShape LandContour  \\\n",
       "0   1          60        0     8450      1     2        0           2   \n",
       "1   2          20        0     9600      1     2        0           2   \n",
       "2   3          60        0    11250      1     2        2           2   \n",
       "3   4          70        0     9550      1     2        2           2   \n",
       "4   5          60        0    14260      1     2        2           2   \n",
       "\n",
       "  Utilities LotConfig  ... PoolQC Fence MiscFeature MiscVal MoSold YrSold  \\\n",
       "0         1         1  ...      1     3           4       0      2   2008   \n",
       "1         1         4  ...      1     3           4       0      5   2007   \n",
       "2         1         1  ...      1     3           4       0      9   2008   \n",
       "3         1         3  ...      1     3           4       0      2   2006   \n",
       "4         1         4  ...      1     3           4       0     12   2008   \n",
       "\n",
       "   SaleType  SaleCondition  SalePrice  TransformedPrice  \n",
       "0         8              3     208500         12.247694  \n",
       "1         8              3     181500         12.109011  \n",
       "2         8              3     223500         12.317167  \n",
       "3         8              4     140000         11.849398  \n",
       "4         8              3     250000         12.429216  \n",
       "\n",
       "[5 rows x 81 columns]"
      ]
     },
     "execution_count": 40,
     "metadata": {},
     "output_type": "execute_result"
    }
   ],
   "source": [
    "training.head()"
   ]
  },
  {
   "cell_type": "code",
   "execution_count": 41,
   "metadata": {
    "execution": {
     "iopub.execute_input": "2021-06-20T05:01:48.380565Z",
     "iopub.status.busy": "2021-06-20T05:01:48.379981Z",
     "iopub.status.idle": "2021-06-20T05:01:48.405129Z",
     "shell.execute_reply": "2021-06-20T05:01:48.405603Z",
     "shell.execute_reply.started": "2021-06-20T04:55:53.478227Z"
    },
    "papermill": {
     "duration": 0.0867,
     "end_time": "2021-06-20T05:01:48.405771",
     "exception": false,
     "start_time": "2021-06-20T05:01:48.319071",
     "status": "completed"
    },
    "tags": []
   },
   "outputs": [
    {
     "data": {
      "text/html": [
       "<div>\n",
       "<style scoped>\n",
       "    .dataframe tbody tr th:only-of-type {\n",
       "        vertical-align: middle;\n",
       "    }\n",
       "\n",
       "    .dataframe tbody tr th {\n",
       "        vertical-align: top;\n",
       "    }\n",
       "\n",
       "    .dataframe thead th {\n",
       "        text-align: right;\n",
       "    }\n",
       "</style>\n",
       "<table border=\"1\" class=\"dataframe\">\n",
       "  <thead>\n",
       "    <tr style=\"text-align: right;\">\n",
       "      <th></th>\n",
       "      <th>Id</th>\n",
       "      <th>MSSubClass</th>\n",
       "      <th>MSZoning</th>\n",
       "      <th>LotArea</th>\n",
       "      <th>Street</th>\n",
       "      <th>Alley</th>\n",
       "      <th>LotShape</th>\n",
       "      <th>LandContour</th>\n",
       "      <th>Utilities</th>\n",
       "      <th>LotConfig</th>\n",
       "      <th>...</th>\n",
       "      <th>ScreenPorch</th>\n",
       "      <th>PoolArea</th>\n",
       "      <th>PoolQC</th>\n",
       "      <th>Fence</th>\n",
       "      <th>MiscFeature</th>\n",
       "      <th>MiscVal</th>\n",
       "      <th>MoSold</th>\n",
       "      <th>YrSold</th>\n",
       "      <th>SaleType</th>\n",
       "      <th>SaleCondition</th>\n",
       "    </tr>\n",
       "  </thead>\n",
       "  <tbody>\n",
       "    <tr>\n",
       "      <th>0</th>\n",
       "      <td>1461</td>\n",
       "      <td>20</td>\n",
       "      <td>2</td>\n",
       "      <td>11622</td>\n",
       "      <td>1</td>\n",
       "      <td>2</td>\n",
       "      <td>0</td>\n",
       "      <td>2</td>\n",
       "      <td>0</td>\n",
       "      <td>1</td>\n",
       "      <td>...</td>\n",
       "      <td>120</td>\n",
       "      <td>0</td>\n",
       "      <td>1</td>\n",
       "      <td>2</td>\n",
       "      <td>2</td>\n",
       "      <td>0</td>\n",
       "      <td>6</td>\n",
       "      <td>2010</td>\n",
       "      <td>8</td>\n",
       "      <td>3</td>\n",
       "    </tr>\n",
       "    <tr>\n",
       "      <th>1</th>\n",
       "      <td>1462</td>\n",
       "      <td>20</td>\n",
       "      <td>0</td>\n",
       "      <td>14267</td>\n",
       "      <td>1</td>\n",
       "      <td>2</td>\n",
       "      <td>2</td>\n",
       "      <td>2</td>\n",
       "      <td>0</td>\n",
       "      <td>3</td>\n",
       "      <td>...</td>\n",
       "      <td>0</td>\n",
       "      <td>0</td>\n",
       "      <td>1</td>\n",
       "      <td>3</td>\n",
       "      <td>1</td>\n",
       "      <td>12500</td>\n",
       "      <td>6</td>\n",
       "      <td>2010</td>\n",
       "      <td>8</td>\n",
       "      <td>3</td>\n",
       "    </tr>\n",
       "    <tr>\n",
       "      <th>2</th>\n",
       "      <td>1463</td>\n",
       "      <td>60</td>\n",
       "      <td>0</td>\n",
       "      <td>13830</td>\n",
       "      <td>1</td>\n",
       "      <td>2</td>\n",
       "      <td>2</td>\n",
       "      <td>2</td>\n",
       "      <td>0</td>\n",
       "      <td>1</td>\n",
       "      <td>...</td>\n",
       "      <td>0</td>\n",
       "      <td>0</td>\n",
       "      <td>1</td>\n",
       "      <td>2</td>\n",
       "      <td>2</td>\n",
       "      <td>0</td>\n",
       "      <td>3</td>\n",
       "      <td>2010</td>\n",
       "      <td>8</td>\n",
       "      <td>3</td>\n",
       "    </tr>\n",
       "    <tr>\n",
       "      <th>3</th>\n",
       "      <td>1464</td>\n",
       "      <td>60</td>\n",
       "      <td>0</td>\n",
       "      <td>9978</td>\n",
       "      <td>1</td>\n",
       "      <td>2</td>\n",
       "      <td>2</td>\n",
       "      <td>2</td>\n",
       "      <td>0</td>\n",
       "      <td>1</td>\n",
       "      <td>...</td>\n",
       "      <td>0</td>\n",
       "      <td>0</td>\n",
       "      <td>1</td>\n",
       "      <td>3</td>\n",
       "      <td>2</td>\n",
       "      <td>0</td>\n",
       "      <td>6</td>\n",
       "      <td>2010</td>\n",
       "      <td>8</td>\n",
       "      <td>3</td>\n",
       "    </tr>\n",
       "    <tr>\n",
       "      <th>4</th>\n",
       "      <td>1465</td>\n",
       "      <td>120</td>\n",
       "      <td>0</td>\n",
       "      <td>5005</td>\n",
       "      <td>1</td>\n",
       "      <td>2</td>\n",
       "      <td>2</td>\n",
       "      <td>1</td>\n",
       "      <td>0</td>\n",
       "      <td>1</td>\n",
       "      <td>...</td>\n",
       "      <td>144</td>\n",
       "      <td>0</td>\n",
       "      <td>1</td>\n",
       "      <td>3</td>\n",
       "      <td>2</td>\n",
       "      <td>0</td>\n",
       "      <td>1</td>\n",
       "      <td>2010</td>\n",
       "      <td>8</td>\n",
       "      <td>3</td>\n",
       "    </tr>\n",
       "  </tbody>\n",
       "</table>\n",
       "<p>5 rows × 79 columns</p>\n",
       "</div>"
      ],
      "text/plain": [
       "     Id  MSSubClass MSZoning  LotArea Street Alley LotShape LandContour  \\\n",
       "0  1461          20        2    11622      1     2        0           2   \n",
       "1  1462          20        0    14267      1     2        2           2   \n",
       "2  1463          60        0    13830      1     2        2           2   \n",
       "3  1464          60        0     9978      1     2        2           2   \n",
       "4  1465         120        0     5005      1     2        2           1   \n",
       "\n",
       "  Utilities LotConfig  ... ScreenPorch PoolArea PoolQC Fence MiscFeature  \\\n",
       "0         0         1  ...         120        0      1     2           2   \n",
       "1         0         3  ...           0        0      1     3           1   \n",
       "2         0         1  ...           0        0      1     2           2   \n",
       "3         0         1  ...           0        0      1     3           2   \n",
       "4         0         1  ...         144        0      1     3           2   \n",
       "\n",
       "  MiscVal  MoSold  YrSold  SaleType  SaleCondition  \n",
       "0       0       6    2010         8              3  \n",
       "1   12500       6    2010         8              3  \n",
       "2       0       3    2010         8              3  \n",
       "3       0       6    2010         8              3  \n",
       "4       0       1    2010         8              3  \n",
       "\n",
       "[5 rows x 79 columns]"
      ]
     },
     "execution_count": 41,
     "metadata": {},
     "output_type": "execute_result"
    }
   ],
   "source": [
    "testing.head()"
   ]
  },
  {
   "cell_type": "markdown",
   "metadata": {
    "execution": {
     "iopub.execute_input": "2021-06-20T04:49:25.676903Z",
     "iopub.status.busy": "2021-06-20T04:49:25.676508Z",
     "iopub.status.idle": "2021-06-20T04:49:25.681394Z",
     "shell.execute_reply": "2021-06-20T04:49:25.680024Z",
     "shell.execute_reply.started": "2021-06-20T04:49:25.676870Z"
    },
    "papermill": {
     "duration": 0.058495,
     "end_time": "2021-06-20T05:01:48.522569",
     "exception": false,
     "start_time": "2021-06-20T05:01:48.464074",
     "status": "completed"
    },
    "tags": []
   },
   "source": [
    "## 5. Creating, Training, Evaluating, Validating, and Testing ML Models "
   ]
  },
  {
   "cell_type": "code",
   "execution_count": 42,
   "metadata": {
    "execution": {
     "iopub.execute_input": "2021-06-20T05:01:48.645044Z",
     "iopub.status.busy": "2021-06-20T05:01:48.644118Z",
     "iopub.status.idle": "2021-06-20T05:01:48.696443Z",
     "shell.execute_reply": "2021-06-20T05:01:48.695756Z",
     "shell.execute_reply.started": "2021-06-20T04:55:53.884765Z"
    },
    "papermill": {
     "duration": 0.113763,
     "end_time": "2021-06-20T05:01:48.696596",
     "exception": false,
     "start_time": "2021-06-20T05:01:48.582833",
     "status": "completed"
    },
    "tags": []
   },
   "outputs": [],
   "source": [
    "from sklearn.linear_model import LinearRegression\n",
    "from sklearn.linear_model import Lasso\n",
    "from sklearn.linear_model import Ridge\n",
    "from sklearn.tree import DecisionTreeRegressor\n",
    "from sklearn.ensemble import RandomForestRegressor\n",
    "from sklearn.metrics import r2_score, mean_squared_error\n",
    "from sklearn.model_selection import GridSearchCV\n",
    "#from sklearn.cross_validation import cross_val_score, KFold\n",
    "from sklearn.model_selection import KFold, cross_val_score "
   ]
  },
  {
   "cell_type": "code",
   "execution_count": 43,
   "metadata": {
    "execution": {
     "iopub.execute_input": "2021-06-20T05:01:48.819312Z",
     "iopub.status.busy": "2021-06-20T05:01:48.818657Z",
     "iopub.status.idle": "2021-06-20T05:01:48.832103Z",
     "shell.execute_reply": "2021-06-20T05:01:48.831258Z",
     "shell.execute_reply.started": "2021-06-20T04:56:32.929770Z"
    },
    "papermill": {
     "duration": 0.077172,
     "end_time": "2021-06-20T05:01:48.832265",
     "exception": false,
     "start_time": "2021-06-20T05:01:48.755093",
     "status": "completed"
    },
    "tags": []
   },
   "outputs": [],
   "source": [
    "X_train = training.drop([\"Id\", \"SalePrice\", \"TransformedPrice\"], axis=1).values\n",
    "y_train = training[\"TransformedPrice\"].values\n",
    "X_test = testing.drop(\"Id\", axis=1).values"
   ]
  },
  {
   "cell_type": "code",
   "execution_count": 44,
   "metadata": {
    "execution": {
     "iopub.execute_input": "2021-06-20T05:01:48.957200Z",
     "iopub.status.busy": "2021-06-20T05:01:48.956231Z",
     "iopub.status.idle": "2021-06-20T05:01:48.959331Z",
     "shell.execute_reply": "2021-06-20T05:01:48.959751Z",
     "shell.execute_reply.started": "2021-06-20T04:56:40.367483Z"
    },
    "papermill": {
     "duration": 0.067799,
     "end_time": "2021-06-20T05:01:48.959935",
     "exception": false,
     "start_time": "2021-06-20T05:01:48.892136",
     "status": "completed"
    },
    "tags": []
   },
   "outputs": [],
   "source": [
    "from sklearn.model_selection import train_test_split #to create validation data set\n",
    "\n",
    "X_training, X_valid, y_training, y_valid = train_test_split(X_train, y_train, test_size=0.2, random_state=0) #X_valid and y_valid are the validation sets"
   ]
  },
  {
   "cell_type": "code",
   "execution_count": 45,
   "metadata": {
    "execution": {
     "iopub.execute_input": "2021-06-20T05:01:49.083781Z",
     "iopub.status.busy": "2021-06-20T05:01:49.082663Z",
     "iopub.status.idle": "2021-06-20T05:01:50.321961Z",
     "shell.execute_reply": "2021-06-20T05:01:50.322742Z",
     "shell.execute_reply.started": "2021-06-20T04:56:46.655900Z"
    },
    "papermill": {
     "duration": 1.305436,
     "end_time": "2021-06-20T05:01:50.323026",
     "exception": false,
     "start_time": "2021-06-20T05:01:49.017590",
     "status": "completed"
    },
    "tags": []
   },
   "outputs": [
    {
     "name": "stdout",
     "output_type": "stream",
     "text": [
      "Fitting 5 folds for each of 8 candidates, totalling 40 fits\n"
     ]
    },
    {
     "name": "stderr",
     "output_type": "stream",
     "text": [
      "[Parallel(n_jobs=1)]: Using backend SequentialBackend with 1 concurrent workers.\n"
     ]
    },
    {
     "name": "stdout",
     "output_type": "stream",
     "text": [
      "Best LinReg Model: LinearRegression()\n",
      "Best Score: 0.8819404767486085\n"
     ]
    },
    {
     "name": "stderr",
     "output_type": "stream",
     "text": [
      "[Parallel(n_jobs=1)]: Done  40 out of  40 | elapsed:    1.2s finished\n"
     ]
    }
   ],
   "source": [
    "linreg = LinearRegression()\n",
    "parameters_lin = {\"fit_intercept\" : [True, False], \"normalize\" : [True, False], \"copy_X\" : [True, False]}\n",
    "grid_linreg = GridSearchCV(linreg, parameters_lin, verbose=1 , scoring = \"r2\")\n",
    "grid_linreg.fit(X_training, y_training)\n",
    "\n",
    "print(\"Best LinReg Model: \" + str(grid_linreg.best_estimator_))\n",
    "print(\"Best Score: \" + str(grid_linreg.best_score_))"
   ]
  },
  {
   "cell_type": "code",
   "execution_count": 46,
   "metadata": {
    "execution": {
     "iopub.execute_input": "2021-06-20T05:01:50.523635Z",
     "iopub.status.busy": "2021-06-20T05:01:50.522614Z",
     "iopub.status.idle": "2021-06-20T05:01:50.540490Z",
     "shell.execute_reply": "2021-06-20T05:01:50.541391Z",
     "shell.execute_reply.started": "2021-06-20T04:56:56.994992Z"
    },
    "papermill": {
     "duration": 0.092556,
     "end_time": "2021-06-20T05:01:50.541658",
     "exception": false,
     "start_time": "2021-06-20T05:01:50.449102",
     "status": "completed"
    },
    "tags": []
   },
   "outputs": [
    {
     "name": "stdout",
     "output_type": "stream",
     "text": [
      "R^2 Score: 0.702816230811568\n",
      "RMSE Score: 0.21211689151544505\n"
     ]
    }
   ],
   "source": [
    "linreg = grid_linreg.best_estimator_\n",
    "linreg.fit(X_training, y_training)\n",
    "lin_pred = linreg.predict(X_valid)\n",
    "r2_lin = r2_score(y_valid, lin_pred)\n",
    "rmse_lin = np.sqrt(mean_squared_error(y_valid, lin_pred))\n",
    "print(\"R^2 Score: \" + str(r2_lin))\n",
    "print(\"RMSE Score: \" + str(rmse_lin))"
   ]
  },
  {
   "cell_type": "code",
   "execution_count": 47,
   "metadata": {
    "execution": {
     "iopub.execute_input": "2021-06-20T05:01:50.744319Z",
     "iopub.status.busy": "2021-06-20T05:01:50.743420Z",
     "iopub.status.idle": "2021-06-20T05:01:50.947454Z",
     "shell.execute_reply": "2021-06-20T05:01:50.948999Z",
     "shell.execute_reply.started": "2021-06-20T04:57:06.106037Z"
    },
    "papermill": {
     "duration": 0.271537,
     "end_time": "2021-06-20T05:01:50.949294",
     "exception": false,
     "start_time": "2021-06-20T05:01:50.677757",
     "status": "completed"
    },
    "tags": []
   },
   "outputs": [
    {
     "name": "stdout",
     "output_type": "stream",
     "text": [
      "Cross Validation Score: 0.8865581486279929\n"
     ]
    }
   ],
   "source": [
    "scores_lin = cross_val_score(linreg, X_training, y_training, cv=10, scoring=\"r2\")\n",
    "print(\"Cross Validation Score: \" + str(np.mean(scores_lin)))"
   ]
  },
  {
   "cell_type": "code",
   "execution_count": 48,
   "metadata": {
    "execution": {
     "iopub.execute_input": "2021-06-20T05:01:51.122062Z",
     "iopub.status.busy": "2021-06-20T05:01:51.121404Z",
     "iopub.status.idle": "2021-06-20T05:01:53.627689Z",
     "shell.execute_reply": "2021-06-20T05:01:53.628972Z",
     "shell.execute_reply.started": "2021-06-20T04:57:21.394566Z"
    },
    "papermill": {
     "duration": 2.574834,
     "end_time": "2021-06-20T05:01:53.629233",
     "exception": false,
     "start_time": "2021-06-20T05:01:51.054399",
     "status": "completed"
    },
    "tags": []
   },
   "outputs": [
    {
     "name": "stdout",
     "output_type": "stream",
     "text": [
      "Fitting 5 folds for each of 16 candidates, totalling 80 fits\n"
     ]
    },
    {
     "name": "stderr",
     "output_type": "stream",
     "text": [
      "[Parallel(n_jobs=1)]: Using backend SequentialBackend with 1 concurrent workers.\n"
     ]
    },
    {
     "name": "stdout",
     "output_type": "stream",
     "text": [
      "Best Lasso Model: Lasso(precompute=True)\n",
      "Best Score: 0.8030638481359469\n"
     ]
    },
    {
     "name": "stderr",
     "output_type": "stream",
     "text": [
      "[Parallel(n_jobs=1)]: Done  80 out of  80 | elapsed:    2.5s finished\n"
     ]
    }
   ],
   "source": [
    "lasso = Lasso()\n",
    "parameters_lasso = {\"fit_intercept\" : [True, False], \"normalize\" : [True, False], \"precompute\" : [True, False], \"copy_X\" : [True, False]}\n",
    "grid_lasso = GridSearchCV(lasso, parameters_lasso, verbose=1, scoring=\"r2\")\n",
    "grid_lasso.fit(X_training, y_training)\n",
    "\n",
    "print(\"Best Lasso Model: \" + str(grid_lasso.best_estimator_))\n",
    "print(\"Best Score: \" + str(grid_lasso.best_score_))"
   ]
  },
  {
   "cell_type": "code",
   "execution_count": 49,
   "metadata": {
    "execution": {
     "iopub.execute_input": "2021-06-20T05:01:53.826576Z",
     "iopub.status.busy": "2021-06-20T05:01:53.825399Z",
     "iopub.status.idle": "2021-06-20T05:01:53.838411Z",
     "shell.execute_reply": "2021-06-20T05:01:53.839494Z",
     "shell.execute_reply.started": "2021-06-20T04:57:30.896233Z"
    },
    "papermill": {
     "duration": 0.088301,
     "end_time": "2021-06-20T05:01:53.839785",
     "exception": false,
     "start_time": "2021-06-20T05:01:53.751484",
     "status": "completed"
    },
    "tags": []
   },
   "outputs": [
    {
     "name": "stdout",
     "output_type": "stream",
     "text": [
      "R^2 Score: 0.5346055500620817\n",
      "RMSE Score: 0.26544424298741465\n"
     ]
    }
   ],
   "source": [
    "lasso = grid_lasso.best_estimator_\n",
    "lasso.fit(X_training, y_training)\n",
    "lasso_pred = lasso.predict(X_valid)\n",
    "r2_lasso = r2_score(y_valid, lasso_pred)\n",
    "rmse_lasso = np.sqrt(mean_squared_error(y_valid, lasso_pred))\n",
    "print(\"R^2 Score: \" + str(r2_lasso))\n",
    "print(\"RMSE Score: \" + str(rmse_lasso))"
   ]
  },
  {
   "cell_type": "code",
   "execution_count": 50,
   "metadata": {
    "execution": {
     "iopub.execute_input": "2021-06-20T05:01:54.018455Z",
     "iopub.status.busy": "2021-06-20T05:01:54.017775Z",
     "iopub.status.idle": "2021-06-20T05:01:54.177178Z",
     "shell.execute_reply": "2021-06-20T05:01:54.178722Z",
     "shell.execute_reply.started": "2021-06-20T04:57:36.236742Z"
    },
    "papermill": {
     "duration": 0.229085,
     "end_time": "2021-06-20T05:01:54.179168",
     "exception": false,
     "start_time": "2021-06-20T05:01:53.950083",
     "status": "completed"
    },
    "tags": []
   },
   "outputs": [
    {
     "name": "stdout",
     "output_type": "stream",
     "text": [
      "Cross Validation Score: 0.8024153680708739\n"
     ]
    }
   ],
   "source": [
    "scores_lasso = cross_val_score(lasso, X_training, y_training, cv=10, scoring=\"r2\")\n",
    "print(\"Cross Validation Score: \" + str(np.mean(scores_lasso)))"
   ]
  },
  {
   "cell_type": "code",
   "execution_count": 51,
   "metadata": {
    "execution": {
     "iopub.execute_input": "2021-06-20T05:01:54.357255Z",
     "iopub.status.busy": "2021-06-20T05:01:54.356612Z",
     "iopub.status.idle": "2021-06-20T05:01:55.605117Z",
     "shell.execute_reply": "2021-06-20T05:01:55.606260Z",
     "shell.execute_reply.started": "2021-06-20T04:57:43.049728Z"
    },
    "papermill": {
     "duration": 1.318542,
     "end_time": "2021-06-20T05:01:55.606561",
     "exception": false,
     "start_time": "2021-06-20T05:01:54.288019",
     "status": "completed"
    },
    "tags": []
   },
   "outputs": [
    {
     "name": "stdout",
     "output_type": "stream",
     "text": [
      "Fitting 5 folds for each of 8 candidates, totalling 40 fits\n"
     ]
    },
    {
     "name": "stderr",
     "output_type": "stream",
     "text": [
      "[Parallel(n_jobs=1)]: Using backend SequentialBackend with 1 concurrent workers.\n"
     ]
    },
    {
     "name": "stdout",
     "output_type": "stream",
     "text": [
      "Best Ridge Model: Ridge()\n",
      "Best Score: 0.8825692295536177\n"
     ]
    },
    {
     "name": "stderr",
     "output_type": "stream",
     "text": [
      "[Parallel(n_jobs=1)]: Done  40 out of  40 | elapsed:    1.2s finished\n"
     ]
    }
   ],
   "source": [
    "ridge = Ridge()\n",
    "parameters_ridge = {\"fit_intercept\" : [True, False], \"normalize\" : [True, False], \"copy_X\" : [True, False], \"solver\" : [\"auto\"]}\n",
    "grid_ridge = GridSearchCV(ridge, parameters_ridge, verbose=1, scoring=\"r2\")\n",
    "grid_ridge.fit(X_training, y_training)\n",
    "\n",
    "print(\"Best Ridge Model: \" + str(grid_ridge.best_estimator_))\n",
    "print(\"Best Score: \" + str(grid_ridge.best_score_))"
   ]
  },
  {
   "cell_type": "code",
   "execution_count": 52,
   "metadata": {
    "execution": {
     "iopub.execute_input": "2021-06-20T05:01:55.823879Z",
     "iopub.status.busy": "2021-06-20T05:01:55.822743Z",
     "iopub.status.idle": "2021-06-20T05:01:55.853304Z",
     "shell.execute_reply": "2021-06-20T05:01:55.854239Z",
     "shell.execute_reply.started": "2021-06-20T04:57:55.035277Z"
    },
    "papermill": {
     "duration": 0.108445,
     "end_time": "2021-06-20T05:01:55.854502",
     "exception": false,
     "start_time": "2021-06-20T05:01:55.746057",
     "status": "completed"
    },
    "tags": []
   },
   "outputs": [
    {
     "name": "stdout",
     "output_type": "stream",
     "text": [
      "R^2 Score: 0.7062826726641578\n",
      "RMSE Score: 0.21087616488779956\n"
     ]
    }
   ],
   "source": [
    "ridge = grid_ridge.best_estimator_\n",
    "ridge.fit(X_training, y_training)\n",
    "ridge_pred = ridge.predict(X_valid)\n",
    "r2_ridge = r2_score(y_valid, ridge_pred)\n",
    "rmse_ridge = np.sqrt(mean_squared_error(y_valid, ridge_pred))\n",
    "print(\"R^2 Score: \" + str(r2_ridge))\n",
    "print(\"RMSE Score: \" + str(rmse_ridge))"
   ]
  },
  {
   "cell_type": "code",
   "execution_count": 53,
   "metadata": {
    "execution": {
     "iopub.execute_input": "2021-06-20T05:01:56.056176Z",
     "iopub.status.busy": "2021-06-20T05:01:56.055538Z",
     "iopub.status.idle": "2021-06-20T05:01:56.264742Z",
     "shell.execute_reply": "2021-06-20T05:01:56.265634Z",
     "shell.execute_reply.started": "2021-06-20T04:58:00.500909Z"
    },
    "papermill": {
     "duration": 0.281067,
     "end_time": "2021-06-20T05:01:56.265910",
     "exception": false,
     "start_time": "2021-06-20T05:01:55.984843",
     "status": "completed"
    },
    "tags": []
   },
   "outputs": [
    {
     "name": "stdout",
     "output_type": "stream",
     "text": [
      "Cross Validation Score: 0.8869808357770912\n"
     ]
    }
   ],
   "source": [
    "scores_ridge = cross_val_score(ridge, X_training, y_training, cv=10, scoring=\"r2\")\n",
    "print(\"Cross Validation Score: \" + str(np.mean(scores_ridge)))"
   ]
  },
  {
   "cell_type": "code",
   "execution_count": 54,
   "metadata": {
    "execution": {
     "iopub.execute_input": "2021-06-20T05:01:56.471111Z",
     "iopub.status.busy": "2021-06-20T05:01:56.470355Z",
     "iopub.status.idle": "2021-06-20T05:02:07.790560Z",
     "shell.execute_reply": "2021-06-20T05:02:07.791044Z",
     "shell.execute_reply.started": "2021-06-20T04:58:07.252797Z"
    },
    "papermill": {
     "duration": 11.390509,
     "end_time": "2021-06-20T05:02:07.791209",
     "exception": false,
     "start_time": "2021-06-20T05:01:56.400700",
     "status": "completed"
    },
    "tags": []
   },
   "outputs": [
    {
     "name": "stdout",
     "output_type": "stream",
     "text": [
      "Fitting 5 folds for each of 48 candidates, totalling 240 fits\n"
     ]
    },
    {
     "name": "stderr",
     "output_type": "stream",
     "text": [
      "[Parallel(n_jobs=1)]: Using backend SequentialBackend with 1 concurrent workers.\n"
     ]
    },
    {
     "name": "stdout",
     "output_type": "stream",
     "text": [
      "Best DecisionTreeRegressor Model: DecisionTreeRegressor(criterion='friedman_mse', max_features='auto',\n",
      "                      min_samples_split=10, splitter='random')\n",
      "Best Score: 0.7386780119561116\n"
     ]
    },
    {
     "name": "stderr",
     "output_type": "stream",
     "text": [
      "[Parallel(n_jobs=1)]: Done 240 out of 240 | elapsed:   11.3s finished\n"
     ]
    }
   ],
   "source": [
    "dtr = DecisionTreeRegressor()\n",
    "parameters_dtr = {\"criterion\" : [\"mse\", \"friedman_mse\", \"mae\"], \"splitter\" : [\"best\", \"random\"], \"min_samples_split\" : [2, 3, 5, 10], \n",
    "                  \"max_features\" : [\"auto\", \"log2\"]}\n",
    "grid_dtr = GridSearchCV(dtr, parameters_dtr, verbose=1, scoring=\"r2\")\n",
    "grid_dtr.fit(X_training, y_training)\n",
    "\n",
    "print(\"Best DecisionTreeRegressor Model: \" + str(grid_dtr.best_estimator_))\n",
    "print(\"Best Score: \" + str(grid_dtr.best_score_))"
   ]
  },
  {
   "cell_type": "code",
   "execution_count": 55,
   "metadata": {
    "execution": {
     "iopub.execute_input": "2021-06-20T05:02:07.939839Z",
     "iopub.status.busy": "2021-06-20T05:02:07.939153Z",
     "iopub.status.idle": "2021-06-20T05:02:07.953769Z",
     "shell.execute_reply": "2021-06-20T05:02:07.953083Z",
     "shell.execute_reply.started": "2021-06-20T04:58:18.832919Z"
    },
    "papermill": {
     "duration": 0.095333,
     "end_time": "2021-06-20T05:02:07.953929",
     "exception": false,
     "start_time": "2021-06-20T05:02:07.858596",
     "status": "completed"
    },
    "tags": []
   },
   "outputs": [
    {
     "name": "stdout",
     "output_type": "stream",
     "text": [
      "R^2 Score: 0.7212275782479198\n",
      "RMSE Score: 0.20544123387335272\n"
     ]
    }
   ],
   "source": [
    "dtr = grid_dtr.best_estimator_\n",
    "dtr.fit(X_training, y_training)\n",
    "dtr_pred = dtr.predict(X_valid)\n",
    "r2_dtr = r2_score(y_valid, dtr_pred)\n",
    "rmse_dtr = np.sqrt(mean_squared_error(y_valid, dtr_pred))\n",
    "print(\"R^2 Score: \" + str(r2_dtr))\n",
    "print(\"RMSE Score: \" + str(rmse_dtr))"
   ]
  },
  {
   "cell_type": "code",
   "execution_count": 56,
   "metadata": {
    "execution": {
     "iopub.execute_input": "2021-06-20T05:02:08.104374Z",
     "iopub.status.busy": "2021-06-20T05:02:08.102310Z",
     "iopub.status.idle": "2021-06-20T05:02:08.253079Z",
     "shell.execute_reply": "2021-06-20T05:02:08.253610Z",
     "shell.execute_reply.started": "2021-06-20T04:58:24.609764Z"
    },
    "papermill": {
     "duration": 0.232782,
     "end_time": "2021-06-20T05:02:08.253785",
     "exception": false,
     "start_time": "2021-06-20T05:02:08.021003",
     "status": "completed"
    },
    "tags": []
   },
   "outputs": [
    {
     "name": "stdout",
     "output_type": "stream",
     "text": [
      "Cross Validation Score: 0.7480757868140661\n"
     ]
    }
   ],
   "source": [
    "scores_dtr = cross_val_score(dtr, X_training, y_training, cv=10, scoring=\"r2\")\n",
    "print(\"Cross Validation Score: \" + str(np.mean(scores_dtr)))"
   ]
  },
  {
   "cell_type": "code",
   "execution_count": 57,
   "metadata": {
    "execution": {
     "iopub.execute_input": "2021-06-20T05:02:08.404838Z",
     "iopub.status.busy": "2021-06-20T05:02:08.393716Z",
     "iopub.status.idle": "2021-06-20T05:04:47.620976Z",
     "shell.execute_reply": "2021-06-20T05:04:47.620418Z",
     "shell.execute_reply.started": "2021-06-20T04:58:32.793376Z"
    },
    "papermill": {
     "duration": 159.301123,
     "end_time": "2021-06-20T05:04:47.621129",
     "exception": false,
     "start_time": "2021-06-20T05:02:08.320006",
     "status": "completed"
    },
    "tags": []
   },
   "outputs": [
    {
     "name": "stdout",
     "output_type": "stream",
     "text": [
      "Fitting 5 folds for each of 64 candidates, totalling 320 fits\n"
     ]
    },
    {
     "name": "stderr",
     "output_type": "stream",
     "text": [
      "[Parallel(n_jobs=1)]: Using backend SequentialBackend with 1 concurrent workers.\n"
     ]
    },
    {
     "name": "stdout",
     "output_type": "stream",
     "text": [
      "Best RandomForestRegressor Model: RandomForestRegressor(max_features='log2', min_samples_split=3, n_estimators=20)\n",
      "Best Score: 0.8688296869598695\n"
     ]
    },
    {
     "name": "stderr",
     "output_type": "stream",
     "text": [
      "[Parallel(n_jobs=1)]: Done 320 out of 320 | elapsed:  2.7min finished\n"
     ]
    }
   ],
   "source": [
    "rf = RandomForestRegressor()\n",
    "paremeters_rf = {\"n_estimators\" : [5, 10, 15, 20], \"criterion\" : [\"mse\" , \"mae\"], \"min_samples_split\" : [2, 3, 5, 10], \n",
    "                 \"max_features\" : [\"auto\", \"log2\"]}\n",
    "grid_rf = GridSearchCV(rf, paremeters_rf, verbose=1, scoring=\"r2\")\n",
    "grid_rf.fit(X_training, y_training)\n",
    "\n",
    "print(\"Best RandomForestRegressor Model: \" + str(grid_rf.best_estimator_))\n",
    "print(\"Best Score: \" + str(grid_rf.best_score_))"
   ]
  },
  {
   "cell_type": "code",
   "execution_count": 58,
   "metadata": {
    "execution": {
     "iopub.execute_input": "2021-06-20T05:04:47.759696Z",
     "iopub.status.busy": "2021-06-20T05:04:47.758761Z",
     "iopub.status.idle": "2021-06-20T05:04:47.844981Z",
     "shell.execute_reply": "2021-06-20T05:04:47.845433Z",
     "shell.execute_reply.started": "2021-06-20T05:01:11.254109Z"
    },
    "papermill": {
     "duration": 0.157266,
     "end_time": "2021-06-20T05:04:47.845612",
     "exception": false,
     "start_time": "2021-06-20T05:04:47.688346",
     "status": "completed"
    },
    "tags": []
   },
   "outputs": [
    {
     "name": "stdout",
     "output_type": "stream",
     "text": [
      "R^2 Score: 0.8607559081951233\n",
      "RMSE Score: 0.14519481217591662\n"
     ]
    }
   ],
   "source": [
    "rf = grid_rf.best_estimator_\n",
    "rf.fit(X_training, y_training)\n",
    "rf_pred = rf.predict(X_valid)\n",
    "r2_rf = r2_score(y_valid, rf_pred)\n",
    "rmse_rf = np.sqrt(mean_squared_error(y_valid, rf_pred))\n",
    "print(\"R^2 Score: \" + str(r2_rf))\n",
    "print(\"RMSE Score: \" + str(rmse_rf))"
   ]
  },
  {
   "cell_type": "code",
   "execution_count": 59,
   "metadata": {
    "execution": {
     "iopub.execute_input": "2021-06-20T05:04:47.993785Z",
     "iopub.status.busy": "2021-06-20T05:04:47.986357Z",
     "iopub.status.idle": "2021-06-20T05:04:48.724228Z",
     "shell.execute_reply": "2021-06-20T05:04:48.724685Z",
     "shell.execute_reply.started": "2021-06-20T05:01:11.570800Z"
    },
    "papermill": {
     "duration": 0.811769,
     "end_time": "2021-06-20T05:04:48.724863",
     "exception": false,
     "start_time": "2021-06-20T05:04:47.913094",
     "status": "completed"
    },
    "tags": []
   },
   "outputs": [
    {
     "name": "stdout",
     "output_type": "stream",
     "text": [
      "Cross Validation Score: 0.866560976800959\n"
     ]
    }
   ],
   "source": [
    "scores_rf = cross_val_score(rf, X_training, y_training, cv=10, scoring=\"r2\")\n",
    "print(\"Cross Validation Score: \" + str(np.mean(scores_rf)))"
   ]
  },
  {
   "cell_type": "markdown",
   "metadata": {
    "papermill": {
     "duration": 0.06736,
     "end_time": "2021-06-20T05:04:48.860330",
     "exception": false,
     "start_time": "2021-06-20T05:04:48.792970",
     "status": "completed"
    },
    "tags": []
   },
   "source": [
    "## Evaluation Our Models "
   ]
  },
  {
   "cell_type": "code",
   "execution_count": 60,
   "metadata": {
    "execution": {
     "iopub.execute_input": "2021-06-20T05:04:49.017066Z",
     "iopub.status.busy": "2021-06-20T05:04:49.007893Z",
     "iopub.status.idle": "2021-06-20T05:04:49.022142Z",
     "shell.execute_reply": "2021-06-20T05:04:49.022595Z",
     "shell.execute_reply.started": "2021-06-20T05:01:14.336236Z"
    },
    "papermill": {
     "duration": 0.094223,
     "end_time": "2021-06-20T05:04:49.022768",
     "exception": false,
     "start_time": "2021-06-20T05:04:48.928545",
     "status": "completed"
    },
    "tags": []
   },
   "outputs": [
    {
     "name": "stdout",
     "output_type": "stream",
     "text": [
      "Sorted by Best Score:\n"
     ]
    },
    {
     "data": {
      "text/html": [
       "<div>\n",
       "<style scoped>\n",
       "    .dataframe tbody tr th:only-of-type {\n",
       "        vertical-align: middle;\n",
       "    }\n",
       "\n",
       "    .dataframe tbody tr th {\n",
       "        vertical-align: top;\n",
       "    }\n",
       "\n",
       "    .dataframe thead th {\n",
       "        text-align: right;\n",
       "    }\n",
       "</style>\n",
       "<table border=\"1\" class=\"dataframe\">\n",
       "  <thead>\n",
       "    <tr style=\"text-align: right;\">\n",
       "      <th></th>\n",
       "      <th>Model</th>\n",
       "      <th>Best Score</th>\n",
       "      <th>R Squared</th>\n",
       "      <th>RMSE</th>\n",
       "    </tr>\n",
       "  </thead>\n",
       "  <tbody>\n",
       "    <tr>\n",
       "      <th>1</th>\n",
       "      <td>Ridge</td>\n",
       "      <td>0.882569</td>\n",
       "      <td>0.706</td>\n",
       "      <td>0.210876</td>\n",
       "    </tr>\n",
       "    <tr>\n",
       "      <th>0</th>\n",
       "      <td>Linear Regression</td>\n",
       "      <td>0.881940</td>\n",
       "      <td>0.702</td>\n",
       "      <td>0.212116</td>\n",
       "    </tr>\n",
       "    <tr>\n",
       "      <th>4</th>\n",
       "      <td>Random Forest Regressor</td>\n",
       "      <td>0.868830</td>\n",
       "      <td>0.860</td>\n",
       "      <td>0.145194</td>\n",
       "    </tr>\n",
       "    <tr>\n",
       "      <th>2</th>\n",
       "      <td>Lasso</td>\n",
       "      <td>0.803064</td>\n",
       "      <td>0.534</td>\n",
       "      <td>0.265444</td>\n",
       "    </tr>\n",
       "    <tr>\n",
       "      <th>3</th>\n",
       "      <td>Decision Tree Regressor</td>\n",
       "      <td>0.738678</td>\n",
       "      <td>0.721</td>\n",
       "      <td>0.205441</td>\n",
       "    </tr>\n",
       "  </tbody>\n",
       "</table>\n",
       "</div>"
      ],
      "text/plain": [
       "                     Model  Best Score R Squared      RMSE\n",
       "1                    Ridge    0.882569     0.706  0.210876\n",
       "0        Linear Regression    0.881940     0.702  0.212116\n",
       "4  Random Forest Regressor    0.868830     0.860  0.145194\n",
       "2                    Lasso    0.803064     0.534  0.265444\n",
       "3  Decision Tree Regressor    0.738678     0.721  0.205441"
      ]
     },
     "execution_count": 60,
     "metadata": {},
     "output_type": "execute_result"
    }
   ],
   "source": [
    "model_performances = pd.DataFrame({\n",
    "    \"Model\" : [\"Linear Regression\", \"Ridge\", \"Lasso\", \"Decision Tree Regressor\", \"Random Forest Regressor\"],\n",
    "    \"Best Score\" : [grid_linreg.best_score_,  grid_ridge.best_score_, grid_lasso.best_score_, grid_dtr.best_score_, grid_rf.best_score_],\n",
    "    \"R Squared\" : [str(r2_lin)[0:5], str(r2_ridge)[0:5], str(r2_lasso)[0:5], str(r2_dtr)[0:5], str(r2_rf)[0:5]],\n",
    "    \"RMSE\" : [str(rmse_lin)[0:8], str(rmse_ridge)[0:8], str(rmse_lasso)[0:8], str(rmse_dtr)[0:8], str(rmse_rf)[0:8]]\n",
    "})\n",
    "model_performances.round(4)\n",
    "\n",
    "print(\"Sorted by Best Score:\")\n",
    "model_performances.sort_values(by=\"Best Score\", ascending=False)"
   ]
  },
  {
   "cell_type": "code",
   "execution_count": 61,
   "metadata": {
    "execution": {
     "iopub.execute_input": "2021-06-20T05:04:49.174025Z",
     "iopub.status.busy": "2021-06-20T05:04:49.173353Z",
     "iopub.status.idle": "2021-06-20T05:04:49.178988Z",
     "shell.execute_reply": "2021-06-20T05:04:49.178420Z",
     "shell.execute_reply.started": "2021-06-20T05:01:14.360509Z"
    },
    "papermill": {
     "duration": 0.08784,
     "end_time": "2021-06-20T05:04:49.179130",
     "exception": false,
     "start_time": "2021-06-20T05:04:49.091290",
     "status": "completed"
    },
    "tags": []
   },
   "outputs": [
    {
     "name": "stdout",
     "output_type": "stream",
     "text": [
      "Sorted by R Squared:\n"
     ]
    },
    {
     "data": {
      "text/html": [
       "<div>\n",
       "<style scoped>\n",
       "    .dataframe tbody tr th:only-of-type {\n",
       "        vertical-align: middle;\n",
       "    }\n",
       "\n",
       "    .dataframe tbody tr th {\n",
       "        vertical-align: top;\n",
       "    }\n",
       "\n",
       "    .dataframe thead th {\n",
       "        text-align: right;\n",
       "    }\n",
       "</style>\n",
       "<table border=\"1\" class=\"dataframe\">\n",
       "  <thead>\n",
       "    <tr style=\"text-align: right;\">\n",
       "      <th></th>\n",
       "      <th>Model</th>\n",
       "      <th>Best Score</th>\n",
       "      <th>R Squared</th>\n",
       "      <th>RMSE</th>\n",
       "    </tr>\n",
       "  </thead>\n",
       "  <tbody>\n",
       "    <tr>\n",
       "      <th>4</th>\n",
       "      <td>Random Forest Regressor</td>\n",
       "      <td>0.868830</td>\n",
       "      <td>0.860</td>\n",
       "      <td>0.145194</td>\n",
       "    </tr>\n",
       "    <tr>\n",
       "      <th>3</th>\n",
       "      <td>Decision Tree Regressor</td>\n",
       "      <td>0.738678</td>\n",
       "      <td>0.721</td>\n",
       "      <td>0.205441</td>\n",
       "    </tr>\n",
       "    <tr>\n",
       "      <th>1</th>\n",
       "      <td>Ridge</td>\n",
       "      <td>0.882569</td>\n",
       "      <td>0.706</td>\n",
       "      <td>0.210876</td>\n",
       "    </tr>\n",
       "    <tr>\n",
       "      <th>0</th>\n",
       "      <td>Linear Regression</td>\n",
       "      <td>0.881940</td>\n",
       "      <td>0.702</td>\n",
       "      <td>0.212116</td>\n",
       "    </tr>\n",
       "    <tr>\n",
       "      <th>2</th>\n",
       "      <td>Lasso</td>\n",
       "      <td>0.803064</td>\n",
       "      <td>0.534</td>\n",
       "      <td>0.265444</td>\n",
       "    </tr>\n",
       "  </tbody>\n",
       "</table>\n",
       "</div>"
      ],
      "text/plain": [
       "                     Model  Best Score R Squared      RMSE\n",
       "4  Random Forest Regressor    0.868830     0.860  0.145194\n",
       "3  Decision Tree Regressor    0.738678     0.721  0.205441\n",
       "1                    Ridge    0.882569     0.706  0.210876\n",
       "0        Linear Regression    0.881940     0.702  0.212116\n",
       "2                    Lasso    0.803064     0.534  0.265444"
      ]
     },
     "execution_count": 61,
     "metadata": {},
     "output_type": "execute_result"
    }
   ],
   "source": [
    "print(\"Sorted by R Squared:\")\n",
    "model_performances.sort_values(by=\"R Squared\", ascending=False)"
   ]
  },
  {
   "cell_type": "code",
   "execution_count": 62,
   "metadata": {
    "execution": {
     "iopub.execute_input": "2021-06-20T05:04:49.330393Z",
     "iopub.status.busy": "2021-06-20T05:04:49.329704Z",
     "iopub.status.idle": "2021-06-20T05:04:49.334216Z",
     "shell.execute_reply": "2021-06-20T05:04:49.335076Z",
     "shell.execute_reply.started": "2021-06-20T05:01:14.382494Z"
    },
    "papermill": {
     "duration": 0.086429,
     "end_time": "2021-06-20T05:04:49.335303",
     "exception": false,
     "start_time": "2021-06-20T05:04:49.248874",
     "status": "completed"
    },
    "tags": []
   },
   "outputs": [
    {
     "name": "stdout",
     "output_type": "stream",
     "text": [
      "Sorted by RMSE:\n"
     ]
    },
    {
     "data": {
      "text/html": [
       "<div>\n",
       "<style scoped>\n",
       "    .dataframe tbody tr th:only-of-type {\n",
       "        vertical-align: middle;\n",
       "    }\n",
       "\n",
       "    .dataframe tbody tr th {\n",
       "        vertical-align: top;\n",
       "    }\n",
       "\n",
       "    .dataframe thead th {\n",
       "        text-align: right;\n",
       "    }\n",
       "</style>\n",
       "<table border=\"1\" class=\"dataframe\">\n",
       "  <thead>\n",
       "    <tr style=\"text-align: right;\">\n",
       "      <th></th>\n",
       "      <th>Model</th>\n",
       "      <th>Best Score</th>\n",
       "      <th>R Squared</th>\n",
       "      <th>RMSE</th>\n",
       "    </tr>\n",
       "  </thead>\n",
       "  <tbody>\n",
       "    <tr>\n",
       "      <th>4</th>\n",
       "      <td>Random Forest Regressor</td>\n",
       "      <td>0.868830</td>\n",
       "      <td>0.860</td>\n",
       "      <td>0.145194</td>\n",
       "    </tr>\n",
       "    <tr>\n",
       "      <th>3</th>\n",
       "      <td>Decision Tree Regressor</td>\n",
       "      <td>0.738678</td>\n",
       "      <td>0.721</td>\n",
       "      <td>0.205441</td>\n",
       "    </tr>\n",
       "    <tr>\n",
       "      <th>1</th>\n",
       "      <td>Ridge</td>\n",
       "      <td>0.882569</td>\n",
       "      <td>0.706</td>\n",
       "      <td>0.210876</td>\n",
       "    </tr>\n",
       "    <tr>\n",
       "      <th>0</th>\n",
       "      <td>Linear Regression</td>\n",
       "      <td>0.881940</td>\n",
       "      <td>0.702</td>\n",
       "      <td>0.212116</td>\n",
       "    </tr>\n",
       "    <tr>\n",
       "      <th>2</th>\n",
       "      <td>Lasso</td>\n",
       "      <td>0.803064</td>\n",
       "      <td>0.534</td>\n",
       "      <td>0.265444</td>\n",
       "    </tr>\n",
       "  </tbody>\n",
       "</table>\n",
       "</div>"
      ],
      "text/plain": [
       "                     Model  Best Score R Squared      RMSE\n",
       "4  Random Forest Regressor    0.868830     0.860  0.145194\n",
       "3  Decision Tree Regressor    0.738678     0.721  0.205441\n",
       "1                    Ridge    0.882569     0.706  0.210876\n",
       "0        Linear Regression    0.881940     0.702  0.212116\n",
       "2                    Lasso    0.803064     0.534  0.265444"
      ]
     },
     "execution_count": 62,
     "metadata": {},
     "output_type": "execute_result"
    }
   ],
   "source": [
    "print(\"Sorted by RMSE:\")\n",
    "model_performances.sort_values(by=\"RMSE\", ascending=True)"
   ]
  },
  {
   "cell_type": "code",
   "execution_count": 63,
   "metadata": {
    "execution": {
     "iopub.execute_input": "2021-06-20T05:04:49.488551Z",
     "iopub.status.busy": "2021-06-20T05:04:49.487851Z",
     "iopub.status.idle": "2021-06-20T05:04:49.570704Z",
     "shell.execute_reply": "2021-06-20T05:04:49.571224Z",
     "shell.execute_reply.started": "2021-06-20T05:01:14.409197Z"
    },
    "papermill": {
     "duration": 0.165438,
     "end_time": "2021-06-20T05:04:49.571406",
     "exception": false,
     "start_time": "2021-06-20T05:04:49.405968",
     "status": "completed"
    },
    "tags": []
   },
   "outputs": [
    {
     "data": {
      "text/plain": [
       "RandomForestRegressor(max_features='log2', min_samples_split=3, n_estimators=20)"
      ]
     },
     "execution_count": 63,
     "metadata": {},
     "output_type": "execute_result"
    }
   ],
   "source": [
    "rf.fit(X_train, y_train)"
   ]
  },
  {
   "cell_type": "markdown",
   "metadata": {
    "papermill": {
     "duration": 0.070348,
     "end_time": "2021-06-20T05:04:49.715167",
     "exception": false,
     "start_time": "2021-06-20T05:04:49.644819",
     "status": "completed"
    },
    "tags": []
   },
   "source": [
    "## 6. Submission "
   ]
  },
  {
   "cell_type": "code",
   "execution_count": 64,
   "metadata": {
    "execution": {
     "iopub.execute_input": "2021-06-20T05:04:49.859346Z",
     "iopub.status.busy": "2021-06-20T05:04:49.858620Z",
     "iopub.status.idle": "2021-06-20T05:04:49.877551Z",
     "shell.execute_reply": "2021-06-20T05:04:49.878076Z",
     "shell.execute_reply.started": "2021-06-20T05:01:14.804283Z"
    },
    "papermill": {
     "duration": 0.092597,
     "end_time": "2021-06-20T05:04:49.878259",
     "exception": false,
     "start_time": "2021-06-20T05:04:49.785662",
     "status": "completed"
    },
    "tags": []
   },
   "outputs": [],
   "source": [
    "submission_predictions = np.exp(rf.predict(X_test))"
   ]
  },
  {
   "cell_type": "code",
   "execution_count": 65,
   "metadata": {
    "execution": {
     "iopub.execute_input": "2021-06-20T05:04:50.023673Z",
     "iopub.status.busy": "2021-06-20T05:04:50.023040Z",
     "iopub.status.idle": "2021-06-20T05:04:50.038791Z",
     "shell.execute_reply": "2021-06-20T05:04:50.039513Z",
     "shell.execute_reply.started": "2021-06-20T05:01:14.824735Z"
    },
    "papermill": {
     "duration": 0.090901,
     "end_time": "2021-06-20T05:04:50.039744",
     "exception": false,
     "start_time": "2021-06-20T05:04:49.948843",
     "status": "completed"
    },
    "tags": []
   },
   "outputs": [
    {
     "name": "stdout",
     "output_type": "stream",
     "text": [
      "(1459, 2)\n"
     ]
    }
   ],
   "source": [
    "submission = pd.DataFrame({\n",
    "        \"Id\": testing[\"Id\"],\n",
    "        \"SalePrice\": submission_predictions\n",
    "    })\n",
    "\n",
    "submission.to_csv(\"prices.csv\", index=False)\n",
    "print(submission.shape)"
   ]
  }
 ],
 "metadata": {
  "kernelspec": {
   "display_name": "Python 3",
   "language": "python",
   "name": "python3"
  },
  "language_info": {
   "codemirror_mode": {
    "name": "ipython",
    "version": 3
   },
   "file_extension": ".py",
   "mimetype": "text/x-python",
   "name": "python",
   "nbconvert_exporter": "python",
   "pygments_lexer": "ipython3",
   "version": "3.7.9"
  },
  "papermill": {
   "default_parameters": {},
   "duration": 196.18262,
   "end_time": "2021-06-20T05:04:50.821474",
   "environment_variables": {},
   "exception": null,
   "input_path": "__notebook__.ipynb",
   "output_path": "__notebook__.ipynb",
   "parameters": {},
   "start_time": "2021-06-20T05:01:34.638854",
   "version": "2.2.2"
  }
 },
 "nbformat": 4,
 "nbformat_minor": 4
}
