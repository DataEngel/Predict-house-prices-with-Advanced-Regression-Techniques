{
 "cells": [
  {
   "cell_type": "markdown",
   "metadata": {
    "_cell_guid": "b1076dfc-b9ad-4769-8c92-a6c4dae69d19",
    "_uuid": "8f2839f25d086af736a60e9eeb907d3b93b6e0e5",
    "papermill": {
     "duration": 0.040124,
     "end_time": "2021-07-09T04:03:32.429275",
     "exception": false,
     "start_time": "2021-07-09T04:03:32.389151",
     "status": "completed"
    },
    "tags": []
   },
   "source": [
    "## House Prices: Context\n",
    "\n",
    "Ask a home buyer to describe their dream house, and they probably won't begin with the height of the basement ceiling or the proximity to an east-west railroad. But this playground competition's dataset proves that much more influences price negotiations than the number of bedrooms or a white-picket fence.\n",
    "\n",
    "With 79 explanatory variables describing (almost) every aspect of residential homes in Ames, Iowa, this competition challenges you to predict the final price of each home."
   ]
  },
  {
   "cell_type": "markdown",
   "metadata": {
    "execution": {
     "iopub.execute_input": "2021-06-19T04:55:30.243656Z",
     "iopub.status.busy": "2021-06-19T04:55:30.242915Z",
     "iopub.status.idle": "2021-06-19T04:55:31.090954Z",
     "shell.execute_reply": "2021-06-19T04:55:31.089837Z",
     "shell.execute_reply.started": "2021-06-19T04:55:30.24352Z"
    },
    "papermill": {
     "duration": 0.036756,
     "end_time": "2021-07-09T04:03:32.504414",
     "exception": false,
     "start_time": "2021-07-09T04:03:32.467658",
     "status": "completed"
    },
    "tags": []
   },
   "source": [
    "## 1. Importing Packages "
   ]
  },
  {
   "cell_type": "code",
   "execution_count": 1,
   "metadata": {
    "execution": {
     "iopub.execute_input": "2021-07-09T04:03:32.586260Z",
     "iopub.status.busy": "2021-07-09T04:03:32.585607Z",
     "iopub.status.idle": "2021-07-09T04:03:33.473271Z",
     "shell.execute_reply": "2021-07-09T04:03:33.472465Z",
     "shell.execute_reply.started": "2021-07-09T03:28:11.052657Z"
    },
    "papermill": {
     "duration": 0.931957,
     "end_time": "2021-07-09T04:03:33.473490",
     "exception": false,
     "start_time": "2021-07-09T04:03:32.541533",
     "status": "completed"
    },
    "tags": []
   },
   "outputs": [],
   "source": [
    "import numpy as np \n",
    "import pandas as pd \n",
    "\n",
    "import seaborn as sns\n",
    "from matplotlib import pyplot as plt\n",
    "%matplotlib inline\n",
    "sns.set(style=\"whitegrid\")\n",
    "\n",
    "import warnings\n",
    "warnings.filterwarnings(\"ignore\")\n",
    "warnings.filterwarnings(\"ignore\", category=DeprecationWarning)  "
   ]
  },
  {
   "cell_type": "markdown",
   "metadata": {
    "papermill": {
     "duration": 0.036855,
     "end_time": "2021-07-09T04:03:33.548909",
     "exception": false,
     "start_time": "2021-07-09T04:03:33.512054",
     "status": "completed"
    },
    "tags": []
   },
   "source": [
    "## 2. Loading and Inspecting Data"
   ]
  },
  {
   "cell_type": "code",
   "execution_count": 2,
   "metadata": {
    "execution": {
     "iopub.execute_input": "2021-07-09T04:03:33.632523Z",
     "iopub.status.busy": "2021-07-09T04:03:33.631800Z",
     "iopub.status.idle": "2021-07-09T04:03:33.711131Z",
     "shell.execute_reply": "2021-07-09T04:03:33.710474Z",
     "shell.execute_reply.started": "2021-07-09T03:28:11.063333Z"
    },
    "papermill": {
     "duration": 0.123004,
     "end_time": "2021-07-09T04:03:33.711281",
     "exception": false,
     "start_time": "2021-07-09T04:03:33.588277",
     "status": "completed"
    },
    "tags": []
   },
   "outputs": [],
   "source": [
    "training = pd.read_csv(\"../input/house-prices-advanced-regression-techniques/train.csv\")\n",
    "testing = pd.read_csv(\"../input/house-prices-advanced-regression-techniques/test.csv\")"
   ]
  },
  {
   "cell_type": "code",
   "execution_count": 3,
   "metadata": {
    "execution": {
     "iopub.execute_input": "2021-07-09T04:03:33.797242Z",
     "iopub.status.busy": "2021-07-09T04:03:33.796578Z",
     "iopub.status.idle": "2021-07-09T04:03:33.835335Z",
     "shell.execute_reply": "2021-07-09T04:03:33.834734Z",
     "shell.execute_reply.started": "2021-07-09T03:28:11.143798Z"
    },
    "papermill": {
     "duration": 0.086582,
     "end_time": "2021-07-09T04:03:33.835482",
     "exception": false,
     "start_time": "2021-07-09T04:03:33.748900",
     "status": "completed"
    },
    "tags": []
   },
   "outputs": [
    {
     "data": {
      "text/html": [
       "<div>\n",
       "<style scoped>\n",
       "    .dataframe tbody tr th:only-of-type {\n",
       "        vertical-align: middle;\n",
       "    }\n",
       "\n",
       "    .dataframe tbody tr th {\n",
       "        vertical-align: top;\n",
       "    }\n",
       "\n",
       "    .dataframe thead th {\n",
       "        text-align: right;\n",
       "    }\n",
       "</style>\n",
       "<table border=\"1\" class=\"dataframe\">\n",
       "  <thead>\n",
       "    <tr style=\"text-align: right;\">\n",
       "      <th></th>\n",
       "      <th>Id</th>\n",
       "      <th>MSSubClass</th>\n",
       "      <th>MSZoning</th>\n",
       "      <th>LotFrontage</th>\n",
       "      <th>LotArea</th>\n",
       "      <th>Street</th>\n",
       "      <th>Alley</th>\n",
       "      <th>LotShape</th>\n",
       "      <th>LandContour</th>\n",
       "      <th>Utilities</th>\n",
       "      <th>...</th>\n",
       "      <th>PoolArea</th>\n",
       "      <th>PoolQC</th>\n",
       "      <th>Fence</th>\n",
       "      <th>MiscFeature</th>\n",
       "      <th>MiscVal</th>\n",
       "      <th>MoSold</th>\n",
       "      <th>YrSold</th>\n",
       "      <th>SaleType</th>\n",
       "      <th>SaleCondition</th>\n",
       "      <th>SalePrice</th>\n",
       "    </tr>\n",
       "  </thead>\n",
       "  <tbody>\n",
       "    <tr>\n",
       "      <th>0</th>\n",
       "      <td>1</td>\n",
       "      <td>60</td>\n",
       "      <td>RL</td>\n",
       "      <td>65.0</td>\n",
       "      <td>8450</td>\n",
       "      <td>Pave</td>\n",
       "      <td>NaN</td>\n",
       "      <td>Reg</td>\n",
       "      <td>Lvl</td>\n",
       "      <td>AllPub</td>\n",
       "      <td>...</td>\n",
       "      <td>0</td>\n",
       "      <td>NaN</td>\n",
       "      <td>NaN</td>\n",
       "      <td>NaN</td>\n",
       "      <td>0</td>\n",
       "      <td>2</td>\n",
       "      <td>2008</td>\n",
       "      <td>WD</td>\n",
       "      <td>Normal</td>\n",
       "      <td>208500</td>\n",
       "    </tr>\n",
       "    <tr>\n",
       "      <th>1</th>\n",
       "      <td>2</td>\n",
       "      <td>20</td>\n",
       "      <td>RL</td>\n",
       "      <td>80.0</td>\n",
       "      <td>9600</td>\n",
       "      <td>Pave</td>\n",
       "      <td>NaN</td>\n",
       "      <td>Reg</td>\n",
       "      <td>Lvl</td>\n",
       "      <td>AllPub</td>\n",
       "      <td>...</td>\n",
       "      <td>0</td>\n",
       "      <td>NaN</td>\n",
       "      <td>NaN</td>\n",
       "      <td>NaN</td>\n",
       "      <td>0</td>\n",
       "      <td>5</td>\n",
       "      <td>2007</td>\n",
       "      <td>WD</td>\n",
       "      <td>Normal</td>\n",
       "      <td>181500</td>\n",
       "    </tr>\n",
       "    <tr>\n",
       "      <th>2</th>\n",
       "      <td>3</td>\n",
       "      <td>60</td>\n",
       "      <td>RL</td>\n",
       "      <td>68.0</td>\n",
       "      <td>11250</td>\n",
       "      <td>Pave</td>\n",
       "      <td>NaN</td>\n",
       "      <td>IR1</td>\n",
       "      <td>Lvl</td>\n",
       "      <td>AllPub</td>\n",
       "      <td>...</td>\n",
       "      <td>0</td>\n",
       "      <td>NaN</td>\n",
       "      <td>NaN</td>\n",
       "      <td>NaN</td>\n",
       "      <td>0</td>\n",
       "      <td>9</td>\n",
       "      <td>2008</td>\n",
       "      <td>WD</td>\n",
       "      <td>Normal</td>\n",
       "      <td>223500</td>\n",
       "    </tr>\n",
       "    <tr>\n",
       "      <th>3</th>\n",
       "      <td>4</td>\n",
       "      <td>70</td>\n",
       "      <td>RL</td>\n",
       "      <td>60.0</td>\n",
       "      <td>9550</td>\n",
       "      <td>Pave</td>\n",
       "      <td>NaN</td>\n",
       "      <td>IR1</td>\n",
       "      <td>Lvl</td>\n",
       "      <td>AllPub</td>\n",
       "      <td>...</td>\n",
       "      <td>0</td>\n",
       "      <td>NaN</td>\n",
       "      <td>NaN</td>\n",
       "      <td>NaN</td>\n",
       "      <td>0</td>\n",
       "      <td>2</td>\n",
       "      <td>2006</td>\n",
       "      <td>WD</td>\n",
       "      <td>Abnorml</td>\n",
       "      <td>140000</td>\n",
       "    </tr>\n",
       "    <tr>\n",
       "      <th>4</th>\n",
       "      <td>5</td>\n",
       "      <td>60</td>\n",
       "      <td>RL</td>\n",
       "      <td>84.0</td>\n",
       "      <td>14260</td>\n",
       "      <td>Pave</td>\n",
       "      <td>NaN</td>\n",
       "      <td>IR1</td>\n",
       "      <td>Lvl</td>\n",
       "      <td>AllPub</td>\n",
       "      <td>...</td>\n",
       "      <td>0</td>\n",
       "      <td>NaN</td>\n",
       "      <td>NaN</td>\n",
       "      <td>NaN</td>\n",
       "      <td>0</td>\n",
       "      <td>12</td>\n",
       "      <td>2008</td>\n",
       "      <td>WD</td>\n",
       "      <td>Normal</td>\n",
       "      <td>250000</td>\n",
       "    </tr>\n",
       "  </tbody>\n",
       "</table>\n",
       "<p>5 rows × 81 columns</p>\n",
       "</div>"
      ],
      "text/plain": [
       "   Id  MSSubClass MSZoning  LotFrontage  LotArea Street Alley LotShape  \\\n",
       "0   1          60       RL         65.0     8450   Pave   NaN      Reg   \n",
       "1   2          20       RL         80.0     9600   Pave   NaN      Reg   \n",
       "2   3          60       RL         68.0    11250   Pave   NaN      IR1   \n",
       "3   4          70       RL         60.0     9550   Pave   NaN      IR1   \n",
       "4   5          60       RL         84.0    14260   Pave   NaN      IR1   \n",
       "\n",
       "  LandContour Utilities  ... PoolArea PoolQC Fence MiscFeature MiscVal MoSold  \\\n",
       "0         Lvl    AllPub  ...        0    NaN   NaN         NaN       0      2   \n",
       "1         Lvl    AllPub  ...        0    NaN   NaN         NaN       0      5   \n",
       "2         Lvl    AllPub  ...        0    NaN   NaN         NaN       0      9   \n",
       "3         Lvl    AllPub  ...        0    NaN   NaN         NaN       0      2   \n",
       "4         Lvl    AllPub  ...        0    NaN   NaN         NaN       0     12   \n",
       "\n",
       "  YrSold  SaleType  SaleCondition  SalePrice  \n",
       "0   2008        WD         Normal     208500  \n",
       "1   2007        WD         Normal     181500  \n",
       "2   2008        WD         Normal     223500  \n",
       "3   2006        WD        Abnorml     140000  \n",
       "4   2008        WD         Normal     250000  \n",
       "\n",
       "[5 rows x 81 columns]"
      ]
     },
     "execution_count": 3,
     "metadata": {},
     "output_type": "execute_result"
    }
   ],
   "source": [
    "training.head()"
   ]
  },
  {
   "cell_type": "code",
   "execution_count": 4,
   "metadata": {
    "execution": {
     "iopub.execute_input": "2021-07-09T04:03:33.918979Z",
     "iopub.status.busy": "2021-07-09T04:03:33.918009Z",
     "iopub.status.idle": "2021-07-09T04:03:34.014690Z",
     "shell.execute_reply": "2021-07-09T04:03:34.014206Z",
     "shell.execute_reply.started": "2021-07-09T03:28:11.175679Z"
    },
    "papermill": {
     "duration": 0.138861,
     "end_time": "2021-07-09T04:03:34.014839",
     "exception": false,
     "start_time": "2021-07-09T04:03:33.875978",
     "status": "completed"
    },
    "tags": []
   },
   "outputs": [
    {
     "data": {
      "text/html": [
       "<div>\n",
       "<style scoped>\n",
       "    .dataframe tbody tr th:only-of-type {\n",
       "        vertical-align: middle;\n",
       "    }\n",
       "\n",
       "    .dataframe tbody tr th {\n",
       "        vertical-align: top;\n",
       "    }\n",
       "\n",
       "    .dataframe thead th {\n",
       "        text-align: right;\n",
       "    }\n",
       "</style>\n",
       "<table border=\"1\" class=\"dataframe\">\n",
       "  <thead>\n",
       "    <tr style=\"text-align: right;\">\n",
       "      <th></th>\n",
       "      <th>Id</th>\n",
       "      <th>MSSubClass</th>\n",
       "      <th>LotFrontage</th>\n",
       "      <th>LotArea</th>\n",
       "      <th>OverallQual</th>\n",
       "      <th>OverallCond</th>\n",
       "      <th>YearBuilt</th>\n",
       "      <th>YearRemodAdd</th>\n",
       "      <th>MasVnrArea</th>\n",
       "      <th>BsmtFinSF1</th>\n",
       "      <th>...</th>\n",
       "      <th>WoodDeckSF</th>\n",
       "      <th>OpenPorchSF</th>\n",
       "      <th>EnclosedPorch</th>\n",
       "      <th>3SsnPorch</th>\n",
       "      <th>ScreenPorch</th>\n",
       "      <th>PoolArea</th>\n",
       "      <th>MiscVal</th>\n",
       "      <th>MoSold</th>\n",
       "      <th>YrSold</th>\n",
       "      <th>SalePrice</th>\n",
       "    </tr>\n",
       "  </thead>\n",
       "  <tbody>\n",
       "    <tr>\n",
       "      <th>count</th>\n",
       "      <td>1460.000000</td>\n",
       "      <td>1460.000000</td>\n",
       "      <td>1201.000000</td>\n",
       "      <td>1460.000000</td>\n",
       "      <td>1460.000000</td>\n",
       "      <td>1460.000000</td>\n",
       "      <td>1460.000000</td>\n",
       "      <td>1460.000000</td>\n",
       "      <td>1452.000000</td>\n",
       "      <td>1460.000000</td>\n",
       "      <td>...</td>\n",
       "      <td>1460.000000</td>\n",
       "      <td>1460.000000</td>\n",
       "      <td>1460.000000</td>\n",
       "      <td>1460.000000</td>\n",
       "      <td>1460.000000</td>\n",
       "      <td>1460.000000</td>\n",
       "      <td>1460.000000</td>\n",
       "      <td>1460.000000</td>\n",
       "      <td>1460.000000</td>\n",
       "      <td>1460.000000</td>\n",
       "    </tr>\n",
       "    <tr>\n",
       "      <th>mean</th>\n",
       "      <td>730.500000</td>\n",
       "      <td>56.897260</td>\n",
       "      <td>70.049958</td>\n",
       "      <td>10516.828082</td>\n",
       "      <td>6.099315</td>\n",
       "      <td>5.575342</td>\n",
       "      <td>1971.267808</td>\n",
       "      <td>1984.865753</td>\n",
       "      <td>103.685262</td>\n",
       "      <td>443.639726</td>\n",
       "      <td>...</td>\n",
       "      <td>94.244521</td>\n",
       "      <td>46.660274</td>\n",
       "      <td>21.954110</td>\n",
       "      <td>3.409589</td>\n",
       "      <td>15.060959</td>\n",
       "      <td>2.758904</td>\n",
       "      <td>43.489041</td>\n",
       "      <td>6.321918</td>\n",
       "      <td>2007.815753</td>\n",
       "      <td>180921.195890</td>\n",
       "    </tr>\n",
       "    <tr>\n",
       "      <th>std</th>\n",
       "      <td>421.610009</td>\n",
       "      <td>42.300571</td>\n",
       "      <td>24.284752</td>\n",
       "      <td>9981.264932</td>\n",
       "      <td>1.382997</td>\n",
       "      <td>1.112799</td>\n",
       "      <td>30.202904</td>\n",
       "      <td>20.645407</td>\n",
       "      <td>181.066207</td>\n",
       "      <td>456.098091</td>\n",
       "      <td>...</td>\n",
       "      <td>125.338794</td>\n",
       "      <td>66.256028</td>\n",
       "      <td>61.119149</td>\n",
       "      <td>29.317331</td>\n",
       "      <td>55.757415</td>\n",
       "      <td>40.177307</td>\n",
       "      <td>496.123024</td>\n",
       "      <td>2.703626</td>\n",
       "      <td>1.328095</td>\n",
       "      <td>79442.502883</td>\n",
       "    </tr>\n",
       "    <tr>\n",
       "      <th>min</th>\n",
       "      <td>1.000000</td>\n",
       "      <td>20.000000</td>\n",
       "      <td>21.000000</td>\n",
       "      <td>1300.000000</td>\n",
       "      <td>1.000000</td>\n",
       "      <td>1.000000</td>\n",
       "      <td>1872.000000</td>\n",
       "      <td>1950.000000</td>\n",
       "      <td>0.000000</td>\n",
       "      <td>0.000000</td>\n",
       "      <td>...</td>\n",
       "      <td>0.000000</td>\n",
       "      <td>0.000000</td>\n",
       "      <td>0.000000</td>\n",
       "      <td>0.000000</td>\n",
       "      <td>0.000000</td>\n",
       "      <td>0.000000</td>\n",
       "      <td>0.000000</td>\n",
       "      <td>1.000000</td>\n",
       "      <td>2006.000000</td>\n",
       "      <td>34900.000000</td>\n",
       "    </tr>\n",
       "    <tr>\n",
       "      <th>25%</th>\n",
       "      <td>365.750000</td>\n",
       "      <td>20.000000</td>\n",
       "      <td>59.000000</td>\n",
       "      <td>7553.500000</td>\n",
       "      <td>5.000000</td>\n",
       "      <td>5.000000</td>\n",
       "      <td>1954.000000</td>\n",
       "      <td>1967.000000</td>\n",
       "      <td>0.000000</td>\n",
       "      <td>0.000000</td>\n",
       "      <td>...</td>\n",
       "      <td>0.000000</td>\n",
       "      <td>0.000000</td>\n",
       "      <td>0.000000</td>\n",
       "      <td>0.000000</td>\n",
       "      <td>0.000000</td>\n",
       "      <td>0.000000</td>\n",
       "      <td>0.000000</td>\n",
       "      <td>5.000000</td>\n",
       "      <td>2007.000000</td>\n",
       "      <td>129975.000000</td>\n",
       "    </tr>\n",
       "    <tr>\n",
       "      <th>50%</th>\n",
       "      <td>730.500000</td>\n",
       "      <td>50.000000</td>\n",
       "      <td>69.000000</td>\n",
       "      <td>9478.500000</td>\n",
       "      <td>6.000000</td>\n",
       "      <td>5.000000</td>\n",
       "      <td>1973.000000</td>\n",
       "      <td>1994.000000</td>\n",
       "      <td>0.000000</td>\n",
       "      <td>383.500000</td>\n",
       "      <td>...</td>\n",
       "      <td>0.000000</td>\n",
       "      <td>25.000000</td>\n",
       "      <td>0.000000</td>\n",
       "      <td>0.000000</td>\n",
       "      <td>0.000000</td>\n",
       "      <td>0.000000</td>\n",
       "      <td>0.000000</td>\n",
       "      <td>6.000000</td>\n",
       "      <td>2008.000000</td>\n",
       "      <td>163000.000000</td>\n",
       "    </tr>\n",
       "    <tr>\n",
       "      <th>75%</th>\n",
       "      <td>1095.250000</td>\n",
       "      <td>70.000000</td>\n",
       "      <td>80.000000</td>\n",
       "      <td>11601.500000</td>\n",
       "      <td>7.000000</td>\n",
       "      <td>6.000000</td>\n",
       "      <td>2000.000000</td>\n",
       "      <td>2004.000000</td>\n",
       "      <td>166.000000</td>\n",
       "      <td>712.250000</td>\n",
       "      <td>...</td>\n",
       "      <td>168.000000</td>\n",
       "      <td>68.000000</td>\n",
       "      <td>0.000000</td>\n",
       "      <td>0.000000</td>\n",
       "      <td>0.000000</td>\n",
       "      <td>0.000000</td>\n",
       "      <td>0.000000</td>\n",
       "      <td>8.000000</td>\n",
       "      <td>2009.000000</td>\n",
       "      <td>214000.000000</td>\n",
       "    </tr>\n",
       "    <tr>\n",
       "      <th>max</th>\n",
       "      <td>1460.000000</td>\n",
       "      <td>190.000000</td>\n",
       "      <td>313.000000</td>\n",
       "      <td>215245.000000</td>\n",
       "      <td>10.000000</td>\n",
       "      <td>9.000000</td>\n",
       "      <td>2010.000000</td>\n",
       "      <td>2010.000000</td>\n",
       "      <td>1600.000000</td>\n",
       "      <td>5644.000000</td>\n",
       "      <td>...</td>\n",
       "      <td>857.000000</td>\n",
       "      <td>547.000000</td>\n",
       "      <td>552.000000</td>\n",
       "      <td>508.000000</td>\n",
       "      <td>480.000000</td>\n",
       "      <td>738.000000</td>\n",
       "      <td>15500.000000</td>\n",
       "      <td>12.000000</td>\n",
       "      <td>2010.000000</td>\n",
       "      <td>755000.000000</td>\n",
       "    </tr>\n",
       "  </tbody>\n",
       "</table>\n",
       "<p>8 rows × 38 columns</p>\n",
       "</div>"
      ],
      "text/plain": [
       "                Id   MSSubClass  LotFrontage        LotArea  OverallQual  \\\n",
       "count  1460.000000  1460.000000  1201.000000    1460.000000  1460.000000   \n",
       "mean    730.500000    56.897260    70.049958   10516.828082     6.099315   \n",
       "std     421.610009    42.300571    24.284752    9981.264932     1.382997   \n",
       "min       1.000000    20.000000    21.000000    1300.000000     1.000000   \n",
       "25%     365.750000    20.000000    59.000000    7553.500000     5.000000   \n",
       "50%     730.500000    50.000000    69.000000    9478.500000     6.000000   \n",
       "75%    1095.250000    70.000000    80.000000   11601.500000     7.000000   \n",
       "max    1460.000000   190.000000   313.000000  215245.000000    10.000000   \n",
       "\n",
       "       OverallCond    YearBuilt  YearRemodAdd   MasVnrArea   BsmtFinSF1  ...  \\\n",
       "count  1460.000000  1460.000000   1460.000000  1452.000000  1460.000000  ...   \n",
       "mean      5.575342  1971.267808   1984.865753   103.685262   443.639726  ...   \n",
       "std       1.112799    30.202904     20.645407   181.066207   456.098091  ...   \n",
       "min       1.000000  1872.000000   1950.000000     0.000000     0.000000  ...   \n",
       "25%       5.000000  1954.000000   1967.000000     0.000000     0.000000  ...   \n",
       "50%       5.000000  1973.000000   1994.000000     0.000000   383.500000  ...   \n",
       "75%       6.000000  2000.000000   2004.000000   166.000000   712.250000  ...   \n",
       "max       9.000000  2010.000000   2010.000000  1600.000000  5644.000000  ...   \n",
       "\n",
       "        WoodDeckSF  OpenPorchSF  EnclosedPorch    3SsnPorch  ScreenPorch  \\\n",
       "count  1460.000000  1460.000000    1460.000000  1460.000000  1460.000000   \n",
       "mean     94.244521    46.660274      21.954110     3.409589    15.060959   \n",
       "std     125.338794    66.256028      61.119149    29.317331    55.757415   \n",
       "min       0.000000     0.000000       0.000000     0.000000     0.000000   \n",
       "25%       0.000000     0.000000       0.000000     0.000000     0.000000   \n",
       "50%       0.000000    25.000000       0.000000     0.000000     0.000000   \n",
       "75%     168.000000    68.000000       0.000000     0.000000     0.000000   \n",
       "max     857.000000   547.000000     552.000000   508.000000   480.000000   \n",
       "\n",
       "          PoolArea       MiscVal       MoSold       YrSold      SalePrice  \n",
       "count  1460.000000   1460.000000  1460.000000  1460.000000    1460.000000  \n",
       "mean      2.758904     43.489041     6.321918  2007.815753  180921.195890  \n",
       "std      40.177307    496.123024     2.703626     1.328095   79442.502883  \n",
       "min       0.000000      0.000000     1.000000  2006.000000   34900.000000  \n",
       "25%       0.000000      0.000000     5.000000  2007.000000  129975.000000  \n",
       "50%       0.000000      0.000000     6.000000  2008.000000  163000.000000  \n",
       "75%       0.000000      0.000000     8.000000  2009.000000  214000.000000  \n",
       "max     738.000000  15500.000000    12.000000  2010.000000  755000.000000  \n",
       "\n",
       "[8 rows x 38 columns]"
      ]
     },
     "execution_count": 4,
     "metadata": {},
     "output_type": "execute_result"
    }
   ],
   "source": [
    "training.describe()"
   ]
  },
  {
   "cell_type": "code",
   "execution_count": 5,
   "metadata": {
    "execution": {
     "iopub.execute_input": "2021-07-09T04:03:34.097705Z",
     "iopub.status.busy": "2021-07-09T04:03:34.097096Z",
     "iopub.status.idle": "2021-07-09T04:03:34.099794Z",
     "shell.execute_reply": "2021-07-09T04:03:34.100393Z",
     "shell.execute_reply.started": "2021-07-09T03:28:11.285442Z"
    },
    "papermill": {
     "duration": 0.04694,
     "end_time": "2021-07-09T04:03:34.100584",
     "exception": false,
     "start_time": "2021-07-09T04:03:34.053644",
     "status": "completed"
    },
    "tags": []
   },
   "outputs": [
    {
     "data": {
      "text/plain": [
       "(1460, 81)"
      ]
     },
     "execution_count": 5,
     "metadata": {},
     "output_type": "execute_result"
    }
   ],
   "source": [
    "training.shape"
   ]
  },
  {
   "cell_type": "code",
   "execution_count": 6,
   "metadata": {
    "execution": {
     "iopub.execute_input": "2021-07-09T04:03:34.182525Z",
     "iopub.status.busy": "2021-07-09T04:03:34.181895Z",
     "iopub.status.idle": "2021-07-09T04:03:34.188146Z",
     "shell.execute_reply": "2021-07-09T04:03:34.187671Z",
     "shell.execute_reply.started": "2021-07-09T03:28:11.292962Z"
    },
    "papermill": {
     "duration": 0.048874,
     "end_time": "2021-07-09T04:03:34.188299",
     "exception": false,
     "start_time": "2021-07-09T04:03:34.139425",
     "status": "completed"
    },
    "tags": []
   },
   "outputs": [
    {
     "data": {
      "text/plain": [
       "Index(['Id', 'MSSubClass', 'MSZoning', 'LotFrontage', 'LotArea', 'Street',\n",
       "       'Alley', 'LotShape', 'LandContour', 'Utilities', 'LotConfig',\n",
       "       'LandSlope', 'Neighborhood', 'Condition1', 'Condition2', 'BldgType',\n",
       "       'HouseStyle', 'OverallQual', 'OverallCond', 'YearBuilt', 'YearRemodAdd',\n",
       "       'RoofStyle', 'RoofMatl', 'Exterior1st', 'Exterior2nd', 'MasVnrType',\n",
       "       'MasVnrArea', 'ExterQual', 'ExterCond', 'Foundation', 'BsmtQual',\n",
       "       'BsmtCond', 'BsmtExposure', 'BsmtFinType1', 'BsmtFinSF1',\n",
       "       'BsmtFinType2', 'BsmtFinSF2', 'BsmtUnfSF', 'TotalBsmtSF', 'Heating',\n",
       "       'HeatingQC', 'CentralAir', 'Electrical', '1stFlrSF', '2ndFlrSF',\n",
       "       'LowQualFinSF', 'GrLivArea', 'BsmtFullBath', 'BsmtHalfBath', 'FullBath',\n",
       "       'HalfBath', 'BedroomAbvGr', 'KitchenAbvGr', 'KitchenQual',\n",
       "       'TotRmsAbvGrd', 'Functional', 'Fireplaces', 'FireplaceQu', 'GarageType',\n",
       "       'GarageYrBlt', 'GarageFinish', 'GarageCars', 'GarageArea', 'GarageQual',\n",
       "       'GarageCond', 'PavedDrive', 'WoodDeckSF', 'OpenPorchSF',\n",
       "       'EnclosedPorch', '3SsnPorch', 'ScreenPorch', 'PoolArea', 'PoolQC',\n",
       "       'Fence', 'MiscFeature', 'MiscVal', 'MoSold', 'YrSold', 'SaleType',\n",
       "       'SaleCondition', 'SalePrice'],\n",
       "      dtype='object')"
      ]
     },
     "execution_count": 6,
     "metadata": {},
     "output_type": "execute_result"
    }
   ],
   "source": [
    "training.keys()"
   ]
  },
  {
   "cell_type": "markdown",
   "metadata": {
    "papermill": {
     "duration": 0.038384,
     "end_time": "2021-07-09T04:03:34.266630",
     "exception": false,
     "start_time": "2021-07-09T04:03:34.228246",
     "status": "completed"
    },
    "tags": []
   },
   "source": [
    "Let's inspect the correlations to get a better idea of which columns correlate the most with the Sale Price of the house. If there are features that don´t do a good job predicting the Sale Price, we can just eliminate them and not use them in our model. "
   ]
  },
  {
   "cell_type": "code",
   "execution_count": 7,
   "metadata": {
    "execution": {
     "iopub.execute_input": "2021-07-09T04:03:34.350118Z",
     "iopub.status.busy": "2021-07-09T04:03:34.349365Z",
     "iopub.status.idle": "2021-07-09T04:03:34.364652Z",
     "shell.execute_reply": "2021-07-09T04:03:34.364138Z",
     "shell.execute_reply.started": "2021-07-09T03:28:11.308020Z"
    },
    "papermill": {
     "duration": 0.058924,
     "end_time": "2021-07-09T04:03:34.364791",
     "exception": false,
     "start_time": "2021-07-09T04:03:34.305867",
     "status": "completed"
    },
    "tags": []
   },
   "outputs": [
    {
     "data": {
      "text/plain": [
       "SalePrice        1.000000\n",
       "OverallQual      0.790982\n",
       "GrLivArea        0.708624\n",
       "GarageCars       0.640409\n",
       "GarageArea       0.623431\n",
       "TotalBsmtSF      0.613581\n",
       "1stFlrSF         0.605852\n",
       "FullBath         0.560664\n",
       "TotRmsAbvGrd     0.533723\n",
       "YearBuilt        0.522897\n",
       "YearRemodAdd     0.507101\n",
       "GarageYrBlt      0.486362\n",
       "MasVnrArea       0.477493\n",
       "Fireplaces       0.466929\n",
       "BsmtFinSF1       0.386420\n",
       "LotFrontage      0.351799\n",
       "WoodDeckSF       0.324413\n",
       "2ndFlrSF         0.319334\n",
       "OpenPorchSF      0.315856\n",
       "HalfBath         0.284108\n",
       "LotArea          0.263843\n",
       "BsmtFullBath     0.227122\n",
       "BsmtUnfSF        0.214479\n",
       "BedroomAbvGr     0.168213\n",
       "ScreenPorch      0.111447\n",
       "PoolArea         0.092404\n",
       "MoSold           0.046432\n",
       "3SsnPorch        0.044584\n",
       "BsmtFinSF2      -0.011378\n",
       "BsmtHalfBath    -0.016844\n",
       "MiscVal         -0.021190\n",
       "Id              -0.021917\n",
       "LowQualFinSF    -0.025606\n",
       "YrSold          -0.028923\n",
       "OverallCond     -0.077856\n",
       "MSSubClass      -0.084284\n",
       "EnclosedPorch   -0.128578\n",
       "KitchenAbvGr    -0.135907\n",
       "Name: SalePrice, dtype: float64"
      ]
     },
     "execution_count": 7,
     "metadata": {},
     "output_type": "execute_result"
    }
   ],
   "source": [
    "correlations = training.corr()\n",
    "correlations = correlations[\"SalePrice\"].sort_values(ascending=False)\n",
    "features = correlations.index[1:6]\n",
    "correlations"
   ]
  },
  {
   "cell_type": "markdown",
   "metadata": {
    "papermill": {
     "duration": 0.038549,
     "end_time": "2021-07-09T04:03:34.442590",
     "exception": false,
     "start_time": "2021-07-09T04:03:34.404041",
     "status": "completed"
    },
    "tags": []
   },
   "source": [
    "# 3. Imputing Null Values "
   ]
  },
  {
   "cell_type": "markdown",
   "metadata": {
    "papermill": {
     "duration": 0.038664,
     "end_time": "2021-07-09T04:03:34.520760",
     "exception": false,
     "start_time": "2021-07-09T04:03:34.482096",
     "status": "completed"
    },
    "tags": []
   },
   "source": [
    "For numerical imputing, we would typically fill the missing values with a measure like median, mean, or mode. For categorical imputing, I chose to fill the missing values with the most common term that appeared from the entire column.\n",
    "\n",
    "\n",
    "### Places Where NaN Means Something\n",
    "\n",
    "This means that if a value is NaN, the house might not have that certain attribute, which will affect the price of the house. Therefore, it is better to not drop, but fill in the null cell with a value called \"None\" which serves as its own category."
   ]
  },
  {
   "cell_type": "code",
   "execution_count": 8,
   "metadata": {
    "execution": {
     "iopub.execute_input": "2021-07-09T04:03:34.607162Z",
     "iopub.status.busy": "2021-07-09T04:03:34.606504Z",
     "iopub.status.idle": "2021-07-09T04:03:34.616512Z",
     "shell.execute_reply": "2021-07-09T04:03:34.615998Z",
     "shell.execute_reply.started": "2021-07-09T04:03:01.427705Z"
    },
    "papermill": {
     "duration": 0.056953,
     "end_time": "2021-07-09T04:03:34.616668",
     "exception": false,
     "start_time": "2021-07-09T04:03:34.559715",
     "status": "completed"
    },
    "tags": []
   },
   "outputs": [],
   "source": [
    "training_null = pd.isnull(training).sum()\n",
    "testing_null = pd.isnull(testing).sum()\n",
    "\n",
    "null = pd.concat([training_null, testing_null], axis=1, keys=[\"Training\", \"Testing\"])"
   ]
  },
  {
   "cell_type": "code",
   "execution_count": 9,
   "metadata": {
    "execution": {
     "iopub.execute_input": "2021-07-09T04:03:34.704147Z",
     "iopub.status.busy": "2021-07-09T04:03:34.703406Z",
     "iopub.status.idle": "2021-07-09T04:03:34.724059Z",
     "shell.execute_reply": "2021-07-09T04:03:34.723562Z",
     "shell.execute_reply.started": "2021-07-09T04:03:01.517610Z"
    },
    "papermill": {
     "duration": 0.066386,
     "end_time": "2021-07-09T04:03:34.724212",
     "exception": false,
     "start_time": "2021-07-09T04:03:34.657826",
     "status": "completed"
    },
    "tags": []
   },
   "outputs": [],
   "source": [
    "null_many = null[null.sum(axis=1) > 200]  #a lot of missing values\n",
    "null_few = null[(null.sum(axis=1) > 0) & (null.sum(axis=1) < 200)]  #not as much missing values"
   ]
  },
  {
   "cell_type": "code",
   "execution_count": 10,
   "metadata": {
    "execution": {
     "iopub.execute_input": "2021-07-09T04:03:34.807170Z",
     "iopub.status.busy": "2021-07-09T04:03:34.806585Z",
     "iopub.status.idle": "2021-07-09T04:03:34.815905Z",
     "shell.execute_reply": "2021-07-09T04:03:34.816552Z",
     "shell.execute_reply.started": "2021-07-09T04:03:01.783605Z"
    },
    "papermill": {
     "duration": 0.052683,
     "end_time": "2021-07-09T04:03:34.816748",
     "exception": false,
     "start_time": "2021-07-09T04:03:34.764065",
     "status": "completed"
    },
    "tags": []
   },
   "outputs": [
    {
     "data": {
      "text/html": [
       "<div>\n",
       "<style scoped>\n",
       "    .dataframe tbody tr th:only-of-type {\n",
       "        vertical-align: middle;\n",
       "    }\n",
       "\n",
       "    .dataframe tbody tr th {\n",
       "        vertical-align: top;\n",
       "    }\n",
       "\n",
       "    .dataframe thead th {\n",
       "        text-align: right;\n",
       "    }\n",
       "</style>\n",
       "<table border=\"1\" class=\"dataframe\">\n",
       "  <thead>\n",
       "    <tr style=\"text-align: right;\">\n",
       "      <th></th>\n",
       "      <th>Training</th>\n",
       "      <th>Testing</th>\n",
       "    </tr>\n",
       "  </thead>\n",
       "  <tbody>\n",
       "    <tr>\n",
       "      <th>LotFrontage</th>\n",
       "      <td>259</td>\n",
       "      <td>227.0</td>\n",
       "    </tr>\n",
       "    <tr>\n",
       "      <th>Alley</th>\n",
       "      <td>1369</td>\n",
       "      <td>1352.0</td>\n",
       "    </tr>\n",
       "    <tr>\n",
       "      <th>FireplaceQu</th>\n",
       "      <td>690</td>\n",
       "      <td>730.0</td>\n",
       "    </tr>\n",
       "    <tr>\n",
       "      <th>PoolQC</th>\n",
       "      <td>1453</td>\n",
       "      <td>1456.0</td>\n",
       "    </tr>\n",
       "    <tr>\n",
       "      <th>Fence</th>\n",
       "      <td>1179</td>\n",
       "      <td>1169.0</td>\n",
       "    </tr>\n",
       "    <tr>\n",
       "      <th>MiscFeature</th>\n",
       "      <td>1406</td>\n",
       "      <td>1408.0</td>\n",
       "    </tr>\n",
       "  </tbody>\n",
       "</table>\n",
       "</div>"
      ],
      "text/plain": [
       "             Training  Testing\n",
       "LotFrontage       259    227.0\n",
       "Alley            1369   1352.0\n",
       "FireplaceQu       690    730.0\n",
       "PoolQC           1453   1456.0\n",
       "Fence            1179   1169.0\n",
       "MiscFeature      1406   1408.0"
      ]
     },
     "execution_count": 10,
     "metadata": {},
     "output_type": "execute_result"
    }
   ],
   "source": [
    "null_many"
   ]
  },
  {
   "cell_type": "code",
   "execution_count": 11,
   "metadata": {
    "execution": {
     "iopub.execute_input": "2021-07-09T04:03:34.902323Z",
     "iopub.status.busy": "2021-07-09T04:03:34.901659Z",
     "iopub.status.idle": "2021-07-09T04:03:34.905177Z",
     "shell.execute_reply": "2021-07-09T04:03:34.904604Z",
     "shell.execute_reply.started": "2021-07-09T03:28:11.387455Z"
    },
    "papermill": {
     "duration": 0.047764,
     "end_time": "2021-07-09T04:03:34.905337",
     "exception": false,
     "start_time": "2021-07-09T04:03:34.857573",
     "status": "completed"
    },
    "tags": []
   },
   "outputs": [],
   "source": [
    "#you can find these features on the description data file provided\n",
    "\n",
    "null_has_meaning = [\"Alley\", \"BsmtQual\", \"BsmtCond\", \"BsmtExposure\", \"BsmtFinType1\", \"BsmtFinType2\", \"FireplaceQu\", \"GarageType\", \"GarageFinish\", \"GarageQual\", \"GarageCond\", \"PoolQC\", \"Fence\", \"MiscFeature\"]"
   ]
  },
  {
   "cell_type": "code",
   "execution_count": 12,
   "metadata": {
    "execution": {
     "iopub.execute_input": "2021-07-09T04:03:34.988695Z",
     "iopub.status.busy": "2021-07-09T04:03:34.987790Z",
     "iopub.status.idle": "2021-07-09T04:03:35.002555Z",
     "shell.execute_reply": "2021-07-09T04:03:35.003003Z",
     "shell.execute_reply.started": "2021-07-09T03:28:11.397866Z"
    },
    "papermill": {
     "duration": 0.058135,
     "end_time": "2021-07-09T04:03:35.003185",
     "exception": false,
     "start_time": "2021-07-09T04:03:34.945050",
     "status": "completed"
    },
    "tags": []
   },
   "outputs": [],
   "source": [
    "for i in null_has_meaning:\n",
    "    training[i].fillna(\"None\", inplace=True)\n",
    "    testing[i].fillna(\"None\", inplace=True)"
   ]
  },
  {
   "cell_type": "markdown",
   "metadata": {
    "papermill": {
     "duration": 0.040532,
     "end_time": "2021-07-09T04:03:35.084758",
     "exception": false,
     "start_time": "2021-07-09T04:03:35.044226",
     "status": "completed"
    },
    "tags": []
   },
   "source": [
    "## Imputing \"Real\" NaN Values"
   ]
  },
  {
   "cell_type": "code",
   "execution_count": 13,
   "metadata": {
    "execution": {
     "iopub.execute_input": "2021-07-09T04:03:35.171534Z",
     "iopub.status.busy": "2021-07-09T04:03:35.170444Z",
     "iopub.status.idle": "2021-07-09T04:03:35.642163Z",
     "shell.execute_reply": "2021-07-09T04:03:35.642809Z",
     "shell.execute_reply.started": "2021-07-09T03:28:11.428015Z"
    },
    "papermill": {
     "duration": 0.516606,
     "end_time": "2021-07-09T04:03:35.643040",
     "exception": false,
     "start_time": "2021-07-09T04:03:35.126434",
     "status": "completed"
    },
    "tags": []
   },
   "outputs": [],
   "source": [
    "#from sklearn.preprocessing import Imputer\n",
    "from sklearn.impute import SimpleImputer\n",
    "\n",
    "#imputer = Imputer(strategy=\"median\")\n",
    "imputer = SimpleImputer(missing_values=np.nan, strategy='median')"
   ]
  },
  {
   "cell_type": "code",
   "execution_count": 14,
   "metadata": {
    "execution": {
     "iopub.execute_input": "2021-07-09T04:03:35.730470Z",
     "iopub.status.busy": "2021-07-09T04:03:35.729829Z",
     "iopub.status.idle": "2021-07-09T04:03:35.744382Z",
     "shell.execute_reply": "2021-07-09T04:03:35.744863Z",
     "shell.execute_reply.started": "2021-07-09T03:28:11.435709Z"
    },
    "papermill": {
     "duration": 0.057825,
     "end_time": "2021-07-09T04:03:35.745087",
     "exception": false,
     "start_time": "2021-07-09T04:03:35.687262",
     "status": "completed"
    },
    "tags": []
   },
   "outputs": [],
   "source": [
    "training_null = pd.isnull(training).sum()\n",
    "testing_null = pd.isnull(testing).sum()\n",
    "\n",
    "null = pd.concat([training_null, testing_null], axis=1, keys=[\"Training\", \"Testing\"])"
   ]
  },
  {
   "cell_type": "code",
   "execution_count": 15,
   "metadata": {
    "execution": {
     "iopub.execute_input": "2021-07-09T04:03:35.843264Z",
     "iopub.status.busy": "2021-07-09T04:03:35.842294Z",
     "iopub.status.idle": "2021-07-09T04:03:35.845466Z",
     "shell.execute_reply": "2021-07-09T04:03:35.846178Z",
     "shell.execute_reply.started": "2021-07-09T03:28:11.465521Z"
    },
    "papermill": {
     "duration": 0.061431,
     "end_time": "2021-07-09T04:03:35.846431",
     "exception": false,
     "start_time": "2021-07-09T04:03:35.785000",
     "status": "completed"
    },
    "tags": []
   },
   "outputs": [],
   "source": [
    "null_many = null[null.sum(axis=1) > 200]  #a lot of missing values\n",
    "null_few = null[(null.sum(axis=1) > 0) & (null.sum(axis=1) < 200)]  #few missing values"
   ]
  },
  {
   "cell_type": "code",
   "execution_count": 16,
   "metadata": {
    "execution": {
     "iopub.execute_input": "2021-07-09T04:03:35.939216Z",
     "iopub.status.busy": "2021-07-09T04:03:35.938207Z",
     "iopub.status.idle": "2021-07-09T04:03:35.946683Z",
     "shell.execute_reply": "2021-07-09T04:03:35.947113Z",
     "shell.execute_reply.started": "2021-07-09T03:28:11.476843Z"
    },
    "papermill": {
     "duration": 0.056045,
     "end_time": "2021-07-09T04:03:35.947291",
     "exception": false,
     "start_time": "2021-07-09T04:03:35.891246",
     "status": "completed"
    },
    "tags": []
   },
   "outputs": [
    {
     "data": {
      "text/html": [
       "<div>\n",
       "<style scoped>\n",
       "    .dataframe tbody tr th:only-of-type {\n",
       "        vertical-align: middle;\n",
       "    }\n",
       "\n",
       "    .dataframe tbody tr th {\n",
       "        vertical-align: top;\n",
       "    }\n",
       "\n",
       "    .dataframe thead th {\n",
       "        text-align: right;\n",
       "    }\n",
       "</style>\n",
       "<table border=\"1\" class=\"dataframe\">\n",
       "  <thead>\n",
       "    <tr style=\"text-align: right;\">\n",
       "      <th></th>\n",
       "      <th>Training</th>\n",
       "      <th>Testing</th>\n",
       "    </tr>\n",
       "  </thead>\n",
       "  <tbody>\n",
       "    <tr>\n",
       "      <th>LotFrontage</th>\n",
       "      <td>259</td>\n",
       "      <td>227.0</td>\n",
       "    </tr>\n",
       "  </tbody>\n",
       "</table>\n",
       "</div>"
      ],
      "text/plain": [
       "             Training  Testing\n",
       "LotFrontage       259    227.0"
      ]
     },
     "execution_count": 16,
     "metadata": {},
     "output_type": "execute_result"
    }
   ],
   "source": [
    "null_many"
   ]
  },
  {
   "cell_type": "code",
   "execution_count": 17,
   "metadata": {
    "execution": {
     "iopub.execute_input": "2021-07-09T04:03:36.032047Z",
     "iopub.status.busy": "2021-07-09T04:03:36.031088Z",
     "iopub.status.idle": "2021-07-09T04:03:36.039735Z",
     "shell.execute_reply": "2021-07-09T04:03:36.040217Z",
     "shell.execute_reply.started": "2021-07-09T03:28:11.493710Z"
    },
    "papermill": {
     "duration": 0.05209,
     "end_time": "2021-07-09T04:03:36.040406",
     "exception": false,
     "start_time": "2021-07-09T04:03:35.988316",
     "status": "completed"
    },
    "tags": []
   },
   "outputs": [],
   "source": [
    "training.drop(\"LotFrontage\", axis=1, inplace=True)\n",
    "testing.drop(\"LotFrontage\", axis=1, inplace=True)"
   ]
  },
  {
   "cell_type": "code",
   "execution_count": 18,
   "metadata": {
    "execution": {
     "iopub.execute_input": "2021-07-09T04:03:36.123783Z",
     "iopub.status.busy": "2021-07-09T04:03:36.122876Z",
     "iopub.status.idle": "2021-07-09T04:03:36.133299Z",
     "shell.execute_reply": "2021-07-09T04:03:36.133712Z",
     "shell.execute_reply.started": "2021-07-09T03:28:11.509294Z"
    },
    "papermill": {
     "duration": 0.053472,
     "end_time": "2021-07-09T04:03:36.133890",
     "exception": false,
     "start_time": "2021-07-09T04:03:36.080418",
     "status": "completed"
    },
    "tags": []
   },
   "outputs": [
    {
     "data": {
      "text/html": [
       "<div>\n",
       "<style scoped>\n",
       "    .dataframe tbody tr th:only-of-type {\n",
       "        vertical-align: middle;\n",
       "    }\n",
       "\n",
       "    .dataframe tbody tr th {\n",
       "        vertical-align: top;\n",
       "    }\n",
       "\n",
       "    .dataframe thead th {\n",
       "        text-align: right;\n",
       "    }\n",
       "</style>\n",
       "<table border=\"1\" class=\"dataframe\">\n",
       "  <thead>\n",
       "    <tr style=\"text-align: right;\">\n",
       "      <th></th>\n",
       "      <th>Training</th>\n",
       "      <th>Testing</th>\n",
       "    </tr>\n",
       "  </thead>\n",
       "  <tbody>\n",
       "    <tr>\n",
       "      <th>MSZoning</th>\n",
       "      <td>0</td>\n",
       "      <td>4.0</td>\n",
       "    </tr>\n",
       "    <tr>\n",
       "      <th>Utilities</th>\n",
       "      <td>0</td>\n",
       "      <td>2.0</td>\n",
       "    </tr>\n",
       "    <tr>\n",
       "      <th>Exterior1st</th>\n",
       "      <td>0</td>\n",
       "      <td>1.0</td>\n",
       "    </tr>\n",
       "    <tr>\n",
       "      <th>Exterior2nd</th>\n",
       "      <td>0</td>\n",
       "      <td>1.0</td>\n",
       "    </tr>\n",
       "    <tr>\n",
       "      <th>MasVnrType</th>\n",
       "      <td>8</td>\n",
       "      <td>16.0</td>\n",
       "    </tr>\n",
       "    <tr>\n",
       "      <th>MasVnrArea</th>\n",
       "      <td>8</td>\n",
       "      <td>15.0</td>\n",
       "    </tr>\n",
       "    <tr>\n",
       "      <th>BsmtFinSF1</th>\n",
       "      <td>0</td>\n",
       "      <td>1.0</td>\n",
       "    </tr>\n",
       "    <tr>\n",
       "      <th>BsmtFinSF2</th>\n",
       "      <td>0</td>\n",
       "      <td>1.0</td>\n",
       "    </tr>\n",
       "    <tr>\n",
       "      <th>BsmtUnfSF</th>\n",
       "      <td>0</td>\n",
       "      <td>1.0</td>\n",
       "    </tr>\n",
       "    <tr>\n",
       "      <th>TotalBsmtSF</th>\n",
       "      <td>0</td>\n",
       "      <td>1.0</td>\n",
       "    </tr>\n",
       "    <tr>\n",
       "      <th>Electrical</th>\n",
       "      <td>1</td>\n",
       "      <td>0.0</td>\n",
       "    </tr>\n",
       "    <tr>\n",
       "      <th>BsmtFullBath</th>\n",
       "      <td>0</td>\n",
       "      <td>2.0</td>\n",
       "    </tr>\n",
       "    <tr>\n",
       "      <th>BsmtHalfBath</th>\n",
       "      <td>0</td>\n",
       "      <td>2.0</td>\n",
       "    </tr>\n",
       "    <tr>\n",
       "      <th>KitchenQual</th>\n",
       "      <td>0</td>\n",
       "      <td>1.0</td>\n",
       "    </tr>\n",
       "    <tr>\n",
       "      <th>Functional</th>\n",
       "      <td>0</td>\n",
       "      <td>2.0</td>\n",
       "    </tr>\n",
       "    <tr>\n",
       "      <th>GarageYrBlt</th>\n",
       "      <td>81</td>\n",
       "      <td>78.0</td>\n",
       "    </tr>\n",
       "    <tr>\n",
       "      <th>GarageCars</th>\n",
       "      <td>0</td>\n",
       "      <td>1.0</td>\n",
       "    </tr>\n",
       "    <tr>\n",
       "      <th>GarageArea</th>\n",
       "      <td>0</td>\n",
       "      <td>1.0</td>\n",
       "    </tr>\n",
       "    <tr>\n",
       "      <th>SaleType</th>\n",
       "      <td>0</td>\n",
       "      <td>1.0</td>\n",
       "    </tr>\n",
       "  </tbody>\n",
       "</table>\n",
       "</div>"
      ],
      "text/plain": [
       "              Training  Testing\n",
       "MSZoning             0      4.0\n",
       "Utilities            0      2.0\n",
       "Exterior1st          0      1.0\n",
       "Exterior2nd          0      1.0\n",
       "MasVnrType           8     16.0\n",
       "MasVnrArea           8     15.0\n",
       "BsmtFinSF1           0      1.0\n",
       "BsmtFinSF2           0      1.0\n",
       "BsmtUnfSF            0      1.0\n",
       "TotalBsmtSF          0      1.0\n",
       "Electrical           1      0.0\n",
       "BsmtFullBath         0      2.0\n",
       "BsmtHalfBath         0      2.0\n",
       "KitchenQual          0      1.0\n",
       "Functional           0      2.0\n",
       "GarageYrBlt         81     78.0\n",
       "GarageCars           0      1.0\n",
       "GarageArea           0      1.0\n",
       "SaleType             0      1.0"
      ]
     },
     "execution_count": 18,
     "metadata": {},
     "output_type": "execute_result"
    }
   ],
   "source": [
    "null_few"
   ]
  },
  {
   "cell_type": "code",
   "execution_count": 19,
   "metadata": {
    "execution": {
     "iopub.execute_input": "2021-07-09T04:03:36.221134Z",
     "iopub.status.busy": "2021-07-09T04:03:36.220213Z",
     "iopub.status.idle": "2021-07-09T04:03:36.229560Z",
     "shell.execute_reply": "2021-07-09T04:03:36.230002Z",
     "shell.execute_reply.started": "2021-07-09T03:28:11.531622Z"
    },
    "papermill": {
     "duration": 0.056283,
     "end_time": "2021-07-09T04:03:36.230183",
     "exception": false,
     "start_time": "2021-07-09T04:03:36.173900",
     "status": "completed"
    },
    "tags": []
   },
   "outputs": [],
   "source": [
    "training[\"GarageYrBlt\"].fillna(training[\"GarageYrBlt\"].median(), inplace=True)\n",
    "testing[\"GarageYrBlt\"].fillna(testing[\"GarageYrBlt\"].median(), inplace=True)\n",
    "training[\"MasVnrArea\"].fillna(training[\"MasVnrArea\"].median(), inplace=True)\n",
    "testing[\"MasVnrArea\"].fillna(testing[\"MasVnrArea\"].median(), inplace=True)\n",
    "training[\"MasVnrType\"].fillna(\"None\", inplace=True)\n",
    "testing[\"MasVnrType\"].fillna(\"None\", inplace=True)"
   ]
  },
  {
   "cell_type": "code",
   "execution_count": 20,
   "metadata": {
    "execution": {
     "iopub.execute_input": "2021-07-09T04:03:36.315067Z",
     "iopub.status.busy": "2021-07-09T04:03:36.314118Z",
     "iopub.status.idle": "2021-07-09T04:03:36.322448Z",
     "shell.execute_reply": "2021-07-09T04:03:36.321960Z",
     "shell.execute_reply.started": "2021-07-09T03:28:11.542764Z"
    },
    "papermill": {
     "duration": 0.05163,
     "end_time": "2021-07-09T04:03:36.322597",
     "exception": false,
     "start_time": "2021-07-09T04:03:36.270967",
     "status": "completed"
    },
    "tags": []
   },
   "outputs": [],
   "source": [
    "types_train = training.dtypes #type of each feature in data: int, float, object\n",
    "num_train = types_train[(types_train == int) | (types_train == float)] #numerical values are either type int or float\n",
    "cat_train = types_train[types_train == object] #categorical values are type object\n",
    "\n",
    "#we do the same for the test set\n",
    "types_test = testing.dtypes\n",
    "num_test = types_test[(types_test == int) | (types_test == float)]\n",
    "cat_test = types_test[types_test == object]"
   ]
  },
  {
   "cell_type": "markdown",
   "metadata": {
    "papermill": {
     "duration": 0.040008,
     "end_time": "2021-07-09T04:03:36.402730",
     "exception": false,
     "start_time": "2021-07-09T04:03:36.362722",
     "status": "completed"
    },
    "tags": []
   },
   "source": [
    "Numerical Imputing "
   ]
  },
  {
   "cell_type": "code",
   "execution_count": 21,
   "metadata": {
    "execution": {
     "iopub.execute_input": "2021-07-09T04:03:36.486729Z",
     "iopub.status.busy": "2021-07-09T04:03:36.485714Z",
     "iopub.status.idle": "2021-07-09T04:03:36.490132Z",
     "shell.execute_reply": "2021-07-09T04:03:36.490594Z",
     "shell.execute_reply.started": "2021-07-09T03:28:11.553174Z"
    },
    "papermill": {
     "duration": 0.048116,
     "end_time": "2021-07-09T04:03:36.490768",
     "exception": false,
     "start_time": "2021-07-09T04:03:36.442652",
     "status": "completed"
    },
    "tags": []
   },
   "outputs": [],
   "source": [
    "#we should convert num_train and num_test to a list to make it easier to work with\n",
    "numerical_values_train = list(num_train.index)\n",
    "numerical_values_test = list(num_test.index)"
   ]
  },
  {
   "cell_type": "code",
   "execution_count": 22,
   "metadata": {
    "execution": {
     "iopub.execute_input": "2021-07-09T04:03:36.575306Z",
     "iopub.status.busy": "2021-07-09T04:03:36.574346Z",
     "iopub.status.idle": "2021-07-09T04:03:36.580184Z",
     "shell.execute_reply": "2021-07-09T04:03:36.580609Z",
     "shell.execute_reply.started": "2021-07-09T03:28:11.564769Z"
    },
    "papermill": {
     "duration": 0.049506,
     "end_time": "2021-07-09T04:03:36.580783",
     "exception": false,
     "start_time": "2021-07-09T04:03:36.531277",
     "status": "completed"
    },
    "tags": []
   },
   "outputs": [
    {
     "name": "stdout",
     "output_type": "stream",
     "text": [
      "['Id', 'MSSubClass', 'LotArea', 'OverallQual', 'OverallCond', 'YearBuilt', 'YearRemodAdd', 'MasVnrArea', 'BsmtFinSF1', 'BsmtFinSF2', 'BsmtUnfSF', 'TotalBsmtSF', '1stFlrSF', '2ndFlrSF', 'LowQualFinSF', 'GrLivArea', 'BsmtFullBath', 'BsmtHalfBath', 'FullBath', 'HalfBath', 'BedroomAbvGr', 'KitchenAbvGr', 'TotRmsAbvGrd', 'Fireplaces', 'GarageYrBlt', 'GarageCars', 'GarageArea', 'WoodDeckSF', 'OpenPorchSF', 'EnclosedPorch', '3SsnPorch', 'ScreenPorch', 'PoolArea', 'MiscVal', 'MoSold', 'YrSold', 'SalePrice']\n"
     ]
    }
   ],
   "source": [
    "print(numerical_values_train)"
   ]
  },
  {
   "cell_type": "code",
   "execution_count": 23,
   "metadata": {
    "execution": {
     "iopub.execute_input": "2021-07-09T04:03:36.668734Z",
     "iopub.status.busy": "2021-07-09T04:03:36.668142Z",
     "iopub.status.idle": "2021-07-09T04:03:36.671400Z",
     "shell.execute_reply": "2021-07-09T04:03:36.670917Z",
     "shell.execute_reply.started": "2021-07-09T03:28:11.575016Z"
    },
    "papermill": {
     "duration": 0.050057,
     "end_time": "2021-07-09T04:03:36.671538",
     "exception": false,
     "start_time": "2021-07-09T04:03:36.621481",
     "status": "completed"
    },
    "tags": []
   },
   "outputs": [],
   "source": [
    "fill_num = []\n",
    "\n",
    "for i in numerical_values_train:\n",
    "    if i in list(null_few.index):\n",
    "        fill_num.append(i)"
   ]
  },
  {
   "cell_type": "code",
   "execution_count": 24,
   "metadata": {
    "execution": {
     "iopub.execute_input": "2021-07-09T04:03:36.757758Z",
     "iopub.status.busy": "2021-07-09T04:03:36.756866Z",
     "iopub.status.idle": "2021-07-09T04:03:36.760445Z",
     "shell.execute_reply": "2021-07-09T04:03:36.759829Z",
     "shell.execute_reply.started": "2021-07-09T03:28:11.585661Z"
    },
    "papermill": {
     "duration": 0.048292,
     "end_time": "2021-07-09T04:03:36.760583",
     "exception": false,
     "start_time": "2021-07-09T04:03:36.712291",
     "status": "completed"
    },
    "tags": []
   },
   "outputs": [
    {
     "name": "stdout",
     "output_type": "stream",
     "text": [
      "['MasVnrArea', 'BsmtFinSF1', 'BsmtFinSF2', 'BsmtUnfSF', 'TotalBsmtSF', 'BsmtFullBath', 'BsmtHalfBath', 'GarageYrBlt', 'GarageCars', 'GarageArea']\n"
     ]
    }
   ],
   "source": [
    "print(fill_num)"
   ]
  },
  {
   "cell_type": "code",
   "execution_count": 25,
   "metadata": {
    "execution": {
     "iopub.execute_input": "2021-07-09T04:03:36.854569Z",
     "iopub.status.busy": "2021-07-09T04:03:36.853901Z",
     "iopub.status.idle": "2021-07-09T04:03:36.857031Z",
     "shell.execute_reply": "2021-07-09T04:03:36.856493Z",
     "shell.execute_reply.started": "2021-07-09T03:28:11.597591Z"
    },
    "papermill": {
     "duration": 0.055401,
     "end_time": "2021-07-09T04:03:36.857179",
     "exception": false,
     "start_time": "2021-07-09T04:03:36.801778",
     "status": "completed"
    },
    "tags": []
   },
   "outputs": [],
   "source": [
    "for i in fill_num:\n",
    "    training[i].fillna(training[i].median(), inplace=True)\n",
    "    testing[i].fillna(testing[i].median(), inplace=True)"
   ]
  },
  {
   "cell_type": "markdown",
   "metadata": {
    "papermill": {
     "duration": 0.041306,
     "end_time": "2021-07-09T04:03:36.940973",
     "exception": false,
     "start_time": "2021-07-09T04:03:36.899667",
     "status": "completed"
    },
    "tags": []
   },
   "source": [
    "Categorical Imputing "
   ]
  },
  {
   "cell_type": "code",
   "execution_count": 26,
   "metadata": {
    "execution": {
     "iopub.execute_input": "2021-07-09T04:03:37.028198Z",
     "iopub.status.busy": "2021-07-09T04:03:37.027589Z",
     "iopub.status.idle": "2021-07-09T04:03:37.030182Z",
     "shell.execute_reply": "2021-07-09T04:03:37.030582Z",
     "shell.execute_reply.started": "2021-07-09T03:28:11.617170Z"
    },
    "papermill": {
     "duration": 0.048632,
     "end_time": "2021-07-09T04:03:37.030752",
     "exception": false,
     "start_time": "2021-07-09T04:03:36.982120",
     "status": "completed"
    },
    "tags": []
   },
   "outputs": [],
   "source": [
    "categorical_values_train = list(cat_train.index)\n",
    "categorical_values_test = list(cat_test.index)"
   ]
  },
  {
   "cell_type": "code",
   "execution_count": 27,
   "metadata": {
    "execution": {
     "iopub.execute_input": "2021-07-09T04:03:37.117236Z",
     "iopub.status.busy": "2021-07-09T04:03:37.116648Z",
     "iopub.status.idle": "2021-07-09T04:03:37.118954Z",
     "shell.execute_reply": "2021-07-09T04:03:37.119537Z",
     "shell.execute_reply.started": "2021-07-09T03:28:11.623845Z"
    },
    "papermill": {
     "duration": 0.047999,
     "end_time": "2021-07-09T04:03:37.119703",
     "exception": false,
     "start_time": "2021-07-09T04:03:37.071704",
     "status": "completed"
    },
    "tags": []
   },
   "outputs": [
    {
     "name": "stdout",
     "output_type": "stream",
     "text": [
      "['MSZoning', 'Street', 'Alley', 'LotShape', 'LandContour', 'Utilities', 'LotConfig', 'LandSlope', 'Neighborhood', 'Condition1', 'Condition2', 'BldgType', 'HouseStyle', 'RoofStyle', 'RoofMatl', 'Exterior1st', 'Exterior2nd', 'MasVnrType', 'ExterQual', 'ExterCond', 'Foundation', 'BsmtQual', 'BsmtCond', 'BsmtExposure', 'BsmtFinType1', 'BsmtFinType2', 'Heating', 'HeatingQC', 'CentralAir', 'Electrical', 'KitchenQual', 'Functional', 'FireplaceQu', 'GarageType', 'GarageFinish', 'GarageQual', 'GarageCond', 'PavedDrive', 'PoolQC', 'Fence', 'MiscFeature', 'SaleType', 'SaleCondition']\n"
     ]
    }
   ],
   "source": [
    "print(categorical_values_train) "
   ]
  },
  {
   "cell_type": "code",
   "execution_count": 28,
   "metadata": {
    "execution": {
     "iopub.execute_input": "2021-07-09T04:03:37.212684Z",
     "iopub.status.busy": "2021-07-09T04:03:37.211877Z",
     "iopub.status.idle": "2021-07-09T04:03:37.216077Z",
     "shell.execute_reply": "2021-07-09T04:03:37.216558Z",
     "shell.execute_reply.started": "2021-07-09T03:28:11.637511Z"
    },
    "papermill": {
     "duration": 0.056152,
     "end_time": "2021-07-09T04:03:37.216720",
     "exception": false,
     "start_time": "2021-07-09T04:03:37.160568",
     "status": "completed"
    },
    "tags": []
   },
   "outputs": [],
   "source": [
    "fill_cat = []\n",
    "\n",
    "for i in categorical_values_train:\n",
    "    if i in list(null_few.index):\n",
    "        fill_cat.append(i)"
   ]
  },
  {
   "cell_type": "code",
   "execution_count": 29,
   "metadata": {
    "execution": {
     "iopub.execute_input": "2021-07-09T04:03:37.323730Z",
     "iopub.status.busy": "2021-07-09T04:03:37.323183Z",
     "iopub.status.idle": "2021-07-09T04:03:37.328317Z",
     "shell.execute_reply": "2021-07-09T04:03:37.328998Z",
     "shell.execute_reply.started": "2021-07-09T03:28:11.646322Z"
    },
    "papermill": {
     "duration": 0.056116,
     "end_time": "2021-07-09T04:03:37.329224",
     "exception": false,
     "start_time": "2021-07-09T04:03:37.273108",
     "status": "completed"
    },
    "tags": []
   },
   "outputs": [
    {
     "name": "stdout",
     "output_type": "stream",
     "text": [
      "['MSZoning', 'Utilities', 'Exterior1st', 'Exterior2nd', 'MasVnrType', 'Electrical', 'KitchenQual', 'Functional', 'SaleType']\n"
     ]
    }
   ],
   "source": [
    "print(fill_cat) "
   ]
  },
  {
   "cell_type": "code",
   "execution_count": 30,
   "metadata": {
    "execution": {
     "iopub.execute_input": "2021-07-09T04:03:37.422821Z",
     "iopub.status.busy": "2021-07-09T04:03:37.422098Z",
     "iopub.status.idle": "2021-07-09T04:03:37.425324Z",
     "shell.execute_reply": "2021-07-09T04:03:37.424855Z",
     "shell.execute_reply.started": "2021-07-09T03:28:11.659146Z"
    },
    "papermill": {
     "duration": 0.053986,
     "end_time": "2021-07-09T04:03:37.425464",
     "exception": false,
     "start_time": "2021-07-09T04:03:37.371478",
     "status": "completed"
    },
    "tags": []
   },
   "outputs": [],
   "source": [
    "def most_common_term(lst):\n",
    "    lst = list(lst)\n",
    "    return max(set(lst), key=lst.count)\n",
    "#most_common_term finds the most common term in a series\n",
    "\n",
    "most_common = [\"Electrical\", \"Exterior1st\", \"Exterior2nd\", \"Functional\", \"KitchenQual\", \"MSZoning\", \"SaleType\", \"Utilities\", \"MasVnrType\"]\n",
    "\n",
    "counter = 0\n",
    "for i in fill_cat:\n",
    "    most_common[counter] = most_common_term(training[i])\n",
    "    counter += 1"
   ]
  },
  {
   "cell_type": "code",
   "execution_count": 31,
   "metadata": {
    "execution": {
     "iopub.execute_input": "2021-07-09T04:03:37.517339Z",
     "iopub.status.busy": "2021-07-09T04:03:37.516379Z",
     "iopub.status.idle": "2021-07-09T04:03:37.520107Z",
     "shell.execute_reply": "2021-07-09T04:03:37.520495Z",
     "shell.execute_reply.started": "2021-07-09T03:28:11.672818Z"
    },
    "papermill": {
     "duration": 0.052694,
     "end_time": "2021-07-09T04:03:37.520660",
     "exception": false,
     "start_time": "2021-07-09T04:03:37.467966",
     "status": "completed"
    },
    "tags": []
   },
   "outputs": [
    {
     "data": {
      "text/plain": [
       "{'MSZoning': ['RL'],\n",
       " 'Utilities': ['AllPub'],\n",
       " 'Exterior1st': ['VinylSd'],\n",
       " 'Exterior2nd': ['VinylSd'],\n",
       " 'MasVnrType': ['None'],\n",
       " 'Electrical': ['SBrkr'],\n",
       " 'KitchenQual': ['TA'],\n",
       " 'Functional': ['Typ'],\n",
       " 'SaleType': ['WD']}"
      ]
     },
     "execution_count": 31,
     "metadata": {},
     "output_type": "execute_result"
    }
   ],
   "source": [
    "most_common_dictionary = {fill_cat[0]: [most_common[0]], fill_cat[1]: [most_common[1]], fill_cat[2]: [most_common[2]], fill_cat[3]: [most_common[3]],\n",
    "                          fill_cat[4]: [most_common[4]], fill_cat[5]: [most_common[5]], fill_cat[6]: [most_common[6]], fill_cat[7]: [most_common[7]],\n",
    "                          fill_cat[8]: [most_common[8]]}\n",
    "most_common_dictionary"
   ]
  },
  {
   "cell_type": "code",
   "execution_count": 32,
   "metadata": {
    "execution": {
     "iopub.execute_input": "2021-07-09T04:03:37.607208Z",
     "iopub.status.busy": "2021-07-09T04:03:37.606144Z",
     "iopub.status.idle": "2021-07-09T04:03:37.618266Z",
     "shell.execute_reply": "2021-07-09T04:03:37.618715Z",
     "shell.execute_reply.started": "2021-07-09T03:28:11.691134Z"
    },
    "papermill": {
     "duration": 0.056838,
     "end_time": "2021-07-09T04:03:37.618895",
     "exception": false,
     "start_time": "2021-07-09T04:03:37.562057",
     "status": "completed"
    },
    "tags": []
   },
   "outputs": [],
   "source": [
    "counter = 0\n",
    "for i in fill_cat:  \n",
    "    training[i].fillna(most_common[counter], inplace=True)\n",
    "    testing[i].fillna(most_common[counter], inplace=True)\n",
    "    counter += 1"
   ]
  },
  {
   "cell_type": "code",
   "execution_count": 33,
   "metadata": {
    "execution": {
     "iopub.execute_input": "2021-07-09T04:03:37.705943Z",
     "iopub.status.busy": "2021-07-09T04:03:37.704991Z",
     "iopub.status.idle": "2021-07-09T04:03:37.723477Z",
     "shell.execute_reply": "2021-07-09T04:03:37.723874Z",
     "shell.execute_reply.started": "2021-07-09T03:28:11.709865Z"
    },
    "papermill": {
     "duration": 0.063433,
     "end_time": "2021-07-09T04:03:37.724063",
     "exception": false,
     "start_time": "2021-07-09T04:03:37.660630",
     "status": "completed"
    },
    "tags": []
   },
   "outputs": [
    {
     "data": {
      "text/html": [
       "<div>\n",
       "<style scoped>\n",
       "    .dataframe tbody tr th:only-of-type {\n",
       "        vertical-align: middle;\n",
       "    }\n",
       "\n",
       "    .dataframe tbody tr th {\n",
       "        vertical-align: top;\n",
       "    }\n",
       "\n",
       "    .dataframe thead th {\n",
       "        text-align: right;\n",
       "    }\n",
       "</style>\n",
       "<table border=\"1\" class=\"dataframe\">\n",
       "  <thead>\n",
       "    <tr style=\"text-align: right;\">\n",
       "      <th></th>\n",
       "      <th>Training</th>\n",
       "      <th>Testing</th>\n",
       "    </tr>\n",
       "  </thead>\n",
       "  <tbody>\n",
       "  </tbody>\n",
       "</table>\n",
       "</div>"
      ],
      "text/plain": [
       "Empty DataFrame\n",
       "Columns: [Training, Testing]\n",
       "Index: []"
      ]
     },
     "execution_count": 33,
     "metadata": {},
     "output_type": "execute_result"
    }
   ],
   "source": [
    "training_null = pd.isnull(training).sum()\n",
    "testing_null = pd.isnull(testing).sum()\n",
    "\n",
    "null = pd.concat([training_null, testing_null], axis=1, keys=[\"Training\", \"Testing\"])\n",
    "null[null.sum(axis=1) > 0]"
   ]
  },
  {
   "cell_type": "markdown",
   "metadata": {
    "papermill": {
     "duration": 0.041881,
     "end_time": "2021-07-09T04:03:37.807762",
     "exception": false,
     "start_time": "2021-07-09T04:03:37.765881",
     "status": "completed"
    },
    "tags": []
   },
   "source": [
    "## 4. Feature Engineering"
   ]
  },
  {
   "cell_type": "code",
   "execution_count": 34,
   "metadata": {
    "execution": {
     "iopub.execute_input": "2021-07-09T04:03:37.896823Z",
     "iopub.status.busy": "2021-07-09T04:03:37.895847Z",
     "iopub.status.idle": "2021-07-09T04:03:38.209049Z",
     "shell.execute_reply": "2021-07-09T04:03:38.208418Z",
     "shell.execute_reply.started": "2021-07-09T03:28:11.743682Z"
    },
    "papermill": {
     "duration": 0.358364,
     "end_time": "2021-07-09T04:03:38.209191",
     "exception": false,
     "start_time": "2021-07-09T04:03:37.850827",
     "status": "completed"
    },
    "tags": []
   },
   "outputs": [
    {
     "data": {
      "text/plain": [
       "<AxesSubplot:xlabel='SalePrice', ylabel='Density'>"
      ]
     },
     "execution_count": 34,
     "metadata": {},
     "output_type": "execute_result"
    },
    {
     "data": {
      "image/png": "[encoded data removed]",
      "text/plain": [
       "<Figure size 432x288 with 1 Axes>"
      ]
     },
     "metadata": {},
     "output_type": "display_data"
    }
   ],
   "source": [
    "sns.distplot(training[\"SalePrice\"])"
   ]
  },
  {
   "cell_type": "code",
   "execution_count": 35,
   "metadata": {
    "execution": {
     "iopub.execute_input": "2021-07-09T04:03:38.305091Z",
     "iopub.status.busy": "2021-07-09T04:03:38.300254Z",
     "iopub.status.idle": "2021-07-09T04:03:38.559813Z",
     "shell.execute_reply": "2021-07-09T04:03:38.559242Z",
     "shell.execute_reply.started": "2021-07-09T03:28:12.160390Z"
    },
    "papermill": {
     "duration": 0.307899,
     "end_time": "2021-07-09T04:03:38.559991",
     "exception": false,
     "start_time": "2021-07-09T04:03:38.252092",
     "status": "completed"
    },
    "tags": []
   },
   "outputs": [
    {
     "data": {
      "text/plain": [
       "<AxesSubplot:xlabel='SalePrice', ylabel='Density'>"
      ]
     },
     "execution_count": 35,
     "metadata": {},
     "output_type": "execute_result"
    },
    {
     "data": {
      "image/png": "[encoded data removed]",
      "text/plain": [
       "<Figure size 432x288 with 1 Axes>"
      ]
     },
     "metadata": {},
     "output_type": "display_data"
    }
   ],
   "source": [
    "sns.distplot(np.log(training[\"SalePrice\"]))"
   ]
  },
  {
   "cell_type": "code",
   "execution_count": 36,
   "metadata": {
    "execution": {
     "iopub.execute_input": "2021-07-09T04:03:38.657920Z",
     "iopub.status.busy": "2021-07-09T04:03:38.656986Z",
     "iopub.status.idle": "2021-07-09T04:03:38.659869Z",
     "shell.execute_reply": "2021-07-09T04:03:38.659317Z",
     "shell.execute_reply.started": "2021-07-09T03:28:12.456841Z"
    },
    "papermill": {
     "duration": 0.05398,
     "end_time": "2021-07-09T04:03:38.660023",
     "exception": false,
     "start_time": "2021-07-09T04:03:38.606043",
     "status": "completed"
    },
    "tags": []
   },
   "outputs": [],
   "source": [
    "training[\"TransformedPrice\"] = np.log(training[\"SalePrice\"])"
   ]
  },
  {
   "cell_type": "code",
   "execution_count": 37,
   "metadata": {
    "execution": {
     "iopub.execute_input": "2021-07-09T04:03:38.755692Z",
     "iopub.status.busy": "2021-07-09T04:03:38.755083Z",
     "iopub.status.idle": "2021-07-09T04:03:38.757906Z",
     "shell.execute_reply": "2021-07-09T04:03:38.757390Z",
     "shell.execute_reply.started": "2021-07-09T03:28:12.463297Z"
    },
    "papermill": {
     "duration": 0.053002,
     "end_time": "2021-07-09T04:03:38.758124",
     "exception": false,
     "start_time": "2021-07-09T04:03:38.705122",
     "status": "completed"
    },
    "tags": []
   },
   "outputs": [],
   "source": [
    "categorical_values_train = list(cat_train.index)\n",
    "categorical_values_test = list(cat_test.index)"
   ]
  },
  {
   "cell_type": "code",
   "execution_count": 38,
   "metadata": {
    "execution": {
     "iopub.execute_input": "2021-07-09T04:03:38.855908Z",
     "iopub.status.busy": "2021-07-09T04:03:38.855286Z",
     "iopub.status.idle": "2021-07-09T04:03:38.858830Z",
     "shell.execute_reply": "2021-07-09T04:03:38.859529Z",
     "shell.execute_reply.started": "2021-07-09T03:28:12.478583Z"
    },
    "papermill": {
     "duration": 0.0561,
     "end_time": "2021-07-09T04:03:38.859751",
     "exception": false,
     "start_time": "2021-07-09T04:03:38.803651",
     "status": "completed"
    },
    "tags": []
   },
   "outputs": [
    {
     "name": "stdout",
     "output_type": "stream",
     "text": [
      "['MSZoning', 'Street', 'Alley', 'LotShape', 'LandContour', 'Utilities', 'LotConfig', 'LandSlope', 'Neighborhood', 'Condition1', 'Condition2', 'BldgType', 'HouseStyle', 'RoofStyle', 'RoofMatl', 'Exterior1st', 'Exterior2nd', 'MasVnrType', 'ExterQual', 'ExterCond', 'Foundation', 'BsmtQual', 'BsmtCond', 'BsmtExposure', 'BsmtFinType1', 'BsmtFinType2', 'Heating', 'HeatingQC', 'CentralAir', 'Electrical', 'KitchenQual', 'Functional', 'FireplaceQu', 'GarageType', 'GarageFinish', 'GarageQual', 'GarageCond', 'PavedDrive', 'PoolQC', 'Fence', 'MiscFeature', 'SaleType', 'SaleCondition']\n"
     ]
    }
   ],
   "source": [
    "print(categorical_values_train)"
   ]
  },
  {
   "cell_type": "code",
   "execution_count": 39,
   "metadata": {
    "execution": {
     "iopub.execute_input": "2021-07-09T04:03:38.968714Z",
     "iopub.status.busy": "2021-07-09T04:03:38.956893Z",
     "iopub.status.idle": "2021-07-09T04:03:39.273445Z",
     "shell.execute_reply": "2021-07-09T04:03:39.272897Z",
     "shell.execute_reply.started": "2021-07-09T03:28:12.488661Z"
    },
    "papermill": {
     "duration": 0.366894,
     "end_time": "2021-07-09T04:03:39.273607",
     "exception": false,
     "start_time": "2021-07-09T04:03:38.906713",
     "status": "completed"
    },
    "tags": []
   },
   "outputs": [],
   "source": [
    "for i in categorical_values_train:\n",
    "    feature_set = set(training[i])\n",
    "    for j in feature_set:\n",
    "        feature_list = list(feature_set)\n",
    "        training.loc[training[i] == j, i] = feature_list.index(j)\n",
    "\n",
    "for i in categorical_values_test:\n",
    "    feature_set2 = set(testing[i])\n",
    "    for j in feature_set2:\n",
    "        feature_list2 = list(feature_set2)\n",
    "        testing.loc[testing[i] == j, i] = feature_list2.index(j)"
   ]
  },
  {
   "cell_type": "code",
   "execution_count": 40,
   "metadata": {
    "execution": {
     "iopub.execute_input": "2021-07-09T04:03:39.387352Z",
     "iopub.status.busy": "2021-07-09T04:03:39.376673Z",
     "iopub.status.idle": "2021-07-09T04:03:39.391783Z",
     "shell.execute_reply": "2021-07-09T04:03:39.391337Z",
     "shell.execute_reply.started": "2021-07-09T03:28:12.931450Z"
    },
    "papermill": {
     "duration": 0.074095,
     "end_time": "2021-07-09T04:03:39.391922",
     "exception": false,
     "start_time": "2021-07-09T04:03:39.317827",
     "status": "completed"
    },
    "tags": []
   },
   "outputs": [
    {
     "data": {
      "text/html": [
       "<div>\n",
       "<style scoped>\n",
       "    .dataframe tbody tr th:only-of-type {\n",
       "        vertical-align: middle;\n",
       "    }\n",
       "\n",
       "    .dataframe tbody tr th {\n",
       "        vertical-align: top;\n",
       "    }\n",
       "\n",
       "    .dataframe thead th {\n",
       "        text-align: right;\n",
       "    }\n",
       "</style>\n",
       "<table border=\"1\" class=\"dataframe\">\n",
       "  <thead>\n",
       "    <tr style=\"text-align: right;\">\n",
       "      <th></th>\n",
       "      <th>Id</th>\n",
       "      <th>MSSubClass</th>\n",
       "      <th>MSZoning</th>\n",
       "      <th>LotArea</th>\n",
       "      <th>Street</th>\n",
       "      <th>Alley</th>\n",
       "      <th>LotShape</th>\n",
       "      <th>LandContour</th>\n",
       "      <th>Utilities</th>\n",
       "      <th>LotConfig</th>\n",
       "      <th>...</th>\n",
       "      <th>PoolQC</th>\n",
       "      <th>Fence</th>\n",
       "      <th>MiscFeature</th>\n",
       "      <th>MiscVal</th>\n",
       "      <th>MoSold</th>\n",
       "      <th>YrSold</th>\n",
       "      <th>SaleType</th>\n",
       "      <th>SaleCondition</th>\n",
       "      <th>SalePrice</th>\n",
       "      <th>TransformedPrice</th>\n",
       "    </tr>\n",
       "  </thead>\n",
       "  <tbody>\n",
       "    <tr>\n",
       "      <th>0</th>\n",
       "      <td>1</td>\n",
       "      <td>60</td>\n",
       "      <td>0</td>\n",
       "      <td>8450</td>\n",
       "      <td>0</td>\n",
       "      <td>1</td>\n",
       "      <td>0</td>\n",
       "      <td>1</td>\n",
       "      <td>0</td>\n",
       "      <td>0</td>\n",
       "      <td>...</td>\n",
       "      <td>1</td>\n",
       "      <td>3</td>\n",
       "      <td>2</td>\n",
       "      <td>0</td>\n",
       "      <td>2</td>\n",
       "      <td>2008</td>\n",
       "      <td>2</td>\n",
       "      <td>1</td>\n",
       "      <td>208500</td>\n",
       "      <td>12.247694</td>\n",
       "    </tr>\n",
       "    <tr>\n",
       "      <th>1</th>\n",
       "      <td>2</td>\n",
       "      <td>20</td>\n",
       "      <td>0</td>\n",
       "      <td>9600</td>\n",
       "      <td>0</td>\n",
       "      <td>1</td>\n",
       "      <td>0</td>\n",
       "      <td>1</td>\n",
       "      <td>0</td>\n",
       "      <td>4</td>\n",
       "      <td>...</td>\n",
       "      <td>1</td>\n",
       "      <td>3</td>\n",
       "      <td>2</td>\n",
       "      <td>0</td>\n",
       "      <td>5</td>\n",
       "      <td>2007</td>\n",
       "      <td>2</td>\n",
       "      <td>1</td>\n",
       "      <td>181500</td>\n",
       "      <td>12.109011</td>\n",
       "    </tr>\n",
       "    <tr>\n",
       "      <th>2</th>\n",
       "      <td>3</td>\n",
       "      <td>60</td>\n",
       "      <td>0</td>\n",
       "      <td>11250</td>\n",
       "      <td>0</td>\n",
       "      <td>1</td>\n",
       "      <td>3</td>\n",
       "      <td>1</td>\n",
       "      <td>0</td>\n",
       "      <td>0</td>\n",
       "      <td>...</td>\n",
       "      <td>1</td>\n",
       "      <td>3</td>\n",
       "      <td>2</td>\n",
       "      <td>0</td>\n",
       "      <td>9</td>\n",
       "      <td>2008</td>\n",
       "      <td>2</td>\n",
       "      <td>1</td>\n",
       "      <td>223500</td>\n",
       "      <td>12.317167</td>\n",
       "    </tr>\n",
       "    <tr>\n",
       "      <th>3</th>\n",
       "      <td>4</td>\n",
       "      <td>70</td>\n",
       "      <td>0</td>\n",
       "      <td>9550</td>\n",
       "      <td>0</td>\n",
       "      <td>1</td>\n",
       "      <td>3</td>\n",
       "      <td>1</td>\n",
       "      <td>0</td>\n",
       "      <td>3</td>\n",
       "      <td>...</td>\n",
       "      <td>1</td>\n",
       "      <td>3</td>\n",
       "      <td>2</td>\n",
       "      <td>0</td>\n",
       "      <td>2</td>\n",
       "      <td>2006</td>\n",
       "      <td>2</td>\n",
       "      <td>0</td>\n",
       "      <td>140000</td>\n",
       "      <td>11.849398</td>\n",
       "    </tr>\n",
       "    <tr>\n",
       "      <th>4</th>\n",
       "      <td>5</td>\n",
       "      <td>60</td>\n",
       "      <td>0</td>\n",
       "      <td>14260</td>\n",
       "      <td>0</td>\n",
       "      <td>1</td>\n",
       "      <td>3</td>\n",
       "      <td>1</td>\n",
       "      <td>0</td>\n",
       "      <td>4</td>\n",
       "      <td>...</td>\n",
       "      <td>1</td>\n",
       "      <td>3</td>\n",
       "      <td>2</td>\n",
       "      <td>0</td>\n",
       "      <td>12</td>\n",
       "      <td>2008</td>\n",
       "      <td>2</td>\n",
       "      <td>1</td>\n",
       "      <td>250000</td>\n",
       "      <td>12.429216</td>\n",
       "    </tr>\n",
       "  </tbody>\n",
       "</table>\n",
       "<p>5 rows × 81 columns</p>\n",
       "</div>"
      ],
      "text/plain": [
       "   Id  MSSubClass MSZoning  LotArea Street Alley LotShape LandContour  \\\n",
       "0   1          60        0     8450      0     1        0           1   \n",
       "1   2          20        0     9600      0     1        0           1   \n",
       "2   3          60        0    11250      0     1        3           1   \n",
       "3   4          70        0     9550      0     1        3           1   \n",
       "4   5          60        0    14260      0     1        3           1   \n",
       "\n",
       "  Utilities LotConfig  ... PoolQC Fence MiscFeature MiscVal MoSold YrSold  \\\n",
       "0         0         0  ...      1     3           2       0      2   2008   \n",
       "1         0         4  ...      1     3           2       0      5   2007   \n",
       "2         0         0  ...      1     3           2       0      9   2008   \n",
       "3         0         3  ...      1     3           2       0      2   2006   \n",
       "4         0         4  ...      1     3           2       0     12   2008   \n",
       "\n",
       "   SaleType  SaleCondition  SalePrice  TransformedPrice  \n",
       "0         2              1     208500         12.247694  \n",
       "1         2              1     181500         12.109011  \n",
       "2         2              1     223500         12.317167  \n",
       "3         2              0     140000         11.849398  \n",
       "4         2              1     250000         12.429216  \n",
       "\n",
       "[5 rows x 81 columns]"
      ]
     },
     "execution_count": 40,
     "metadata": {},
     "output_type": "execute_result"
    }
   ],
   "source": [
    "training.head()"
   ]
  },
  {
   "cell_type": "code",
   "execution_count": 41,
   "metadata": {
    "execution": {
     "iopub.execute_input": "2021-07-09T04:03:39.505633Z",
     "iopub.status.busy": "2021-07-09T04:03:39.504654Z",
     "iopub.status.idle": "2021-07-09T04:03:39.508606Z",
     "shell.execute_reply": "2021-07-09T04:03:39.508057Z",
     "shell.execute_reply.started": "2021-07-09T03:28:12.964734Z"
    },
    "papermill": {
     "duration": 0.071971,
     "end_time": "2021-07-09T04:03:39.508744",
     "exception": false,
     "start_time": "2021-07-09T04:03:39.436773",
     "status": "completed"
    },
    "tags": []
   },
   "outputs": [
    {
     "data": {
      "text/html": [
       "<div>\n",
       "<style scoped>\n",
       "    .dataframe tbody tr th:only-of-type {\n",
       "        vertical-align: middle;\n",
       "    }\n",
       "\n",
       "    .dataframe tbody tr th {\n",
       "        vertical-align: top;\n",
       "    }\n",
       "\n",
       "    .dataframe thead th {\n",
       "        text-align: right;\n",
       "    }\n",
       "</style>\n",
       "<table border=\"1\" class=\"dataframe\">\n",
       "  <thead>\n",
       "    <tr style=\"text-align: right;\">\n",
       "      <th></th>\n",
       "      <th>Id</th>\n",
       "      <th>MSSubClass</th>\n",
       "      <th>MSZoning</th>\n",
       "      <th>LotArea</th>\n",
       "      <th>Street</th>\n",
       "      <th>Alley</th>\n",
       "      <th>LotShape</th>\n",
       "      <th>LandContour</th>\n",
       "      <th>Utilities</th>\n",
       "      <th>LotConfig</th>\n",
       "      <th>...</th>\n",
       "      <th>ScreenPorch</th>\n",
       "      <th>PoolArea</th>\n",
       "      <th>PoolQC</th>\n",
       "      <th>Fence</th>\n",
       "      <th>MiscFeature</th>\n",
       "      <th>MiscVal</th>\n",
       "      <th>MoSold</th>\n",
       "      <th>YrSold</th>\n",
       "      <th>SaleType</th>\n",
       "      <th>SaleCondition</th>\n",
       "    </tr>\n",
       "  </thead>\n",
       "  <tbody>\n",
       "    <tr>\n",
       "      <th>0</th>\n",
       "      <td>1461</td>\n",
       "      <td>20</td>\n",
       "      <td>4</td>\n",
       "      <td>11622</td>\n",
       "      <td>0</td>\n",
       "      <td>1</td>\n",
       "      <td>0</td>\n",
       "      <td>2</td>\n",
       "      <td>0</td>\n",
       "      <td>0</td>\n",
       "      <td>...</td>\n",
       "      <td>120</td>\n",
       "      <td>0</td>\n",
       "      <td>0</td>\n",
       "      <td>0</td>\n",
       "      <td>2</td>\n",
       "      <td>0</td>\n",
       "      <td>6</td>\n",
       "      <td>2010</td>\n",
       "      <td>2</td>\n",
       "      <td>1</td>\n",
       "    </tr>\n",
       "    <tr>\n",
       "      <th>1</th>\n",
       "      <td>1462</td>\n",
       "      <td>20</td>\n",
       "      <td>0</td>\n",
       "      <td>14267</td>\n",
       "      <td>0</td>\n",
       "      <td>1</td>\n",
       "      <td>3</td>\n",
       "      <td>2</td>\n",
       "      <td>0</td>\n",
       "      <td>3</td>\n",
       "      <td>...</td>\n",
       "      <td>0</td>\n",
       "      <td>0</td>\n",
       "      <td>0</td>\n",
       "      <td>3</td>\n",
       "      <td>1</td>\n",
       "      <td>12500</td>\n",
       "      <td>6</td>\n",
       "      <td>2010</td>\n",
       "      <td>2</td>\n",
       "      <td>1</td>\n",
       "    </tr>\n",
       "    <tr>\n",
       "      <th>2</th>\n",
       "      <td>1463</td>\n",
       "      <td>60</td>\n",
       "      <td>0</td>\n",
       "      <td>13830</td>\n",
       "      <td>0</td>\n",
       "      <td>1</td>\n",
       "      <td>3</td>\n",
       "      <td>2</td>\n",
       "      <td>0</td>\n",
       "      <td>0</td>\n",
       "      <td>...</td>\n",
       "      <td>0</td>\n",
       "      <td>0</td>\n",
       "      <td>0</td>\n",
       "      <td>0</td>\n",
       "      <td>2</td>\n",
       "      <td>0</td>\n",
       "      <td>3</td>\n",
       "      <td>2010</td>\n",
       "      <td>2</td>\n",
       "      <td>1</td>\n",
       "    </tr>\n",
       "    <tr>\n",
       "      <th>3</th>\n",
       "      <td>1464</td>\n",
       "      <td>60</td>\n",
       "      <td>0</td>\n",
       "      <td>9978</td>\n",
       "      <td>0</td>\n",
       "      <td>1</td>\n",
       "      <td>3</td>\n",
       "      <td>2</td>\n",
       "      <td>0</td>\n",
       "      <td>0</td>\n",
       "      <td>...</td>\n",
       "      <td>0</td>\n",
       "      <td>0</td>\n",
       "      <td>0</td>\n",
       "      <td>3</td>\n",
       "      <td>2</td>\n",
       "      <td>0</td>\n",
       "      <td>6</td>\n",
       "      <td>2010</td>\n",
       "      <td>2</td>\n",
       "      <td>1</td>\n",
       "    </tr>\n",
       "    <tr>\n",
       "      <th>4</th>\n",
       "      <td>1465</td>\n",
       "      <td>120</td>\n",
       "      <td>0</td>\n",
       "      <td>5005</td>\n",
       "      <td>0</td>\n",
       "      <td>1</td>\n",
       "      <td>3</td>\n",
       "      <td>3</td>\n",
       "      <td>0</td>\n",
       "      <td>0</td>\n",
       "      <td>...</td>\n",
       "      <td>144</td>\n",
       "      <td>0</td>\n",
       "      <td>0</td>\n",
       "      <td>3</td>\n",
       "      <td>2</td>\n",
       "      <td>0</td>\n",
       "      <td>1</td>\n",
       "      <td>2010</td>\n",
       "      <td>2</td>\n",
       "      <td>1</td>\n",
       "    </tr>\n",
       "  </tbody>\n",
       "</table>\n",
       "<p>5 rows × 79 columns</p>\n",
       "</div>"
      ],
      "text/plain": [
       "     Id  MSSubClass MSZoning  LotArea Street Alley LotShape LandContour  \\\n",
       "0  1461          20        4    11622      0     1        0           2   \n",
       "1  1462          20        0    14267      0     1        3           2   \n",
       "2  1463          60        0    13830      0     1        3           2   \n",
       "3  1464          60        0     9978      0     1        3           2   \n",
       "4  1465         120        0     5005      0     1        3           3   \n",
       "\n",
       "  Utilities LotConfig  ... ScreenPorch PoolArea PoolQC Fence MiscFeature  \\\n",
       "0         0         0  ...         120        0      0     0           2   \n",
       "1         0         3  ...           0        0      0     3           1   \n",
       "2         0         0  ...           0        0      0     0           2   \n",
       "3         0         0  ...           0        0      0     3           2   \n",
       "4         0         0  ...         144        0      0     3           2   \n",
       "\n",
       "  MiscVal  MoSold  YrSold  SaleType  SaleCondition  \n",
       "0       0       6    2010         2              1  \n",
       "1   12500       6    2010         2              1  \n",
       "2       0       3    2010         2              1  \n",
       "3       0       6    2010         2              1  \n",
       "4       0       1    2010         2              1  \n",
       "\n",
       "[5 rows x 79 columns]"
      ]
     },
     "execution_count": 41,
     "metadata": {},
     "output_type": "execute_result"
    }
   ],
   "source": [
    "testing.head()"
   ]
  },
  {
   "cell_type": "markdown",
   "metadata": {
    "execution": {
     "iopub.execute_input": "2021-06-20T04:49:25.676903Z",
     "iopub.status.busy": "2021-06-20T04:49:25.676508Z",
     "iopub.status.idle": "2021-06-20T04:49:25.681394Z",
     "shell.execute_reply": "2021-06-20T04:49:25.680024Z",
     "shell.execute_reply.started": "2021-06-20T04:49:25.67687Z"
    },
    "papermill": {
     "duration": 0.045505,
     "end_time": "2021-07-09T04:03:39.600723",
     "exception": false,
     "start_time": "2021-07-09T04:03:39.555218",
     "status": "completed"
    },
    "tags": []
   },
   "source": [
    "## 5. Creating, Training, Evaluating, Validating, and Testing ML Models "
   ]
  },
  {
   "cell_type": "code",
   "execution_count": 42,
   "metadata": {
    "execution": {
     "iopub.execute_input": "2021-07-09T04:03:39.697965Z",
     "iopub.status.busy": "2021-07-09T04:03:39.697301Z",
     "iopub.status.idle": "2021-07-09T04:03:39.751040Z",
     "shell.execute_reply": "2021-07-09T04:03:39.750534Z",
     "shell.execute_reply.started": "2021-07-09T03:28:13.013876Z"
    },
    "papermill": {
     "duration": 0.104069,
     "end_time": "2021-07-09T04:03:39.751194",
     "exception": false,
     "start_time": "2021-07-09T04:03:39.647125",
     "status": "completed"
    },
    "tags": []
   },
   "outputs": [],
   "source": [
    "from sklearn.linear_model import LinearRegression\n",
    "from sklearn.linear_model import Lasso\n",
    "from sklearn.linear_model import Ridge\n",
    "from sklearn.tree import DecisionTreeRegressor\n",
    "from sklearn.ensemble import RandomForestRegressor\n",
    "from sklearn.metrics import r2_score, mean_squared_error\n",
    "from sklearn.model_selection import GridSearchCV\n",
    "#from sklearn.cross_validation import cross_val_score, KFold\n",
    "from sklearn.model_selection import KFold, cross_val_score "
   ]
  },
  {
   "cell_type": "code",
   "execution_count": 43,
   "metadata": {
    "execution": {
     "iopub.execute_input": "2021-07-09T04:03:39.849379Z",
     "iopub.status.busy": "2021-07-09T04:03:39.848707Z",
     "iopub.status.idle": "2021-07-09T04:03:39.862623Z",
     "shell.execute_reply": "2021-07-09T04:03:39.861998Z",
     "shell.execute_reply.started": "2021-07-09T03:28:13.027417Z"
    },
    "papermill": {
     "duration": 0.065872,
     "end_time": "2021-07-09T04:03:39.862760",
     "exception": false,
     "start_time": "2021-07-09T04:03:39.796888",
     "status": "completed"
    },
    "tags": []
   },
   "outputs": [],
   "source": [
    "X_train = training.drop([\"Id\", \"SalePrice\", \"TransformedPrice\"], axis=1).values\n",
    "y_train = training[\"TransformedPrice\"].values\n",
    "X_test = testing.drop(\"Id\", axis=1).values"
   ]
  },
  {
   "cell_type": "code",
   "execution_count": 44,
   "metadata": {
    "execution": {
     "iopub.execute_input": "2021-07-09T04:03:39.961672Z",
     "iopub.status.busy": "2021-07-09T04:03:39.961104Z",
     "iopub.status.idle": "2021-07-09T04:03:39.964350Z",
     "shell.execute_reply": "2021-07-09T04:03:39.963810Z",
     "shell.execute_reply.started": "2021-07-09T03:28:13.055674Z"
    },
    "papermill": {
     "duration": 0.055959,
     "end_time": "2021-07-09T04:03:39.964487",
     "exception": false,
     "start_time": "2021-07-09T04:03:39.908528",
     "status": "completed"
    },
    "tags": []
   },
   "outputs": [],
   "source": [
    "from sklearn.model_selection import train_test_split #to create validation data set\n",
    "\n",
    "X_training, X_valid, y_training, y_valid = train_test_split(X_train, y_train, test_size=0.2, random_state=0) #X_valid and y_valid are the validation sets"
   ]
  },
  {
   "cell_type": "code",
   "execution_count": 45,
   "metadata": {
    "execution": {
     "iopub.execute_input": "2021-07-09T04:03:40.067772Z",
     "iopub.status.busy": "2021-07-09T04:03:40.062018Z",
     "iopub.status.idle": "2021-07-09T04:03:40.986012Z",
     "shell.execute_reply": "2021-07-09T04:03:40.986764Z",
     "shell.execute_reply.started": "2021-07-09T03:28:13.066768Z"
    },
    "papermill": {
     "duration": 0.976905,
     "end_time": "2021-07-09T04:03:40.987039",
     "exception": false,
     "start_time": "2021-07-09T04:03:40.010134",
     "status": "completed"
    },
    "tags": []
   },
   "outputs": [
    {
     "name": "stdout",
     "output_type": "stream",
     "text": [
      "Fitting 5 folds for each of 8 candidates, totalling 40 fits\n"
     ]
    },
    {
     "name": "stderr",
     "output_type": "stream",
     "text": [
      "[Parallel(n_jobs=1)]: Using backend SequentialBackend with 1 concurrent workers.\n"
     ]
    },
    {
     "name": "stdout",
     "output_type": "stream",
     "text": [
      "Best LinReg Model: LinearRegression()\n",
      "Best Score: 0.8808011098873753\n"
     ]
    },
    {
     "name": "stderr",
     "output_type": "stream",
     "text": [
      "[Parallel(n_jobs=1)]: Done  40 out of  40 | elapsed:    0.9s finished\n"
     ]
    }
   ],
   "source": [
    "linreg = LinearRegression()\n",
    "parameters_lin = {\"fit_intercept\" : [True, False], \"normalize\" : [True, False], \"copy_X\" : [True, False]}\n",
    "grid_linreg = GridSearchCV(linreg, parameters_lin, verbose=1 , scoring = \"r2\")\n",
    "grid_linreg.fit(X_training, y_training)\n",
    "\n",
    "print(\"Best LinReg Model: \" + str(grid_linreg.best_estimator_))\n",
    "print(\"Best Score: \" + str(grid_linreg.best_score_))"
   ]
  },
  {
   "cell_type": "code",
   "execution_count": 46,
   "metadata": {
    "execution": {
     "iopub.execute_input": "2021-07-09T04:03:41.164465Z",
     "iopub.status.busy": "2021-07-09T04:03:41.163453Z",
     "iopub.status.idle": "2021-07-09T04:03:41.189940Z",
     "shell.execute_reply": "2021-07-09T04:03:41.190972Z",
     "shell.execute_reply.started": "2021-07-09T03:28:14.523388Z"
    },
    "papermill": {
     "duration": 0.084117,
     "end_time": "2021-07-09T04:03:41.191248",
     "exception": false,
     "start_time": "2021-07-09T04:03:41.107131",
     "status": "completed"
    },
    "tags": []
   },
   "outputs": [
    {
     "name": "stdout",
     "output_type": "stream",
     "text": [
      "R^2 Score: 0.6906699390014883\n",
      "RMSE Score: 0.21640823072545265\n"
     ]
    }
   ],
   "source": [
    "linreg = grid_linreg.best_estimator_\n",
    "linreg.fit(X_training, y_training)\n",
    "lin_pred = linreg.predict(X_valid)\n",
    "r2_lin = r2_score(y_valid, lin_pred)\n",
    "rmse_lin = np.sqrt(mean_squared_error(y_valid, lin_pred))\n",
    "print(\"R^2 Score: \" + str(r2_lin))\n",
    "print(\"RMSE Score: \" + str(rmse_lin))"
   ]
  },
  {
   "cell_type": "code",
   "execution_count": 47,
   "metadata": {
    "execution": {
     "iopub.execute_input": "2021-07-09T04:03:41.367438Z",
     "iopub.status.busy": "2021-07-09T04:03:41.366412Z",
     "iopub.status.idle": "2021-07-09T04:03:41.525861Z",
     "shell.execute_reply": "2021-07-09T04:03:41.526481Z",
     "shell.execute_reply.started": "2021-07-09T03:28:14.588554Z"
    },
    "papermill": {
     "duration": 0.21626,
     "end_time": "2021-07-09T04:03:41.526657",
     "exception": false,
     "start_time": "2021-07-09T04:03:41.310397",
     "status": "completed"
    },
    "tags": []
   },
   "outputs": [
    {
     "name": "stdout",
     "output_type": "stream",
     "text": [
      "Cross Validation Score: 0.8831926652743481\n"
     ]
    }
   ],
   "source": [
    "scores_lin = cross_val_score(linreg, X_training, y_training, cv=10, scoring=\"r2\")\n",
    "print(\"Cross Validation Score: \" + str(np.mean(scores_lin)))"
   ]
  },
  {
   "cell_type": "code",
   "execution_count": 48,
   "metadata": {
    "execution": {
     "iopub.execute_input": "2021-07-09T04:03:41.679011Z",
     "iopub.status.busy": "2021-07-09T04:03:41.678022Z",
     "iopub.status.idle": "2021-07-09T04:03:43.926787Z",
     "shell.execute_reply": "2021-07-09T04:03:43.927564Z",
     "shell.execute_reply.started": "2021-07-09T03:28:14.866974Z"
    },
    "papermill": {
     "duration": 2.309886,
     "end_time": "2021-07-09T04:03:43.927770",
     "exception": false,
     "start_time": "2021-07-09T04:03:41.617884",
     "status": "completed"
    },
    "tags": []
   },
   "outputs": [
    {
     "name": "stdout",
     "output_type": "stream",
     "text": [
      "Fitting 5 folds for each of 16 candidates, totalling 80 fits\n"
     ]
    },
    {
     "name": "stderr",
     "output_type": "stream",
     "text": [
      "[Parallel(n_jobs=1)]: Using backend SequentialBackend with 1 concurrent workers.\n"
     ]
    },
    {
     "name": "stdout",
     "output_type": "stream",
     "text": [
      "Best Lasso Model: Lasso(precompute=True)\n",
      "Best Score: 0.8030638481359469\n"
     ]
    },
    {
     "name": "stderr",
     "output_type": "stream",
     "text": [
      "[Parallel(n_jobs=1)]: Done  80 out of  80 | elapsed:    2.2s finished\n"
     ]
    }
   ],
   "source": [
    "lasso = Lasso()\n",
    "parameters_lasso = {\"fit_intercept\" : [True, False], \"normalize\" : [True, False], \"precompute\" : [True, False], \"copy_X\" : [True, False]}\n",
    "grid_lasso = GridSearchCV(lasso, parameters_lasso, verbose=1, scoring=\"r2\")\n",
    "grid_lasso.fit(X_training, y_training)\n",
    "\n",
    "print(\"Best Lasso Model: \" + str(grid_lasso.best_estimator_))\n",
    "print(\"Best Score: \" + str(grid_lasso.best_score_))"
   ]
  },
  {
   "cell_type": "code",
   "execution_count": 49,
   "metadata": {
    "execution": {
     "iopub.execute_input": "2021-07-09T04:03:44.112662Z",
     "iopub.status.busy": "2021-07-09T04:03:44.111605Z",
     "iopub.status.idle": "2021-07-09T04:03:44.124044Z",
     "shell.execute_reply": "2021-07-09T04:03:44.124832Z",
     "shell.execute_reply.started": "2021-07-09T03:28:17.896342Z"
    },
    "papermill": {
     "duration": 0.07211,
     "end_time": "2021-07-09T04:03:44.125122",
     "exception": false,
     "start_time": "2021-07-09T04:03:44.053012",
     "status": "completed"
    },
    "tags": []
   },
   "outputs": [
    {
     "name": "stdout",
     "output_type": "stream",
     "text": [
      "R^2 Score: 0.5346055500620817\n",
      "RMSE Score: 0.26544424298741465\n"
     ]
    }
   ],
   "source": [
    "lasso = grid_lasso.best_estimator_\n",
    "lasso.fit(X_training, y_training)\n",
    "lasso_pred = lasso.predict(X_valid)\n",
    "r2_lasso = r2_score(y_valid, lasso_pred)\n",
    "rmse_lasso = np.sqrt(mean_squared_error(y_valid, lasso_pred))\n",
    "print(\"R^2 Score: \" + str(r2_lasso))\n",
    "print(\"RMSE Score: \" + str(rmse_lasso))"
   ]
  },
  {
   "cell_type": "code",
   "execution_count": 50,
   "metadata": {
    "execution": {
     "iopub.execute_input": "2021-07-09T04:03:44.287448Z",
     "iopub.status.busy": "2021-07-09T04:03:44.286394Z",
     "iopub.status.idle": "2021-07-09T04:03:44.394391Z",
     "shell.execute_reply": "2021-07-09T04:03:44.395210Z",
     "shell.execute_reply.started": "2021-07-09T03:28:17.947700Z"
    },
    "papermill": {
     "duration": 0.17438,
     "end_time": "2021-07-09T04:03:44.395477",
     "exception": false,
     "start_time": "2021-07-09T04:03:44.221097",
     "status": "completed"
    },
    "tags": []
   },
   "outputs": [
    {
     "name": "stdout",
     "output_type": "stream",
     "text": [
      "Cross Validation Score: 0.8024153680708739\n"
     ]
    }
   ],
   "source": [
    "scores_lasso = cross_val_score(lasso, X_training, y_training, cv=10, scoring=\"r2\")\n",
    "print(\"Cross Validation Score: \" + str(np.mean(scores_lasso)))"
   ]
  },
  {
   "cell_type": "code",
   "execution_count": 51,
   "metadata": {
    "execution": {
     "iopub.execute_input": "2021-07-09T04:03:44.555052Z",
     "iopub.status.busy": "2021-07-09T04:03:44.554057Z",
     "iopub.status.idle": "2021-07-09T04:03:45.159107Z",
     "shell.execute_reply": "2021-07-09T04:03:45.159805Z",
     "shell.execute_reply.started": "2021-07-09T03:28:18.146431Z"
    },
    "papermill": {
     "duration": 0.666912,
     "end_time": "2021-07-09T04:03:45.160070",
     "exception": false,
     "start_time": "2021-07-09T04:03:44.493158",
     "status": "completed"
    },
    "tags": []
   },
   "outputs": [
    {
     "name": "stdout",
     "output_type": "stream",
     "text": [
      "Fitting 5 folds for each of 8 candidates, totalling 40 fits\n"
     ]
    },
    {
     "name": "stderr",
     "output_type": "stream",
     "text": [
      "[Parallel(n_jobs=1)]: Using backend SequentialBackend with 1 concurrent workers.\n"
     ]
    },
    {
     "name": "stdout",
     "output_type": "stream",
     "text": [
      "Best Ridge Model: Ridge()\n",
      "Best Score: 0.8821297213747936\n"
     ]
    },
    {
     "name": "stderr",
     "output_type": "stream",
     "text": [
      "[Parallel(n_jobs=1)]: Done  40 out of  40 | elapsed:    0.6s finished\n"
     ]
    }
   ],
   "source": [
    "ridge = Ridge()\n",
    "parameters_ridge = {\"fit_intercept\" : [True, False], \"normalize\" : [True, False], \"copy_X\" : [True, False], \"solver\" : [\"auto\"]}\n",
    "grid_ridge = GridSearchCV(ridge, parameters_ridge, verbose=1, scoring=\"r2\")\n",
    "grid_ridge.fit(X_training, y_training)\n",
    "\n",
    "print(\"Best Ridge Model: \" + str(grid_ridge.best_estimator_))\n",
    "print(\"Best Score: \" + str(grid_ridge.best_score_))"
   ]
  },
  {
   "cell_type": "code",
   "execution_count": 52,
   "metadata": {
    "execution": {
     "iopub.execute_input": "2021-07-09T04:03:45.358550Z",
     "iopub.status.busy": "2021-07-09T04:03:45.357872Z",
     "iopub.status.idle": "2021-07-09T04:03:45.378664Z",
     "shell.execute_reply": "2021-07-09T04:03:45.379606Z",
     "shell.execute_reply.started": "2021-07-09T03:28:18.932345Z"
    },
    "papermill": {
     "duration": 0.079674,
     "end_time": "2021-07-09T04:03:45.379880",
     "exception": false,
     "start_time": "2021-07-09T04:03:45.300206",
     "status": "completed"
    },
    "tags": []
   },
   "outputs": [
    {
     "name": "stdout",
     "output_type": "stream",
     "text": [
      "R^2 Score: 0.6930892737542839\n",
      "RMSE Score: 0.21556028258164472\n"
     ]
    }
   ],
   "source": [
    "ridge = grid_ridge.best_estimator_\n",
    "ridge.fit(X_training, y_training)\n",
    "ridge_pred = ridge.predict(X_valid)\n",
    "r2_ridge = r2_score(y_valid, ridge_pred)\n",
    "rmse_ridge = np.sqrt(mean_squared_error(y_valid, ridge_pred))\n",
    "print(\"R^2 Score: \" + str(r2_ridge))\n",
    "print(\"RMSE Score: \" + str(rmse_ridge))"
   ]
  },
  {
   "cell_type": "code",
   "execution_count": 53,
   "metadata": {
    "execution": {
     "iopub.execute_input": "2021-07-09T04:03:45.559512Z",
     "iopub.status.busy": "2021-07-09T04:03:45.558470Z",
     "iopub.status.idle": "2021-07-09T04:03:45.689624Z",
     "shell.execute_reply": "2021-07-09T04:03:45.690510Z",
     "shell.execute_reply.started": "2021-07-09T03:28:18.999363Z"
    },
    "papermill": {
     "duration": 0.190648,
     "end_time": "2021-07-09T04:03:45.690773",
     "exception": false,
     "start_time": "2021-07-09T04:03:45.500125",
     "status": "completed"
    },
    "tags": []
   },
   "outputs": [
    {
     "name": "stdout",
     "output_type": "stream",
     "text": [
      "Cross Validation Score: 0.8844134656452963\n"
     ]
    }
   ],
   "source": [
    "scores_ridge = cross_val_score(ridge, X_training, y_training, cv=10, scoring=\"r2\")\n",
    "print(\"Cross Validation Score: \" + str(np.mean(scores_ridge)))"
   ]
  },
  {
   "cell_type": "code",
   "execution_count": 54,
   "metadata": {
    "execution": {
     "iopub.execute_input": "2021-07-09T04:03:45.884398Z",
     "iopub.status.busy": "2021-07-09T04:03:45.879804Z",
     "iopub.status.idle": "2021-07-09T04:03:57.014412Z",
     "shell.execute_reply": "2021-07-09T04:03:57.015242Z",
     "shell.execute_reply.started": "2021-07-09T03:28:19.273918Z"
    },
    "papermill": {
     "duration": 11.193072,
     "end_time": "2021-07-09T04:03:57.015468",
     "exception": false,
     "start_time": "2021-07-09T04:03:45.822396",
     "status": "completed"
    },
    "tags": []
   },
   "outputs": [
    {
     "name": "stdout",
     "output_type": "stream",
     "text": [
      "Fitting 5 folds for each of 48 candidates, totalling 240 fits\n"
     ]
    },
    {
     "name": "stderr",
     "output_type": "stream",
     "text": [
      "[Parallel(n_jobs=1)]: Using backend SequentialBackend with 1 concurrent workers.\n",
      "[Parallel(n_jobs=1)]: Done 240 out of 240 | elapsed:   10.8s finished\n"
     ]
    },
    {
     "name": "stdout",
     "output_type": "stream",
     "text": [
      "Best DecisionTreeRegressor Model: DecisionTreeRegressor(criterion='mae', max_features='auto',\n",
      "                      min_samples_split=10)\n",
      "Best Score: 0.7383923848355061\n"
     ]
    }
   ],
   "source": [
    "dtr = DecisionTreeRegressor()\n",
    "parameters_dtr = {\"criterion\" : [\"mse\", \"friedman_mse\", \"mae\"], \"splitter\" : [\"best\", \"random\"], \"min_samples_split\" : [2, 3, 5, 10], \n",
    "                  \"max_features\" : [\"auto\", \"log2\"]}\n",
    "grid_dtr = GridSearchCV(dtr, parameters_dtr, verbose=1, scoring=\"r2\")\n",
    "grid_dtr.fit(X_training, y_training)\n",
    "\n",
    "print(\"Best DecisionTreeRegressor Model: \" + str(grid_dtr.best_estimator_))\n",
    "print(\"Best Score: \" + str(grid_dtr.best_score_))"
   ]
  },
  {
   "cell_type": "code",
   "execution_count": 55,
   "metadata": {
    "execution": {
     "iopub.execute_input": "2021-07-09T04:03:57.126275Z",
     "iopub.status.busy": "2021-07-09T04:03:57.125620Z",
     "iopub.status.idle": "2021-07-09T04:03:57.460697Z",
     "shell.execute_reply": "2021-07-09T04:03:57.460246Z",
     "shell.execute_reply.started": "2021-07-09T03:28:31.659884Z"
    },
    "papermill": {
     "duration": 0.393796,
     "end_time": "2021-07-09T04:03:57.460836",
     "exception": false,
     "start_time": "2021-07-09T04:03:57.067040",
     "status": "completed"
    },
    "tags": []
   },
   "outputs": [
    {
     "name": "stdout",
     "output_type": "stream",
     "text": [
      "R^2 Score: 0.7433184431258997\n",
      "RMSE Score: 0.19713332322506352\n"
     ]
    }
   ],
   "source": [
    "dtr = grid_dtr.best_estimator_\n",
    "dtr.fit(X_training, y_training)\n",
    "dtr_pred = dtr.predict(X_valid)\n",
    "r2_dtr = r2_score(y_valid, dtr_pred)\n",
    "rmse_dtr = np.sqrt(mean_squared_error(y_valid, dtr_pred))\n",
    "print(\"R^2 Score: \" + str(r2_dtr))\n",
    "print(\"RMSE Score: \" + str(rmse_dtr))"
   ]
  },
  {
   "cell_type": "code",
   "execution_count": 56,
   "metadata": {
    "execution": {
     "iopub.execute_input": "2021-07-09T04:03:57.571553Z",
     "iopub.status.busy": "2021-07-09T04:03:57.567658Z",
     "iopub.status.idle": "2021-07-09T04:04:00.403084Z",
     "shell.execute_reply": "2021-07-09T04:04:00.402260Z",
     "shell.execute_reply.started": "2021-07-09T03:28:32.045392Z"
    },
    "papermill": {
     "duration": 2.891423,
     "end_time": "2021-07-09T04:04:00.403270",
     "exception": false,
     "start_time": "2021-07-09T04:03:57.511847",
     "status": "completed"
    },
    "tags": []
   },
   "outputs": [
    {
     "name": "stdout",
     "output_type": "stream",
     "text": [
      "Cross Validation Score: 0.73947498057253\n"
     ]
    }
   ],
   "source": [
    "scores_dtr = cross_val_score(dtr, X_training, y_training, cv=10, scoring=\"r2\")\n",
    "print(\"Cross Validation Score: \" + str(np.mean(scores_dtr)))"
   ]
  },
  {
   "cell_type": "code",
   "execution_count": 57,
   "metadata": {
    "execution": {
     "iopub.execute_input": "2021-07-09T04:04:00.515412Z",
     "iopub.status.busy": "2021-07-09T04:04:00.514633Z",
     "iopub.status.idle": "2021-07-09T04:06:44.150785Z",
     "shell.execute_reply": "2021-07-09T04:06:44.150024Z",
     "shell.execute_reply.started": "2021-07-09T03:28:35.230542Z"
    },
    "papermill": {
     "duration": 163.694766,
     "end_time": "2021-07-09T04:06:44.151006",
     "exception": false,
     "start_time": "2021-07-09T04:04:00.456240",
     "status": "completed"
    },
    "tags": []
   },
   "outputs": [
    {
     "name": "stdout",
     "output_type": "stream",
     "text": [
      "Fitting 5 folds for each of 64 candidates, totalling 320 fits\n"
     ]
    },
    {
     "name": "stderr",
     "output_type": "stream",
     "text": [
      "[Parallel(n_jobs=1)]: Using backend SequentialBackend with 1 concurrent workers.\n",
      "[Parallel(n_jobs=1)]: Done 320 out of 320 | elapsed:  2.7min finished\n"
     ]
    },
    {
     "name": "stdout",
     "output_type": "stream",
     "text": [
      "Best RandomForestRegressor Model: RandomForestRegressor(min_samples_split=5, n_estimators=20)\n",
      "Best Score: 0.8657496736404076\n"
     ]
    }
   ],
   "source": [
    "rf = RandomForestRegressor()\n",
    "paremeters_rf = {\"n_estimators\" : [5, 10, 15, 20], \"criterion\" : [\"mse\" , \"mae\"], \"min_samples_split\" : [2, 3, 5, 10], \n",
    "                 \"max_features\" : [\"auto\", \"log2\"]}\n",
    "grid_rf = GridSearchCV(rf, paremeters_rf, verbose=1, scoring=\"r2\")\n",
    "grid_rf.fit(X_training, y_training)\n",
    "\n",
    "print(\"Best RandomForestRegressor Model: \" + str(grid_rf.best_estimator_))\n",
    "print(\"Best Score: \" + str(grid_rf.best_score_))"
   ]
  },
  {
   "cell_type": "code",
   "execution_count": 58,
   "metadata": {
    "execution": {
     "iopub.execute_input": "2021-07-09T04:06:44.304206Z",
     "iopub.status.busy": "2021-07-09T04:06:44.301057Z",
     "iopub.status.idle": "2021-07-09T04:06:44.608636Z",
     "shell.execute_reply": "2021-07-09T04:06:44.609149Z",
     "shell.execute_reply.started": "2021-07-09T03:31:25.052465Z"
    },
    "papermill": {
     "duration": 0.395524,
     "end_time": "2021-07-09T04:06:44.609333",
     "exception": false,
     "start_time": "2021-07-09T04:06:44.213809",
     "status": "completed"
    },
    "tags": []
   },
   "outputs": [
    {
     "name": "stdout",
     "output_type": "stream",
     "text": [
      "R^2 Score: 0.8579965785509922\n",
      "RMSE Score: 0.1466263808277083\n"
     ]
    }
   ],
   "source": [
    "rf = grid_rf.best_estimator_\n",
    "rf.fit(X_training, y_training)\n",
    "rf_pred = rf.predict(X_valid)\n",
    "r2_rf = r2_score(y_valid, rf_pred)\n",
    "rmse_rf = np.sqrt(mean_squared_error(y_valid, rf_pred))\n",
    "print(\"R^2 Score: \" + str(r2_rf))\n",
    "print(\"RMSE Score: \" + str(rmse_rf))"
   ]
  },
  {
   "cell_type": "code",
   "execution_count": 59,
   "metadata": {
    "execution": {
     "iopub.execute_input": "2021-07-09T04:06:44.725215Z",
     "iopub.status.busy": "2021-07-09T04:06:44.723649Z",
     "iopub.status.idle": "2021-07-09T04:06:47.534749Z",
     "shell.execute_reply": "2021-07-09T04:06:47.535441Z",
     "shell.execute_reply.started": "2021-07-09T03:31:25.148701Z"
    },
    "papermill": {
     "duration": 2.87186,
     "end_time": "2021-07-09T04:06:47.535671",
     "exception": false,
     "start_time": "2021-07-09T04:06:44.663811",
     "status": "completed"
    },
    "tags": []
   },
   "outputs": [
    {
     "name": "stdout",
     "output_type": "stream",
     "text": [
      "Cross Validation Score: 0.8595740399383075\n"
     ]
    }
   ],
   "source": [
    "scores_rf = cross_val_score(rf, X_training, y_training, cv=10, scoring=\"r2\")\n",
    "print(\"Cross Validation Score: \" + str(np.mean(scores_rf)))"
   ]
  },
  {
   "cell_type": "markdown",
   "metadata": {
    "papermill": {
     "duration": 0.05302,
     "end_time": "2021-07-09T04:06:47.642171",
     "exception": false,
     "start_time": "2021-07-09T04:06:47.589151",
     "status": "completed"
    },
    "tags": []
   },
   "source": [
    "## Evaluation Our Models "
   ]
  },
  {
   "cell_type": "code",
   "execution_count": 60,
   "metadata": {
    "execution": {
     "iopub.execute_input": "2021-07-09T04:06:47.764388Z",
     "iopub.status.busy": "2021-07-09T04:06:47.763519Z",
     "iopub.status.idle": "2021-07-09T04:06:47.768505Z",
     "shell.execute_reply": "2021-07-09T04:06:47.768022Z",
     "shell.execute_reply.started": "2021-07-09T03:31:25.935442Z"
    },
    "papermill": {
     "duration": 0.07361,
     "end_time": "2021-07-09T04:06:47.768643",
     "exception": false,
     "start_time": "2021-07-09T04:06:47.695033",
     "status": "completed"
    },
    "tags": []
   },
   "outputs": [
    {
     "name": "stdout",
     "output_type": "stream",
     "text": [
      "Sorted by Best Score:\n"
     ]
    },
    {
     "data": {
      "text/html": [
       "<div>\n",
       "<style scoped>\n",
       "    .dataframe tbody tr th:only-of-type {\n",
       "        vertical-align: middle;\n",
       "    }\n",
       "\n",
       "    .dataframe tbody tr th {\n",
       "        vertical-align: top;\n",
       "    }\n",
       "\n",
       "    .dataframe thead th {\n",
       "        text-align: right;\n",
       "    }\n",
       "</style>\n",
       "<table border=\"1\" class=\"dataframe\">\n",
       "  <thead>\n",
       "    <tr style=\"text-align: right;\">\n",
       "      <th></th>\n",
       "      <th>Model</th>\n",
       "      <th>Best Score</th>\n",
       "      <th>R Squared</th>\n",
       "      <th>RMSE</th>\n",
       "    </tr>\n",
       "  </thead>\n",
       "  <tbody>\n",
       "    <tr>\n",
       "      <th>1</th>\n",
       "      <td>Ridge</td>\n",
       "      <td>0.882130</td>\n",
       "      <td>0.693</td>\n",
       "      <td>0.215560</td>\n",
       "    </tr>\n",
       "    <tr>\n",
       "      <th>0</th>\n",
       "      <td>Linear Regression</td>\n",
       "      <td>0.880801</td>\n",
       "      <td>0.690</td>\n",
       "      <td>0.216408</td>\n",
       "    </tr>\n",
       "    <tr>\n",
       "      <th>4</th>\n",
       "      <td>Random Forest Regressor</td>\n",
       "      <td>0.865750</td>\n",
       "      <td>0.857</td>\n",
       "      <td>0.146626</td>\n",
       "    </tr>\n",
       "    <tr>\n",
       "      <th>2</th>\n",
       "      <td>Lasso</td>\n",
       "      <td>0.803064</td>\n",
       "      <td>0.534</td>\n",
       "      <td>0.265444</td>\n",
       "    </tr>\n",
       "    <tr>\n",
       "      <th>3</th>\n",
       "      <td>Decision Tree Regressor</td>\n",
       "      <td>0.738392</td>\n",
       "      <td>0.743</td>\n",
       "      <td>0.197133</td>\n",
       "    </tr>\n",
       "  </tbody>\n",
       "</table>\n",
       "</div>"
      ],
      "text/plain": [
       "                     Model  Best Score R Squared      RMSE\n",
       "1                    Ridge    0.882130     0.693  0.215560\n",
       "0        Linear Regression    0.880801     0.690  0.216408\n",
       "4  Random Forest Regressor    0.865750     0.857  0.146626\n",
       "2                    Lasso    0.803064     0.534  0.265444\n",
       "3  Decision Tree Regressor    0.738392     0.743  0.197133"
      ]
     },
     "execution_count": 60,
     "metadata": {},
     "output_type": "execute_result"
    }
   ],
   "source": [
    "model_performances = pd.DataFrame({\n",
    "    \"Model\" : [\"Linear Regression\", \"Ridge\", \"Lasso\", \"Decision Tree Regressor\", \"Random Forest Regressor\"],\n",
    "    \"Best Score\" : [grid_linreg.best_score_,  grid_ridge.best_score_, grid_lasso.best_score_, grid_dtr.best_score_, grid_rf.best_score_],\n",
    "    \"R Squared\" : [str(r2_lin)[0:5], str(r2_ridge)[0:5], str(r2_lasso)[0:5], str(r2_dtr)[0:5], str(r2_rf)[0:5]],\n",
    "    \"RMSE\" : [str(rmse_lin)[0:8], str(rmse_ridge)[0:8], str(rmse_lasso)[0:8], str(rmse_dtr)[0:8], str(rmse_rf)[0:8]]\n",
    "})\n",
    "model_performances.round(4)\n",
    "\n",
    "print(\"Sorted by Best Score:\")\n",
    "model_performances.sort_values(by=\"Best Score\", ascending=False)"
   ]
  },
  {
   "cell_type": "code",
   "execution_count": 61,
   "metadata": {
    "execution": {
     "iopub.execute_input": "2021-07-09T04:06:47.887372Z",
     "iopub.status.busy": "2021-07-09T04:06:47.886703Z",
     "iopub.status.idle": "2021-07-09T04:06:47.892641Z",
     "shell.execute_reply": "2021-07-09T04:06:47.891991Z",
     "shell.execute_reply.started": "2021-07-09T03:31:25.959237Z"
    },
    "papermill": {
     "duration": 0.070621,
     "end_time": "2021-07-09T04:06:47.892835",
     "exception": false,
     "start_time": "2021-07-09T04:06:47.822214",
     "status": "completed"
    },
    "tags": []
   },
   "outputs": [
    {
     "name": "stdout",
     "output_type": "stream",
     "text": [
      "Sorted by R Squared:\n"
     ]
    },
    {
     "data": {
      "text/html": [
       "<div>\n",
       "<style scoped>\n",
       "    .dataframe tbody tr th:only-of-type {\n",
       "        vertical-align: middle;\n",
       "    }\n",
       "\n",
       "    .dataframe tbody tr th {\n",
       "        vertical-align: top;\n",
       "    }\n",
       "\n",
       "    .dataframe thead th {\n",
       "        text-align: right;\n",
       "    }\n",
       "</style>\n",
       "<table border=\"1\" class=\"dataframe\">\n",
       "  <thead>\n",
       "    <tr style=\"text-align: right;\">\n",
       "      <th></th>\n",
       "      <th>Model</th>\n",
       "      <th>Best Score</th>\n",
       "      <th>R Squared</th>\n",
       "      <th>RMSE</th>\n",
       "    </tr>\n",
       "  </thead>\n",
       "  <tbody>\n",
       "    <tr>\n",
       "      <th>4</th>\n",
       "      <td>Random Forest Regressor</td>\n",
       "      <td>0.865750</td>\n",
       "      <td>0.857</td>\n",
       "      <td>0.146626</td>\n",
       "    </tr>\n",
       "    <tr>\n",
       "      <th>3</th>\n",
       "      <td>Decision Tree Regressor</td>\n",
       "      <td>0.738392</td>\n",
       "      <td>0.743</td>\n",
       "      <td>0.197133</td>\n",
       "    </tr>\n",
       "    <tr>\n",
       "      <th>1</th>\n",
       "      <td>Ridge</td>\n",
       "      <td>0.882130</td>\n",
       "      <td>0.693</td>\n",
       "      <td>0.215560</td>\n",
       "    </tr>\n",
       "    <tr>\n",
       "      <th>0</th>\n",
       "      <td>Linear Regression</td>\n",
       "      <td>0.880801</td>\n",
       "      <td>0.690</td>\n",
       "      <td>0.216408</td>\n",
       "    </tr>\n",
       "    <tr>\n",
       "      <th>2</th>\n",
       "      <td>Lasso</td>\n",
       "      <td>0.803064</td>\n",
       "      <td>0.534</td>\n",
       "      <td>0.265444</td>\n",
       "    </tr>\n",
       "  </tbody>\n",
       "</table>\n",
       "</div>"
      ],
      "text/plain": [
       "                     Model  Best Score R Squared      RMSE\n",
       "4  Random Forest Regressor    0.865750     0.857  0.146626\n",
       "3  Decision Tree Regressor    0.738392     0.743  0.197133\n",
       "1                    Ridge    0.882130     0.693  0.215560\n",
       "0        Linear Regression    0.880801     0.690  0.216408\n",
       "2                    Lasso    0.803064     0.534  0.265444"
      ]
     },
     "execution_count": 61,
     "metadata": {},
     "output_type": "execute_result"
    }
   ],
   "source": [
    "print(\"Sorted by R Squared:\")\n",
    "model_performances.sort_values(by=\"R Squared\", ascending=False)"
   ]
  },
  {
   "cell_type": "code",
   "execution_count": 62,
   "metadata": {
    "execution": {
     "iopub.execute_input": "2021-07-09T04:06:48.014893Z",
     "iopub.status.busy": "2021-07-09T04:06:48.014278Z",
     "iopub.status.idle": "2021-07-09T04:06:48.018889Z",
     "shell.execute_reply": "2021-07-09T04:06:48.019659Z",
     "shell.execute_reply.started": "2021-07-09T03:31:25.982097Z"
    },
    "papermill": {
     "duration": 0.070684,
     "end_time": "2021-07-09T04:06:48.019894",
     "exception": false,
     "start_time": "2021-07-09T04:06:47.949210",
     "status": "completed"
    },
    "tags": []
   },
   "outputs": [
    {
     "name": "stdout",
     "output_type": "stream",
     "text": [
      "Sorted by RMSE:\n"
     ]
    },
    {
     "data": {
      "text/html": [
       "<div>\n",
       "<style scoped>\n",
       "    .dataframe tbody tr th:only-of-type {\n",
       "        vertical-align: middle;\n",
       "    }\n",
       "\n",
       "    .dataframe tbody tr th {\n",
       "        vertical-align: top;\n",
       "    }\n",
       "\n",
       "    .dataframe thead th {\n",
       "        text-align: right;\n",
       "    }\n",
       "</style>\n",
       "<table border=\"1\" class=\"dataframe\">\n",
       "  <thead>\n",
       "    <tr style=\"text-align: right;\">\n",
       "      <th></th>\n",
       "      <th>Model</th>\n",
       "      <th>Best Score</th>\n",
       "      <th>R Squared</th>\n",
       "      <th>RMSE</th>\n",
       "    </tr>\n",
       "  </thead>\n",
       "  <tbody>\n",
       "    <tr>\n",
       "      <th>4</th>\n",
       "      <td>Random Forest Regressor</td>\n",
       "      <td>0.865750</td>\n",
       "      <td>0.857</td>\n",
       "      <td>0.146626</td>\n",
       "    </tr>\n",
       "    <tr>\n",
       "      <th>3</th>\n",
       "      <td>Decision Tree Regressor</td>\n",
       "      <td>0.738392</td>\n",
       "      <td>0.743</td>\n",
       "      <td>0.197133</td>\n",
       "    </tr>\n",
       "    <tr>\n",
       "      <th>1</th>\n",
       "      <td>Ridge</td>\n",
       "      <td>0.882130</td>\n",
       "      <td>0.693</td>\n",
       "      <td>0.215560</td>\n",
       "    </tr>\n",
       "    <tr>\n",
       "      <th>0</th>\n",
       "      <td>Linear Regression</td>\n",
       "      <td>0.880801</td>\n",
       "      <td>0.690</td>\n",
       "      <td>0.216408</td>\n",
       "    </tr>\n",
       "    <tr>\n",
       "      <th>2</th>\n",
       "      <td>Lasso</td>\n",
       "      <td>0.803064</td>\n",
       "      <td>0.534</td>\n",
       "      <td>0.265444</td>\n",
       "    </tr>\n",
       "  </tbody>\n",
       "</table>\n",
       "</div>"
      ],
      "text/plain": [
       "                     Model  Best Score R Squared      RMSE\n",
       "4  Random Forest Regressor    0.865750     0.857  0.146626\n",
       "3  Decision Tree Regressor    0.738392     0.743  0.197133\n",
       "1                    Ridge    0.882130     0.693  0.215560\n",
       "0        Linear Regression    0.880801     0.690  0.216408\n",
       "2                    Lasso    0.803064     0.534  0.265444"
      ]
     },
     "execution_count": 62,
     "metadata": {},
     "output_type": "execute_result"
    }
   ],
   "source": [
    "print(\"Sorted by RMSE:\")\n",
    "model_performances.sort_values(by=\"RMSE\", ascending=True)"
   ]
  },
  {
   "cell_type": "code",
   "execution_count": 63,
   "metadata": {
    "execution": {
     "iopub.execute_input": "2021-07-09T04:06:48.149877Z",
     "iopub.status.busy": "2021-07-09T04:06:48.149251Z",
     "iopub.status.idle": "2021-07-09T04:06:48.542875Z",
     "shell.execute_reply": "2021-07-09T04:06:48.541912Z",
     "shell.execute_reply.started": "2021-07-09T03:31:26.001768Z"
    },
    "papermill": {
     "duration": 0.466297,
     "end_time": "2021-07-09T04:06:48.543065",
     "exception": false,
     "start_time": "2021-07-09T04:06:48.076768",
     "status": "completed"
    },
    "tags": []
   },
   "outputs": [
    {
     "data": {
      "text/plain": [
       "RandomForestRegressor(min_samples_split=5, n_estimators=20)"
      ]
     },
     "execution_count": 63,
     "metadata": {},
     "output_type": "execute_result"
    }
   ],
   "source": [
    "rf.fit(X_train, y_train)"
   ]
  },
  {
   "cell_type": "markdown",
   "metadata": {
    "papermill": {
     "duration": 0.055603,
     "end_time": "2021-07-09T04:06:48.653861",
     "exception": false,
     "start_time": "2021-07-09T04:06:48.598258",
     "status": "completed"
    },
    "tags": []
   },
   "source": [
    "## 6. Submission "
   ]
  },
  {
   "cell_type": "code",
   "execution_count": 64,
   "metadata": {
    "execution": {
     "iopub.execute_input": "2021-07-09T04:06:48.771158Z",
     "iopub.status.busy": "2021-07-09T04:06:48.770059Z",
     "iopub.status.idle": "2021-07-09T04:06:48.779572Z",
     "shell.execute_reply": "2021-07-09T04:06:48.779103Z",
     "shell.execute_reply.started": "2021-07-09T03:31:26.106457Z"
    },
    "papermill": {
     "duration": 0.071363,
     "end_time": "2021-07-09T04:06:48.779713",
     "exception": false,
     "start_time": "2021-07-09T04:06:48.708350",
     "status": "completed"
    },
    "tags": []
   },
   "outputs": [],
   "source": [
    "submission_predictions = np.exp(rf.predict(X_test))"
   ]
  },
  {
   "cell_type": "code",
   "execution_count": 65,
   "metadata": {
    "execution": {
     "iopub.execute_input": "2021-07-09T04:06:48.895145Z",
     "iopub.status.busy": "2021-07-09T04:06:48.894503Z",
     "iopub.status.idle": "2021-07-09T04:06:48.905676Z",
     "shell.execute_reply": "2021-07-09T04:06:48.905082Z",
     "shell.execute_reply.started": "2021-07-09T03:31:26.131727Z"
    },
    "papermill": {
     "duration": 0.07092,
     "end_time": "2021-07-09T04:06:48.905815",
     "exception": false,
     "start_time": "2021-07-09T04:06:48.834895",
     "status": "completed"
    },
    "tags": []
   },
   "outputs": [
    {
     "name": "stdout",
     "output_type": "stream",
     "text": [
      "(1459, 2)\n"
     ]
    }
   ],
   "source": [
    "submission = pd.DataFrame({\n",
    "        \"Id\": testing[\"Id\"],\n",
    "        \"SalePrice\": submission_predictions\n",
    "    })\n",
    "\n",
    "submission.to_csv(\"prices.csv\", index=False)\n",
    "print(submission.shape)"
   ]
  }
 ],
 "metadata": {
  "kernelspec": {
   "display_name": "Python 3",
   "language": "python",
   "name": "python3"
  },
  "language_info": {
   "codemirror_mode": {
    "name": "ipython",
    "version": 3
   },
   "file_extension": ".py",
   "mimetype": "text/x-python",
   "name": "python",
   "nbconvert_exporter": "python",
   "pygments_lexer": "ipython3",
   "version": "3.7.9"
  },
  "papermill": {
   "default_parameters": {},
   "duration": 202.702578,
   "end_time": "2021-07-09T04:06:49.671468",
   "environment_variables": {},
   "exception": null,
   "input_path": "__notebook__.ipynb",
   "output_path": "__notebook__.ipynb",
   "parameters": {},
   "start_time": "2021-07-09T04:03:26.968890",
   "version": "2.2.2"
  }
 },
 "nbformat": 4,
 "nbformat_minor": 4
}
